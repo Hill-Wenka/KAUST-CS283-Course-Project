{
 "cells": [
  {
   "cell_type": "code",
   "execution_count": 1,
   "id": "733d2137-7898-466d-85a4-f2347c69f4cd",
   "metadata": {},
   "outputs": [
    {
     "name": "stdout",
     "output_type": "stream",
     "text": [
      "\u001b[0m\u001b[38;5;27mfigures\u001b[0m/  \u001b[38;5;27minput\u001b[0m/  \u001b[38;5;27moutput\u001b[0m/  run protien-sol.ipynb  \u001b[38;5;27msoftware\u001b[0m/\n"
     ]
    }
   ],
   "source": [
    "%ls"
   ]
  },
  {
   "cell_type": "code",
   "execution_count": 2,
   "id": "f1296f9d-98d1-452e-872b-61db06259147",
   "metadata": {},
   "outputs": [],
   "source": [
    "import os\n",
    "import pickle\n",
    "import numpy as np\n",
    "import pandas as pd\n",
    "import matplotlib.pyplot as plt\n",
    "from Bio import SeqIO\n",
    "from Bio.Seq import Seq\n",
    "from Bio.SeqRecord import SeqRecord\n",
    "from tqdm import tqdm\n",
    "from multiprocessing import Pool, cpu_count"
   ]
  },
  {
   "cell_type": "code",
   "execution_count": null,
   "id": "b665520b-d2aa-40af-a261-a90bd84ec49f",
   "metadata": {},
   "outputs": [],
   "source": []
  },
  {
   "cell_type": "code",
   "execution_count": null,
   "id": "c4e00bc6-2f66-4290-aaee-6b3b5a93eb4a",
   "metadata": {},
   "outputs": [],
   "source": []
  },
  {
   "cell_type": "markdown",
   "id": "7bbdfd8f-6240-4b35-a7e1-cfe9ddea2841",
   "metadata": {
    "tags": []
   },
   "source": [
    "## preprocessing"
   ]
  },
  {
   "cell_type": "code",
   "execution_count": 3,
   "id": "f694f0b6-7832-46dc-8ce7-7bf60a40c633",
   "metadata": {},
   "outputs": [
    {
     "data": {
      "text/plain": [
       "('/home/hew/python/genhance/protein_sol/software/',\n",
       " '/home/hew/python/genhance/protein_sol/software/multiple_prediction_wrapper_export.sh')"
      ]
     },
     "execution_count": 3,
     "metadata": {},
     "output_type": "execute_result"
    }
   ],
   "source": [
    "foldx_dir = '/home/hew/python/genhance/foldx/'\n",
    "train_data_path = foldx_dir + 'new_train_data/train_new_all_data.pkl'\n",
    "protein_sol_dir = '/home/hew/python/genhance/protein_sol/'\n",
    "script_dir = protein_sol_dir + 'software/'\n",
    "script_path = protein_sol_dir + 'software/multiple_prediction_wrapper_export.sh'\n",
    "eval_input_dir = protein_sol_dir + 'input/'\n",
    "eval_output_dir = protein_sol_dir + 'output/'\n",
    "script_dir, script_path"
   ]
  },
  {
   "cell_type": "code",
   "execution_count": 4,
   "id": "1797590a-c693-47f1-8175-784fb46115ee",
   "metadata": {},
   "outputs": [
    {
     "data": {
      "text/plain": [
       "['congen9_new_solubility_6_layer_gens_step_final_[12.0]_[1.0]',\n",
       " 'congen9_new_solubility_6_layer_gens_step_final_[4.0]_[1.0]',\n",
       " 'congen9_new_solubility_6_layer_gens_step_final_[8.0]_[1.0]',\n",
       " 'congen9_new_solubility_6_layer_gens_step_final_[1.0]_[1.0]',\n",
       " 'congen10_new_ddG_solubility_6_layer_gens_step_final_[-40.0]_[1.0]_[1.0]',\n",
       " 'congen10_new_ddG_solubility_6_layer_gens_step_final_[-30.0]_[1.0]_[1.0]',\n",
       " 'congen8_new_ddG_260000_[-40.0]_[1.0]']"
      ]
     },
     "execution_count": 4,
     "metadata": {},
     "output_type": "execute_result"
    }
   ],
   "source": [
    "input_list = list(os.walk(eval_input_dir))[0][1][1:]\n",
    "input_list"
   ]
  },
  {
   "cell_type": "code",
   "execution_count": 5,
   "id": "3a7870a7-bb83-431d-ab5b-1e883f4c2ceb",
   "metadata": {},
   "outputs": [
    {
     "data": {
      "text/plain": [
       "('/home/hew/python/genhance/protein_sol/input//congen8_new_ddG_260000_[-40.0]_[1.0]/',\n",
       " '/home/hew/python/genhance/protein_sol/output//congen8_new_ddG_260000_[-40.0]_[1.0]/',\n",
       " '/home/hew/python/genhance/protein_sol/input//congen8_new_ddG_260000_[-40.0]_[1.0]/ddG_top1000.tsv',\n",
       " '/home/hew/python/genhance/protein_sol/output//congen8_new_ddG_260000_[-40.0]_[1.0]/ddG_top1000.fasta')"
      ]
     },
     "execution_count": 5,
     "metadata": {},
     "output_type": "execute_result"
    }
   ],
   "source": [
    "input_index = -1\n",
    "output_dir_suffix = ''\n",
    "# output_dir_suffix = '_Emin'\n",
    "property_name = 'ddG'\n",
    "# property_name = 'solubility'\n",
    "# property_name = 'ddG_solubility_avg'\n",
    "# topk = 100\n",
    "topk = 1000\n",
    "\n",
    "input_dir = f'{eval_input_dir}/{input_list[input_index]}/'\n",
    "output_dir = f'{eval_output_dir}/{input_list[input_index]}{output_dir_suffix}/'\n",
    "topk_tsv = input_dir + f'{property_name}_top{topk}.tsv'\n",
    "fasta_path = f'{eval_output_dir}/{input_list[input_index]}{output_dir_suffix}/{property_name}_top{topk}.fasta'\n",
    "\n",
    "input_dir, output_dir, topk_tsv, fasta_path"
   ]
  },
  {
   "cell_type": "code",
   "execution_count": 6,
   "id": "c0f26609-0bea-49a5-85df-9ff7c832f2a7",
   "metadata": {},
   "outputs": [],
   "source": [
    "os.makedirs(output_dir, exist_ok=True)"
   ]
  },
  {
   "cell_type": "code",
   "execution_count": 7,
   "id": "2a5a34ba-283c-4a73-8548-cefd97a481af",
   "metadata": {},
   "outputs": [
    {
     "data": {
      "text/plain": [
       "'STIEEQAKTFLDKFNHEAEDLFYQSSLASWNYNTNITEENVQNMNNAGDKWSAFLKEQSTLAQMYPLQEIQNLTVKLQLQALQ'"
      ]
     },
     "execution_count": 7,
     "metadata": {},
     "output_type": "execute_result"
    }
   ],
   "source": [
    "WT_seq = 'STIEEQAKTFLDKFNHEAEDLFYQSSLASWNYNTNITEENVQNMNNAGDKWSAFLKEQSTLAQMYPLQEIQNLTVKLQLQALQ'\n",
    "WT_seq"
   ]
  },
  {
   "cell_type": "code",
   "execution_count": null,
   "id": "b2e60d60-558d-4977-b641-2512309d416e",
   "metadata": {},
   "outputs": [],
   "source": []
  },
  {
   "cell_type": "markdown",
   "id": "d8437d12-3d2c-4f76-9d0b-15a1a6a0b62e",
   "metadata": {
    "tags": []
   },
   "source": [
    "## train data"
   ]
  },
  {
   "cell_type": "code",
   "execution_count": 8,
   "id": "17a95cac-e036-401b-baef-ef146c1c3b03",
   "metadata": {},
   "outputs": [],
   "source": [
    "train_data = open(train_data_path, 'rb')\n",
    "train_data = pickle.load(train_data)"
   ]
  },
  {
   "cell_type": "code",
   "execution_count": 9,
   "id": "9fc10a04-0870-402f-ad84-db2ea4fb0d6e",
   "metadata": {},
   "outputs": [
    {
     "data": {
      "text/html": [
       "<div>\n",
       "<style scoped>\n",
       "    .dataframe tbody tr th:only-of-type {\n",
       "        vertical-align: middle;\n",
       "    }\n",
       "\n",
       "    .dataframe tbody tr th {\n",
       "        vertical-align: top;\n",
       "    }\n",
       "\n",
       "    .dataframe thead th {\n",
       "        text-align: right;\n",
       "    }\n",
       "</style>\n",
       "<table border=\"1\" class=\"dataframe\">\n",
       "  <thead>\n",
       "    <tr style=\"text-align: right;\">\n",
       "      <th></th>\n",
       "      <th>PDB</th>\n",
       "      <th>Chain</th>\n",
       "      <th>Start_index</th>\n",
       "      <th>WT_seq</th>\n",
       "      <th>MT_seq</th>\n",
       "      <th>solubility</th>\n",
       "      <th>ddG</th>\n",
       "      <th>ddG_std</th>\n",
       "      <th>ddG_rank</th>\n",
       "      <th>solubility_rank</th>\n",
       "      <th>avg_rank</th>\n",
       "    </tr>\n",
       "  </thead>\n",
       "  <tbody>\n",
       "    <tr>\n",
       "      <th>0</th>\n",
       "      <td>template2.pdb</td>\n",
       "      <td>A</td>\n",
       "      <td>19</td>\n",
       "      <td>STIEEQAKTFLDKFNHEAEDLFYQSSLASWNYNTNITEENVQNMNN...</td>\n",
       "      <td>STIEEQAKTFLDKFNHEAEDLFYQSSLASWNYNTNITEENVQNMNN...</td>\n",
       "      <td>0.764</td>\n",
       "      <td>0.487536</td>\n",
       "      <td>0.173732</td>\n",
       "      <td>27073.0</td>\n",
       "      <td>114868.5</td>\n",
       "      <td>70970.75</td>\n",
       "    </tr>\n",
       "    <tr>\n",
       "      <th>1</th>\n",
       "      <td>template2.pdb</td>\n",
       "      <td>A</td>\n",
       "      <td>19</td>\n",
       "      <td>STIEEQAKTFLDKFNHEAEDLFYQSSLASWNYNTNITEENVQNMNN...</td>\n",
       "      <td>STIELQAKDFLDKFNHEAEDLFYQSSLASWNYNTNITEENVQNMNN...</td>\n",
       "      <td>0.701</td>\n",
       "      <td>1.671400</td>\n",
       "      <td>0.154878</td>\n",
       "      <td>51857.0</td>\n",
       "      <td>226709.0</td>\n",
       "      <td>139283.00</td>\n",
       "    </tr>\n",
       "    <tr>\n",
       "      <th>2</th>\n",
       "      <td>template2.pdb</td>\n",
       "      <td>A</td>\n",
       "      <td>19</td>\n",
       "      <td>STIEEQAKTFLDKFNHEAEDLFYQSSLASWNYNTNITEENVQNMNN...</td>\n",
       "      <td>STIEEQAKTFLDKFNHEAEDLFYQSSLASWNYNTNITEENVQNMNN...</td>\n",
       "      <td>0.769</td>\n",
       "      <td>6.211590</td>\n",
       "      <td>0.087345</td>\n",
       "      <td>150915.0</td>\n",
       "      <td>68731.0</td>\n",
       "      <td>109823.00</td>\n",
       "    </tr>\n",
       "    <tr>\n",
       "      <th>3</th>\n",
       "      <td>template2.pdb</td>\n",
       "      <td>A</td>\n",
       "      <td>19</td>\n",
       "      <td>STIEEQAKTFLDKFNHEAEDLFYQSSLASWNYNTNITEENVQNMNN...</td>\n",
       "      <td>STIEEQAKTFLDKFNHEAEDLFYQSSLASWNYNTNITEENVQNMNN...</td>\n",
       "      <td>0.807</td>\n",
       "      <td>9.822730</td>\n",
       "      <td>2.028930</td>\n",
       "      <td>201957.0</td>\n",
       "      <td>12266.5</td>\n",
       "      <td>107111.75</td>\n",
       "    </tr>\n",
       "    <tr>\n",
       "      <th>4</th>\n",
       "      <td>template2.pdb</td>\n",
       "      <td>A</td>\n",
       "      <td>19</td>\n",
       "      <td>STIEEQAKTFLDKFNHEAEDLFYQSSLASWNYNTNITEENVQNMNN...</td>\n",
       "      <td>STIEEQAKPFLDKFNHEAEDLFYQHSLASWNYNTNITEENVQNMNN...</td>\n",
       "      <td>0.752</td>\n",
       "      <td>3.106590</td>\n",
       "      <td>0.163249</td>\n",
       "      <td>84850.5</td>\n",
       "      <td>168879.0</td>\n",
       "      <td>126864.75</td>\n",
       "    </tr>\n",
       "    <tr>\n",
       "      <th>...</th>\n",
       "      <td>...</td>\n",
       "      <td>...</td>\n",
       "      <td>...</td>\n",
       "      <td>...</td>\n",
       "      <td>...</td>\n",
       "      <td>...</td>\n",
       "      <td>...</td>\n",
       "      <td>...</td>\n",
       "      <td>...</td>\n",
       "      <td>...</td>\n",
       "      <td>...</td>\n",
       "    </tr>\n",
       "    <tr>\n",
       "      <th>249995</th>\n",
       "      <td>template2.pdb</td>\n",
       "      <td>A</td>\n",
       "      <td>19</td>\n",
       "      <td>STIEEQAKTFLDKFNHEAEDLFYQSSLASWNYNTNITEENVQNMNN...</td>\n",
       "      <td>STIEEQAKTFLDKFNHEAEDLFYQDSLASWNYNTNITEENVQNMNN...</td>\n",
       "      <td>0.781</td>\n",
       "      <td>2.569060</td>\n",
       "      <td>0.042348</td>\n",
       "      <td>72549.0</td>\n",
       "      <td>43637.0</td>\n",
       "      <td>58093.00</td>\n",
       "    </tr>\n",
       "    <tr>\n",
       "      <th>249996</th>\n",
       "      <td>template2.pdb</td>\n",
       "      <td>A</td>\n",
       "      <td>19</td>\n",
       "      <td>STIEEQAKTFLDKFNHEAEDLFYQSSLASWNYNTNITEENVQNMNN...</td>\n",
       "      <td>STIEEQAKTFLDKFNHEAEDLFYQSSLASWNYNTNITEENVQNMFN...</td>\n",
       "      <td>0.764</td>\n",
       "      <td>3.736110</td>\n",
       "      <td>0.500392</td>\n",
       "      <td>99288.0</td>\n",
       "      <td>114868.5</td>\n",
       "      <td>107078.25</td>\n",
       "    </tr>\n",
       "    <tr>\n",
       "      <th>249997</th>\n",
       "      <td>template2.pdb</td>\n",
       "      <td>A</td>\n",
       "      <td>19</td>\n",
       "      <td>STIEEQAKTFLDKFNHEAEDLFYQSSLASWNYNTNITEENVQNMNN...</td>\n",
       "      <td>STIEEQAKTFLDKFNHEAEDLDYQSSLASWNYNTNITEENVQNMNN...</td>\n",
       "      <td>0.781</td>\n",
       "      <td>1.555830</td>\n",
       "      <td>0.024263</td>\n",
       "      <td>49188.0</td>\n",
       "      <td>43637.0</td>\n",
       "      <td>46412.50</td>\n",
       "    </tr>\n",
       "    <tr>\n",
       "      <th>249998</th>\n",
       "      <td>template2.pdb</td>\n",
       "      <td>A</td>\n",
       "      <td>19</td>\n",
       "      <td>STIEEQAKTFLDKFNHEAEDLFYQSSLASWNYNTNITEENVQNMNN...</td>\n",
       "      <td>YTIEEQAKTFLDKFNHEAEDMFYVSSLASWNYNTNITEENVQNMNN...</td>\n",
       "      <td>0.824</td>\n",
       "      <td>5.724200</td>\n",
       "      <td>0.292841</td>\n",
       "      <td>141810.0</td>\n",
       "      <td>5272.5</td>\n",
       "      <td>73541.25</td>\n",
       "    </tr>\n",
       "    <tr>\n",
       "      <th>249999</th>\n",
       "      <td>template2.pdb</td>\n",
       "      <td>A</td>\n",
       "      <td>19</td>\n",
       "      <td>STIEEQAKTFLDKFNHEAEDLFYQSSLASWNYNTNITEENVQNMNN...</td>\n",
       "      <td>STIEEQAKTFLDKFNHEAEDLFYQSSLASWNYNTNITEENEQNMFN...</td>\n",
       "      <td>0.824</td>\n",
       "      <td>8.967940</td>\n",
       "      <td>0.818942</td>\n",
       "      <td>192400.0</td>\n",
       "      <td>5272.5</td>\n",
       "      <td>98836.25</td>\n",
       "    </tr>\n",
       "  </tbody>\n",
       "</table>\n",
       "<p>250000 rows × 11 columns</p>\n",
       "</div>"
      ],
      "text/plain": [
       "                  PDB Chain  Start_index  \\\n",
       "0       template2.pdb     A           19   \n",
       "1       template2.pdb     A           19   \n",
       "2       template2.pdb     A           19   \n",
       "3       template2.pdb     A           19   \n",
       "4       template2.pdb     A           19   \n",
       "...               ...   ...          ...   \n",
       "249995  template2.pdb     A           19   \n",
       "249996  template2.pdb     A           19   \n",
       "249997  template2.pdb     A           19   \n",
       "249998  template2.pdb     A           19   \n",
       "249999  template2.pdb     A           19   \n",
       "\n",
       "                                                   WT_seq  \\\n",
       "0       STIEEQAKTFLDKFNHEAEDLFYQSSLASWNYNTNITEENVQNMNN...   \n",
       "1       STIEEQAKTFLDKFNHEAEDLFYQSSLASWNYNTNITEENVQNMNN...   \n",
       "2       STIEEQAKTFLDKFNHEAEDLFYQSSLASWNYNTNITEENVQNMNN...   \n",
       "3       STIEEQAKTFLDKFNHEAEDLFYQSSLASWNYNTNITEENVQNMNN...   \n",
       "4       STIEEQAKTFLDKFNHEAEDLFYQSSLASWNYNTNITEENVQNMNN...   \n",
       "...                                                   ...   \n",
       "249995  STIEEQAKTFLDKFNHEAEDLFYQSSLASWNYNTNITEENVQNMNN...   \n",
       "249996  STIEEQAKTFLDKFNHEAEDLFYQSSLASWNYNTNITEENVQNMNN...   \n",
       "249997  STIEEQAKTFLDKFNHEAEDLFYQSSLASWNYNTNITEENVQNMNN...   \n",
       "249998  STIEEQAKTFLDKFNHEAEDLFYQSSLASWNYNTNITEENVQNMNN...   \n",
       "249999  STIEEQAKTFLDKFNHEAEDLFYQSSLASWNYNTNITEENVQNMNN...   \n",
       "\n",
       "                                                   MT_seq  solubility  \\\n",
       "0       STIEEQAKTFLDKFNHEAEDLFYQSSLASWNYNTNITEENVQNMNN...       0.764   \n",
       "1       STIELQAKDFLDKFNHEAEDLFYQSSLASWNYNTNITEENVQNMNN...       0.701   \n",
       "2       STIEEQAKTFLDKFNHEAEDLFYQSSLASWNYNTNITEENVQNMNN...       0.769   \n",
       "3       STIEEQAKTFLDKFNHEAEDLFYQSSLASWNYNTNITEENVQNMNN...       0.807   \n",
       "4       STIEEQAKPFLDKFNHEAEDLFYQHSLASWNYNTNITEENVQNMNN...       0.752   \n",
       "...                                                   ...         ...   \n",
       "249995  STIEEQAKTFLDKFNHEAEDLFYQDSLASWNYNTNITEENVQNMNN...       0.781   \n",
       "249996  STIEEQAKTFLDKFNHEAEDLFYQSSLASWNYNTNITEENVQNMFN...       0.764   \n",
       "249997  STIEEQAKTFLDKFNHEAEDLDYQSSLASWNYNTNITEENVQNMNN...       0.781   \n",
       "249998  YTIEEQAKTFLDKFNHEAEDMFYVSSLASWNYNTNITEENVQNMNN...       0.824   \n",
       "249999  STIEEQAKTFLDKFNHEAEDLFYQSSLASWNYNTNITEENEQNMFN...       0.824   \n",
       "\n",
       "             ddG   ddG_std  ddG_rank  solubility_rank   avg_rank  \n",
       "0       0.487536  0.173732   27073.0         114868.5   70970.75  \n",
       "1       1.671400  0.154878   51857.0         226709.0  139283.00  \n",
       "2       6.211590  0.087345  150915.0          68731.0  109823.00  \n",
       "3       9.822730  2.028930  201957.0          12266.5  107111.75  \n",
       "4       3.106590  0.163249   84850.5         168879.0  126864.75  \n",
       "...          ...       ...       ...              ...        ...  \n",
       "249995  2.569060  0.042348   72549.0          43637.0   58093.00  \n",
       "249996  3.736110  0.500392   99288.0         114868.5  107078.25  \n",
       "249997  1.555830  0.024263   49188.0          43637.0   46412.50  \n",
       "249998  5.724200  0.292841  141810.0           5272.5   73541.25  \n",
       "249999  8.967940  0.818942  192400.0           5272.5   98836.25  \n",
       "\n",
       "[250000 rows x 11 columns]"
      ]
     },
     "execution_count": 9,
     "metadata": {},
     "output_type": "execute_result"
    }
   ],
   "source": [
    "train_data"
   ]
  },
  {
   "cell_type": "code",
   "execution_count": null,
   "id": "ee40de1c-2cef-47a9-ae7a-e525d32d6aa1",
   "metadata": {},
   "outputs": [],
   "source": []
  },
  {
   "cell_type": "code",
   "execution_count": null,
   "id": "204a48f8-57ab-4865-883f-abc5936b8257",
   "metadata": {},
   "outputs": [],
   "source": []
  },
  {
   "cell_type": "code",
   "execution_count": null,
   "id": "82f547e9-4e4e-412f-a30d-f2514315c9b5",
   "metadata": {},
   "outputs": [],
   "source": []
  },
  {
   "cell_type": "code",
   "execution_count": 10,
   "id": "1bbf7e64-bf2b-4646-8ceb-e3004fd4a8f8",
   "metadata": {},
   "outputs": [
    {
     "data": {
      "text/html": [
       "<div>\n",
       "<style scoped>\n",
       "    .dataframe tbody tr th:only-of-type {\n",
       "        vertical-align: middle;\n",
       "    }\n",
       "\n",
       "    .dataframe tbody tr th {\n",
       "        vertical-align: top;\n",
       "    }\n",
       "\n",
       "    .dataframe thead th {\n",
       "        text-align: right;\n",
       "    }\n",
       "</style>\n",
       "<table border=\"1\" class=\"dataframe\">\n",
       "  <thead>\n",
       "    <tr style=\"text-align: right;\">\n",
       "      <th></th>\n",
       "      <th>PDB</th>\n",
       "      <th>Chain</th>\n",
       "      <th>Start_index</th>\n",
       "      <th>WT_seq</th>\n",
       "      <th>MT_seq</th>\n",
       "      <th>solubility</th>\n",
       "      <th>ddG</th>\n",
       "      <th>ddG_std</th>\n",
       "      <th>ddG_rank</th>\n",
       "      <th>solubility_rank</th>\n",
       "      <th>avg_rank</th>\n",
       "    </tr>\n",
       "  </thead>\n",
       "  <tbody>\n",
       "    <tr>\n",
       "      <th>130420</th>\n",
       "      <td>template2.pdb</td>\n",
       "      <td>A</td>\n",
       "      <td>19</td>\n",
       "      <td>STIEEQAKTFLDKFNHEAEDLFYQSSLASWNYNTNITEENVQNMNN...</td>\n",
       "      <td>SNIEEQAKTKLDKFNHEAEDVFYQSVLASANYNTNITEENVQNMNN...</td>\n",
       "      <td>0.933</td>\n",
       "      <td>13.71210</td>\n",
       "      <td>1.056890</td>\n",
       "      <td>229532.0</td>\n",
       "      <td>1.0</td>\n",
       "      <td>114766.50</td>\n",
       "    </tr>\n",
       "    <tr>\n",
       "      <th>130161</th>\n",
       "      <td>template2.pdb</td>\n",
       "      <td>A</td>\n",
       "      <td>19</td>\n",
       "      <td>STIEEQAKTFLDKFNHEAEDLFYQSSLASWNYNTNITEENVQNMNN...</td>\n",
       "      <td>STIEEQAKTKLDEGNHEAEDLFYQSSLASWNQNTNITEENVQNMND...</td>\n",
       "      <td>0.911</td>\n",
       "      <td>18.29540</td>\n",
       "      <td>0.704757</td>\n",
       "      <td>242367.0</td>\n",
       "      <td>3.0</td>\n",
       "      <td>121185.00</td>\n",
       "    </tr>\n",
       "    <tr>\n",
       "      <th>207791</th>\n",
       "      <td>template2.pdb</td>\n",
       "      <td>A</td>\n",
       "      <td>19</td>\n",
       "      <td>STIEEQAKTFLDKFNHEAEDLFYQSSLASWNYNTNITEENVQNMNN...</td>\n",
       "      <td>STIEEQAKTRLDKFNHEAEDPFYQSSLASDNDNTNITEENVQNMMN...</td>\n",
       "      <td>0.911</td>\n",
       "      <td>22.75710</td>\n",
       "      <td>0.691252</td>\n",
       "      <td>246835.0</td>\n",
       "      <td>3.0</td>\n",
       "      <td>123419.00</td>\n",
       "    </tr>\n",
       "    <tr>\n",
       "      <th>134240</th>\n",
       "      <td>template2.pdb</td>\n",
       "      <td>A</td>\n",
       "      <td>19</td>\n",
       "      <td>STIEEQAKTFLDKFNHEAEDLFYQSSLASWNYNTNITEENVQNMNN...</td>\n",
       "      <td>SDIEEQAKTFADKFNHEAEDLMEQSSLASWNYNTNITEENVQNMNN...</td>\n",
       "      <td>0.911</td>\n",
       "      <td>12.77370</td>\n",
       "      <td>0.785983</td>\n",
       "      <td>224758.0</td>\n",
       "      <td>3.0</td>\n",
       "      <td>112380.50</td>\n",
       "    </tr>\n",
       "    <tr>\n",
       "      <th>231850</th>\n",
       "      <td>template2.pdb</td>\n",
       "      <td>A</td>\n",
       "      <td>19</td>\n",
       "      <td>STIEEQAKTFLDKFNHEAEDLFYQSSLASWNYNTNITEENVQNMNN...</td>\n",
       "      <td>STIEEQAKTFLDKENHEAEDDTYQSSLASWNYNTNITEENVQNMNN...</td>\n",
       "      <td>0.899</td>\n",
       "      <td>21.01820</td>\n",
       "      <td>0.785301</td>\n",
       "      <td>245581.0</td>\n",
       "      <td>5.0</td>\n",
       "      <td>122793.00</td>\n",
       "    </tr>\n",
       "    <tr>\n",
       "      <th>...</th>\n",
       "      <td>...</td>\n",
       "      <td>...</td>\n",
       "      <td>...</td>\n",
       "      <td>...</td>\n",
       "      <td>...</td>\n",
       "      <td>...</td>\n",
       "      <td>...</td>\n",
       "      <td>...</td>\n",
       "      <td>...</td>\n",
       "      <td>...</td>\n",
       "      <td>...</td>\n",
       "    </tr>\n",
       "    <tr>\n",
       "      <th>32796</th>\n",
       "      <td>template2.pdb</td>\n",
       "      <td>A</td>\n",
       "      <td>19</td>\n",
       "      <td>STIEEQAKTFLDKFNHEAEDLFYQSSLASWNYNTNITEENVQNMNN...</td>\n",
       "      <td>STIEEQVKTFLDKFNHVAEDVDYQSSLASWNENTNITEENVENMNN...</td>\n",
       "      <td>0.858</td>\n",
       "      <td>8.16023</td>\n",
       "      <td>0.289397</td>\n",
       "      <td>182113.0</td>\n",
       "      <td>116.0</td>\n",
       "      <td>91114.50</td>\n",
       "    </tr>\n",
       "    <tr>\n",
       "      <th>214858</th>\n",
       "      <td>template2.pdb</td>\n",
       "      <td>A</td>\n",
       "      <td>19</td>\n",
       "      <td>STIEEQAKTFLDKFNHEAEDLFYQSSLASWNYNTNITEENVQNMNN...</td>\n",
       "      <td>STIEEQAKTMLDKFNHEAEDLFYQSSLAIVNYNTNITEENVQNMNN...</td>\n",
       "      <td>0.853</td>\n",
       "      <td>13.25700</td>\n",
       "      <td>0.507607</td>\n",
       "      <td>227406.0</td>\n",
       "      <td>118.5</td>\n",
       "      <td>113762.25</td>\n",
       "    </tr>\n",
       "    <tr>\n",
       "      <th>101984</th>\n",
       "      <td>template2.pdb</td>\n",
       "      <td>A</td>\n",
       "      <td>19</td>\n",
       "      <td>STIEEQAKTFLDKFNHEAEDLFYQSSLASWNYNTNITEENVQNMNN...</td>\n",
       "      <td>STIEVQAKTFLDKFNHEAEDLEHQSSLASQNYNTNITEENVANLNN...</td>\n",
       "      <td>0.853</td>\n",
       "      <td>14.84700</td>\n",
       "      <td>0.337864</td>\n",
       "      <td>234132.0</td>\n",
       "      <td>118.5</td>\n",
       "      <td>117125.25</td>\n",
       "    </tr>\n",
       "    <tr>\n",
       "      <th>183101</th>\n",
       "      <td>template2.pdb</td>\n",
       "      <td>A</td>\n",
       "      <td>19</td>\n",
       "      <td>STIEEQAKTFLDKFNHEAEDLFYQSSLASWNYNTNITEENVQNMNN...</td>\n",
       "      <td>STIEEQAKTKLDKFNHEAEDLFIQSSLASWNYNTNITEENVQNMNN...</td>\n",
       "      <td>0.853</td>\n",
       "      <td>14.16780</td>\n",
       "      <td>1.027770</td>\n",
       "      <td>231512.0</td>\n",
       "      <td>118.5</td>\n",
       "      <td>115815.25</td>\n",
       "    </tr>\n",
       "    <tr>\n",
       "      <th>179122</th>\n",
       "      <td>template2.pdb</td>\n",
       "      <td>A</td>\n",
       "      <td>19</td>\n",
       "      <td>STIEEQAKTFLDKFNHEAEDLFYQSSLASWNYNTNITEENVQNMNN...</td>\n",
       "      <td>STIQEQAKTHLDKFNHEAEDLNYQSSLASWNKNTNITEENSQNMNN...</td>\n",
       "      <td>0.853</td>\n",
       "      <td>13.46470</td>\n",
       "      <td>0.316712</td>\n",
       "      <td>228410.5</td>\n",
       "      <td>118.5</td>\n",
       "      <td>114264.50</td>\n",
       "    </tr>\n",
       "  </tbody>\n",
       "</table>\n",
       "<p>120 rows × 11 columns</p>\n",
       "</div>"
      ],
      "text/plain": [
       "                  PDB Chain  Start_index  \\\n",
       "130420  template2.pdb     A           19   \n",
       "130161  template2.pdb     A           19   \n",
       "207791  template2.pdb     A           19   \n",
       "134240  template2.pdb     A           19   \n",
       "231850  template2.pdb     A           19   \n",
       "...               ...   ...          ...   \n",
       "32796   template2.pdb     A           19   \n",
       "214858  template2.pdb     A           19   \n",
       "101984  template2.pdb     A           19   \n",
       "183101  template2.pdb     A           19   \n",
       "179122  template2.pdb     A           19   \n",
       "\n",
       "                                                   WT_seq  \\\n",
       "130420  STIEEQAKTFLDKFNHEAEDLFYQSSLASWNYNTNITEENVQNMNN...   \n",
       "130161  STIEEQAKTFLDKFNHEAEDLFYQSSLASWNYNTNITEENVQNMNN...   \n",
       "207791  STIEEQAKTFLDKFNHEAEDLFYQSSLASWNYNTNITEENVQNMNN...   \n",
       "134240  STIEEQAKTFLDKFNHEAEDLFYQSSLASWNYNTNITEENVQNMNN...   \n",
       "231850  STIEEQAKTFLDKFNHEAEDLFYQSSLASWNYNTNITEENVQNMNN...   \n",
       "...                                                   ...   \n",
       "32796   STIEEQAKTFLDKFNHEAEDLFYQSSLASWNYNTNITEENVQNMNN...   \n",
       "214858  STIEEQAKTFLDKFNHEAEDLFYQSSLASWNYNTNITEENVQNMNN...   \n",
       "101984  STIEEQAKTFLDKFNHEAEDLFYQSSLASWNYNTNITEENVQNMNN...   \n",
       "183101  STIEEQAKTFLDKFNHEAEDLFYQSSLASWNYNTNITEENVQNMNN...   \n",
       "179122  STIEEQAKTFLDKFNHEAEDLFYQSSLASWNYNTNITEENVQNMNN...   \n",
       "\n",
       "                                                   MT_seq  solubility  \\\n",
       "130420  SNIEEQAKTKLDKFNHEAEDVFYQSVLASANYNTNITEENVQNMNN...       0.933   \n",
       "130161  STIEEQAKTKLDEGNHEAEDLFYQSSLASWNQNTNITEENVQNMND...       0.911   \n",
       "207791  STIEEQAKTRLDKFNHEAEDPFYQSSLASDNDNTNITEENVQNMMN...       0.911   \n",
       "134240  SDIEEQAKTFADKFNHEAEDLMEQSSLASWNYNTNITEENVQNMNN...       0.911   \n",
       "231850  STIEEQAKTFLDKENHEAEDDTYQSSLASWNYNTNITEENVQNMNN...       0.899   \n",
       "...                                                   ...         ...   \n",
       "32796   STIEEQVKTFLDKFNHVAEDVDYQSSLASWNENTNITEENVENMNN...       0.858   \n",
       "214858  STIEEQAKTMLDKFNHEAEDLFYQSSLAIVNYNTNITEENVQNMNN...       0.853   \n",
       "101984  STIEVQAKTFLDKFNHEAEDLEHQSSLASQNYNTNITEENVANLNN...       0.853   \n",
       "183101  STIEEQAKTKLDKFNHEAEDLFIQSSLASWNYNTNITEENVQNMNN...       0.853   \n",
       "179122  STIQEQAKTHLDKFNHEAEDLNYQSSLASWNKNTNITEENSQNMNN...       0.853   \n",
       "\n",
       "             ddG   ddG_std  ddG_rank  solubility_rank   avg_rank  \n",
       "130420  13.71210  1.056890  229532.0              1.0  114766.50  \n",
       "130161  18.29540  0.704757  242367.0              3.0  121185.00  \n",
       "207791  22.75710  0.691252  246835.0              3.0  123419.00  \n",
       "134240  12.77370  0.785983  224758.0              3.0  112380.50  \n",
       "231850  21.01820  0.785301  245581.0              5.0  122793.00  \n",
       "...          ...       ...       ...              ...        ...  \n",
       "32796    8.16023  0.289397  182113.0            116.0   91114.50  \n",
       "214858  13.25700  0.507607  227406.0            118.5  113762.25  \n",
       "101984  14.84700  0.337864  234132.0            118.5  117125.25  \n",
       "183101  14.16780  1.027770  231512.0            118.5  115815.25  \n",
       "179122  13.46470  0.316712  228410.5            118.5  114264.50  \n",
       "\n",
       "[120 rows x 11 columns]"
      ]
     },
     "execution_count": 10,
     "metadata": {},
     "output_type": "execute_result"
    }
   ],
   "source": [
    "train_data[0.85 < train_data.solubility].sort_values(by='solubility', ascending=False)"
   ]
  },
  {
   "cell_type": "code",
   "execution_count": 11,
   "id": "10c2f12f-eca3-4408-a94f-8480c00af040",
   "metadata": {},
   "outputs": [
    {
     "data": {
      "text/html": [
       "<div>\n",
       "<style scoped>\n",
       "    .dataframe tbody tr th:only-of-type {\n",
       "        vertical-align: middle;\n",
       "    }\n",
       "\n",
       "    .dataframe tbody tr th {\n",
       "        vertical-align: top;\n",
       "    }\n",
       "\n",
       "    .dataframe thead th {\n",
       "        text-align: right;\n",
       "    }\n",
       "</style>\n",
       "<table border=\"1\" class=\"dataframe\">\n",
       "  <thead>\n",
       "    <tr style=\"text-align: right;\">\n",
       "      <th></th>\n",
       "      <th>PDB</th>\n",
       "      <th>Chain</th>\n",
       "      <th>Start_index</th>\n",
       "      <th>WT_seq</th>\n",
       "      <th>MT_seq</th>\n",
       "      <th>solubility</th>\n",
       "      <th>ddG</th>\n",
       "      <th>ddG_std</th>\n",
       "      <th>ddG_rank</th>\n",
       "      <th>solubility_rank</th>\n",
       "      <th>avg_rank</th>\n",
       "    </tr>\n",
       "  </thead>\n",
       "  <tbody>\n",
       "    <tr>\n",
       "      <th>130013</th>\n",
       "      <td>template2.pdb</td>\n",
       "      <td>A</td>\n",
       "      <td>19</td>\n",
       "      <td>STIEEQAKTFLDKFNHEAEDLFYQSSLASWNYNTNITEENVQNMNN...</td>\n",
       "      <td>STIEEQAKIFLDKFNHEAEDRFYQSSLASYNYNTNITEENVQNMNN...</td>\n",
       "      <td>0.825</td>\n",
       "      <td>-2.04426</td>\n",
       "      <td>0.525979</td>\n",
       "      <td>1986.5</td>\n",
       "      <td>2605.5</td>\n",
       "      <td>2296.00</td>\n",
       "    </tr>\n",
       "    <tr>\n",
       "      <th>248705</th>\n",
       "      <td>template2.pdb</td>\n",
       "      <td>A</td>\n",
       "      <td>19</td>\n",
       "      <td>STIEEQAKTFLDKFNHEAEDLFYQSSLASWNYNTNITEENVQNMNN...</td>\n",
       "      <td>STIEEQAKYFLDYFNHEAEDMFYQSSLASWNYNTNITEENVQNMNN...</td>\n",
       "      <td>0.842</td>\n",
       "      <td>-1.45956</td>\n",
       "      <td>0.507725</td>\n",
       "      <td>4131.0</td>\n",
       "      <td>938.0</td>\n",
       "      <td>2534.50</td>\n",
       "    </tr>\n",
       "    <tr>\n",
       "      <th>248479</th>\n",
       "      <td>template2.pdb</td>\n",
       "      <td>A</td>\n",
       "      <td>19</td>\n",
       "      <td>STIEEQAKTFLDKFNHEAEDLFYQSSLASWNYNTNITEENVQNMNN...</td>\n",
       "      <td>STIEEQAKTFLDKFNHEAEDLFYQSSLMSWNYNTNITEENVQNMNN...</td>\n",
       "      <td>0.842</td>\n",
       "      <td>-1.24724</td>\n",
       "      <td>0.146723</td>\n",
       "      <td>5355.0</td>\n",
       "      <td>938.0</td>\n",
       "      <td>3146.50</td>\n",
       "    </tr>\n",
       "    <tr>\n",
       "      <th>132207</th>\n",
       "      <td>template2.pdb</td>\n",
       "      <td>A</td>\n",
       "      <td>19</td>\n",
       "      <td>STIEEQAKTFLDKFNHEAEDLFYQSSLASWNYNTNITEENVQNMNN...</td>\n",
       "      <td>STIEEQAKTFLDKFNHEAEDLFYQSMLANWNYNTNITEENVQNMNN...</td>\n",
       "      <td>0.824</td>\n",
       "      <td>-2.36012</td>\n",
       "      <td>0.930145</td>\n",
       "      <td>1323.0</td>\n",
       "      <td>5272.5</td>\n",
       "      <td>3297.75</td>\n",
       "    </tr>\n",
       "    <tr>\n",
       "      <th>10240</th>\n",
       "      <td>template2.pdb</td>\n",
       "      <td>A</td>\n",
       "      <td>19</td>\n",
       "      <td>STIEEQAKTFLDKFNHEAEDLFYQSSLASWNYNTNITEENVQNMNN...</td>\n",
       "      <td>SSIEEQAKYFLDKFNHEAEDLFYQSSLASWNYNTNITEENVQNMNN...</td>\n",
       "      <td>0.824</td>\n",
       "      <td>-2.21112</td>\n",
       "      <td>0.107442</td>\n",
       "      <td>1607.0</td>\n",
       "      <td>5272.5</td>\n",
       "      <td>3439.75</td>\n",
       "    </tr>\n",
       "    <tr>\n",
       "      <th>...</th>\n",
       "      <td>...</td>\n",
       "      <td>...</td>\n",
       "      <td>...</td>\n",
       "      <td>...</td>\n",
       "      <td>...</td>\n",
       "      <td>...</td>\n",
       "      <td>...</td>\n",
       "      <td>...</td>\n",
       "      <td>...</td>\n",
       "      <td>...</td>\n",
       "      <td>...</td>\n",
       "    </tr>\n",
       "    <tr>\n",
       "      <th>127042</th>\n",
       "      <td>template2.pdb</td>\n",
       "      <td>A</td>\n",
       "      <td>19</td>\n",
       "      <td>STIEEQAKTFLDKFNHEAEDLFYQSSLASWNYNTNITEENVQNMNN...</td>\n",
       "      <td>STIEHQYNTFLDKFNHIAADLFYQSSLASWNYNTNITEENKQNMNN...</td>\n",
       "      <td>0.585</td>\n",
       "      <td>28.69520</td>\n",
       "      <td>0.916621</td>\n",
       "      <td>249054.0</td>\n",
       "      <td>249417.0</td>\n",
       "      <td>249235.50</td>\n",
       "    </tr>\n",
       "    <tr>\n",
       "      <th>227483</th>\n",
       "      <td>template2.pdb</td>\n",
       "      <td>A</td>\n",
       "      <td>19</td>\n",
       "      <td>STIEEQAKTFLDKFNHEAEDLFYQSSLASWNYNTNITEENVQNMNN...</td>\n",
       "      <td>STIEWQAKTFLDKFNHEAEDRFYQRSLASWNYNTNITEENVQNGNN...</td>\n",
       "      <td>0.596</td>\n",
       "      <td>31.28520</td>\n",
       "      <td>2.129320</td>\n",
       "      <td>249443.0</td>\n",
       "      <td>249133.5</td>\n",
       "      <td>249288.25</td>\n",
       "    </tr>\n",
       "    <tr>\n",
       "      <th>186855</th>\n",
       "      <td>template2.pdb</td>\n",
       "      <td>A</td>\n",
       "      <td>19</td>\n",
       "      <td>STIEEQAKTFLDKFNHEAEDLFYQSSLASWNYNTNITEENVQNMNN...</td>\n",
       "      <td>STIEWQAKTFLDKFNHVFEDLFYQSSLASWNYNTNITEENVQNWNN...</td>\n",
       "      <td>0.566</td>\n",
       "      <td>33.08690</td>\n",
       "      <td>5.883440</td>\n",
       "      <td>249630.0</td>\n",
       "      <td>249712.0</td>\n",
       "      <td>249671.00</td>\n",
       "    </tr>\n",
       "    <tr>\n",
       "      <th>184192</th>\n",
       "      <td>template2.pdb</td>\n",
       "      <td>A</td>\n",
       "      <td>19</td>\n",
       "      <td>STIEEQAKTFLDKFNHEAEDLFYQSSLASWNYNTNITEENVQNMNN...</td>\n",
       "      <td>STISEQFKTFLKKRNHEAEDLFYQSSLASWNYNTNITEENVQNMNN...</td>\n",
       "      <td>0.566</td>\n",
       "      <td>37.23040</td>\n",
       "      <td>2.345030</td>\n",
       "      <td>249852.0</td>\n",
       "      <td>249712.0</td>\n",
       "      <td>249782.00</td>\n",
       "    </tr>\n",
       "    <tr>\n",
       "      <th>218455</th>\n",
       "      <td>template2.pdb</td>\n",
       "      <td>A</td>\n",
       "      <td>19</td>\n",
       "      <td>STIEEQAKTFLDKFNHEAEDLFYQSSLASWNYNTNITEENVQNMNN...</td>\n",
       "      <td>STIEFQWKTFLDKFKHEKEDLFYQSSLASWNMNTNITEENVQNMNN...</td>\n",
       "      <td>0.566</td>\n",
       "      <td>37.45640</td>\n",
       "      <td>4.264570</td>\n",
       "      <td>249859.0</td>\n",
       "      <td>249712.0</td>\n",
       "      <td>249785.50</td>\n",
       "    </tr>\n",
       "  </tbody>\n",
       "</table>\n",
       "<p>250000 rows × 11 columns</p>\n",
       "</div>"
      ],
      "text/plain": [
       "                  PDB Chain  Start_index  \\\n",
       "130013  template2.pdb     A           19   \n",
       "248705  template2.pdb     A           19   \n",
       "248479  template2.pdb     A           19   \n",
       "132207  template2.pdb     A           19   \n",
       "10240   template2.pdb     A           19   \n",
       "...               ...   ...          ...   \n",
       "127042  template2.pdb     A           19   \n",
       "227483  template2.pdb     A           19   \n",
       "186855  template2.pdb     A           19   \n",
       "184192  template2.pdb     A           19   \n",
       "218455  template2.pdb     A           19   \n",
       "\n",
       "                                                   WT_seq  \\\n",
       "130013  STIEEQAKTFLDKFNHEAEDLFYQSSLASWNYNTNITEENVQNMNN...   \n",
       "248705  STIEEQAKTFLDKFNHEAEDLFYQSSLASWNYNTNITEENVQNMNN...   \n",
       "248479  STIEEQAKTFLDKFNHEAEDLFYQSSLASWNYNTNITEENVQNMNN...   \n",
       "132207  STIEEQAKTFLDKFNHEAEDLFYQSSLASWNYNTNITEENVQNMNN...   \n",
       "10240   STIEEQAKTFLDKFNHEAEDLFYQSSLASWNYNTNITEENVQNMNN...   \n",
       "...                                                   ...   \n",
       "127042  STIEEQAKTFLDKFNHEAEDLFYQSSLASWNYNTNITEENVQNMNN...   \n",
       "227483  STIEEQAKTFLDKFNHEAEDLFYQSSLASWNYNTNITEENVQNMNN...   \n",
       "186855  STIEEQAKTFLDKFNHEAEDLFYQSSLASWNYNTNITEENVQNMNN...   \n",
       "184192  STIEEQAKTFLDKFNHEAEDLFYQSSLASWNYNTNITEENVQNMNN...   \n",
       "218455  STIEEQAKTFLDKFNHEAEDLFYQSSLASWNYNTNITEENVQNMNN...   \n",
       "\n",
       "                                                   MT_seq  solubility  \\\n",
       "130013  STIEEQAKIFLDKFNHEAEDRFYQSSLASYNYNTNITEENVQNMNN...       0.825   \n",
       "248705  STIEEQAKYFLDYFNHEAEDMFYQSSLASWNYNTNITEENVQNMNN...       0.842   \n",
       "248479  STIEEQAKTFLDKFNHEAEDLFYQSSLMSWNYNTNITEENVQNMNN...       0.842   \n",
       "132207  STIEEQAKTFLDKFNHEAEDLFYQSMLANWNYNTNITEENVQNMNN...       0.824   \n",
       "10240   SSIEEQAKYFLDKFNHEAEDLFYQSSLASWNYNTNITEENVQNMNN...       0.824   \n",
       "...                                                   ...         ...   \n",
       "127042  STIEHQYNTFLDKFNHIAADLFYQSSLASWNYNTNITEENKQNMNN...       0.585   \n",
       "227483  STIEWQAKTFLDKFNHEAEDRFYQRSLASWNYNTNITEENVQNGNN...       0.596   \n",
       "186855  STIEWQAKTFLDKFNHVFEDLFYQSSLASWNYNTNITEENVQNWNN...       0.566   \n",
       "184192  STISEQFKTFLKKRNHEAEDLFYQSSLASWNYNTNITEENVQNMNN...       0.566   \n",
       "218455  STIEFQWKTFLDKFKHEKEDLFYQSSLASWNMNTNITEENVQNMNN...       0.566   \n",
       "\n",
       "             ddG   ddG_std  ddG_rank  solubility_rank   avg_rank  \n",
       "130013  -2.04426  0.525979    1986.5           2605.5    2296.00  \n",
       "248705  -1.45956  0.507725    4131.0            938.0    2534.50  \n",
       "248479  -1.24724  0.146723    5355.0            938.0    3146.50  \n",
       "132207  -2.36012  0.930145    1323.0           5272.5    3297.75  \n",
       "10240   -2.21112  0.107442    1607.0           5272.5    3439.75  \n",
       "...          ...       ...       ...              ...        ...  \n",
       "127042  28.69520  0.916621  249054.0         249417.0  249235.50  \n",
       "227483  31.28520  2.129320  249443.0         249133.5  249288.25  \n",
       "186855  33.08690  5.883440  249630.0         249712.0  249671.00  \n",
       "184192  37.23040  2.345030  249852.0         249712.0  249782.00  \n",
       "218455  37.45640  4.264570  249859.0         249712.0  249785.50  \n",
       "\n",
       "[250000 rows x 11 columns]"
      ]
     },
     "execution_count": 11,
     "metadata": {},
     "output_type": "execute_result"
    }
   ],
   "source": [
    "train_data.sort_values(by='avg_rank', ascending=True)"
   ]
  },
  {
   "cell_type": "code",
   "execution_count": null,
   "id": "55f431f2-73c9-491a-91b8-ca0fbdd016cf",
   "metadata": {},
   "outputs": [],
   "source": []
  },
  {
   "cell_type": "code",
   "execution_count": null,
   "id": "916c3dde-f1b2-4663-aadf-de18d93751c9",
   "metadata": {},
   "outputs": [],
   "source": []
  },
  {
   "cell_type": "markdown",
   "id": "9c9c5f2a-e4f6-4181-aab4-06a3ebdb2c70",
   "metadata": {
    "tags": []
   },
   "source": [
    "## gen data"
   ]
  },
  {
   "cell_type": "code",
   "execution_count": 12,
   "id": "0e70d431-fbee-471e-bd2f-7dc71ff65490",
   "metadata": {},
   "outputs": [
    {
     "data": {
      "text/html": [
       "<div>\n",
       "<style scoped>\n",
       "    .dataframe tbody tr th:only-of-type {\n",
       "        vertical-align: middle;\n",
       "    }\n",
       "\n",
       "    .dataframe tbody tr th {\n",
       "        vertical-align: top;\n",
       "    }\n",
       "\n",
       "    .dataframe thead th {\n",
       "        text-align: right;\n",
       "    }\n",
       "</style>\n",
       "<table border=\"1\" class=\"dataframe\">\n",
       "  <thead>\n",
       "    <tr style=\"text-align: right;\">\n",
       "      <th></th>\n",
       "      <th>MT_seq</th>\n",
       "      <th>ddG_latent_pred</th>\n",
       "      <th>solubility_latent_pred</th>\n",
       "      <th>gen_input_seq</th>\n",
       "      <th>PDB</th>\n",
       "      <th>Chain</th>\n",
       "      <th>Start_index</th>\n",
       "      <th>WT_seq</th>\n",
       "      <th>repeated_gen</th>\n",
       "      <th>in_train_data_gen</th>\n",
       "    </tr>\n",
       "  </thead>\n",
       "  <tbody>\n",
       "    <tr>\n",
       "      <th>0</th>\n",
       "      <td>STIEEMAKLFLDKFNHEAEDLFYQSLLASWNYNTNITEENMQNMNN...</td>\n",
       "      <td>-14.131250</td>\n",
       "      <td>NaN</td>\n",
       "      <td>STIEEQAKMFLDKFNHEAEDLFYQSSLASWNYNTNITEENTQNMNN...</td>\n",
       "      <td>template2.pdb</td>\n",
       "      <td>A</td>\n",
       "      <td>19</td>\n",
       "      <td>STIEEQAKTFLDKFNHEAEDLFYQSSLASWNYNTNITEENVQNMNN...</td>\n",
       "      <td>False</td>\n",
       "      <td>False</td>\n",
       "    </tr>\n",
       "    <tr>\n",
       "      <th>1</th>\n",
       "      <td>STIEEMAKTFLEKFNHEAEDLFYQSSLALWSYNTNITEENVQNMNN...</td>\n",
       "      <td>-14.118752</td>\n",
       "      <td>NaN</td>\n",
       "      <td>STIEEQAKTFLMKFNHEAEDLFYQSSLASWFYNTNITEENVQNMNN...</td>\n",
       "      <td>template2.pdb</td>\n",
       "      <td>A</td>\n",
       "      <td>19</td>\n",
       "      <td>STIEEQAKTFLDKFNHEAEDLFYQSSLASWNYNTNITEENVQNMNN...</td>\n",
       "      <td>False</td>\n",
       "      <td>False</td>\n",
       "    </tr>\n",
       "    <tr>\n",
       "      <th>2</th>\n",
       "      <td>STIEEQAKTFLDKFNHEAEDLFYQSSLAKWNYNTNITEENMQNMNL...</td>\n",
       "      <td>-14.116454</td>\n",
       "      <td>NaN</td>\n",
       "      <td>STIEEQAKTFLDKFNHEAEDLFYQSSLASWNYNTNITEENMQNMNY...</td>\n",
       "      <td>template2.pdb</td>\n",
       "      <td>A</td>\n",
       "      <td>19</td>\n",
       "      <td>STIEEQAKTFLDKFNHEAEDLFYQSSLASWNYNTNITEENVQNMNN...</td>\n",
       "      <td>False</td>\n",
       "      <td>False</td>\n",
       "    </tr>\n",
       "    <tr>\n",
       "      <th>3</th>\n",
       "      <td>STIEEQAKTFLEKFNHEAEDLFYQSSLAMWNYNTNITEENVQNMNN...</td>\n",
       "      <td>-14.113591</td>\n",
       "      <td>NaN</td>\n",
       "      <td>STIEEQAKTFLMKFNHEAEDLFYQSSLASWNYNTNITEENVQNMNN...</td>\n",
       "      <td>template2.pdb</td>\n",
       "      <td>A</td>\n",
       "      <td>19</td>\n",
       "      <td>STIEEQAKTFLDKFNHEAEDLFYQSSLASWNYNTNITEENVQNMNN...</td>\n",
       "      <td>False</td>\n",
       "      <td>False</td>\n",
       "    </tr>\n",
       "    <tr>\n",
       "      <th>4</th>\n",
       "      <td>STIEEQAKTFLDKFNHEAEDLFYQSSLKAWNYNTNITEENVQNMNN...</td>\n",
       "      <td>-14.107990</td>\n",
       "      <td>NaN</td>\n",
       "      <td>STIEEQAKTFLDKFNHEAEDLFYQSSLYSWNYNTNITEENVQNMNN...</td>\n",
       "      <td>template2.pdb</td>\n",
       "      <td>A</td>\n",
       "      <td>19</td>\n",
       "      <td>STIEEQAKTFLDKFNHEAEDLFYQSSLASWNYNTNITEENVQNMNN...</td>\n",
       "      <td>False</td>\n",
       "      <td>False</td>\n",
       "    </tr>\n",
       "    <tr>\n",
       "      <th>...</th>\n",
       "      <td>...</td>\n",
       "      <td>...</td>\n",
       "      <td>...</td>\n",
       "      <td>...</td>\n",
       "      <td>...</td>\n",
       "      <td>...</td>\n",
       "      <td>...</td>\n",
       "      <td>...</td>\n",
       "      <td>...</td>\n",
       "      <td>...</td>\n",
       "    </tr>\n",
       "    <tr>\n",
       "      <th>995</th>\n",
       "      <td>STIEEQAKTFLMKFNHEAEDLFYQSSLASWNYNTNITEENVQNMNL...</td>\n",
       "      <td>-13.844300</td>\n",
       "      <td>NaN</td>\n",
       "      <td>STIEEQAKTFLMKFNHEAEDLFYQSSLASWNYNTNITEENVQNMNN...</td>\n",
       "      <td>template2.pdb</td>\n",
       "      <td>A</td>\n",
       "      <td>19</td>\n",
       "      <td>STIEEQAKTFLDKFNHEAEDLFYQSSLASWNYNTNITEENVQNMNN...</td>\n",
       "      <td>False</td>\n",
       "      <td>False</td>\n",
       "    </tr>\n",
       "    <tr>\n",
       "      <th>996</th>\n",
       "      <td>SNIEEMAKTFLDKFNHEAEDLFYQSLLASWNYNTNITEENVQNMNM...</td>\n",
       "      <td>-13.844254</td>\n",
       "      <td>NaN</td>\n",
       "      <td>SNIEEQAKTFLDKFNHEAEDLFYQSSLASWNYNTNITEENVQNMNM...</td>\n",
       "      <td>template2.pdb</td>\n",
       "      <td>A</td>\n",
       "      <td>19</td>\n",
       "      <td>STIEEQAKTFLDKFNHEAEDLFYQSSLASWNYNTNITEENVQNMNN...</td>\n",
       "      <td>False</td>\n",
       "      <td>False</td>\n",
       "    </tr>\n",
       "    <tr>\n",
       "      <th>997</th>\n",
       "      <td>STIEEMALTFLYKFNHEAEDLFYQSMLAAWNYNTNITEENVQNMNN...</td>\n",
       "      <td>-13.844237</td>\n",
       "      <td>NaN</td>\n",
       "      <td>STIEEQAMTFLDKFNHEAEDLFYQSALASWNYNTNITEENVQNMNN...</td>\n",
       "      <td>template2.pdb</td>\n",
       "      <td>A</td>\n",
       "      <td>19</td>\n",
       "      <td>STIEEQAKTFLDKFNHEAEDLFYQSSLASWNYNTNITEENVQNMNN...</td>\n",
       "      <td>False</td>\n",
       "      <td>False</td>\n",
       "    </tr>\n",
       "    <tr>\n",
       "      <th>998</th>\n",
       "      <td>STIEEQAKTFLDKFNHEAEDLFYQSKLASWNMNTNITEENVQNMNK...</td>\n",
       "      <td>-13.844169</td>\n",
       "      <td>NaN</td>\n",
       "      <td>STIEEQAKTFLDKFNHEAEDLFYQSSLASWNKNTNITEENVQNMNN...</td>\n",
       "      <td>template2.pdb</td>\n",
       "      <td>A</td>\n",
       "      <td>19</td>\n",
       "      <td>STIEEQAKTFLDKFNHEAEDLFYQSSLASWNYNTNITEENVQNMNN...</td>\n",
       "      <td>False</td>\n",
       "      <td>False</td>\n",
       "    </tr>\n",
       "    <tr>\n",
       "      <th>999</th>\n",
       "      <td>STIEEQAKTFLMKFNHEAEDLFYQSKLASWNYNTNITEENVQNMNK...</td>\n",
       "      <td>-13.844071</td>\n",
       "      <td>NaN</td>\n",
       "      <td>STIEEQAKTFLMKFNHEAEDLFYQSSLASWNYNTNITEENVQNMNK...</td>\n",
       "      <td>template2.pdb</td>\n",
       "      <td>A</td>\n",
       "      <td>19</td>\n",
       "      <td>STIEEQAKTFLDKFNHEAEDLFYQSSLASWNYNTNITEENVQNMNN...</td>\n",
       "      <td>False</td>\n",
       "      <td>False</td>\n",
       "    </tr>\n",
       "  </tbody>\n",
       "</table>\n",
       "<p>1000 rows × 10 columns</p>\n",
       "</div>"
      ],
      "text/plain": [
       "                                                MT_seq  ddG_latent_pred  \\\n",
       "0    STIEEMAKLFLDKFNHEAEDLFYQSLLASWNYNTNITEENMQNMNN...       -14.131250   \n",
       "1    STIEEMAKTFLEKFNHEAEDLFYQSSLALWSYNTNITEENVQNMNN...       -14.118752   \n",
       "2    STIEEQAKTFLDKFNHEAEDLFYQSSLAKWNYNTNITEENMQNMNL...       -14.116454   \n",
       "3    STIEEQAKTFLEKFNHEAEDLFYQSSLAMWNYNTNITEENVQNMNN...       -14.113591   \n",
       "4    STIEEQAKTFLDKFNHEAEDLFYQSSLKAWNYNTNITEENVQNMNN...       -14.107990   \n",
       "..                                                 ...              ...   \n",
       "995  STIEEQAKTFLMKFNHEAEDLFYQSSLASWNYNTNITEENVQNMNL...       -13.844300   \n",
       "996  SNIEEMAKTFLDKFNHEAEDLFYQSLLASWNYNTNITEENVQNMNM...       -13.844254   \n",
       "997  STIEEMALTFLYKFNHEAEDLFYQSMLAAWNYNTNITEENVQNMNN...       -13.844237   \n",
       "998  STIEEQAKTFLDKFNHEAEDLFYQSKLASWNMNTNITEENVQNMNK...       -13.844169   \n",
       "999  STIEEQAKTFLMKFNHEAEDLFYQSKLASWNYNTNITEENVQNMNK...       -13.844071   \n",
       "\n",
       "     solubility_latent_pred  \\\n",
       "0                       NaN   \n",
       "1                       NaN   \n",
       "2                       NaN   \n",
       "3                       NaN   \n",
       "4                       NaN   \n",
       "..                      ...   \n",
       "995                     NaN   \n",
       "996                     NaN   \n",
       "997                     NaN   \n",
       "998                     NaN   \n",
       "999                     NaN   \n",
       "\n",
       "                                         gen_input_seq            PDB Chain  \\\n",
       "0    STIEEQAKMFLDKFNHEAEDLFYQSSLASWNYNTNITEENTQNMNN...  template2.pdb     A   \n",
       "1    STIEEQAKTFLMKFNHEAEDLFYQSSLASWFYNTNITEENVQNMNN...  template2.pdb     A   \n",
       "2    STIEEQAKTFLDKFNHEAEDLFYQSSLASWNYNTNITEENMQNMNY...  template2.pdb     A   \n",
       "3    STIEEQAKTFLMKFNHEAEDLFYQSSLASWNYNTNITEENVQNMNN...  template2.pdb     A   \n",
       "4    STIEEQAKTFLDKFNHEAEDLFYQSSLYSWNYNTNITEENVQNMNN...  template2.pdb     A   \n",
       "..                                                 ...            ...   ...   \n",
       "995  STIEEQAKTFLMKFNHEAEDLFYQSSLASWNYNTNITEENVQNMNN...  template2.pdb     A   \n",
       "996  SNIEEQAKTFLDKFNHEAEDLFYQSSLASWNYNTNITEENVQNMNM...  template2.pdb     A   \n",
       "997  STIEEQAMTFLDKFNHEAEDLFYQSALASWNYNTNITEENVQNMNN...  template2.pdb     A   \n",
       "998  STIEEQAKTFLDKFNHEAEDLFYQSSLASWNKNTNITEENVQNMNN...  template2.pdb     A   \n",
       "999  STIEEQAKTFLMKFNHEAEDLFYQSSLASWNYNTNITEENVQNMNK...  template2.pdb     A   \n",
       "\n",
       "     Start_index                                             WT_seq  \\\n",
       "0             19  STIEEQAKTFLDKFNHEAEDLFYQSSLASWNYNTNITEENVQNMNN...   \n",
       "1             19  STIEEQAKTFLDKFNHEAEDLFYQSSLASWNYNTNITEENVQNMNN...   \n",
       "2             19  STIEEQAKTFLDKFNHEAEDLFYQSSLASWNYNTNITEENVQNMNN...   \n",
       "3             19  STIEEQAKTFLDKFNHEAEDLFYQSSLASWNYNTNITEENVQNMNN...   \n",
       "4             19  STIEEQAKTFLDKFNHEAEDLFYQSSLASWNYNTNITEENVQNMNN...   \n",
       "..           ...                                                ...   \n",
       "995           19  STIEEQAKTFLDKFNHEAEDLFYQSSLASWNYNTNITEENVQNMNN...   \n",
       "996           19  STIEEQAKTFLDKFNHEAEDLFYQSSLASWNYNTNITEENVQNMNN...   \n",
       "997           19  STIEEQAKTFLDKFNHEAEDLFYQSSLASWNYNTNITEENVQNMNN...   \n",
       "998           19  STIEEQAKTFLDKFNHEAEDLFYQSSLASWNYNTNITEENVQNMNN...   \n",
       "999           19  STIEEQAKTFLDKFNHEAEDLFYQSSLASWNYNTNITEENVQNMNN...   \n",
       "\n",
       "     repeated_gen  in_train_data_gen  \n",
       "0           False              False  \n",
       "1           False              False  \n",
       "2           False              False  \n",
       "3           False              False  \n",
       "4           False              False  \n",
       "..            ...                ...  \n",
       "995         False              False  \n",
       "996         False              False  \n",
       "997         False              False  \n",
       "998         False              False  \n",
       "999         False              False  \n",
       "\n",
       "[1000 rows x 10 columns]"
      ]
     },
     "execution_count": 12,
     "metadata": {},
     "output_type": "execute_result"
    }
   ],
   "source": [
    "topk_df = pd.read_csv(topk_tsv, sep='\\t')\n",
    "topk_df"
   ]
  },
  {
   "cell_type": "code",
   "execution_count": null,
   "id": "326c6c08-8a5d-4ba8-a787-efd34306d024",
   "metadata": {},
   "outputs": [],
   "source": []
  },
  {
   "cell_type": "code",
   "execution_count": null,
   "id": "12c79fd9-12df-4387-8f20-b2a032ac5ffd",
   "metadata": {},
   "outputs": [],
   "source": []
  },
  {
   "cell_type": "markdown",
   "id": "d92d097e-f136-4063-b98e-71ec6770710e",
   "metadata": {},
   "source": [
    "## format input fasta"
   ]
  },
  {
   "cell_type": "code",
   "execution_count": 13,
   "id": "91cd4130-87ef-4bc6-89d9-91a505c596b3",
   "metadata": {},
   "outputs": [],
   "source": [
    "def check_path(path, mkdir=True):\n",
    "    '''\n",
    "    检查路径所在文件夹是否存在, 如果路径不存在则自动新建\n",
    "    :param path_fasta: 检查的文件路径\n",
    "    :param mkdir: 是否自动创建文件夹\n",
    "    :return: is_exist: bool\n",
    "    '''\n",
    "    dir = os.path.abspath(os.path.dirname(path)) if not os.path.isdir(path) else path\n",
    "    # print('dir', dir)\n",
    "    # print('os.path.isdir(path)', os.path.isdir(path))\n",
    "    is_exist = os.path.exists(dir)\n",
    "    # print('is_exist', is_exist)\n",
    "    if mkdir and not is_exist:\n",
    "        try:\n",
    "            os.makedirs(dir)\n",
    "            print(f'makedir: {dir}')\n",
    "        except Exception:\n",
    "            raise RuntimeError(f'The path does not exist, automatically mkdir {dir}: Failed')\n",
    "    return is_exist\n",
    "\n",
    "def write_fasta(path, seqs, custom_index=None, descriptions=None):\n",
    "    '''\n",
    "    调取biopython包输出fasta文件，写入成功则返回True，否则会报错\n",
    "    :param path: 输出的目标路径\n",
    "    :param seqs: 序列列表\n",
    "    :param descriptions: 描述/标签列表\n",
    "    :param custom_index: 自定义索引，如果为None则使用默认index，从0至len(seqs)-1\n",
    "    :return: result: bool\n",
    "    '''\n",
    "    check_path(path)\n",
    "    records = []\n",
    "    if custom_index is None:\n",
    "        custom_index = [str(i) for i in range(len(seqs))]\n",
    "    for i in range(len(seqs)):\n",
    "        if descriptions is None:\n",
    "            seq_record = SeqRecord(Seq(seqs[i]), id=custom_index[i], description='')\n",
    "        else:\n",
    "            seq_record = SeqRecord(Seq(seqs[i]), id=custom_index[i], description=f'| {descriptions[i]}')\n",
    "        records.append(seq_record)\n",
    "    try:\n",
    "        SeqIO.write(records, path, 'fasta')\n",
    "    except Exception:\n",
    "        raise RuntimeError('Failed to write fasta')\n",
    "    return True\n",
    "\n",
    "def read_fasta(path):\n",
    "    '''\n",
    "    调取biopython包读取fasta文件，返回fasta中每一条记录的序列以及对应的描述\n",
    "    :param path: fasta文件路径\n",
    "    :return: seqs: list, descriptions: list\n",
    "    '''\n",
    "    seqs = [str(fa.seq) for fa in SeqIO.parse(path, 'fasta')]\n",
    "    descriptions = [fa.description for fa in SeqIO.parse(path, 'fasta')]\n",
    "    return seqs, descriptions"
   ]
  },
  {
   "cell_type": "code",
   "execution_count": 14,
   "id": "a296f3e8-9c3b-4f4a-afef-cfc3e6ebd9c4",
   "metadata": {},
   "outputs": [
    {
     "data": {
      "text/plain": [
       "'/home/hew/python/genhance/protein_sol/output//congen8_new_ddG_260000_[-40.0]_[1.0]/ddG_top1000.fasta'"
      ]
     },
     "execution_count": 14,
     "metadata": {},
     "output_type": "execute_result"
    }
   ],
   "source": [
    "write_fasta(fasta_path, topk_df.MT_seq)\n",
    "fasta_path"
   ]
  },
  {
   "cell_type": "code",
   "execution_count": null,
   "id": "1ad7bad1-9b3a-4515-a158-6d9f7ebc6f63",
   "metadata": {},
   "outputs": [],
   "source": []
  },
  {
   "cell_type": "code",
   "execution_count": null,
   "id": "032936bd-1bf3-40a8-973f-22ae47cf998b",
   "metadata": {},
   "outputs": [],
   "source": []
  },
  {
   "cell_type": "markdown",
   "id": "a80aa2f9-83d3-4f13-9f24-2bbaaad576bb",
   "metadata": {
    "tags": []
   },
   "source": [
    "## run prediction"
   ]
  },
  {
   "cell_type": "code",
   "execution_count": 25,
   "id": "0acc8a7b-12b1-409f-8a7d-78108706b29f",
   "metadata": {},
   "outputs": [
    {
     "data": {
      "text/plain": [
       "'cd /home/hew/python/genhance/protein_sol/software/ && /home/hew/python/genhance/protein_sol/software/multiple_prediction_wrapper_export.sh /home/hew/python/genhance/protein_sol/output//congen8_new_ddG_260000_[-40.0]_[1.0]/ddG_top1000.fasta'"
      ]
     },
     "execution_count": 25,
     "metadata": {},
     "output_type": "execute_result"
    }
   ],
   "source": [
    "command = f'cd {script_dir} && {script_path} {fasta_path}'\n",
    "command"
   ]
  },
  {
   "cell_type": "code",
   "execution_count": 26,
   "id": "bfc1e240-f645-47d8-b4b0-904b1a1dc968",
   "metadata": {},
   "outputs": [
    {
     "data": {
      "text/plain": [
       "0"
      ]
     },
     "execution_count": 26,
     "metadata": {},
     "output_type": "execute_result"
    }
   ],
   "source": [
    "os.system(command)"
   ]
  },
  {
   "cell_type": "code",
   "execution_count": null,
   "id": "821f6793-084c-459d-bb0e-42d9f9cefe06",
   "metadata": {},
   "outputs": [],
   "source": []
  },
  {
   "cell_type": "code",
   "execution_count": null,
   "id": "17276dad-c8bf-4b38-b0ef-8b10a2c57e1a",
   "metadata": {},
   "outputs": [],
   "source": []
  },
  {
   "cell_type": "markdown",
   "id": "fcb5779b-ac4a-4ae9-ba9d-710ce55635eb",
   "metadata": {},
   "source": [
    "## analyze results"
   ]
  },
  {
   "cell_type": "code",
   "execution_count": 27,
   "id": "9fa0cf2d-9b13-4124-833f-7f616c540d77",
   "metadata": {},
   "outputs": [
    {
     "data": {
      "text/plain": [
       "((1000,),\n",
       " array([0.713, 0.764, 0.624, 0.764, 0.764, 0.764, 0.764, 0.675, 0.764,\n",
       "        0.671, 0.752, 0.713, 0.686, 0.713, 0.764, 0.713, 0.764, 0.764,\n",
       "        0.764, 0.713, 0.671, 0.764, 0.686, 0.764, 0.764, 0.713, 0.764,\n",
       "        0.764, 0.764, 0.713, 0.764, 0.713, 0.764, 0.713, 0.678, 0.713,\n",
       "        0.713, 0.713, 0.701, 0.671, 0.713, 0.686, 0.713, 0.713, 0.641,\n",
       "        0.671, 0.764, 0.683, 0.713, 0.764, 0.713, 0.713, 0.764, 0.752,\n",
       "        0.764, 0.713, 0.764, 0.752, 0.764, 0.671, 0.764, 0.764, 0.764,\n",
       "        0.639, 0.713, 0.686, 0.764, 0.65 , 0.764, 0.764, 0.764, 0.713,\n",
       "        0.721, 0.764, 0.764, 0.764, 0.713, 0.764, 0.764, 0.671, 0.764,\n",
       "        0.764, 0.764, 0.682, 0.682, 0.713, 0.764, 0.764, 0.764, 0.764,\n",
       "        0.764, 0.686, 0.713, 0.653, 0.764, 0.764, 0.713, 0.764, 0.764,\n",
       "        0.764, 0.671, 0.764, 0.624, 0.764, 0.764, 0.764, 0.686, 0.671,\n",
       "        0.764, 0.764, 0.764, 0.686, 0.764, 0.764, 0.713, 0.713, 0.764,\n",
       "        0.624, 0.764, 0.764, 0.713, 0.764, 0.764, 0.713, 0.686, 0.713,\n",
       "        0.764, 0.713, 0.671, 0.671, 0.764, 0.713, 0.764, 0.713, 0.713,\n",
       "        0.671, 0.713, 0.713, 0.764, 0.713, 0.764, 0.686, 0.764, 0.721,\n",
       "        0.764, 0.764, 0.764, 0.764, 0.764, 0.764, 0.597, 0.764, 0.764,\n",
       "        0.643, 0.764, 0.781, 0.764, 0.764, 0.673, 0.713, 0.764, 0.713,\n",
       "        0.713, 0.713, 0.764, 0.764, 0.764, 0.764, 0.671, 0.764, 0.752,\n",
       "        0.721, 0.561, 0.764, 0.764, 0.671, 0.764, 0.764, 0.589, 0.764,\n",
       "        0.781, 0.764, 0.764, 0.781, 0.764, 0.764, 0.764, 0.713, 0.764,\n",
       "        0.764, 0.675, 0.671, 0.671, 0.781, 0.686, 0.713, 0.721, 0.764,\n",
       "        0.764, 0.764, 0.686, 0.764, 0.713, 0.713, 0.764, 0.713, 0.713,\n",
       "        0.713, 0.764, 0.764, 0.721, 0.764, 0.671, 0.764, 0.764, 0.713,\n",
       "        0.764, 0.764, 0.713, 0.713, 0.764, 0.764, 0.713, 0.713, 0.764,\n",
       "        0.713, 0.643, 0.764, 0.764, 0.764, 0.671, 0.764, 0.764, 0.713,\n",
       "        0.764, 0.764, 0.643, 0.764, 0.713, 0.593, 0.713, 0.764, 0.713,\n",
       "        0.764, 0.764, 0.764, 0.554, 0.764, 0.764, 0.764, 0.781, 0.764,\n",
       "        0.781, 0.713, 0.764, 0.764, 0.764, 0.764, 0.764, 0.713, 0.781,\n",
       "        0.713, 0.713, 0.764, 0.624, 0.781, 0.764, 0.764, 0.713, 0.764,\n",
       "        0.781, 0.764, 0.764, 0.764, 0.764, 0.764, 0.713, 0.624, 0.764,\n",
       "        0.764, 0.713, 0.764, 0.764, 0.764, 0.671, 0.764, 0.764, 0.764,\n",
       "        0.764, 0.713, 0.713, 0.701, 0.764, 0.764, 0.764, 0.713, 0.781,\n",
       "        0.764, 0.686, 0.764, 0.764, 0.713, 0.764, 0.713, 0.764, 0.686,\n",
       "        0.764, 0.764, 0.764, 0.752, 0.713, 0.764, 0.764, 0.764, 0.713,\n",
       "        0.764, 0.686, 0.781, 0.764, 0.713, 0.764, 0.713, 0.713, 0.713,\n",
       "        0.764, 0.764, 0.764, 0.764, 0.764, 0.764, 0.764, 0.764, 0.764,\n",
       "        0.764, 0.671, 0.686, 0.764, 0.764, 0.764, 0.713, 0.781, 0.764,\n",
       "        0.764, 0.764, 0.764, 0.764, 0.764, 0.764, 0.764, 0.764, 0.764,\n",
       "        0.764, 0.764, 0.566, 0.764, 0.63 , 0.764, 0.781, 0.764, 0.764,\n",
       "        0.671, 0.781, 0.764, 0.713, 0.764, 0.769, 0.764, 0.764, 0.764,\n",
       "        0.764, 0.781, 0.721, 0.712, 0.596, 0.764, 0.764, 0.781, 0.686,\n",
       "        0.764, 0.764, 0.713, 0.764, 0.713, 0.781, 0.653, 0.671, 0.764,\n",
       "        0.721, 0.781, 0.671, 0.764, 0.764, 0.781, 0.713, 0.675, 0.624,\n",
       "        0.706, 0.764, 0.764, 0.764, 0.764, 0.764, 0.713, 0.713, 0.752,\n",
       "        0.764, 0.764, 0.675, 0.721, 0.764, 0.713, 0.686, 0.713, 0.689,\n",
       "        0.764, 0.713, 0.764, 0.764, 0.764, 0.764, 0.764, 0.764, 0.764,\n",
       "        0.764, 0.764, 0.764, 0.713, 0.764, 0.764, 0.713, 0.764, 0.713,\n",
       "        0.764, 0.671, 0.764, 0.713, 0.764, 0.713, 0.764, 0.764, 0.764,\n",
       "        0.764, 0.764, 0.671, 0.686, 0.764, 0.764, 0.764, 0.764, 0.764,\n",
       "        0.781, 0.781, 0.764, 0.764, 0.764, 0.578, 0.764, 0.713, 0.713,\n",
       "        0.713, 0.643, 0.764, 0.713, 0.686, 0.713, 0.713, 0.764, 0.617,\n",
       "        0.764, 0.764, 0.597, 0.764, 0.713, 0.764, 0.713, 0.713, 0.764,\n",
       "        0.764, 0.713, 0.713, 0.764, 0.764, 0.686, 0.713, 0.764, 0.764,\n",
       "        0.764, 0.713, 0.781, 0.764, 0.781, 0.764, 0.764, 0.713, 0.764,\n",
       "        0.764, 0.764, 0.764, 0.764, 0.764, 0.764, 0.764, 0.713, 0.662,\n",
       "        0.686, 0.713, 0.764, 0.713, 0.764, 0.671, 0.686, 0.764, 0.713,\n",
       "        0.764, 0.764, 0.781, 0.781, 0.764, 0.781, 0.597, 0.764, 0.713,\n",
       "        0.624, 0.764, 0.764, 0.686, 0.764, 0.764, 0.781, 0.764, 0.764,\n",
       "        0.643, 0.764, 0.764, 0.643, 0.713, 0.764, 0.764, 0.764, 0.764,\n",
       "        0.764, 0.764, 0.713, 0.764, 0.764, 0.713, 0.764, 0.764, 0.721,\n",
       "        0.764, 0.713, 0.764, 0.764, 0.764, 0.721, 0.764, 0.713, 0.696,\n",
       "        0.764, 0.764, 0.764, 0.713, 0.781, 0.686, 0.764, 0.701, 0.721,\n",
       "        0.764, 0.764, 0.713, 0.764, 0.764, 0.764, 0.764, 0.713, 0.643,\n",
       "        0.764, 0.764, 0.671, 0.764, 0.764, 0.764, 0.764, 0.566, 0.764,\n",
       "        0.643, 0.764, 0.764, 0.686, 0.781, 0.713, 0.713, 0.764, 0.764,\n",
       "        0.764, 0.764, 0.593, 0.764, 0.764, 0.713, 0.713, 0.673, 0.713,\n",
       "        0.764, 0.713, 0.764, 0.671, 0.764, 0.764, 0.764, 0.566, 0.764,\n",
       "        0.764, 0.764, 0.764, 0.764, 0.764, 0.764, 0.764, 0.713, 0.764,\n",
       "        0.764, 0.721, 0.713, 0.764, 0.764, 0.597, 0.713, 0.764, 0.764,\n",
       "        0.713, 0.764, 0.671, 0.764, 0.781, 0.764, 0.764, 0.671, 0.713,\n",
       "        0.713, 0.764, 0.781, 0.781, 0.764, 0.781, 0.713, 0.721, 0.764,\n",
       "        0.764, 0.671, 0.764, 0.713, 0.713, 0.713, 0.713, 0.781, 0.764,\n",
       "        0.713, 0.764, 0.701, 0.764, 0.764, 0.713, 0.764, 0.713, 0.631,\n",
       "        0.764, 0.713, 0.671, 0.764, 0.781, 0.671, 0.764, 0.764, 0.764,\n",
       "        0.764, 0.597, 0.781, 0.764, 0.713, 0.764, 0.764, 0.713, 0.781,\n",
       "        0.764, 0.713, 0.764, 0.764, 0.764, 0.671, 0.686, 0.764, 0.764,\n",
       "        0.764, 0.764, 0.764, 0.713, 0.764, 0.764, 0.713, 0.764, 0.713,\n",
       "        0.713, 0.686, 0.764, 0.764, 0.713, 0.764, 0.713, 0.764, 0.764,\n",
       "        0.686, 0.764, 0.764, 0.597, 0.576, 0.781, 0.713, 0.752, 0.764,\n",
       "        0.764, 0.713, 0.764, 0.764, 0.713, 0.764, 0.764, 0.764, 0.671,\n",
       "        0.624, 0.764, 0.713, 0.713, 0.671, 0.764, 0.713, 0.713, 0.764,\n",
       "        0.764, 0.764, 0.674, 0.686, 0.764, 0.713, 0.752, 0.764, 0.701,\n",
       "        0.713, 0.721, 0.764, 0.713, 0.764, 0.764, 0.713, 0.661, 0.764,\n",
       "        0.764, 0.781, 0.764, 0.597, 0.713, 0.764, 0.713, 0.764, 0.764,\n",
       "        0.752, 0.7  , 0.764, 0.764, 0.764, 0.764, 0.764, 0.764, 0.713,\n",
       "        0.673, 0.713, 0.764, 0.764, 0.643, 0.764, 0.713, 0.639, 0.781,\n",
       "        0.713, 0.764, 0.764, 0.781, 0.764, 0.764, 0.764, 0.764, 0.764,\n",
       "        0.671, 0.764, 0.713, 0.764, 0.713, 0.764, 0.764, 0.764, 0.764,\n",
       "        0.713, 0.713, 0.721, 0.764, 0.764, 0.764, 0.764, 0.781, 0.764,\n",
       "        0.764, 0.764, 0.764, 0.713, 0.764, 0.643, 0.764, 0.581, 0.713,\n",
       "        0.764, 0.713, 0.671, 0.713, 0.764, 0.713, 0.781, 0.781, 0.824,\n",
       "        0.713, 0.764, 0.713, 0.764, 0.713, 0.764, 0.764, 0.764, 0.764,\n",
       "        0.713, 0.713, 0.764, 0.764, 0.624, 0.764, 0.713, 0.764, 0.721,\n",
       "        0.764, 0.764, 0.764, 0.711, 0.764, 0.764, 0.764, 0.764, 0.764,\n",
       "        0.624, 0.713, 0.781, 0.764, 0.764, 0.764, 0.624, 0.764, 0.764,\n",
       "        0.781, 0.713, 0.764, 0.671, 0.764, 0.566, 0.713, 0.764, 0.624,\n",
       "        0.713, 0.721, 0.764, 0.781, 0.713, 0.764, 0.764, 0.764, 0.671,\n",
       "        0.713, 0.713, 0.764, 0.713, 0.764, 0.764, 0.671, 0.713, 0.713,\n",
       "        0.764, 0.764, 0.721, 0.764, 0.713, 0.764, 0.764, 0.781, 0.764,\n",
       "        0.781, 0.713, 0.764, 0.671, 0.686, 0.713, 0.764, 0.764, 0.764,\n",
       "        0.764, 0.781, 0.701, 0.713, 0.713, 0.713, 0.764, 0.713, 0.694,\n",
       "        0.781, 0.764, 0.764, 0.713, 0.781, 0.764, 0.764, 0.764, 0.764,\n",
       "        0.764, 0.752, 0.764, 0.764, 0.764, 0.764, 0.764, 0.713, 0.764,\n",
       "        0.721, 0.686, 0.764, 0.593, 0.764, 0.764, 0.764, 0.764, 0.593,\n",
       "        0.711, 0.764, 0.781, 0.713, 0.713, 0.764, 0.752, 0.641, 0.764,\n",
       "        0.647, 0.781, 0.781, 0.764, 0.713, 0.643, 0.713, 0.764, 0.764,\n",
       "        0.764, 0.713, 0.764, 0.597, 0.764, 0.764, 0.643, 0.764, 0.764,\n",
       "        0.713, 0.764, 0.764, 0.764, 0.764, 0.764, 0.713, 0.764, 0.764,\n",
       "        0.764, 0.764, 0.764, 0.764, 0.764, 0.764, 0.597, 0.764, 0.713,\n",
       "        0.764, 0.764, 0.713, 0.713, 0.713, 0.686, 0.764, 0.713, 0.807,\n",
       "        0.566]))"
      ]
     },
     "execution_count": 27,
     "metadata": {},
     "output_type": "execute_result"
    }
   ],
   "source": [
    "prediction_file = f'{script_dir}/seq_prediction.txt'\n",
    "with open(prediction_file) as f:\n",
    "    outputs = f.read()\n",
    "\n",
    "results = [line.replace('SEQUENCE PREDICTIONS,', '').split(',') for line in outputs.split('\\n') if 'SEQUENCE PREDICTIONS,' in line]\n",
    "gen_seq_solubility_scores = np.array(results)[:, 2].astype(float)\n",
    "np.save(output_dir + 'pred_data.npy', gen_seq_solubility_scores)\n",
    "gen_seq_solubility_scores.shape, gen_seq_solubility_scores"
   ]
  },
  {
   "cell_type": "code",
   "execution_count": null,
   "id": "f9377a9e-fea1-4daa-ba28-fd87c3888795",
   "metadata": {},
   "outputs": [],
   "source": []
  },
  {
   "cell_type": "code",
   "execution_count": 15,
   "id": "d1caf60f-3093-4bec-b3c1-5d4d058dbbcd",
   "metadata": {},
   "outputs": [
    {
     "data": {
      "text/plain": [
       "'/home/hew/python/genhance/protein_sol/output//congen8_new_ddG_260000_[-40.0]_[1.0]/'"
      ]
     },
     "execution_count": 15,
     "metadata": {},
     "output_type": "execute_result"
    }
   ],
   "source": [
    "output_dir"
   ]
  },
  {
   "cell_type": "code",
   "execution_count": 16,
   "id": "8d1004b5-f0c5-4b8d-8e4f-263625d65e81",
   "metadata": {},
   "outputs": [
    {
     "data": {
      "text/plain": [
       "(1000,)"
      ]
     },
     "execution_count": 16,
     "metadata": {},
     "output_type": "execute_result"
    }
   ],
   "source": [
    "gen_seq_solubility_scores = np.load(output_dir + 'pred_data.npy')\n",
    "gen_seq_solubility_scores.shape"
   ]
  },
  {
   "cell_type": "code",
   "execution_count": null,
   "id": "87eb0c8d-f4f7-4446-b875-4b5c8359e1f4",
   "metadata": {},
   "outputs": [],
   "source": []
  },
  {
   "cell_type": "code",
   "execution_count": 17,
   "id": "d1a3f4f9-1ff5-4a4c-97da-2fe8d9c2858f",
   "metadata": {},
   "outputs": [
    {
     "data": {
      "text/plain": [
       "(0.554, 0.824, 0.7359129999999998)"
      ]
     },
     "execution_count": 17,
     "metadata": {},
     "output_type": "execute_result"
    },
    {
     "data": {
      "image/png": "[encoded data removed]",
      "text/plain": [
       "<Figure size 640x480 with 1 Axes>"
      ]
     },
     "metadata": {},
     "output_type": "display_data"
    }
   ],
   "source": [
    "plt.hist(gen_seq_solubility_scores)\n",
    "min(gen_seq_solubility_scores), max(gen_seq_solubility_scores), np.mean(gen_seq_solubility_scores)"
   ]
  },
  {
   "cell_type": "code",
   "execution_count": 33,
   "id": "72c476f2-e234-4909-8ab6-61b0e46f12cb",
   "metadata": {},
   "outputs": [
    {
     "data": {
      "text/plain": [
       "0"
      ]
     },
     "execution_count": 33,
     "metadata": {},
     "output_type": "execute_result"
    }
   ],
   "source": [
    "sum(gen_seq_solubility_scores > 0.89)"
   ]
  },
  {
   "cell_type": "code",
   "execution_count": null,
   "id": "17d8bdef-4fc1-40f1-a38f-a98788d05195",
   "metadata": {},
   "outputs": [],
   "source": []
  },
  {
   "cell_type": "code",
   "execution_count": 34,
   "id": "dcf90799-ca68-43d6-85c4-099c089d1ec8",
   "metadata": {},
   "outputs": [],
   "source": [
    "top1000 = gen_seq_solubility_scores[:1000]\n",
    "top100 = gen_seq_solubility_scores[:100]\n",
    "top10 = gen_seq_solubility_scores[:10]"
   ]
  },
  {
   "cell_type": "code",
   "execution_count": 44,
   "id": "cf474fdb-a259-4f77-9836-bc29de647035",
   "metadata": {
    "collapsed": false,
    "jupyter": {
     "outputs_hidden": false
    }
   },
   "outputs": [
    {
     "data": {
      "image/png": "[encoded data removed]",
      "text/plain": [
       "<Figure size 800x600 with 1 Axes>"
      ]
     },
     "metadata": {},
     "output_type": "display_data"
    }
   ],
   "source": [
    "interval = 0.01\n",
    "density = True\n",
    "plt.figure(figsize=(8, 6))\n",
    "plt.hist(top10, density=density, label='top10', bins=np.arange(0.6, 1, interval), alpha=0.4)\n",
    "plt.hist(top100, density=density, label='top100', bins=np.arange(0.6, 1, interval), alpha=0.4)\n",
    "plt.hist(top1000, density=density, label='top1000', bins=np.arange(0.6, 1, interval), alpha=0.4)\n",
    "plt.hist(train_data.solubility, density=density, label='125K train data', bins=np.arange(0.6, 0.9, interval), alpha=0.4)\n",
    "\n",
    "y_list = np.arange(0, 90)\n",
    "x_list = [0.764]*len(y_list)\n",
    "plt.plot(x_list, y_list, label='Wilde Type', color='r', alpha=0.4)\n",
    "y_list = np.arange(0, 90)\n",
    "x_list = [y_tau_max]*len(y_list)\n",
    "plt.plot(x_list, y_list, label='train best value', color='purple', alpha=0.4)\n",
    "\n",
    "plt.xlabel(\"Solubility Score\", size=14)\n",
    "plt.ylabel(\"Density\", size=14)\n",
    "# plt.title(f\"Top{topk} Generation Comparison\")\n",
    "plt.legend(loc='upper left')\n",
    "plt.ylim(0, 45)\n",
    "plt.savefig('./figures/gen_solubility_dist_topk.png', bbox_inches='tight')\n",
    "plt.savefig('./figures/gen_solubility_dist_topk.pdf', bbox_inches='tight')"
   ]
  },
  {
   "cell_type": "code",
   "execution_count": null,
   "id": "831cd0be-cd06-4fbf-8c06-71ca9f5519a4",
   "metadata": {},
   "outputs": [],
   "source": []
  },
  {
   "cell_type": "code",
   "execution_count": 292,
   "id": "d5fa82a3-5b80-4ee7-97b7-195fd050b63d",
   "metadata": {},
   "outputs": [
    {
     "name": "stdout",
     "output_type": "stream",
     "text": [
      "Hamming distance stats 1000\n",
      "max:  8\n",
      "min:  3\n",
      "median:  6.0\n",
      "mean:  5.939\n",
      "std:  1.2850210115013683\n",
      "CPU times: user 7.87 s, sys: 31.3 ms, total: 7.9 s\n",
      "Wall time: 7.91 s\n"
     ]
    },
    {
     "data": {
      "text/plain": [
       "250000"
      ]
     },
     "execution_count": 292,
     "metadata": {},
     "output_type": "execute_result"
    }
   ],
   "source": [
    "%%time\n",
    "\n",
    "def hamming_distance(seq1, seq2):\n",
    "    if len(seq1) != len(seq2):\n",
    "        raise ValueError(\"Sequences must have the same length\")\n",
    "    return sum(s1 != s2 for s1, s2 in zip(seq1, seq2))\n",
    "\n",
    "gen_seqs = topk_df.MT_seq.tolist()[:1000]\n",
    "WT_seq = 'STIEEQAKTFLDKFNHEAEDLFYQSSLASWNYNTNITEENVQNMNNAGDKWSAFLKEQSTLAQMYPLQEIQNLTVKLQLQALQ'\n",
    "hamming_dist_list = [hamming_distance(seq, WT_seq) for seq in gen_seqs]\n",
    "gen_train_hamming_dist_list = [hamming_distance(row['MT_seq'], WT_seq) for index, row in train_data.iterrows()]\n",
    "\n",
    "print(f\"Hamming distance stats {len(gen_seqs)}\")\n",
    "print(\"max: \", np.max(hamming_dist_list))\n",
    "print(\"min: \", np.min(hamming_dist_list))\n",
    "print(\"median: \", np.median(hamming_dist_list))\n",
    "print(\"mean: \", np.mean(hamming_dist_list))\n",
    "print(\"std: \", np.std(hamming_dist_list))\n",
    "len(gen_train_hamming_dist_list)"
   ]
  },
  {
   "cell_type": "code",
   "execution_count": 293,
   "id": "d7417189-7fa9-4c67-9a55-353a65981ef6",
   "metadata": {},
   "outputs": [
    {
     "data": {
      "image/png": "[encoded data removed]",
      "text/plain": [
       "<Figure size 800x600 with 1 Axes>"
      ]
     },
     "metadata": {},
     "output_type": "display_data"
    }
   ],
   "source": [
    "plt.figure(figsize=(8, 6))\n",
    "# plt.hist(hamming_dist_list, density=True, label='top1000 sequences', bins=[i for i in range(20)], alpha=0.4)\n",
    "# plt.hist(gen_train_hamming_dist_list, density=True, label='125K train data', bins=[i for i in range(20)], alpha=0.4)\n",
    "plt.hist(hamming_dist_list, density=True, label='top1000 sequences', alpha=0.4)\n",
    "plt.hist(gen_train_hamming_dist_list, density=True, label='250K train data', alpha=0.4)\n",
    "plt.xlabel(\"Hamming Distance\", size=14)\n",
    "plt.ylabel(\"Density\", size=14)\n",
    "# plt.title(\"Hamming Distance Distribution\")\n",
    "plt.legend(loc='upper left')\n",
    "plt.savefig('./figures/solubility_hamming_dist_top1000.png', bbox_inches='tight')\n",
    "plt.savefig('./figures/solubility_hamming_dist_top1000.pdf', bbox_inches='tight')"
   ]
  },
  {
   "cell_type": "code",
   "execution_count": null,
   "id": "55c88430-4b5b-4b10-bc37-bf88e7e39562",
   "metadata": {},
   "outputs": [],
   "source": []
  },
  {
   "cell_type": "code",
   "execution_count": 37,
   "id": "897db0cb-c3ad-40f1-9fad-fa9755b74325",
   "metadata": {},
   "outputs": [
    {
     "data": {
      "text/html": [
       "<div>\n",
       "<style scoped>\n",
       "    .dataframe tbody tr th:only-of-type {\n",
       "        vertical-align: middle;\n",
       "    }\n",
       "\n",
       "    .dataframe tbody tr th {\n",
       "        vertical-align: top;\n",
       "    }\n",
       "\n",
       "    .dataframe thead th {\n",
       "        text-align: right;\n",
       "    }\n",
       "</style>\n",
       "<table border=\"1\" class=\"dataframe\">\n",
       "  <thead>\n",
       "    <tr style=\"text-align: right;\">\n",
       "      <th></th>\n",
       "      <th>Train Data</th>\n",
       "      <th>Top1000</th>\n",
       "      <th>Top100</th>\n",
       "      <th>Top10</th>\n",
       "    </tr>\n",
       "  </thead>\n",
       "  <tbody>\n",
       "    <tr>\n",
       "      <th>count</th>\n",
       "      <td>250000.000000</td>\n",
       "      <td>1000.000000</td>\n",
       "      <td>100.000000</td>\n",
       "      <td>10.000000</td>\n",
       "    </tr>\n",
       "    <tr>\n",
       "      <th>mean</th>\n",
       "      <td>0.751245</td>\n",
       "      <td>0.735913</td>\n",
       "      <td>0.730020</td>\n",
       "      <td>0.726700</td>\n",
       "    </tr>\n",
       "    <tr>\n",
       "      <th>std</th>\n",
       "      <td>0.040108</td>\n",
       "      <td>0.043927</td>\n",
       "      <td>0.038811</td>\n",
       "      <td>0.052555</td>\n",
       "    </tr>\n",
       "    <tr>\n",
       "      <th>min</th>\n",
       "      <td>0.501000</td>\n",
       "      <td>0.554000</td>\n",
       "      <td>0.624000</td>\n",
       "      <td>0.624000</td>\n",
       "    </tr>\n",
       "    <tr>\n",
       "      <th>25%</th>\n",
       "      <td>0.713000</td>\n",
       "      <td>0.713000</td>\n",
       "      <td>0.713000</td>\n",
       "      <td>0.684500</td>\n",
       "    </tr>\n",
       "    <tr>\n",
       "      <th>50%</th>\n",
       "      <td>0.764000</td>\n",
       "      <td>0.764000</td>\n",
       "      <td>0.752000</td>\n",
       "      <td>0.764000</td>\n",
       "    </tr>\n",
       "    <tr>\n",
       "      <th>75%</th>\n",
       "      <td>0.781000</td>\n",
       "      <td>0.764000</td>\n",
       "      <td>0.764000</td>\n",
       "      <td>0.764000</td>\n",
       "    </tr>\n",
       "    <tr>\n",
       "      <th>max</th>\n",
       "      <td>0.933000</td>\n",
       "      <td>0.824000</td>\n",
       "      <td>0.764000</td>\n",
       "      <td>0.764000</td>\n",
       "    </tr>\n",
       "  </tbody>\n",
       "</table>\n",
       "</div>"
      ],
      "text/plain": [
       "          Train Data      Top1000      Top100      Top10\n",
       "count  250000.000000  1000.000000  100.000000  10.000000\n",
       "mean        0.751245     0.735913    0.730020   0.726700\n",
       "std         0.040108     0.043927    0.038811   0.052555\n",
       "min         0.501000     0.554000    0.624000   0.624000\n",
       "25%         0.713000     0.713000    0.713000   0.684500\n",
       "50%         0.764000     0.764000    0.752000   0.764000\n",
       "75%         0.781000     0.764000    0.764000   0.764000\n",
       "max         0.933000     0.824000    0.764000   0.764000"
      ]
     },
     "execution_count": 37,
     "metadata": {},
     "output_type": "execute_result"
    }
   ],
   "source": [
    "train_stats = pd.DataFrame(train_data.solubility).describe()\n",
    "top1000_stats = pd.DataFrame(top1000).describe()\n",
    "top100_stats = pd.DataFrame(top100).describe()\n",
    "top10_stats = pd.DataFrame(top10).describe()\n",
    "stats_df = pd.concat([train_stats, top1000_stats, top100_stats, top10_stats], axis=1)\n",
    "stats_df.columns=['Train Data', 'Top1000', 'Top100', 'Top10']\n",
    "stats_df"
   ]
  },
  {
   "cell_type": "code",
   "execution_count": 38,
   "id": "675d856a-e240-41bb-956e-c4b0f893c2cb",
   "metadata": {},
   "outputs": [
    {
     "data": {
      "text/plain": [
       "(0.933, 0.7512453239999999, 0.764, 0.764)"
      ]
     },
     "execution_count": 38,
     "metadata": {},
     "output_type": "execute_result"
    }
   ],
   "source": [
    "y_tau_max = stats_df['Train Data']['max']\n",
    "y_tau_mean = stats_df['Train Data']['mean']\n",
    "y_tau_median = np.median(train_data.solubility)\n",
    "y_tau_WT = 0.764\n",
    "y_tau_max, y_tau_mean, y_tau_median, y_tau_WT"
   ]
  },
  {
   "cell_type": "code",
   "execution_count": null,
   "id": "8e14bb34-fa49-44f6-acb1-b9aa0497eb97",
   "metadata": {},
   "outputs": [],
   "source": []
  },
  {
   "cell_type": "code",
   "execution_count": null,
   "id": "3304f27e-3cea-4624-8db3-1ea84675c494",
   "metadata": {},
   "outputs": [],
   "source": []
  },
  {
   "cell_type": "markdown",
   "id": "65cb29ab-8dd9-469a-89d1-a8d566362602",
   "metadata": {},
   "source": [
    "## metrics"
   ]
  },
  {
   "cell_type": "code",
   "execution_count": 39,
   "id": "a021c3a0-aaab-473c-b818-80587fc9ba1b",
   "metadata": {},
   "outputs": [],
   "source": [
    "def PCI_max(topk_list):\n",
    "    PCI_a = sum(topk_list > y_tau_max)/len(topk_list)*100\n",
    "    return f'{PCI_a}%'\n",
    "\n",
    "def PCI_mean(topk_list):\n",
    "    PCI_a = sum(topk_list > y_tau_mean)/len(topk_list)*100\n",
    "    return f'{PCI_a}%'\n",
    "\n",
    "def PCI_median(topk_list):\n",
    "    PCI_a = sum(topk_list > y_tau_median)/len(topk_list)*100\n",
    "    return f'{PCI_a}%'\n",
    "\n",
    "def PCI_WT(topk_list):\n",
    "    PCI_a = sum(topk_list > y_tau_WT)/len(topk_list)*100\n",
    "    return f'{PCI_a}%'"
   ]
  },
  {
   "cell_type": "code",
   "execution_count": 40,
   "id": "e5d9e348-b430-4241-a4f2-dc143fcb9b3c",
   "metadata": {},
   "outputs": [
    {
     "data": {
      "text/plain": [
       "('0.0%', '0.0%', '0.0%')"
      ]
     },
     "execution_count": 40,
     "metadata": {},
     "output_type": "execute_result"
    }
   ],
   "source": [
    "PCI_max(top1000), PCI_max(top100), PCI_max(top10)"
   ]
  },
  {
   "cell_type": "code",
   "execution_count": 41,
   "id": "078169f1-3524-4524-b422-d7af4dc5ffa8",
   "metadata": {},
   "outputs": [
    {
     "data": {
      "text/plain": [
       "('60.9%', '52.0%', '60.0%')"
      ]
     },
     "execution_count": 41,
     "metadata": {},
     "output_type": "execute_result"
    }
   ],
   "source": [
    "PCI_mean(top1000), PCI_mean(top100), PCI_mean(top10)"
   ]
  },
  {
   "cell_type": "code",
   "execution_count": 42,
   "id": "ee3bafc3-9ced-48d6-9ca4-6495db19e731",
   "metadata": {},
   "outputs": [
    {
     "data": {
      "text/plain": [
       "('5.800000000000001%', '0.0%', '0.0%')"
      ]
     },
     "execution_count": 42,
     "metadata": {},
     "output_type": "execute_result"
    }
   ],
   "source": [
    "PCI_median(top1000), PCI_median(top100), PCI_median(top10)"
   ]
  },
  {
   "cell_type": "code",
   "execution_count": 43,
   "id": "fd9b456d-8564-4384-b540-d8ed7ffbcd58",
   "metadata": {},
   "outputs": [
    {
     "data": {
      "text/plain": [
       "('5.800000000000001%', '0.0%', '0.0%')"
      ]
     },
     "execution_count": 43,
     "metadata": {},
     "output_type": "execute_result"
    }
   ],
   "source": [
    "PCI_WT(top1000), PCI_WT(top100), PCI_WT(top10)"
   ]
  },
  {
   "cell_type": "code",
   "execution_count": null,
   "id": "e65bcf5e-a8b0-49d2-9328-ff0561e44067",
   "metadata": {},
   "outputs": [],
   "source": []
  },
  {
   "cell_type": "code",
   "execution_count": 45,
   "id": "d8f5c850-0969-4113-835a-fdbddf49f90f",
   "metadata": {},
   "outputs": [],
   "source": [
    "# train_stats_list = [y_tau_max, y_tau_mean, y_tau_median, y_tau_WT]\n",
    "PCI_max_list = [PCI_max(top1000), PCI_max(top100), PCI_max(top10)]\n",
    "PCI_mean_list = [PCI_mean(top1000), PCI_mean(top100), PCI_mean(top10)]\n",
    "PCI_median_list = [PCI_median(top1000), PCI_median(top100), PCI_median(top10)]\n",
    "PCI_WT_list = [PCI_WT(top1000), PCI_WT(top100), PCI_WT(top10)]\n",
    "PCI_df = pd.DataFrame([PCI_max_list, PCI_mean_list, PCI_median_list, PCI_WT_list], columns=['top1000', 'top100', 'top10'], index=['PCI_max', 'PCI_mean', 'PCI_median', 'PCI_wt'])"
   ]
  },
  {
   "cell_type": "code",
   "execution_count": 46,
   "id": "7a6e8619-42e3-45a0-9c7c-968ce57c7a03",
   "metadata": {},
   "outputs": [
    {
     "data": {
      "text/html": [
       "<div>\n",
       "<style scoped>\n",
       "    .dataframe tbody tr th:only-of-type {\n",
       "        vertical-align: middle;\n",
       "    }\n",
       "\n",
       "    .dataframe tbody tr th {\n",
       "        vertical-align: top;\n",
       "    }\n",
       "\n",
       "    .dataframe thead th {\n",
       "        text-align: right;\n",
       "    }\n",
       "</style>\n",
       "<table border=\"1\" class=\"dataframe\">\n",
       "  <thead>\n",
       "    <tr style=\"text-align: right;\">\n",
       "      <th></th>\n",
       "      <th>top1000</th>\n",
       "      <th>top100</th>\n",
       "      <th>top10</th>\n",
       "    </tr>\n",
       "  </thead>\n",
       "  <tbody>\n",
       "    <tr>\n",
       "      <th>PCI_max</th>\n",
       "      <td>0.0%</td>\n",
       "      <td>0.0%</td>\n",
       "      <td>0.0%</td>\n",
       "    </tr>\n",
       "    <tr>\n",
       "      <th>PCI_mean</th>\n",
       "      <td>60.9%</td>\n",
       "      <td>52.0%</td>\n",
       "      <td>60.0%</td>\n",
       "    </tr>\n",
       "    <tr>\n",
       "      <th>PCI_median</th>\n",
       "      <td>5.800000000000001%</td>\n",
       "      <td>0.0%</td>\n",
       "      <td>0.0%</td>\n",
       "    </tr>\n",
       "    <tr>\n",
       "      <th>PCI_wt</th>\n",
       "      <td>5.800000000000001%</td>\n",
       "      <td>0.0%</td>\n",
       "      <td>0.0%</td>\n",
       "    </tr>\n",
       "  </tbody>\n",
       "</table>\n",
       "</div>"
      ],
      "text/plain": [
       "                       top1000 top100  top10\n",
       "PCI_max                   0.0%   0.0%   0.0%\n",
       "PCI_mean                 60.9%  52.0%  60.0%\n",
       "PCI_median  5.800000000000001%   0.0%   0.0%\n",
       "PCI_wt      5.800000000000001%   0.0%   0.0%"
      ]
     },
     "execution_count": 46,
     "metadata": {},
     "output_type": "execute_result"
    }
   ],
   "source": [
    "PCI_df"
   ]
  },
  {
   "cell_type": "code",
   "execution_count": 47,
   "id": "625955b6-aaf8-4e5d-84a2-30fc6f224752",
   "metadata": {},
   "outputs": [
    {
     "data": {
      "text/html": [
       "<div>\n",
       "<style scoped>\n",
       "    .dataframe tbody tr th:only-of-type {\n",
       "        vertical-align: middle;\n",
       "    }\n",
       "\n",
       "    .dataframe tbody tr th {\n",
       "        vertical-align: top;\n",
       "    }\n",
       "\n",
       "    .dataframe thead th {\n",
       "        text-align: right;\n",
       "    }\n",
       "</style>\n",
       "<table border=\"1\" class=\"dataframe\">\n",
       "  <thead>\n",
       "    <tr style=\"text-align: right;\">\n",
       "      <th></th>\n",
       "      <th>Train Data</th>\n",
       "      <th>Top1000</th>\n",
       "      <th>Top100</th>\n",
       "      <th>Top10</th>\n",
       "    </tr>\n",
       "  </thead>\n",
       "  <tbody>\n",
       "    <tr>\n",
       "      <th>count</th>\n",
       "      <td>250000.000000</td>\n",
       "      <td>1000.000000</td>\n",
       "      <td>100.000000</td>\n",
       "      <td>10.000000</td>\n",
       "    </tr>\n",
       "    <tr>\n",
       "      <th>mean</th>\n",
       "      <td>0.751245</td>\n",
       "      <td>0.735913</td>\n",
       "      <td>0.730020</td>\n",
       "      <td>0.726700</td>\n",
       "    </tr>\n",
       "    <tr>\n",
       "      <th>std</th>\n",
       "      <td>0.040108</td>\n",
       "      <td>0.043927</td>\n",
       "      <td>0.038811</td>\n",
       "      <td>0.052555</td>\n",
       "    </tr>\n",
       "    <tr>\n",
       "      <th>min</th>\n",
       "      <td>0.501000</td>\n",
       "      <td>0.554000</td>\n",
       "      <td>0.624000</td>\n",
       "      <td>0.624000</td>\n",
       "    </tr>\n",
       "    <tr>\n",
       "      <th>25%</th>\n",
       "      <td>0.713000</td>\n",
       "      <td>0.713000</td>\n",
       "      <td>0.713000</td>\n",
       "      <td>0.684500</td>\n",
       "    </tr>\n",
       "    <tr>\n",
       "      <th>50%</th>\n",
       "      <td>0.764000</td>\n",
       "      <td>0.764000</td>\n",
       "      <td>0.752000</td>\n",
       "      <td>0.764000</td>\n",
       "    </tr>\n",
       "    <tr>\n",
       "      <th>75%</th>\n",
       "      <td>0.781000</td>\n",
       "      <td>0.764000</td>\n",
       "      <td>0.764000</td>\n",
       "      <td>0.764000</td>\n",
       "    </tr>\n",
       "    <tr>\n",
       "      <th>max</th>\n",
       "      <td>0.933000</td>\n",
       "      <td>0.824000</td>\n",
       "      <td>0.764000</td>\n",
       "      <td>0.764000</td>\n",
       "    </tr>\n",
       "  </tbody>\n",
       "</table>\n",
       "</div>"
      ],
      "text/plain": [
       "          Train Data      Top1000      Top100      Top10\n",
       "count  250000.000000  1000.000000  100.000000  10.000000\n",
       "mean        0.751245     0.735913    0.730020   0.726700\n",
       "std         0.040108     0.043927    0.038811   0.052555\n",
       "min         0.501000     0.554000    0.624000   0.624000\n",
       "25%         0.713000     0.713000    0.713000   0.684500\n",
       "50%         0.764000     0.764000    0.752000   0.764000\n",
       "75%         0.781000     0.764000    0.764000   0.764000\n",
       "max         0.933000     0.824000    0.764000   0.764000"
      ]
     },
     "execution_count": 47,
     "metadata": {},
     "output_type": "execute_result"
    }
   ],
   "source": [
    "stats_df"
   ]
  },
  {
   "cell_type": "code",
   "execution_count": null,
   "id": "e5f3e88f-fab5-4f10-878a-904548d45951",
   "metadata": {},
   "outputs": [],
   "source": []
  },
  {
   "cell_type": "code",
   "execution_count": null,
   "id": "a4eb2d6c-9e51-46ae-b37d-1a55c44c554d",
   "metadata": {},
   "outputs": [],
   "source": []
  },
  {
   "cell_type": "code",
   "execution_count": 49,
   "id": "a2f8e568-f556-4da2-a523-1764f20f08f5",
   "metadata": {},
   "outputs": [],
   "source": [
    "def hamming_distance(seq1, seq2):\n",
    "    if len(seq1) != len(seq2):\n",
    "        raise ValueError(\"Sequences must have the same length\")\n",
    "    return sum(s1 != s2 for s1, s2 in zip(seq1, seq2))\n",
    "\n",
    "def Diversity(gen_seqs):\n",
    "    distances = []\n",
    "    for i, seq_i in enumerate(gen_seqs):\n",
    "        for j, seq_j in enumerate(gen_seqs):\n",
    "            if i!=j:\n",
    "                distances.append(hamming_distance(seq_i, seq_j))\n",
    "    return np.mean(distances)\n",
    "\n",
    "def worker(args):\n",
    "    genseq, trainseqs = args\n",
    "    mindist = np.min([hamming_distance(genseq, trainseq) for trainseq in trainseqs])\n",
    "    return mindist\n",
    "\n",
    "def Novelty(genseqs, trainseqs):\n",
    "    with Pool(cpu_count()) as pool:\n",
    "        avgdist = list(tqdm(pool.imap(worker, [(genseq, trainseqs) for genseq in genseqs]), total=len(genseqs)))\n",
    "    return np.mean(avgdist)"
   ]
  },
  {
   "cell_type": "code",
   "execution_count": 56,
   "id": "7cb6261b-a362-4748-b1a8-c8fd44bf2fae",
   "metadata": {},
   "outputs": [],
   "source": [
    "gen_seqs = topk_df.MT_seq.tolist()[:10]"
   ]
  },
  {
   "cell_type": "code",
   "execution_count": 57,
   "id": "f980e556-cdcc-4f7c-bc81-55d231a64531",
   "metadata": {},
   "outputs": [
    {
     "data": {
      "text/plain": [
       "8.733333333333333"
      ]
     },
     "execution_count": 57,
     "metadata": {},
     "output_type": "execute_result"
    }
   ],
   "source": [
    "Diversity(gen_seqs)"
   ]
  },
  {
   "cell_type": "code",
   "execution_count": 58,
   "id": "4be59b3d-2328-43d7-ab48-801e35da4139",
   "metadata": {},
   "outputs": [
    {
     "name": "stderr",
     "output_type": "stream",
     "text": [
      "100%|██████████| 10/10 [00:02<00:00,  3.72it/s]\n"
     ]
    },
    {
     "data": {
      "text/plain": [
       "5.2"
      ]
     },
     "execution_count": 58,
     "metadata": {},
     "output_type": "execute_result"
    }
   ],
   "source": [
    "Novelty(gen_seqs, train_data.MT_seq)"
   ]
  },
  {
   "cell_type": "code",
   "execution_count": null,
   "id": "8676c1a9-17f0-4394-baa4-13bd90c6866b",
   "metadata": {},
   "outputs": [],
   "source": []
  },
  {
   "cell_type": "code",
   "execution_count": null,
   "id": "4cfc587e-4883-4cc6-87c3-4343819e6506",
   "metadata": {},
   "outputs": [],
   "source": []
  }
 ],
 "metadata": {
  "kernelspec": {
   "display_name": "Python [conda env:hwj] *",
   "language": "python",
   "name": "conda-env-hwj-py"
  },
  "language_info": {
   "codemirror_mode": {
    "name": "ipython",
    "version": 3
   },
   "file_extension": ".py",
   "mimetype": "text/x-python",
   "name": "python",
   "nbconvert_exporter": "python",
   "pygments_lexer": "ipython3",
   "version": "3.11.2"
  }
 },
 "nbformat": 4,
 "nbformat_minor": 5
}
