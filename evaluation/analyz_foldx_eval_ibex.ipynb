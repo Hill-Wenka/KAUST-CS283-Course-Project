{
 "cells": [
  {
   "cell_type": "code",
   "execution_count": 1,
   "id": "d499f78f-0a9b-40fd-bb96-186c09d914a9",
   "metadata": {},
   "outputs": [
    {
     "name": "stdout",
     "output_type": "stream",
     "text": [
      "6lzg_Repair.pdb                \u001b[0m\u001b[38;5;27mmolecules\u001b[0m/\n",
      "analyze_new_data.ipynb         \u001b[38;5;27mnew_train_data\u001b[0m/\n",
      "analyz_foldx_eval_ibex.ipynb   \u001b[38;5;27mold_train_data\u001b[0m/\n",
      "analyz_foldx_train_ibex.ipynb  prepare foldx input.ipynb\n",
      "\u001b[38;5;27mdownload_model\u001b[0m/                rotabase.txt\n",
      "\u001b[38;5;27mfigures\u001b[0m/                       run_foldx_eval_ibex.ipynb\n",
      "\u001b[38;5;34mfoldx_20231231\u001b[0m*                run_foldx_top_ibex.ipynb\n",
      "\u001b[38;5;27mfoldx_input\u001b[0m/                   run_foldx_train_ibex.ipynb\n",
      "\u001b[38;5;27mfoldx_output\u001b[0m/                  \u001b[38;5;27mtemp\u001b[0m/\n",
      "\u001b[38;5;27mgen_data\u001b[0m/\n"
     ]
    }
   ],
   "source": [
    "%ls"
   ]
  },
  {
   "cell_type": "code",
   "execution_count": 2,
   "id": "1d54dced-8a4f-4b09-9412-68f9550f4d41",
   "metadata": {},
   "outputs": [],
   "source": [
    "import os\n",
    "import io\n",
    "import pickle\n",
    "import numpy as np\n",
    "import pandas as pd\n",
    "import matplotlib.pyplot as plt\n",
    "import multiprocessing\n",
    "from tqdm import tqdm\n",
    "from multiprocessing import Pool, cpu_count"
   ]
  },
  {
   "cell_type": "code",
   "execution_count": null,
   "id": "dc590903-e825-474e-a35b-e6d5ef9ea454",
   "metadata": {},
   "outputs": [],
   "source": []
  },
  {
   "cell_type": "markdown",
   "id": "90a4f887-dcb8-4270-88b5-57f12d128b3a",
   "metadata": {
    "tags": []
   },
   "source": [
    "### current conclusion\n",
    "\n",
    "1. ddG (congen2 6+6 layer) -1.0, -1.5, -2.0, 3种perturb方案差别不大，结果几乎一样，它们三个的top100集合有90%的序列相同，它们的min都大于-8\n",
    "2. ddG (congen5 6+6 layer) -1.0 + cycle perturbation 差别很大，感觉性能会高一些的，尽管均值差不多，但是方差大，它的top100和前三个集合没有序列相同，最小值达到了-10\n",
    "3. ddG (congen2 6+6 layer) -1.0 + high generation temperature 差别很大，整体性能比1.中的三个好，min值有-8，mean值也更小-4.77，top100仅有10%的序列相同\n",
    "4. ddG (congen4 6+6 layer) -1.0 + co-optimization ddG top100，整体性能次最差，mean -3.43，生成的top100与1. 2. 3. 中的都不重合，最diverse，应该说受solubility的影响\n",
    "5. ddG (congen4 6+6 layer) -1.0 + co-optimization ddG_solubility_avg top100，整体性能最差，mean -2.28，生成的top100与1. 2. 3. 中的都不重合，与4.有84%重序列相同\n",
    "6. ddG -2.0 两个版本的对比说明foldx的评估结果很相似，几乎一样，说明foldx预测结果其实比较稳定，方差比想象中要小"
   ]
  },
  {
   "cell_type": "markdown",
   "id": "dbf3063c-d0d0-480c-b884-37e30379e0e1",
   "metadata": {
    "tags": []
   },
   "source": [
    "### new conclusion\n",
    "\n",
    "1. ddG (congen7 24+24 layer) -1.1, 基本上复现了原论文的结果，可视化的分布图基本上重合了，指标上的数值略差估计是因为调参等原因\n",
    "2. ddG (congen8 6+6 layer) -1.1, congen7的mini版，主要是因为时间和资源有限，想看看能达到什么样的效果，基本上比论文结果差一截，看来层数还是很重要\n",
    "3. 期间生成序列时发现对于新的dataset而言，lm loss感觉训练得更好了，生成的序列更加保守了\n",
    "4. ddG (congen8 6+6 layer) -1.1, -2.2, -3.3, 之间的对比说明扰动的幅度好像是对性能有影响的，-2.2 mean最好，但是影响的程度不大明显\n",
    "5. ddG (congen8 6+6 layer) -1.1, -2.2, -3.3, -4.4, -8.0, -12.0, -16.0, -20.0 之间的对比说明的确是幅度越大性能越好\n",
    "- 以上结果均基于temperature_init=2.0, temperature_multiple=1.003的设定而生成的序列\n",
    "\n",
    "1. 考虑使用2.0, 3.0, 4.0, 5.0的temperature生成序列，high temperature的结果更差，估计使用1.0是最好的，但是很慢，这个balance需要权衡"
   ]
  },
  {
   "cell_type": "code",
   "execution_count": null,
   "id": "471e1225-8559-4875-a9b2-5459e58cd2cb",
   "metadata": {},
   "outputs": [],
   "source": []
  },
  {
   "cell_type": "code",
   "execution_count": null,
   "id": "980cda65-726a-41e1-b91f-5a480d7adbc4",
   "metadata": {},
   "outputs": [],
   "source": []
  },
  {
   "cell_type": "markdown",
   "id": "900c5d3f-fe59-4bf7-84ed-3d56a8a7060e",
   "metadata": {
    "tags": []
   },
   "source": [
    "## setting"
   ]
  },
  {
   "cell_type": "code",
   "execution_count": 3,
   "id": "a861e472-8a8d-444f-83cc-69fb42500069",
   "metadata": {},
   "outputs": [
    {
     "data": {
      "text/plain": [
       "'/home/hew/python/genhance/foldx/foldx_output/'"
      ]
     },
     "execution_count": 3,
     "metadata": {},
     "output_type": "execute_result"
    }
   ],
   "source": [
    "foldx_dir = '/home/hew/python/genhance/foldx/'\n",
    "foldx_exe_path = foldx_dir + 'foldx_20231231'\n",
    "numberOfRuns = 5\n",
    "foldx_command = '-c BuildModel --numberOfRuns {} --pdb=6lzg_Repair.pdb --mutant-file={} --output-dir={}'\n",
    "submit_script = 'sbatch --job-name={} --output={}%j.out --error={}%j.err --time=10:00 {}'\n",
    "eval_input_dir = foldx_dir + 'foldx_input/'\n",
    "eval_output_dir = foldx_dir + 'foldx_output/'\n",
    "eval_output_dir"
   ]
  },
  {
   "cell_type": "code",
   "execution_count": 4,
   "id": "3d892909-9955-4b0c-a21f-c09f7de8369c",
   "metadata": {},
   "outputs": [
    {
     "data": {
      "text/plain": [
       "['congen2_260000_[-1.0]',\n",
       " 'congen5_260000_[-1.0]_copy',\n",
       " 'congen2_260000_[-2.0]',\n",
       " 'congen2_260000_[-1.5]',\n",
       " 'congen5_260000_[-1.0]',\n",
       " 'congen4_250000_[-1.0]',\n",
       " 'congen2_250000_[-1.0]',\n",
       " '.ipynb_checkpoints',\n",
       " 'congen2_260000_[-2.0]_copy',\n",
       " 'congen4_250000_[-1.0]_avg',\n",
       " 'congen8_new_ddG_260000_[-2.2]_[5.0]',\n",
       " 'congen8_new_ddG_260000_[-8.0]_[2.0]',\n",
       " 'congen8_new_ddG_260000_[-2.2]_[6.0]',\n",
       " 'congen8_new_ddG_260000_[-4.4]_[2.0]',\n",
       " 'congen8_new_ddG_260000_[-2.2]_[2.0]',\n",
       " 'congen8_new_ddG_260000_[-12.0]_[2.0]',\n",
       " 'congen8_new_ddG_260000_[-1.1]_[2.0]',\n",
       " 'congen7_new_ddG_260000_[-1.1]_[2.0]',\n",
       " 'congen8_new_ddG_260000_[-2.2]_[4.0]',\n",
       " 'congen8_new_ddG_260000_[-3.3]_[2.0]',\n",
       " 'congen8_new_ddG_260000_[-2.2]_[3.0]',\n",
       " 'congen8_new_ddG_260000_[-16.0]_[2.0]',\n",
       " 'congen8_new_ddG_260000_[-20.0]_[2.0]',\n",
       " 'congen8_new_ddG_260000_[-40.0]_[2.0]',\n",
       " 'congen8_new_ddG_260000_[-40.0]_[2.0]_top1000',\n",
       " 'congen8_new_ddG_260000_[-40.0]_[2.0]_Emin',\n",
       " 'congen8_new_ddG_260000_[-30.0]_[2.0]',\n",
       " 'congen8_new_ddG_260000_[-40.0]_[1.0]',\n",
       " 'congen8_new_ddG_260000_[-40.0]_[1.0]_top1000',\n",
       " 'congen10_new_ddG_solubility_6_layer_gens_step_final_[-40.0]_[1.0]_[1.0]_top1000',\n",
       " 'congen9_new_solubility_6_layer_gens_step_final_[1.0]_[1.0]',\n",
       " 'congen10_new_ddG_solubility_6_layer_gens_step_final_[-30.0]_[1.0]_[1.0]_top1000',\n",
       " 'congen10_new_ddG_solubility_6_layer_gens_step_final_[-40.0]_[1.0]_[1.0]_ddG_top1000',\n",
       " 'congen10_new_ddG_solubility_6_layer_gens_step_final_[-40.0]_[1.0]_[1.0]_ddG_top100',\n",
       " 'congen10_new_ddG_solubility_6_layer_gens_step_final_[-30.0]_[1.0]_[1.0]_ddG_top100',\n",
       " 'congen10_new_ddG_solubility_6_layer_gens_step_final_[-30.0]_[1.0]_[1.0]_ddG_top1000']"
      ]
     },
     "execution_count": 4,
     "metadata": {},
     "output_type": "execute_result"
    }
   ],
   "source": [
    "input_list = [d for d in os.listdir(eval_output_dir) if os.path.isdir(os.path.join(eval_output_dir, d))]\n",
    "input_list"
   ]
  },
  {
   "cell_type": "code",
   "execution_count": 16,
   "id": "e09da1a7-fe43-4513-b7bf-0f11c97bbf4f",
   "metadata": {},
   "outputs": [
    {
     "data": {
      "text/plain": [
       "'/home/hew/python/genhance/foldx/foldx_output//congen8_new_ddG_260000_[-40.0]_[1.0]_top1000/'"
      ]
     },
     "execution_count": 16,
     "metadata": {},
     "output_type": "execute_result"
    }
   ],
   "source": [
    "input_index = -8\n",
    "output_dir = f'{eval_output_dir}/{input_list[input_index]}/'\n",
    "output_dir"
   ]
  },
  {
   "cell_type": "code",
   "execution_count": null,
   "id": "8bbbe799-e40d-4067-8d0c-763bfda3581c",
   "metadata": {},
   "outputs": [],
   "source": []
  },
  {
   "cell_type": "markdown",
   "id": "8232c924-687a-4157-a9a6-bee8bdeff298",
   "metadata": {},
   "source": [
    "## load train data"
   ]
  },
  {
   "cell_type": "code",
   "execution_count": 17,
   "id": "18b42e4d-d7f2-4df3-a544-5049c4d9cbd4",
   "metadata": {},
   "outputs": [
    {
     "data": {
      "text/plain": [
       "(-8.44902, 60.6313, 5.958470991966364, -6.15326)"
      ]
     },
     "execution_count": 17,
     "metadata": {},
     "output_type": "execute_result"
    }
   ],
   "source": [
    "# train_data_path = foldx_dir + 'old_train_data/train_tophalf_ddG_solubility.pkl'\n",
    "train_data_path = foldx_dir + 'new_train_data/train_new_all_data.pkl'\n",
    "train_data = open(train_data_path, 'rb')\n",
    "train_data = pickle.load(train_data)\n",
    "train_data_ddG = train_data.ddG\n",
    "\n",
    "# np.min(train_data_ddG) = -8.44902，属于离群点\n",
    "\n",
    "np.min(train_data_ddG), np.max(train_data_ddG), np.mean(train_data_ddG), min(train_data.sort_values(by='ddG', ascending=True)[1:].ddG)"
   ]
  },
  {
   "cell_type": "code",
   "execution_count": 18,
   "id": "a9e6713e-2338-43c3-8c22-6fb656b13089",
   "metadata": {},
   "outputs": [
    {
     "data": {
      "text/html": [
       "<div>\n",
       "<style scoped>\n",
       "    .dataframe tbody tr th:only-of-type {\n",
       "        vertical-align: middle;\n",
       "    }\n",
       "\n",
       "    .dataframe tbody tr th {\n",
       "        vertical-align: top;\n",
       "    }\n",
       "\n",
       "    .dataframe thead th {\n",
       "        text-align: right;\n",
       "    }\n",
       "</style>\n",
       "<table border=\"1\" class=\"dataframe\">\n",
       "  <thead>\n",
       "    <tr style=\"text-align: right;\">\n",
       "      <th></th>\n",
       "      <th>PDB</th>\n",
       "      <th>Chain</th>\n",
       "      <th>Start_index</th>\n",
       "      <th>WT_seq</th>\n",
       "      <th>MT_seq</th>\n",
       "      <th>solubility</th>\n",
       "      <th>ddG</th>\n",
       "      <th>ddG_std</th>\n",
       "      <th>ddG_rank</th>\n",
       "      <th>solubility_rank</th>\n",
       "      <th>avg_rank</th>\n",
       "    </tr>\n",
       "  </thead>\n",
       "  <tbody>\n",
       "    <tr>\n",
       "      <th>166709</th>\n",
       "      <td>template2.pdb</td>\n",
       "      <td>A</td>\n",
       "      <td>19</td>\n",
       "      <td>STIEEQAKTFLDKFNHEAEDLFYQSSLASWNYNTNITEENVQNMNN...</td>\n",
       "      <td>STIEEQAKYFLLKFNHEAEDLFYQSSLAKWNYNTNITEENVQYMNN...</td>\n",
       "      <td>0.624</td>\n",
       "      <td>-8.44902</td>\n",
       "      <td>0.526837</td>\n",
       "      <td>1.0</td>\n",
       "      <td>247826.0</td>\n",
       "      <td>123913.50</td>\n",
       "    </tr>\n",
       "    <tr>\n",
       "      <th>218948</th>\n",
       "      <td>template2.pdb</td>\n",
       "      <td>A</td>\n",
       "      <td>19</td>\n",
       "      <td>STIEEQAKTFLDKFNHEAEDLFYQSSLASWNYNTNITEENVQNMNN...</td>\n",
       "      <td>SDIEESAKTFLDKFMLEAEDLFYQSSLAVWNYNTNITEENVQNMNN...</td>\n",
       "      <td>0.764</td>\n",
       "      <td>-6.15326</td>\n",
       "      <td>0.068304</td>\n",
       "      <td>2.0</td>\n",
       "      <td>114868.5</td>\n",
       "      <td>57435.25</td>\n",
       "    </tr>\n",
       "    <tr>\n",
       "      <th>117039</th>\n",
       "      <td>template2.pdb</td>\n",
       "      <td>A</td>\n",
       "      <td>19</td>\n",
       "      <td>STIEEQAKTFLDKFNHEAEDLFYQSSLASWNYNTNITEENVQNMNN...</td>\n",
       "      <td>STIEEQAKTFLDKFNHEAEDLFYQSSLASWNYNTNITEENVQNMNN...</td>\n",
       "      <td>0.713</td>\n",
       "      <td>-6.02438</td>\n",
       "      <td>0.134153</td>\n",
       "      <td>3.0</td>\n",
       "      <td>200682.0</td>\n",
       "      <td>100342.50</td>\n",
       "    </tr>\n",
       "    <tr>\n",
       "      <th>122232</th>\n",
       "      <td>template2.pdb</td>\n",
       "      <td>A</td>\n",
       "      <td>19</td>\n",
       "      <td>STIEEQAKTFLDKFNHEAEDLFYQSSLASWNYNTNITEENVQNMNN...</td>\n",
       "      <td>ITIELQAKYFLDKFNHEAEDLFYQLSLASWNYNTNITEENVQNMNN...</td>\n",
       "      <td>0.713</td>\n",
       "      <td>-5.97785</td>\n",
       "      <td>0.682113</td>\n",
       "      <td>4.0</td>\n",
       "      <td>200682.0</td>\n",
       "      <td>100343.00</td>\n",
       "    </tr>\n",
       "    <tr>\n",
       "      <th>105382</th>\n",
       "      <td>template2.pdb</td>\n",
       "      <td>A</td>\n",
       "      <td>19</td>\n",
       "      <td>STIEEQAKTFLDKFNHEAEDLFYQSSLASWNYNTNITEENVQNMNN...</td>\n",
       "      <td>STIEEQAKQFLDKFNHEAEDLFYQSSLASWNYNTNITEENVQNMNF...</td>\n",
       "      <td>0.711</td>\n",
       "      <td>-5.84588</td>\n",
       "      <td>0.110335</td>\n",
       "      <td>5.0</td>\n",
       "      <td>220699.5</td>\n",
       "      <td>110352.25</td>\n",
       "    </tr>\n",
       "    <tr>\n",
       "      <th>...</th>\n",
       "      <td>...</td>\n",
       "      <td>...</td>\n",
       "      <td>...</td>\n",
       "      <td>...</td>\n",
       "      <td>...</td>\n",
       "      <td>...</td>\n",
       "      <td>...</td>\n",
       "      <td>...</td>\n",
       "      <td>...</td>\n",
       "      <td>...</td>\n",
       "      <td>...</td>\n",
       "    </tr>\n",
       "    <tr>\n",
       "      <th>53007</th>\n",
       "      <td>template2.pdb</td>\n",
       "      <td>A</td>\n",
       "      <td>19</td>\n",
       "      <td>STIEEQAKTFLDKFNHEAEDLFYQSSLASWNYNTNITEENVQNMNN...</td>\n",
       "      <td>STIHEQWKTFLDKFNHYAEDLFYFSSLASWHYNTNITEENVQNMNI...</td>\n",
       "      <td>0.633</td>\n",
       "      <td>55.65400</td>\n",
       "      <td>10.946300</td>\n",
       "      <td>249996.0</td>\n",
       "      <td>246681.5</td>\n",
       "      <td>248338.75</td>\n",
       "    </tr>\n",
       "    <tr>\n",
       "      <th>171213</th>\n",
       "      <td>template2.pdb</td>\n",
       "      <td>A</td>\n",
       "      <td>19</td>\n",
       "      <td>STIEEQAKTFLDKFNHEAEDLFYQSSLASWNYNTNITEENVQNMNN...</td>\n",
       "      <td>STIFEQWKTFLDKFVHEAEDLFYQSSLASWNYNTNITEENVQNMNN...</td>\n",
       "      <td>0.713</td>\n",
       "      <td>56.51240</td>\n",
       "      <td>1.016230</td>\n",
       "      <td>249997.0</td>\n",
       "      <td>200682.0</td>\n",
       "      <td>225339.50</td>\n",
       "    </tr>\n",
       "    <tr>\n",
       "      <th>160333</th>\n",
       "      <td>template2.pdb</td>\n",
       "      <td>A</td>\n",
       "      <td>19</td>\n",
       "      <td>STIEEQAKTFLDKFNHEAEDLFYQSSLASWNYNTNITEENVQNMNN...</td>\n",
       "      <td>STIEEQYKTFLDKFNHHYVDLFYQSSLASWNYNTNITEENVQNMNN...</td>\n",
       "      <td>0.674</td>\n",
       "      <td>56.99980</td>\n",
       "      <td>1.898220</td>\n",
       "      <td>249998.0</td>\n",
       "      <td>238200.0</td>\n",
       "      <td>244099.00</td>\n",
       "    </tr>\n",
       "    <tr>\n",
       "      <th>180894</th>\n",
       "      <td>template2.pdb</td>\n",
       "      <td>A</td>\n",
       "      <td>19</td>\n",
       "      <td>STIEEQAKTFLDKFNHEAEDLFYQSSLASWNYNTNITEENVQNMNN...</td>\n",
       "      <td>STIEEQWKTFLDKFNHEPEDLFYQSSLSSWNGNTNITEENVQNMNN...</td>\n",
       "      <td>0.795</td>\n",
       "      <td>59.24410</td>\n",
       "      <td>4.604260</td>\n",
       "      <td>249999.0</td>\n",
       "      <td>18749.5</td>\n",
       "      <td>134374.25</td>\n",
       "    </tr>\n",
       "    <tr>\n",
       "      <th>220850</th>\n",
       "      <td>template2.pdb</td>\n",
       "      <td>A</td>\n",
       "      <td>19</td>\n",
       "      <td>STIEEQAKTFLDKFNHEAEDLFYQSSLASWNYNTNITEENVQNMNN...</td>\n",
       "      <td>STIENQYKTFLDNFNHEAEDLFYQSSPASWNYNTNITEENVQNMND...</td>\n",
       "      <td>0.756</td>\n",
       "      <td>60.63130</td>\n",
       "      <td>4.745250</td>\n",
       "      <td>250000.0</td>\n",
       "      <td>158664.0</td>\n",
       "      <td>204332.00</td>\n",
       "    </tr>\n",
       "  </tbody>\n",
       "</table>\n",
       "<p>250000 rows × 11 columns</p>\n",
       "</div>"
      ],
      "text/plain": [
       "                  PDB Chain  Start_index  \\\n",
       "166709  template2.pdb     A           19   \n",
       "218948  template2.pdb     A           19   \n",
       "117039  template2.pdb     A           19   \n",
       "122232  template2.pdb     A           19   \n",
       "105382  template2.pdb     A           19   \n",
       "...               ...   ...          ...   \n",
       "53007   template2.pdb     A           19   \n",
       "171213  template2.pdb     A           19   \n",
       "160333  template2.pdb     A           19   \n",
       "180894  template2.pdb     A           19   \n",
       "220850  template2.pdb     A           19   \n",
       "\n",
       "                                                   WT_seq  \\\n",
       "166709  STIEEQAKTFLDKFNHEAEDLFYQSSLASWNYNTNITEENVQNMNN...   \n",
       "218948  STIEEQAKTFLDKFNHEAEDLFYQSSLASWNYNTNITEENVQNMNN...   \n",
       "117039  STIEEQAKTFLDKFNHEAEDLFYQSSLASWNYNTNITEENVQNMNN...   \n",
       "122232  STIEEQAKTFLDKFNHEAEDLFYQSSLASWNYNTNITEENVQNMNN...   \n",
       "105382  STIEEQAKTFLDKFNHEAEDLFYQSSLASWNYNTNITEENVQNMNN...   \n",
       "...                                                   ...   \n",
       "53007   STIEEQAKTFLDKFNHEAEDLFYQSSLASWNYNTNITEENVQNMNN...   \n",
       "171213  STIEEQAKTFLDKFNHEAEDLFYQSSLASWNYNTNITEENVQNMNN...   \n",
       "160333  STIEEQAKTFLDKFNHEAEDLFYQSSLASWNYNTNITEENVQNMNN...   \n",
       "180894  STIEEQAKTFLDKFNHEAEDLFYQSSLASWNYNTNITEENVQNMNN...   \n",
       "220850  STIEEQAKTFLDKFNHEAEDLFYQSSLASWNYNTNITEENVQNMNN...   \n",
       "\n",
       "                                                   MT_seq  solubility  \\\n",
       "166709  STIEEQAKYFLLKFNHEAEDLFYQSSLAKWNYNTNITEENVQYMNN...       0.624   \n",
       "218948  SDIEESAKTFLDKFMLEAEDLFYQSSLAVWNYNTNITEENVQNMNN...       0.764   \n",
       "117039  STIEEQAKTFLDKFNHEAEDLFYQSSLASWNYNTNITEENVQNMNN...       0.713   \n",
       "122232  ITIELQAKYFLDKFNHEAEDLFYQLSLASWNYNTNITEENVQNMNN...       0.713   \n",
       "105382  STIEEQAKQFLDKFNHEAEDLFYQSSLASWNYNTNITEENVQNMNF...       0.711   \n",
       "...                                                   ...         ...   \n",
       "53007   STIHEQWKTFLDKFNHYAEDLFYFSSLASWHYNTNITEENVQNMNI...       0.633   \n",
       "171213  STIFEQWKTFLDKFVHEAEDLFYQSSLASWNYNTNITEENVQNMNN...       0.713   \n",
       "160333  STIEEQYKTFLDKFNHHYVDLFYQSSLASWNYNTNITEENVQNMNN...       0.674   \n",
       "180894  STIEEQWKTFLDKFNHEPEDLFYQSSLSSWNGNTNITEENVQNMNN...       0.795   \n",
       "220850  STIENQYKTFLDNFNHEAEDLFYQSSPASWNYNTNITEENVQNMND...       0.756   \n",
       "\n",
       "             ddG    ddG_std  ddG_rank  solubility_rank   avg_rank  \n",
       "166709  -8.44902   0.526837       1.0         247826.0  123913.50  \n",
       "218948  -6.15326   0.068304       2.0         114868.5   57435.25  \n",
       "117039  -6.02438   0.134153       3.0         200682.0  100342.50  \n",
       "122232  -5.97785   0.682113       4.0         200682.0  100343.00  \n",
       "105382  -5.84588   0.110335       5.0         220699.5  110352.25  \n",
       "...          ...        ...       ...              ...        ...  \n",
       "53007   55.65400  10.946300  249996.0         246681.5  248338.75  \n",
       "171213  56.51240   1.016230  249997.0         200682.0  225339.50  \n",
       "160333  56.99980   1.898220  249998.0         238200.0  244099.00  \n",
       "180894  59.24410   4.604260  249999.0          18749.5  134374.25  \n",
       "220850  60.63130   4.745250  250000.0         158664.0  204332.00  \n",
       "\n",
       "[250000 rows x 11 columns]"
      ]
     },
     "execution_count": 18,
     "metadata": {},
     "output_type": "execute_result"
    }
   ],
   "source": [
    "train_data.sort_values(by='ddG', ascending=True)"
   ]
  },
  {
   "cell_type": "code",
   "execution_count": 19,
   "id": "b6f6c209-b7f3-474f-8e6c-33b891b63d57",
   "metadata": {},
   "outputs": [
    {
     "data": {
      "image/png": "[encoded data removed]",
      "text/plain": [
       "<Figure size 800x600 with 1 Axes>"
      ]
     },
     "metadata": {},
     "output_type": "display_data"
    }
   ],
   "source": [
    "plt.figure(figsize=(8, 6))\n",
    "plt.hist(train_data.ddG, density=True, alpha=0.4)\n",
    "plt.xlabel('FoldX ddG Scores', size=14)\n",
    "plt.ylabel('Density', size=14)\n",
    "plt.savefig('./figures/train_ddG_dist.png', bbox_inches='tight')\n",
    "plt.savefig('./figures/train_ddG_dist.pdf', bbox_inches='tight')"
   ]
  },
  {
   "cell_type": "code",
   "execution_count": 20,
   "id": "aabca7bd-0854-4efc-acf7-806ac996bb5c",
   "metadata": {},
   "outputs": [
    {
     "data": {
      "image/png": "[encoded data removed]",
      "text/plain": [
       "<Figure size 800x600 with 1 Axes>"
      ]
     },
     "metadata": {},
     "output_type": "display_data"
    }
   ],
   "source": [
    "plt.figure(figsize=(8, 6))\n",
    "plt.hist(train_data.solubility, density=True, alpha=0.4)\n",
    "plt.xlabel('FoldX ddG Scores', size=14)\n",
    "plt.ylabel('Density', size=14)\n",
    "plt.savefig('./figures/train_solubility_dist.png', bbox_inches='tight')\n",
    "plt.savefig('./figures/train_solubility_dist.pdf', bbox_inches='tight')"
   ]
  },
  {
   "cell_type": "code",
   "execution_count": null,
   "id": "bf175459-eb54-4792-a293-071c2bcc9842",
   "metadata": {},
   "outputs": [],
   "source": []
  },
  {
   "cell_type": "code",
   "execution_count": null,
   "id": "fd23e7bb",
   "metadata": {
    "collapsed": false,
    "jupyter": {
     "outputs_hidden": false
    }
   },
   "outputs": [],
   "source": []
  },
  {
   "cell_type": "markdown",
   "id": "29dabc0e-7139-459e-9ca0-390f7a9bc457",
   "metadata": {},
   "source": [
    "## merge multiple results"
   ]
  },
  {
   "cell_type": "code",
   "execution_count": 21,
   "id": "e8b8d2ea-6f44-493c-8671-4e7b7dc1511a",
   "metadata": {},
   "outputs": [],
   "source": [
    "def get_job_result(job_dir):\n",
    "    res_file = job_dir + 'Average_6lzg_Repair.fxout'\n",
    "    if not os.path.exists(res_file):\n",
    "        print('unfinished job_dir:', job_dir)\n",
    "        return None, None, None, 1\n",
    "    with open(res_file, 'r') as file:\n",
    "        job_result = file.read()\n",
    "    df_string = '\\n'.join(job_result.split('\\n')[8:])\n",
    "    result_df = pd.read_csv(io.StringIO(df_string), sep='\\t')\n",
    "    avg_ddG = result_df['total energy'].to_list()[0]\n",
    "    std_ddG = result_df['SD'].to_list()[0]\n",
    "    \n",
    "    seq_file = job_dir + 'sequence.txt'\n",
    "    with open(seq_file, 'r') as file:\n",
    "        sequence = file.read().split('\\n')\n",
    "    assert len(sequence) == 1\n",
    "    return sequence[0], avg_ddG, std_ddG, 0\n",
    "\n",
    "def merge_results(output_dir):\n",
    "    unfinished_num = 0\n",
    "    seq_list = []\n",
    "    avg_ddG_list = []\n",
    "    std_ddG_list = []\n",
    "    job_list = [d for d in os.listdir(output_dir) if os.path.isdir(os.path.join(output_dir, d))]\n",
    "    for job_dir_i in tqdm(job_list):\n",
    "        if 'job' in job_dir_i:\n",
    "            job_dir_i = output_dir + job_dir_i + '/'\n",
    "            sequence_i, avg_ddG_i, std_ddG_i, flag = get_job_result(job_dir_i)\n",
    "            unfinished_num += flag\n",
    "            seq_list.append(sequence_i)\n",
    "            avg_ddG_list.append(avg_ddG_i)\n",
    "            std_ddG_list.append(std_ddG_i)\n",
    "        else:\n",
    "            print('skip invalid job dir:', job_dir_i)\n",
    "    print('unfinished_num,', 'len(seq_list),', 'len(avg_ddG_list),', 'len(std_ddG_list)')\n",
    "    print('{}, {}, {}, {}'.format(unfinished_num, len(seq_list), len(avg_ddG_list), len(std_ddG_list)))\n",
    "    merge_df = pd.DataFrame([seq_list, avg_ddG_list, std_ddG_list], index=['seqs', 'mean', 'std']).T\n",
    "    return merge_df"
   ]
  },
  {
   "cell_type": "code",
   "execution_count": 22,
   "id": "14375810-71aa-4f38-9f45-d8cd9541f36c",
   "metadata": {
    "tags": []
   },
   "outputs": [
    {
     "name": "stderr",
     "output_type": "stream",
     "text": [
      "100%|██████████| 1000/1000 [00:15<00:00, 65.13it/s]"
     ]
    },
    {
     "name": "stdout",
     "output_type": "stream",
     "text": [
      "unfinished_num, len(seq_list), len(avg_ddG_list), len(std_ddG_list)\n",
      "0, 1000, 1000, 1000\n"
     ]
    },
    {
     "name": "stderr",
     "output_type": "stream",
     "text": [
      "\n"
     ]
    }
   ],
   "source": [
    "merge_df = merge_results(output_dir)"
   ]
  },
  {
   "cell_type": "code",
   "execution_count": 23,
   "id": "c545d6c8-ffd5-49e5-aa0a-2925a1057c4e",
   "metadata": {},
   "outputs": [
    {
     "data": {
      "text/plain": [
       "0"
      ]
     },
     "execution_count": 23,
     "metadata": {},
     "output_type": "execute_result"
    }
   ],
   "source": [
    "sum(merge_df.isnull().T.any())"
   ]
  },
  {
   "cell_type": "code",
   "execution_count": 24,
   "id": "62160031-ba8d-4765-9657-1494c87eeb44",
   "metadata": {},
   "outputs": [
    {
     "data": {
      "text/html": [
       "<div>\n",
       "<style scoped>\n",
       "    .dataframe tbody tr th:only-of-type {\n",
       "        vertical-align: middle;\n",
       "    }\n",
       "\n",
       "    .dataframe tbody tr th {\n",
       "        vertical-align: top;\n",
       "    }\n",
       "\n",
       "    .dataframe thead th {\n",
       "        text-align: right;\n",
       "    }\n",
       "</style>\n",
       "<table border=\"1\" class=\"dataframe\">\n",
       "  <thead>\n",
       "    <tr style=\"text-align: right;\">\n",
       "      <th></th>\n",
       "      <th>seqs</th>\n",
       "      <th>mean</th>\n",
       "      <th>std</th>\n",
       "    </tr>\n",
       "  </thead>\n",
       "  <tbody>\n",
       "    <tr>\n",
       "      <th>0</th>\n",
       "      <td>STIEEMAKLFLDKFNHEAEDLFYQSLLASWNYNTNITEENMQNMNN...</td>\n",
       "      <td>-9.41572</td>\n",
       "      <td>0.214916</td>\n",
       "    </tr>\n",
       "    <tr>\n",
       "      <th>1</th>\n",
       "      <td>STIEEMAKTFLEKFNHEAEDLFYQSSLALWSYNTNITEENVQNMNN...</td>\n",
       "      <td>-11.7548</td>\n",
       "      <td>0.320764</td>\n",
       "    </tr>\n",
       "    <tr>\n",
       "      <th>2</th>\n",
       "      <td>STIEEQAKTFLDKFNHEAEDLFYQSSLAKWNYNTNITEENMQNMNL...</td>\n",
       "      <td>-9.6076</td>\n",
       "      <td>0.296504</td>\n",
       "    </tr>\n",
       "    <tr>\n",
       "      <th>3</th>\n",
       "      <td>STIEEQAKTFLEKFNHEAEDLFYQSSLAMWNYNTNITEENVQNMNN...</td>\n",
       "      <td>-8.55775</td>\n",
       "      <td>0.197714</td>\n",
       "    </tr>\n",
       "    <tr>\n",
       "      <th>4</th>\n",
       "      <td>STIEEQAKTFLDKFNHEAEDLFYQSSLKAWNYNTNITEENVQNMNN...</td>\n",
       "      <td>-8.28695</td>\n",
       "      <td>0.032823</td>\n",
       "    </tr>\n",
       "    <tr>\n",
       "      <th>...</th>\n",
       "      <td>...</td>\n",
       "      <td>...</td>\n",
       "      <td>...</td>\n",
       "    </tr>\n",
       "    <tr>\n",
       "      <th>995</th>\n",
       "      <td>STIEEQAKTFLMKFNHEAEDLFYQSSLASWNYNTNITEENVQNMNL...</td>\n",
       "      <td>-7.16963</td>\n",
       "      <td>0.27955</td>\n",
       "    </tr>\n",
       "    <tr>\n",
       "      <th>996</th>\n",
       "      <td>SNIEEMAKTFLDKFNHEAEDLFYQSLLASWNYNTNITEENVQNMNM...</td>\n",
       "      <td>-6.03996</td>\n",
       "      <td>0.548796</td>\n",
       "    </tr>\n",
       "    <tr>\n",
       "      <th>997</th>\n",
       "      <td>STIEEMALTFLYKFNHEAEDLFYQSMLAAWNYNTNITEENVQNMNN...</td>\n",
       "      <td>-6.09501</td>\n",
       "      <td>0.168115</td>\n",
       "    </tr>\n",
       "    <tr>\n",
       "      <th>998</th>\n",
       "      <td>STIEEQAKTFLDKFNHEAEDLFYQSKLASWNMNTNITEENVQNMNK...</td>\n",
       "      <td>-7.62211</td>\n",
       "      <td>0.477125</td>\n",
       "    </tr>\n",
       "    <tr>\n",
       "      <th>999</th>\n",
       "      <td>STIEEQAKTFLMKFNHEAEDLFYQSKLASWNYNTNITEENVQNMNK...</td>\n",
       "      <td>-6.02997</td>\n",
       "      <td>0.292326</td>\n",
       "    </tr>\n",
       "  </tbody>\n",
       "</table>\n",
       "<p>1000 rows × 3 columns</p>\n",
       "</div>"
      ],
      "text/plain": [
       "                                                  seqs     mean       std\n",
       "0    STIEEMAKLFLDKFNHEAEDLFYQSLLASWNYNTNITEENMQNMNN... -9.41572  0.214916\n",
       "1    STIEEMAKTFLEKFNHEAEDLFYQSSLALWSYNTNITEENVQNMNN... -11.7548  0.320764\n",
       "2    STIEEQAKTFLDKFNHEAEDLFYQSSLAKWNYNTNITEENMQNMNL...  -9.6076  0.296504\n",
       "3    STIEEQAKTFLEKFNHEAEDLFYQSSLAMWNYNTNITEENVQNMNN... -8.55775  0.197714\n",
       "4    STIEEQAKTFLDKFNHEAEDLFYQSSLKAWNYNTNITEENVQNMNN... -8.28695  0.032823\n",
       "..                                                 ...      ...       ...\n",
       "995  STIEEQAKTFLMKFNHEAEDLFYQSSLASWNYNTNITEENVQNMNL... -7.16963   0.27955\n",
       "996  SNIEEMAKTFLDKFNHEAEDLFYQSLLASWNYNTNITEENVQNMNM... -6.03996  0.548796\n",
       "997  STIEEMALTFLYKFNHEAEDLFYQSMLAAWNYNTNITEENVQNMNN... -6.09501  0.168115\n",
       "998  STIEEQAKTFLDKFNHEAEDLFYQSKLASWNMNTNITEENVQNMNK... -7.62211  0.477125\n",
       "999  STIEEQAKTFLMKFNHEAEDLFYQSKLASWNYNTNITEENVQNMNK... -6.02997  0.292326\n",
       "\n",
       "[1000 rows x 3 columns]"
      ]
     },
     "execution_count": 24,
     "metadata": {},
     "output_type": "execute_result"
    }
   ],
   "source": [
    "merge_df"
   ]
  },
  {
   "cell_type": "code",
   "execution_count": 25,
   "id": "fd30e790-5406-47a4-b4f2-dc00040c6894",
   "metadata": {},
   "outputs": [
    {
     "data": {
      "text/html": [
       "<div>\n",
       "<style scoped>\n",
       "    .dataframe tbody tr th:only-of-type {\n",
       "        vertical-align: middle;\n",
       "    }\n",
       "\n",
       "    .dataframe tbody tr th {\n",
       "        vertical-align: top;\n",
       "    }\n",
       "\n",
       "    .dataframe thead th {\n",
       "        text-align: right;\n",
       "    }\n",
       "</style>\n",
       "<table border=\"1\" class=\"dataframe\">\n",
       "  <thead>\n",
       "    <tr style=\"text-align: right;\">\n",
       "      <th></th>\n",
       "      <th>seqs</th>\n",
       "      <th>mean</th>\n",
       "      <th>std</th>\n",
       "    </tr>\n",
       "  </thead>\n",
       "  <tbody>\n",
       "    <tr>\n",
       "      <th>0</th>\n",
       "      <td>STIEEMAKLFLDKFNHEAEDLFYQSLLASWNYNTNITEENMQNMNN...</td>\n",
       "      <td>-9.41572</td>\n",
       "      <td>0.214916</td>\n",
       "    </tr>\n",
       "    <tr>\n",
       "      <th>1</th>\n",
       "      <td>STIEEMAKTFLEKFNHEAEDLFYQSSLALWSYNTNITEENVQNMNN...</td>\n",
       "      <td>-11.75480</td>\n",
       "      <td>0.320764</td>\n",
       "    </tr>\n",
       "    <tr>\n",
       "      <th>2</th>\n",
       "      <td>STIEEQAKTFLDKFNHEAEDLFYQSSLAKWNYNTNITEENMQNMNL...</td>\n",
       "      <td>-9.60760</td>\n",
       "      <td>0.296504</td>\n",
       "    </tr>\n",
       "    <tr>\n",
       "      <th>3</th>\n",
       "      <td>STIEEQAKTFLEKFNHEAEDLFYQSSLAMWNYNTNITEENVQNMNN...</td>\n",
       "      <td>-8.55775</td>\n",
       "      <td>0.197714</td>\n",
       "    </tr>\n",
       "    <tr>\n",
       "      <th>4</th>\n",
       "      <td>STIEEQAKTFLDKFNHEAEDLFYQSSLKAWNYNTNITEENVQNMNN...</td>\n",
       "      <td>-8.28695</td>\n",
       "      <td>0.032823</td>\n",
       "    </tr>\n",
       "    <tr>\n",
       "      <th>...</th>\n",
       "      <td>...</td>\n",
       "      <td>...</td>\n",
       "      <td>...</td>\n",
       "    </tr>\n",
       "    <tr>\n",
       "      <th>995</th>\n",
       "      <td>STIEEQAKTFLMKFNHEAEDLFYQSSLASWNYNTNITEENVQNMNL...</td>\n",
       "      <td>-7.16963</td>\n",
       "      <td>0.279550</td>\n",
       "    </tr>\n",
       "    <tr>\n",
       "      <th>996</th>\n",
       "      <td>SNIEEMAKTFLDKFNHEAEDLFYQSLLASWNYNTNITEENVQNMNM...</td>\n",
       "      <td>-6.03996</td>\n",
       "      <td>0.548796</td>\n",
       "    </tr>\n",
       "    <tr>\n",
       "      <th>997</th>\n",
       "      <td>STIEEMALTFLYKFNHEAEDLFYQSMLAAWNYNTNITEENVQNMNN...</td>\n",
       "      <td>-6.09501</td>\n",
       "      <td>0.168115</td>\n",
       "    </tr>\n",
       "    <tr>\n",
       "      <th>998</th>\n",
       "      <td>STIEEQAKTFLDKFNHEAEDLFYQSKLASWNMNTNITEENVQNMNK...</td>\n",
       "      <td>-7.62211</td>\n",
       "      <td>0.477125</td>\n",
       "    </tr>\n",
       "    <tr>\n",
       "      <th>999</th>\n",
       "      <td>STIEEQAKTFLMKFNHEAEDLFYQSKLASWNYNTNITEENVQNMNK...</td>\n",
       "      <td>-6.02997</td>\n",
       "      <td>0.292326</td>\n",
       "    </tr>\n",
       "  </tbody>\n",
       "</table>\n",
       "<p>1000 rows × 3 columns</p>\n",
       "</div>"
      ],
      "text/plain": [
       "                                                  seqs      mean       std\n",
       "0    STIEEMAKLFLDKFNHEAEDLFYQSLLASWNYNTNITEENMQNMNN...  -9.41572  0.214916\n",
       "1    STIEEMAKTFLEKFNHEAEDLFYQSSLALWSYNTNITEENVQNMNN... -11.75480  0.320764\n",
       "2    STIEEQAKTFLDKFNHEAEDLFYQSSLAKWNYNTNITEENMQNMNL...  -9.60760  0.296504\n",
       "3    STIEEQAKTFLEKFNHEAEDLFYQSSLAMWNYNTNITEENVQNMNN...  -8.55775  0.197714\n",
       "4    STIEEQAKTFLDKFNHEAEDLFYQSSLKAWNYNTNITEENVQNMNN...  -8.28695  0.032823\n",
       "..                                                 ...       ...       ...\n",
       "995  STIEEQAKTFLMKFNHEAEDLFYQSSLASWNYNTNITEENVQNMNL...  -7.16963  0.279550\n",
       "996  SNIEEMAKTFLDKFNHEAEDLFYQSLLASWNYNTNITEENVQNMNM...  -6.03996  0.548796\n",
       "997  STIEEMALTFLYKFNHEAEDLFYQSMLAAWNYNTNITEENVQNMNN...  -6.09501  0.168115\n",
       "998  STIEEQAKTFLDKFNHEAEDLFYQSKLASWNMNTNITEENVQNMNK...  -7.62211  0.477125\n",
       "999  STIEEQAKTFLMKFNHEAEDLFYQSKLASWNYNTNITEENVQNMNK...  -6.02997  0.292326\n",
       "\n",
       "[1000 rows x 3 columns]"
      ]
     },
     "execution_count": 25,
     "metadata": {},
     "output_type": "execute_result"
    }
   ],
   "source": [
    "merge_df = merge_df.fillna(method='ffill')\n",
    "merge_df = merge_df.fillna(method='bfill')\n",
    "merge_df"
   ]
  },
  {
   "cell_type": "code",
   "execution_count": 26,
   "id": "853eaec9-fb0f-4ac0-b764-c38ea22cebb1",
   "metadata": {},
   "outputs": [
    {
     "data": {
      "text/html": [
       "<div>\n",
       "<style scoped>\n",
       "    .dataframe tbody tr th:only-of-type {\n",
       "        vertical-align: middle;\n",
       "    }\n",
       "\n",
       "    .dataframe tbody tr th {\n",
       "        vertical-align: top;\n",
       "    }\n",
       "\n",
       "    .dataframe thead th {\n",
       "        text-align: right;\n",
       "    }\n",
       "</style>\n",
       "<table border=\"1\" class=\"dataframe\">\n",
       "  <thead>\n",
       "    <tr style=\"text-align: right;\">\n",
       "      <th></th>\n",
       "      <th>seqs</th>\n",
       "      <th>mean</th>\n",
       "      <th>std</th>\n",
       "    </tr>\n",
       "  </thead>\n",
       "  <tbody>\n",
       "    <tr>\n",
       "      <th>0</th>\n",
       "      <td>STIEEMAKLFLDKFNHEAEDLFYQSLLASWNYNTNITEENMQNMNN...</td>\n",
       "      <td>-9.41572</td>\n",
       "      <td>0.214916</td>\n",
       "    </tr>\n",
       "    <tr>\n",
       "      <th>1</th>\n",
       "      <td>STIEEMAKTFLEKFNHEAEDLFYQSSLALWSYNTNITEENVQNMNN...</td>\n",
       "      <td>-11.75480</td>\n",
       "      <td>0.320764</td>\n",
       "    </tr>\n",
       "    <tr>\n",
       "      <th>2</th>\n",
       "      <td>STIEEQAKTFLDKFNHEAEDLFYQSSLAKWNYNTNITEENMQNMNL...</td>\n",
       "      <td>-9.60760</td>\n",
       "      <td>0.296504</td>\n",
       "    </tr>\n",
       "    <tr>\n",
       "      <th>3</th>\n",
       "      <td>STIEEQAKTFLEKFNHEAEDLFYQSSLAMWNYNTNITEENVQNMNN...</td>\n",
       "      <td>-8.55775</td>\n",
       "      <td>0.197714</td>\n",
       "    </tr>\n",
       "    <tr>\n",
       "      <th>4</th>\n",
       "      <td>STIEEQAKTFLDKFNHEAEDLFYQSSLKAWNYNTNITEENVQNMNN...</td>\n",
       "      <td>-8.28695</td>\n",
       "      <td>0.032823</td>\n",
       "    </tr>\n",
       "    <tr>\n",
       "      <th>...</th>\n",
       "      <td>...</td>\n",
       "      <td>...</td>\n",
       "      <td>...</td>\n",
       "    </tr>\n",
       "    <tr>\n",
       "      <th>962</th>\n",
       "      <td>STIEELAKTFLDKFNHEAEDLFYQSLLASWNYNTNITEENVQNMNN...</td>\n",
       "      <td>-9.46952</td>\n",
       "      <td>0.683014</td>\n",
       "    </tr>\n",
       "    <tr>\n",
       "      <th>968</th>\n",
       "      <td>STIEEQAKTFLDKFNHEAEDLFYQSLLASWNFNTNITEENVQNMNN...</td>\n",
       "      <td>-8.16525</td>\n",
       "      <td>0.235717</td>\n",
       "    </tr>\n",
       "    <tr>\n",
       "      <th>969</th>\n",
       "      <td>SSIEEQAKTFLDKFNHEAEDLFYQSSLASWNYNTNITEENIQNMNL...</td>\n",
       "      <td>-8.14112</td>\n",
       "      <td>0.358580</td>\n",
       "    </tr>\n",
       "    <tr>\n",
       "      <th>978</th>\n",
       "      <td>STIEEMAKMFLEKFNHMAEDLFYMSSLASWRYNTNITEENVQNMNN...</td>\n",
       "      <td>-8.42411</td>\n",
       "      <td>0.414923</td>\n",
       "    </tr>\n",
       "    <tr>\n",
       "      <th>994</th>\n",
       "      <td>STMEELAKYFLDKFNHEALDFFYQSLLASWNYNTNITEENVQNMNN...</td>\n",
       "      <td>-9.92993</td>\n",
       "      <td>0.972215</td>\n",
       "    </tr>\n",
       "  </tbody>\n",
       "</table>\n",
       "<p>342 rows × 3 columns</p>\n",
       "</div>"
      ],
      "text/plain": [
       "                                                  seqs      mean       std\n",
       "0    STIEEMAKLFLDKFNHEAEDLFYQSLLASWNYNTNITEENMQNMNN...  -9.41572  0.214916\n",
       "1    STIEEMAKTFLEKFNHEAEDLFYQSSLALWSYNTNITEENVQNMNN... -11.75480  0.320764\n",
       "2    STIEEQAKTFLDKFNHEAEDLFYQSSLAKWNYNTNITEENMQNMNL...  -9.60760  0.296504\n",
       "3    STIEEQAKTFLEKFNHEAEDLFYQSSLAMWNYNTNITEENVQNMNN...  -8.55775  0.197714\n",
       "4    STIEEQAKTFLDKFNHEAEDLFYQSSLKAWNYNTNITEENVQNMNN...  -8.28695  0.032823\n",
       "..                                                 ...       ...       ...\n",
       "962  STIEELAKTFLDKFNHEAEDLFYQSLLASWNYNTNITEENVQNMNN...  -9.46952  0.683014\n",
       "968  STIEEQAKTFLDKFNHEAEDLFYQSLLASWNFNTNITEENVQNMNN...  -8.16525  0.235717\n",
       "969  SSIEEQAKTFLDKFNHEAEDLFYQSSLASWNYNTNITEENIQNMNL...  -8.14112  0.358580\n",
       "978  STIEEMAKMFLEKFNHMAEDLFYMSSLASWRYNTNITEENVQNMNN...  -8.42411  0.414923\n",
       "994  STMEELAKYFLDKFNHEALDFFYQSLLASWNYNTNITEENVQNMNN...  -9.92993  0.972215\n",
       "\n",
       "[342 rows x 3 columns]"
      ]
     },
     "execution_count": 26,
     "metadata": {},
     "output_type": "execute_result"
    }
   ],
   "source": [
    "merge_df[merge_df['mean']<-8.1]"
   ]
  },
  {
   "cell_type": "code",
   "execution_count": null,
   "id": "e2408203-bd65-49b5-b738-27a5758662a0",
   "metadata": {},
   "outputs": [],
   "source": []
  },
  {
   "cell_type": "code",
   "execution_count": 28,
   "id": "fbd63ad6-39d5-4a0d-ae65-6172382ccb2a",
   "metadata": {},
   "outputs": [],
   "source": [
    "merge_df.to_csv('./congen8_ddG_top1000_ddG_df.csv', index=False)"
   ]
  },
  {
   "cell_type": "code",
   "execution_count": null,
   "id": "7d6de34e-2681-45ec-8d4c-dd3f3d629bdc",
   "metadata": {},
   "outputs": [],
   "source": []
  },
  {
   "cell_type": "code",
   "execution_count": 49,
   "id": "81485a07-af6a-4dd6-84c2-4cc5c4eca3c0",
   "metadata": {},
   "outputs": [
    {
     "data": {
      "text/plain": [
       "(12.9553, 26.7484, 19.91466)"
      ]
     },
     "execution_count": 49,
     "metadata": {},
     "output_type": "execute_result"
    }
   ],
   "source": [
    "topk = 10\n",
    "gen_seqs = merge_df['seqs'].tolist()[:topk]\n",
    "avg_ddG_list = merge_df['mean'].tolist()\n",
    "topk_avg_ddG_list = avg_ddG_list[:topk]\n",
    "np.min(topk_avg_ddG_list), np.max(topk_avg_ddG_list), np.mean(topk_avg_ddG_list)"
   ]
  },
  {
   "cell_type": "code",
   "execution_count": 52,
   "id": "7c9e2aa9-c594-45d8-a81d-b3b5b4adb0da",
   "metadata": {},
   "outputs": [
    {
     "data": {
      "text/plain": [
       "(10.4269, 32.0102, 18.87883)"
      ]
     },
     "execution_count": 52,
     "metadata": {},
     "output_type": "execute_result"
    }
   ],
   "source": [
    "topk = 100\n",
    "gen_seqs = merge_df['seqs'].tolist()[:topk]\n",
    "avg_ddG_list = merge_df['mean'].tolist()\n",
    "topk_avg_ddG_list = avg_ddG_list[:topk]\n",
    "np.min(topk_avg_ddG_list), np.max(topk_avg_ddG_list), np.mean(topk_avg_ddG_list)"
   ]
  },
  {
   "cell_type": "code",
   "execution_count": 54,
   "id": "d908d80b-4d78-45b2-a2bf-186fba04e6f4",
   "metadata": {},
   "outputs": [
    {
     "data": {
      "text/plain": [
       "(4.65126, 32.5027, 17.320007580000002)"
      ]
     },
     "execution_count": 54,
     "metadata": {},
     "output_type": "execute_result"
    }
   ],
   "source": [
    "topk = 1000\n",
    "gen_seqs = merge_df['seqs'].tolist()[:topk]\n",
    "avg_ddG_list = merge_df['mean'].tolist()\n",
    "topk_avg_ddG_list = avg_ddG_list[:topk]\n",
    "np.min(topk_avg_ddG_list), np.max(topk_avg_ddG_list), np.mean(topk_avg_ddG_list)"
   ]
  },
  {
   "cell_type": "code",
   "execution_count": null,
   "id": "d1e22913-03b6-464d-a31a-29947e272b9d",
   "metadata": {},
   "outputs": [],
   "source": []
  },
  {
   "cell_type": "code",
   "execution_count": 55,
   "id": "6da8d83c-5e8f-443f-a5c7-10c8a20558ed",
   "metadata": {},
   "outputs": [
    {
     "data": {
      "text/plain": [
       "(-6.15326, 5.958470991966364)"
      ]
     },
     "execution_count": 55,
     "metadata": {},
     "output_type": "execute_result"
    }
   ],
   "source": [
    "# train_best_value = np.min(train_data_ddG)\n",
    "train_best_value = min(train_data.sort_values(by='ddG', ascending=True)[1:].ddG)\n",
    "train_mean_value = np.mean(train_data_ddG)\n",
    "\n",
    "\n",
    "def Mean(topk_avg_ddG_list):\n",
    "    return 'Mean: {:.2f}'.format(np.mean(topk_avg_ddG_list))\n",
    "\n",
    "def PCI(topk_avg_ddG_list):\n",
    "    num_improve = (np.array(topk_avg_ddG_list) <= train_best_value).sum()\n",
    "    PCI = num_improve/len(topk_avg_ddG_list)*100\n",
    "    return 'PCI: {:.1f}%'.format(PCI)\n",
    "\n",
    "def hamming_distance(seq1, seq2):\n",
    "    if len(seq1) != len(seq2):\n",
    "        raise ValueError(\"Sequences must have the same length\")\n",
    "    return sum(s1 != s2 for s1, s2 in zip(seq1, seq2))\n",
    "\n",
    "def Diversity(gen_seqs):\n",
    "    distances = []\n",
    "    for i, seq_i in enumerate(gen_seqs):\n",
    "        for j, seq_j in enumerate(gen_seqs):\n",
    "            if i!=j:\n",
    "                distances.append(hamming_distance(seq_i, seq_j))\n",
    "    return np.mean(distances)\n",
    "\n",
    "def worker(args):\n",
    "    genseq, trainseqs = args\n",
    "    mindist = np.min([hamming_distance(genseq, trainseq) for trainseq in trainseqs])\n",
    "    return mindist\n",
    "\n",
    "def Novelty(genseqs, trainseqs):\n",
    "    with Pool(cpu_count()) as pool:\n",
    "        avgdist = list(tqdm(pool.imap(worker, [(genseq, trainseqs) for genseq in genseqs]), total=len(genseqs)))\n",
    "    return np.mean(avgdist)\n",
    "\n",
    "train_best_value, train_mean_value"
   ]
  },
  {
   "cell_type": "code",
   "execution_count": 56,
   "id": "41c57e67-5ba4-4266-a6ba-a483b603f371",
   "metadata": {},
   "outputs": [
    {
     "data": {
      "text/plain": [
       "'top-1000:, Mean: 17.32, PCI: 0.0%'"
      ]
     },
     "execution_count": 56,
     "metadata": {},
     "output_type": "execute_result"
    }
   ],
   "source": [
    "'{}, {}, {}'.format(f'top-{len(topk_avg_ddG_list)}:', Mean(topk_avg_ddG_list), PCI(topk_avg_ddG_list))"
   ]
  },
  {
   "cell_type": "code",
   "execution_count": 47,
   "id": "c956bfde-9072-4814-b054-e5c407e9ada4",
   "metadata": {},
   "outputs": [
    {
     "data": {
      "text/plain": [
       "11.56653053053053"
      ]
     },
     "execution_count": 47,
     "metadata": {},
     "output_type": "execute_result"
    }
   ],
   "source": [
    "Diversity(gen_seqs)"
   ]
  },
  {
   "cell_type": "code",
   "execution_count": 48,
   "id": "4fc6229e-9b0c-4371-a500-42288e0927b3",
   "metadata": {},
   "outputs": [
    {
     "name": "stderr",
     "output_type": "stream",
     "text": [
      "100%|██████████| 1000/1000 [02:39<00:00,  6.26it/s]\n"
     ]
    },
    {
     "data": {
      "text/plain": [
       "2.593"
      ]
     },
     "execution_count": 48,
     "metadata": {},
     "output_type": "execute_result"
    }
   ],
   "source": [
    "Novelty(gen_seqs, train_data.MT_seq)"
   ]
  },
  {
   "cell_type": "code",
   "execution_count": null,
   "id": "e6db9626-8114-4e74-878f-c0240ce8af9e",
   "metadata": {},
   "outputs": [],
   "source": []
  },
  {
   "cell_type": "code",
   "execution_count": null,
   "id": "a87f70ca-f4e3-420f-a54a-fd8c2482d9bf",
   "metadata": {},
   "outputs": [],
   "source": []
  },
  {
   "cell_type": "code",
   "execution_count": 24,
   "id": "d256b3e4-43de-45d5-a3f3-7feaa44d79d9",
   "metadata": {},
   "outputs": [
    {
     "data": {
      "text/html": [
       "<div>\n",
       "<style scoped>\n",
       "    .dataframe tbody tr th:only-of-type {\n",
       "        vertical-align: middle;\n",
       "    }\n",
       "\n",
       "    .dataframe tbody tr th {\n",
       "        vertical-align: top;\n",
       "    }\n",
       "\n",
       "    .dataframe thead th {\n",
       "        text-align: right;\n",
       "    }\n",
       "</style>\n",
       "<table border=\"1\" class=\"dataframe\">\n",
       "  <thead>\n",
       "    <tr style=\"text-align: right;\">\n",
       "      <th></th>\n",
       "      <th>seqs</th>\n",
       "      <th>mean</th>\n",
       "      <th>std</th>\n",
       "    </tr>\n",
       "  </thead>\n",
       "  <tbody>\n",
       "    <tr>\n",
       "      <th>21</th>\n",
       "      <td>STIEEQAKTFLDKFNHEAEDMFYQSSEASWNYNTNITEENVQNMNN...</td>\n",
       "      <td>-6.16312</td>\n",
       "      <td>0.601258</td>\n",
       "    </tr>\n",
       "    <tr>\n",
       "      <th>33</th>\n",
       "      <td>STIEEQAKTFLDKFNHEAEDMFYQSSIASWNYNTNITEENVQNMAN...</td>\n",
       "      <td>-6.28283</td>\n",
       "      <td>0.177620</td>\n",
       "    </tr>\n",
       "    <tr>\n",
       "      <th>848</th>\n",
       "      <td>STIEEQAKTFLDKFNHEAEDMFYQSSVASWNYNTNITEENVQNMNN...</td>\n",
       "      <td>-6.50735</td>\n",
       "      <td>0.319429</td>\n",
       "    </tr>\n",
       "  </tbody>\n",
       "</table>\n",
       "</div>"
      ],
      "text/plain": [
       "                                                  seqs     mean       std\n",
       "21   STIEEQAKTFLDKFNHEAEDMFYQSSEASWNYNTNITEENVQNMNN... -6.16312  0.601258\n",
       "33   STIEEQAKTFLDKFNHEAEDMFYQSSIASWNYNTNITEENVQNMAN... -6.28283  0.177620\n",
       "848  STIEEQAKTFLDKFNHEAEDMFYQSSVASWNYNTNITEENVQNMNN... -6.50735  0.319429"
      ]
     },
     "execution_count": 24,
     "metadata": {},
     "output_type": "execute_result"
    }
   ],
   "source": [
    "merge_df[merge_df['mean']<train_best_value]"
   ]
  },
  {
   "cell_type": "code",
   "execution_count": null,
   "id": "a7d02c76-40f6-444c-b65f-07c2fb277883",
   "metadata": {},
   "outputs": [],
   "source": []
  },
  {
   "cell_type": "code",
   "execution_count": null,
   "id": "cf26079a-8d07-47e1-aad7-51f27b2b108a",
   "metadata": {},
   "outputs": [],
   "source": []
  },
  {
   "cell_type": "code",
   "execution_count": null,
   "id": "ce226eec-3f8d-46b9-897c-8f42c19672a4",
   "metadata": {},
   "outputs": [],
   "source": []
  },
  {
   "cell_type": "code",
   "execution_count": null,
   "id": "41cc97d4-b0dd-4c76-b49b-7381c0a381ae",
   "metadata": {},
   "outputs": [],
   "source": []
  },
  {
   "cell_type": "markdown",
   "id": "09baafe9-db02-4ff4-a1e6-503c87c42031",
   "metadata": {},
   "source": [
    "- ddG\n",
    "- 48 layers, 2.0, -1.1:  (-10.3086, -4.30885, -6.5473921) top-100:, Mean: -6.55, PCI-Best: 59.00%, PCI-Mean: 100.00%, PCI-WT: 100.00%\n",
    "- 48 layers, 2.0, -16.0: \n",
    "- 48 layers, 2.0, -20.0: \n",
    "----\n",
    "- 12 layers, 2.0, -40.0: (-11.1180, -5.06338, -7.6230689) top-100:, Mean: -7.62, PCI-Best: 86.00%, PCI-Mean: 100.00%, PCI-WT: 100.00%\n",
    "- 12 layers, 2.0, -30.0: (-10.7551, -3.49273, -7.1421891) top-100:, Mean: -7.14, PCI-Best: 78.00%, PCI-Mean: 100.00%, PCI-WT: 100.00%\n",
    "- 12 layers, 2.0, -20.0: (-9.11782, -3.98140, -6.4333598) top-100:, Mean: -6.42, PCI-Best: 61.00%, PCI-Mean: 100.00%, PCI-WT: 100.00%\n",
    "- 12 layers, 2.0, -16.0: (-10.7336, -4.24514, -6.5120394) top-100:, Mean: -6.50, PCI-Best: 57.00%, PCI-Mean: 100.00%, PCI-WT: 100.00%\n",
    "- 12 layers, 2.0, -12.0: (-9.68992, -3.71562, -6.3086163) top-100:, Mean: -6.31, PCI-Best: 51.00%, PCI-Mean: 100.00%, PCI-WT: 100.00%\n",
    "- 12 layers, 2.0, -8.0:  (-9.68992, -3.71562, -6.2394065) top-100:, Mean: -6.24, PCI-Best: 51.00%, PCI-Mean: 100.00%, PCI-WT: 100.00%\n",
    "- 12 layers, 2.0, -4.4:  (-8.92004, -3.21804, -6.1134886) top-100:, Mean: -6.11, PCI-Best: 44.00%, PCI-Mean: 100.00%, PCI-WT: 100.00%\n",
    "- 12 layers, 2.0, -3.3:  (-8.92004, -3.21804, -6.0910688) top-100:, Mean: -6.09, PCI-Best: 42.00%, PCI-Mean: 100.00%, PCI-WT: 100.00%\n",
    "- 12 layers, 2.0, -2.2:  (-8.92004, -3.90838, -6.1798431) top-100:, Mean: -6.18, PCI-Best: 48.00%, PCI-Mean: 100.00%, PCI-WT: 100.00%\n",
    "- 12 layers, 2.0, -1.1:  (-8.92004, -3.90838, -6.0117028) top-100:, Mean: -6.01, PCI-Best: 41.00%, PCI-Mean: 100.00%, PCI-WT: 100.00%\n",
    "----\n",
    "- 12 layers, 2.0, -2.2:  (-8.92004, -3.90838, -6.1798431) top-100:, Mean: -6.18, PCI-Best: 48.00%, PCI-Mean: 100.00%, PCI-WT: 100.00%\n",
    "- 12 layers, 3.0, -2.2:  (-8.82135, -3.97113, -5.9919683) top-100:, Mean: -5.99, PCI-Best: 42.00%, PCI-Mean: 100.00%, PCI-WT: 100.00%\n",
    "- 12 layers, 4.0, -2.2:  (-8.68691, -3.71562, -6.0338015) top-100:, Mean: -6.03, PCI-Best: 47.00%, PCI-Mean: 100.00%, PCI-WT: 100.00%\n",
    "- 12 layers, 5.0, -2.2:  (-8.40627, -3.59602, -5.6294986) top-100:, Mean: -5.63, PCI-Best: 29.00%, PCI-Mean: 100.00%, PCI-WT: 100.00%\n",
    "- 12 layers, 6.0, -2.2:  (-7.37210, -2.61703, -4.2659027) top-100:, Mean: -4.27, PCI-Best: 1.00%, PCI-Mean: 100.00%, PCI-WT: 100.00%\n",
    "----\n",
    "- solubility\n",
    "- 12 layers, 2.0, +:  \n",
    "- 12 layers, 2.0, +:  \n",
    "----\n",
    "- ddG_solubility\n",
    "- 12 layers, 2.0, -2.2:  \n",
    "- 12 layers, 2.0, -12.0:  \n",
    "----\n",
    "- few shot\n",
    "- 100 top ddG, solubility, ddG_solubility\n",
    "- 1000 top ddG, solubility, ddG_solubility\n",
    "- 10000 top ddG, solubility, ddG_solubility\n",
    "- 125000 tophalf (origin)\n",
    "----\n",
    "- SR\n",
    "----\n",
    "- Emin: paper=-8.71, [12][-40.0][2.0]=-7.54"
   ]
  },
  {
   "cell_type": "code",
   "execution_count": null,
   "id": "fae9ade1-9305-4328-ad67-f1086ec42dd9",
   "metadata": {},
   "outputs": [],
   "source": []
  },
  {
   "cell_type": "code",
   "execution_count": null,
   "id": "e218179a-3c92-407c-9fc2-e59e8e08b968",
   "metadata": {},
   "outputs": [],
   "source": []
  },
  {
   "cell_type": "code",
   "execution_count": null,
   "id": "00f24206-6d75-41c6-bb71-cd3a742dea2e",
   "metadata": {},
   "outputs": [],
   "source": []
  },
  {
   "cell_type": "markdown",
   "id": "46dfce73-b65e-4c56-ae4c-79b370597e8c",
   "metadata": {},
   "source": [
    "## analyze results"
   ]
  },
  {
   "cell_type": "code",
   "execution_count": 23,
   "id": "035fd1d1-8e9d-4c8f-acab-817145d61f15",
   "metadata": {},
   "outputs": [
    {
     "data": {
      "text/plain": [
       "-2.9358974358974357"
      ]
     },
     "execution_count": 23,
     "metadata": {},
     "output_type": "execute_result"
    }
   ],
   "source": [
    "# baseline method\n",
    "baseline_estimates = [-10]*0 + [-9]*0 + [-8]*1 + [-7.5]*5 + [-7]*10 + [-6]*70 + [-5]*100 + [-4]*150 + [-3]*200 + [-2]*50 + [-1]*30\n",
    "baseline_estimates = baseline_estimates + [-0]*45 + [1]*30 + [2]*20 + [3]*10 + [4]*10 + [5]*10\n",
    "np.mean(baseline_estimates)"
   ]
  },
  {
   "cell_type": "code",
   "execution_count": 24,
   "id": "e9179a8e-b01a-4869-adb9-4919ed4cccd8",
   "metadata": {},
   "outputs": [
    {
     "data": {
      "text/plain": [
       "-7.108843537414966"
      ]
     },
     "execution_count": 24,
     "metadata": {},
     "output_type": "execute_result"
    }
   ],
   "source": [
    "# paper results\n",
    "paper_estimates = [-11]*1 + [-10]*5 + [-9]*15 + [-8]*32 + [-7]*34 + [-6.2]*25 + [-6.0]*25 + [-5]*10\n",
    "np.mean(paper_estimates)"
   ]
  },
  {
   "cell_type": "code",
   "execution_count": null,
   "id": "70c21111-b7a0-4765-943b-0bc93bee1fa0",
   "metadata": {},
   "outputs": [],
   "source": []
  },
  {
   "cell_type": "code",
   "execution_count": 25,
   "id": "8005e04b-6704-4b16-95ff-eef6e63efb18",
   "metadata": {},
   "outputs": [
    {
     "data": {
      "text/plain": [
       "<matplotlib.legend.Legend at 0x2b466f36cb50>"
      ]
     },
     "execution_count": 25,
     "metadata": {},
     "output_type": "execute_result"
    },
    {
     "data": {
      "image/png": "[encoded data removed]",
      "text/plain": [
       "<Figure size 800x600 with 1 Axes>"
      ]
     },
     "metadata": {},
     "output_type": "display_data"
    }
   ],
   "source": [
    "plt.figure(figsize=(8, 6))\n",
    "plt.hist(train_data.ddG, density=True, label='125K train data', bins=[i for i in np.arange(-14, 14, 1)], alpha=0.4)\n",
    "plt.hist(avg_ddG_list[:10], density=True, label='My Model top10', bins=[i for i in np.arange(-14, 14, 1)], alpha=0.4)\n",
    "plt.hist(avg_ddG_list[:100], density=True, label='My Model top100', bins=[i for i in np.arange(-14, 14, 1)], alpha=0.4)\n",
    "plt.hist(avg_ddG_list[:1000], density=True, label='My Model top1000', bins=[i for i in np.arange(-14, 14, 1)], alpha=0.4)\n",
    "# plt.hist(paper_estimates, density=True, label='GENhance top100', bins=[i for i in np.arange(-12, 12, 1)], alpha=0.4)\n",
    "\n",
    "y_list = np.arange(0, 1, 0.1)\n",
    "x_list = [0.0]*len(y_list)\n",
    "plt.plot(x_list, y_list, label='Wilde Type', color='r', alpha=0.4)\n",
    "\n",
    "y_list = np.arange(0, 1, 0.1)\n",
    "x_list = [train_best_value]*len(y_list)\n",
    "plt.plot(x_list, y_list, label='train best value', color='purple', alpha=0.4)\n",
    "\n",
    "plt.ylim(0, 0.55)\n",
    "plt.xlabel(\"ddG\", size=14)\n",
    "plt.ylabel(\"Density\", size=14)\n",
    "# plt.title(\"Top100 Generation Comparison\")\n",
    "plt.legend(loc='upper right')\n",
    "# plt.savefig('./figures/gen_ddG_dist_topk.png', bbox_inches='tight')\n",
    "# plt.savefig('./figures/gen_ddG_dist_topk.pdf', bbox_inches='tight')"
   ]
  },
  {
   "cell_type": "code",
   "execution_count": null,
   "id": "5de77128-1ec8-46fe-b02d-1ff682d12b6e",
   "metadata": {},
   "outputs": [],
   "source": []
  },
  {
   "cell_type": "code",
   "execution_count": 46,
   "id": "854943d3-398b-4969-b36e-443ebc7419e0",
   "metadata": {},
   "outputs": [
    {
     "data": {
      "image/png": "[encoded data removed]",
      "text/plain": [
       "<Figure size 800x600 with 1 Axes>"
      ]
     },
     "metadata": {},
     "output_type": "display_data"
    }
   ],
   "source": [
    "plt.figure(figsize=(8, 6))\n",
    "plt.hist(train_data.ddG, density=True, label='125K train data', bins=[i for i in np.arange(-14, 14, 1)], alpha=0.4)\n",
    "plt.hist(avg_ddG_list[:10], density=True, label='My Model top10', bins=[i for i in np.arange(-14, 14, 1)], alpha=0.4)\n",
    "plt.hist(avg_ddG_list[:100], density=True, label='My Model top100', bins=[i for i in np.arange(-14, 14, 1)], alpha=0.4)\n",
    "plt.hist(avg_ddG_list[:1000], density=True, label='My Model top1000', bins=[i for i in np.arange(-14, 14, 1)], alpha=0.4)\n",
    "# plt.hist(paper_estimates, density=True, label='GENhance top100', bins=[i for i in np.arange(-12, 12, 1)], alpha=0.4)\n",
    "\n",
    "y_list = np.arange(0, 1, 0.1)\n",
    "x_list = [0.0]*len(y_list)\n",
    "plt.plot(x_list, y_list, label='Wilde Type', color='r', alpha=0.4)\n",
    "\n",
    "y_list = np.arange(0, 1, 0.1)\n",
    "x_list = [train_best_value]*len(y_list)\n",
    "plt.plot(x_list, y_list, label='train best value', color='purple', alpha=0.4)\n",
    "\n",
    "plt.ylim(0, 0.55)\n",
    "plt.xlabel(\"ddG\", size=14)\n",
    "plt.ylabel(\"Density\", size=14)\n",
    "# plt.title(\"Top100 Generation Comparison\")\n",
    "plt.legend(loc='upper right')\n",
    "# plt.savefig('./figures/gen_ddG_dist_topk.png', bbox_inches='tight')\n",
    "# plt.savefig('./figures/gen_ddG_dist_topk.pdf', bbox_inches='tight')"
   ]
  },
  {
   "cell_type": "code",
   "execution_count": 45,
   "id": "e09ca61d-ba35-4ab7-8498-b9e95f51fa9f",
   "metadata": {},
   "outputs": [
    {
     "data": {
      "image/png": "[encoded data removed]",
      "text/plain": [
       "<Figure size 800x600 with 1 Axes>"
      ]
     },
     "metadata": {},
     "output_type": "display_data"
    }
   ],
   "source": [
    "plt.figure(figsize=(8, 6))\n",
    "plt.hist(train_data.ddG, density=True, label='125K train data', bins=[i for i in np.arange(-14, 14, 1)], alpha=0.4)\n",
    "# plt.hist(avg_ddG_list[:10], density=True, label='My Model top10', bins=[i for i in np.arange(-14, 14, 1)], alpha=0.4)\n",
    "plt.hist(avg_ddG_list[:100], density=True, label='My Model top100', bins=[i for i in np.arange(-14, 14, 1)], alpha=0.4)\n",
    "# plt.hist(avg_ddG_list[:1000], density=True, label='My Model top1000', bins=[i for i in np.arange(-14, 14, 1)], alpha=0.4)\n",
    "plt.hist(paper_estimates, density=True, label='GENhance top100', bins=[i for i in np.arange(-12, 12, 1)], alpha=0.4)\n",
    "\n",
    "y_list = np.arange(0, 1, 0.1)\n",
    "x_list = [0.0]*len(y_list)\n",
    "plt.plot(x_list, y_list, label='Wilde Type', color='r', alpha=0.4)\n",
    "\n",
    "y_list = np.arange(0, 1, 0.1)\n",
    "x_list = [train_best_value]*len(y_list)\n",
    "plt.plot(x_list, y_list, label='train best value', color='purple', alpha=0.4)\n",
    "\n",
    "plt.ylim(0, 0.55)\n",
    "plt.xlabel(\"ddG\", size=14)\n",
    "plt.ylabel(\"Density\", size=14)\n",
    "# plt.title(\"Top100 Generation Comparison\")\n",
    "plt.legend(loc='upper right')\n",
    "plt.savefig('./figures/gen_ddG_dist_top100_comp.png', bbox_inches='tight')\n",
    "plt.savefig('./figures/gen_ddG_dist_top100_comp.pdf', bbox_inches='tight')"
   ]
  },
  {
   "cell_type": "code",
   "execution_count": null,
   "id": "e20fecf6-3962-4c7a-993c-a45404290a31",
   "metadata": {},
   "outputs": [],
   "source": []
  },
  {
   "cell_type": "code",
   "execution_count": null,
   "id": "e258c1be-1b97-4bf8-8fc4-5a3d9003b072",
   "metadata": {},
   "outputs": [],
   "source": []
  },
  {
   "cell_type": "code",
   "execution_count": 63,
   "id": "854e5281-5237-4970-913c-a800b5600298",
   "metadata": {},
   "outputs": [
    {
     "name": "stdout",
     "output_type": "stream",
     "text": [
      "Hamming distance stats 1000\n",
      "max:  8\n",
      "min:  3\n",
      "median:  6.0\n",
      "mean:  5.856\n",
      "std:  1.3027908504437693\n",
      "CPU times: user 7.95 s, sys: 67.6 ms, total: 8.02 s\n",
      "Wall time: 8.04 s\n"
     ]
    },
    {
     "data": {
      "text/plain": [
       "250000"
      ]
     },
     "execution_count": 63,
     "metadata": {},
     "output_type": "execute_result"
    }
   ],
   "source": [
    "%%time\n",
    "WT_seq = 'STIEEQAKTFLDKFNHEAEDLFYQSSLASWNYNTNITEENVQNMNNAGDKWSAFLKEQSTLAQMYPLQEIQNLTVKLQLQALQ'\n",
    "hamming_dist_list = [hamming_distance(seq, WT_seq) for seq in gen_seqs]\n",
    "gen_train_hamming_dist_list = [hamming_distance(row['MT_seq'], WT_seq) for index, row in train_data.iterrows()]\n",
    "\n",
    "print(f\"Hamming distance stats {len(gen_seqs)}\")\n",
    "print(\"max: \", np.max(hamming_dist_list))\n",
    "print(\"min: \", np.min(hamming_dist_list))\n",
    "print(\"median: \", np.median(hamming_dist_list))\n",
    "print(\"mean: \", np.mean(hamming_dist_list))\n",
    "print(\"std: \", np.std(hamming_dist_list))\n",
    "len(gen_train_hamming_dist_list)"
   ]
  },
  {
   "cell_type": "code",
   "execution_count": 67,
   "id": "9b9bcf21-4eee-4301-a76f-e4f3bddc5961",
   "metadata": {},
   "outputs": [
    {
     "data": {
      "image/png": "[encoded data removed]",
      "text/plain": [
       "<Figure size 800x600 with 1 Axes>"
      ]
     },
     "metadata": {},
     "output_type": "display_data"
    }
   ],
   "source": [
    "plt.figure(figsize=(8, 6))\n",
    "# plt.hist(hamming_dist_list, density=True, label='top1000 sequences', bins=[i for i in range(20)], alpha=0.4)\n",
    "# plt.hist(gen_train_hamming_dist_list, density=True, label='125K train data', bins=[i for i in range(20)], alpha=0.4)\n",
    "plt.hist(hamming_dist_list, density=True, label='top1000 sequences', alpha=0.4)\n",
    "plt.hist(gen_train_hamming_dist_list, density=True, label='250K train data', alpha=0.4)\n",
    "plt.xlabel(\"Hamming Distance\", size=14)\n",
    "plt.ylabel(\"Density\", size=14)\n",
    "# plt.title(\"Hamming Distance Distribution\")\n",
    "plt.legend(loc='upper left')\n",
    "plt.savefig('./figures/ddG_hamming_dist_top1000.png', bbox_inches='tight')\n",
    "plt.savefig('./figures/ddG_hamming_dist_top1000.pdf', bbox_inches='tight')"
   ]
  },
  {
   "cell_type": "code",
   "execution_count": null,
   "id": "191dfb76-eef7-4ada-bb17-04a7d97ec0fe",
   "metadata": {},
   "outputs": [],
   "source": []
  },
  {
   "cell_type": "code",
   "execution_count": null,
   "id": "7bf245c3-122a-40e0-b128-5e8c7188cf55",
   "metadata": {},
   "outputs": [],
   "source": []
  },
  {
   "cell_type": "code",
   "execution_count": null,
   "id": "36ab3db5-298d-474c-866d-a49a6b4984b9",
   "metadata": {},
   "outputs": [],
   "source": []
  },
  {
   "cell_type": "code",
   "execution_count": 85,
   "id": "b2ba1882-3b2a-44a1-8ed1-677ea14d59b1",
   "metadata": {},
   "outputs": [
    {
     "data": {
      "text/plain": [
       "100"
      ]
     },
     "execution_count": 85,
     "metadata": {},
     "output_type": "execute_result"
    }
   ],
   "source": [
    "len(topk_avg_ddG_list)"
   ]
  },
  {
   "cell_type": "code",
   "execution_count": 90,
   "id": "3b0cc289-eaf3-49dc-8e0c-9c0405a032e8",
   "metadata": {},
   "outputs": [
    {
     "data": {
      "text/plain": [
       "(-6.15326, 5.958470991966364)"
      ]
     },
     "execution_count": 90,
     "metadata": {},
     "output_type": "execute_result"
    }
   ],
   "source": [
    "# train_best_value = np.min(train_data_ddG)\n",
    "train_best_value = min(train_data.sort_values(by='ddG', ascending=True)[1:].ddG)\n",
    "train_mean_value = np.mean(train_data_ddG)\n",
    "\n",
    "\n",
    "def Mean(topk_avg_ddG_list):\n",
    "    return 'Mean: {:.2f}'.format(np.mean(topk_avg_ddG_list))\n",
    "\n",
    "def PCI_best(topk_avg_ddG_list):\n",
    "    num_improve = (np.array(topk_avg_ddG_list) <= train_best_value).sum()\n",
    "    PCI = num_improve/len(topk_avg_ddG_list)*100\n",
    "    return 'PCI-Best: {:.2f}%'.format(PCI)\n",
    "\n",
    "def PCI_mean(topk_avg_ddG_list):\n",
    "    num_improve = (np.array(topk_avg_ddG_list) <= train_mean_value).sum()\n",
    "    PCI = num_improve/len(topk_avg_ddG_list)*100\n",
    "    return 'PCI-Mean: {:.2f}%'.format(PCI)\n",
    "\n",
    "def PCI_WT(topk_avg_ddG_list):\n",
    "    num_improve = (np.array(topk_avg_ddG_list) <= 0).sum()\n",
    "    PCI = num_improve/len(topk_avg_ddG_list)*100\n",
    "    return 'PCI-WT: {:.2f}%'.format(PCI)\n",
    "\n",
    "train_best_value, train_mean_value"
   ]
  },
  {
   "cell_type": "code",
   "execution_count": null,
   "id": "fb754bfd-050d-4178-bd2e-d72963ae6085",
   "metadata": {},
   "outputs": [],
   "source": []
  },
  {
   "cell_type": "code",
   "execution_count": null,
   "id": "4e51bd65-22bb-4d91-90b8-3cefe373890e",
   "metadata": {},
   "outputs": [],
   "source": []
  },
  {
   "cell_type": "code",
   "execution_count": 91,
   "id": "db40067a-e39a-408a-ad85-7f667cb71cff",
   "metadata": {},
   "outputs": [
    {
     "data": {
      "text/plain": [
       "'top-10:, Mean: -8.00, PCI-Best: 100.00%, PCI-Mean: 100.00%, PCI-WT: 100.00%'"
      ]
     },
     "execution_count": 91,
     "metadata": {},
     "output_type": "execute_result"
    }
   ],
   "source": [
    "'{}, {}, {}, {}, {}'.format(f'top-{len(topk_avg_ddG_list)}:', Mean(topk_avg_ddG_list), PCI_best(topk_avg_ddG_list), PCI_mean(topk_avg_ddG_list), PCI_WT(topk_avg_ddG_list))"
   ]
  },
  {
   "cell_type": "code",
   "execution_count": null,
   "id": "bd8d87f8-508d-4c72-87cb-c301bfe366c7",
   "metadata": {},
   "outputs": [],
   "source": []
  },
  {
   "cell_type": "code",
   "execution_count": 378,
   "id": "7cfc50d6-f62b-4451-80dd-8f1eb96b4988",
   "metadata": {},
   "outputs": [
    {
     "data": {
      "text/plain": [
       "'top-147:, Mean: -7.11, PCI-Best: 76.19%, PCI-Mean: 100.00%, PCI-WT: 100.00%'"
      ]
     },
     "execution_count": 378,
     "metadata": {},
     "output_type": "execute_result"
    }
   ],
   "source": [
    "'{}, {}, {}, {}, {}'.format(f'top-{len(paper_estimates)}:', Mean(paper_estimates), PCI_best(paper_estimates), PCI_mean(paper_estimates), PCI_WT(paper_estimates))"
   ]
  },
  {
   "cell_type": "code",
   "execution_count": null,
   "id": "add5424b-9b95-48c0-b4f4-762db1e521fe",
   "metadata": {},
   "outputs": [],
   "source": []
  },
  {
   "cell_type": "code",
   "execution_count": null,
   "id": "a7de4aea-0409-472b-b2a8-b8d82d356845",
   "metadata": {},
   "outputs": [],
   "source": []
  },
  {
   "cell_type": "code",
   "execution_count": 129,
   "id": "8fa38e01-35d3-4ef3-b3a2-8d94ef0cb4e0",
   "metadata": {},
   "outputs": [],
   "source": [
    "# np.save('./congen4_eval_ddG_list.npy', topk_avg_ddG_list)"
   ]
  },
  {
   "cell_type": "code",
   "execution_count": null,
   "id": "b35cf1dc-7567-4bae-a116-1c4353faa460",
   "metadata": {},
   "outputs": [],
   "source": []
  },
  {
   "cell_type": "code",
   "execution_count": null,
   "id": "2be83f02-daca-4295-865b-bda1d6859d48",
   "metadata": {},
   "outputs": [],
   "source": []
  },
  {
   "cell_type": "code",
   "execution_count": null,
   "id": "d98cd72b-8b58-4645-bab6-7b97a521ad2e",
   "metadata": {},
   "outputs": [],
   "source": []
  }
 ],
 "metadata": {
  "kernelspec": {
   "display_name": "Python [conda env:hwj] *",
   "language": "python",
   "name": "conda-env-hwj-py"
  },
  "language_info": {
   "codemirror_mode": {
    "name": "ipython",
    "version": 3
   },
   "file_extension": ".py",
   "mimetype": "text/x-python",
   "name": "python",
   "nbconvert_exporter": "python",
   "pygments_lexer": "ipython3",
   "version": "3.11.2"
  }
 },
 "nbformat": 4,
 "nbformat_minor": 5
}
