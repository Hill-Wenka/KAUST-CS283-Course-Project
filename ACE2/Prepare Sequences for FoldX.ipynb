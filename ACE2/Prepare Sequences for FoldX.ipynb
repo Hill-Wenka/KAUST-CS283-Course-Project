{
 "cells": [
  {
   "cell_type": "code",
   "execution_count": 59,
   "outputs": [
    {
     "name": "stdout",
     "output_type": "stream",
     "text": [
      "/home/hew/python/genhance\n",
      "\u001B[0m\u001B[01;34mACE2\u001B[0m/  \u001B[01;34mdebug\u001B[0m/   \u001B[01;34mtemp\u001B[0m/         \u001B[01;34mtransformers_custom\u001B[0m/  \u001B[01;34mvisualize\u001B[0m/\r\n",
      "\u001B[01;34mdata\u001B[0m/  \u001B[01;34moutput\u001B[0m/  \u001B[01;34mtensorboard\u001B[0m/  \u001B[01;34mvis\u001B[0m/\r\n"
     ]
    }
   ],
   "source": [
    "%cd '/home/hew/python/genhance/'\n",
    "%ls"
   ],
   "metadata": {
    "collapsed": false,
    "ExecuteTime": {
     "start_time": "2023-04-28T11:51:48.725395Z",
     "end_time": "2023-04-28T11:51:48.871291Z"
    }
   }
  },
  {
   "cell_type": "code",
   "execution_count": 60,
   "outputs": [
    {
     "name": "stdout",
     "output_type": "stream",
     "text": [
      "Fri Apr 28 08:51:51 2023       \r\n",
      "+-----------------------------------------------------------------------------+\r\n",
      "| NVIDIA-SMI 525.85.12    Driver Version: 525.85.12    CUDA Version: 12.0     |\r\n",
      "|-------------------------------+----------------------+----------------------+\r\n",
      "| GPU  Name        Persistence-M| Bus-Id        Disp.A | Volatile Uncorr. ECC |\r\n",
      "| Fan  Temp  Perf  Pwr:Usage/Cap|         Memory-Usage | GPU-Util  Compute M. |\r\n",
      "|                               |                      |               MIG M. |\r\n",
      "|===============================+======================+======================|\r\n",
      "|   0  NVIDIA A100-SXM...  Off  | 00000000:00:05.0 Off |                    0 |\r\n",
      "| N/A   39C    P0    73W / 400W |  18647MiB / 81920MiB |      0%      Default |\r\n",
      "|                               |                      |             Disabled |\r\n",
      "+-------------------------------+----------------------+----------------------+\r\n",
      "|   1  NVIDIA A100-SXM...  Off  | 00000000:00:06.0 Off |                    0 |\r\n",
      "| N/A   48C    P0    77W / 400W |  22869MiB / 81920MiB |      0%      Default |\r\n",
      "|                               |                      |             Disabled |\r\n",
      "+-------------------------------+----------------------+----------------------+\r\n",
      "                                                                               \r\n",
      "+-----------------------------------------------------------------------------+\r\n",
      "| Processes:                                                                  |\r\n",
      "|  GPU   GI   CI        PID   Type   Process name                  GPU Memory |\r\n",
      "|        ID   ID                                                   Usage      |\r\n",
      "|=============================================================================|\r\n",
      "|    0   N/A  N/A     10123      C   .../envs/genhance/bin/python    18644MiB |\r\n",
      "|    1   N/A  N/A     10123      C   .../envs/genhance/bin/python    22866MiB |\r\n",
      "+-----------------------------------------------------------------------------+\r\n"
     ]
    }
   ],
   "source": [
    "!nvidia-smi"
   ],
   "metadata": {
    "collapsed": false,
    "ExecuteTime": {
     "start_time": "2023-04-28T11:51:50.079617Z",
     "end_time": "2023-04-28T11:51:50.627993Z"
    }
   }
  },
  {
   "cell_type": "code",
   "execution_count": 60,
   "outputs": [],
   "source": [],
   "metadata": {
    "collapsed": false,
    "ExecuteTime": {
     "start_time": "2023-04-28T11:51:50.807357Z",
     "end_time": "2023-04-28T11:51:50.809355Z"
    }
   }
  },
  {
   "cell_type": "code",
   "execution_count": 61,
   "id": "digital-parallel",
   "metadata": {
    "ExecuteTime": {
     "start_time": "2023-04-28T11:51:53.704156Z",
     "end_time": "2023-04-28T11:51:53.705161Z"
    }
   },
   "outputs": [],
   "source": [
    "import os\n",
    "import numpy as np\n",
    "import pandas as pd\n",
    "import pickle\n",
    "import matplotlib.pyplot as plt\n",
    "from pathlib import Path"
   ]
  },
  {
   "cell_type": "code",
   "execution_count": 62,
   "id": "local-score",
   "metadata": {
    "ExecuteTime": {
     "start_time": "2023-04-28T11:51:54.498787Z",
     "end_time": "2023-04-28T11:51:54.499787Z"
    }
   },
   "outputs": [],
   "source": [
    "before_foldx = True"
   ]
  },
  {
   "cell_type": "code",
   "execution_count": 64,
   "outputs": [],
   "source": [
    "train_data_path = '/home/hew/python/genhance/data/train_new_all_data.pkl'\n",
    "# congen_name = 'congen8_new_ddG_6_layer'\n",
    "# congen_name = 'congen9_new_solubility_6_layer'\n",
    "congen_name = 'congen10_new_ddG_solubility_6_layer'\n",
    "\n",
    "ckpt_step = 'final'\n",
    "# dir = 'generations_[12.0]_[1.0]'\n",
    "dir = 'generations_[-30.0]_[1.0]_[1.0]'\n",
    "\n",
    "pkl_dir = f'/home/hew/storage/storage/genhance/ckpts/{congen_name}/{dir}/'"
   ],
   "metadata": {
    "collapsed": false,
    "ExecuteTime": {
     "start_time": "2023-04-28T11:51:58.361625Z",
     "end_time": "2023-04-28T11:51:58.363625Z"
    }
   }
  },
  {
   "cell_type": "code",
   "execution_count": 65,
   "outputs": [
    {
     "data": {
      "text/plain": "('/home/hew/storage/storage/genhance/ckpts/congen10_new_ddG_solubility_6_layer/generations_[-30.0]_[1.0]_[1.0]/',\n [],\n ['congen10_new_ddG_solubility_6_layer-latent-260000.pkl',\n  'congen10_new_ddG_solubility_6_layer-gens-260000.tsv',\n  'congen10_new_ddG_solubility_6_layer-gens-163918-260000.pkl',\n  'congen10_new_ddG_solubility_6_layer-gens-260000.pkl'])"
     },
     "execution_count": 65,
     "metadata": {},
     "output_type": "execute_result"
    }
   ],
   "source": [
    "list(os.walk(pkl_dir))[0]"
   ],
   "metadata": {
    "collapsed": false,
    "ExecuteTime": {
     "start_time": "2023-04-28T11:51:58.952756Z",
     "end_time": "2023-04-28T11:51:58.995756Z"
    }
   }
  },
  {
   "cell_type": "code",
   "execution_count": 67,
   "outputs": [
    {
     "data": {
      "text/plain": "'/home/hew/storage/storage/genhance/ckpts/congen10_new_ddG_solubility_6_layer/generations_[-30.0]_[1.0]_[1.0]/congen10_new_ddG_solubility_6_layer-gens-260000.tsv'"
     },
     "execution_count": 67,
     "metadata": {},
     "output_type": "execute_result"
    }
   ],
   "source": [
    "index = -3\n",
    "file = list(os.walk(pkl_dir))[0][-1][index]\n",
    "tsv_path = f'/home/hew/storage/storage/genhance/ckpts/{congen_name}/{dir}/{file}'\n",
    "tsv_path"
   ],
   "metadata": {
    "collapsed": false,
    "ExecuteTime": {
     "start_time": "2023-04-28T11:52:12.259548Z",
     "end_time": "2023-04-28T11:52:12.263545Z"
    }
   }
  },
  {
   "cell_type": "code",
   "execution_count": 68,
   "outputs": [
    {
     "data": {
      "text/plain": "PosixPath('/home/hew/python/genhance/output/congen10_new_ddG_solubility_6_layer_gens_step_final_[-30.0]_[1.0]_[1.0]')"
     },
     "execution_count": 68,
     "metadata": {},
     "output_type": "execute_result"
    }
   ],
   "source": [
    "# suffix = '[12.0]_[1.0]'\n",
    "suffix = '[-30.0]_[1.0]_[1.0]'\n",
    "output_dir = f'/home/hew/python/genhance/output/{congen_name}_gens_step_{ckpt_step}_{suffix}/'\n",
    "output_dir = Path(output_dir)\n",
    "output_dir.mkdir(parents=True, exist_ok=True)\n",
    "output_dir"
   ],
   "metadata": {
    "collapsed": false,
    "ExecuteTime": {
     "start_time": "2023-04-28T11:52:20.187229Z",
     "end_time": "2023-04-28T11:52:20.192229Z"
    }
   }
  },
  {
   "cell_type": "code",
   "execution_count": 69,
   "outputs": [
    {
     "data": {
      "text/plain": "(32, 'NTNITEEN')"
     },
     "execution_count": 69,
     "metadata": {},
     "output_type": "execute_result"
    }
   ],
   "source": [
    "wt_seq = 'STIEEQAKTFLDKFNHEAEDLFYQSSLASWNYNTNITEENVQNMNNAGDKWSAFLKEQSTLAQMYPLQEIQNLTVKLQLQALQ'\n",
    "WT_seq = 'STIEEQAKTFLDKFNHEAEDLFYQSSLASWNYNTNITEENVQNMNNAGDKWSAFLKEQSTLAQMYPLQEIQNLTVKLQLQALQ'\n",
    "constant_region = 'NTNITEEN'\n",
    "wt_cs_ind = wt_seq.index(constant_region)\n",
    "wt_cs_ind, wt_seq[32:32 + 8]"
   ],
   "metadata": {
    "collapsed": false,
    "ExecuteTime": {
     "start_time": "2023-04-28T11:52:21.197748Z",
     "end_time": "2023-04-28T11:52:21.243203Z"
    }
   }
  },
  {
   "cell_type": "code",
   "execution_count": 69,
   "outputs": [],
   "source": [],
   "metadata": {
    "collapsed": false,
    "ExecuteTime": {
     "start_time": "2023-04-28T11:52:23.207392Z",
     "end_time": "2023-04-28T11:52:23.209390Z"
    }
   }
  },
  {
   "cell_type": "markdown",
   "source": [
    "# Analyze 250K gen seqs and prepare for FoldX"
   ],
   "metadata": {
    "collapsed": false
   }
  },
  {
   "cell_type": "code",
   "execution_count": 70,
   "outputs": [
    {
     "data": {
      "text/plain": "                                                   MT_seq  ddG_latent_pred  \\\n0       STIEEQAKTFLDKFNHEAEDLFYQSSLASWNYNTNITEENVQNMNN...       -10.307658   \n1       SDIEEQAKTFLDKFNHEAEDFQYQSSLASWNYNTNITEENVQNMNN...        -9.772393   \n2       SSIEEQAKYFLDKFNHEAEDLFYQSSLASWNYNTNITEENVQNMNN...        -9.608262   \n3       STIEEQAKTFLDKFNHEAEDLFYQSSLASWNYNTNITEENVQNMNN...       -10.861493   \n4       STIEEQAKIFLDKFNHEAEDFFYQSSLASWFYNTNITEENVQNMNN...       -10.735771   \n...                                                   ...              ...   \n260057  STIEEQAKTFLDKFNHEASDSFYQSSIASWNYNTNITEENVQNMNN...         1.796386   \n260058  STIEEQAKTFLDKFNHEAEDLFYQSSLASWNYNTNITESGQVSLNI...         2.174142   \n260059  STIEEQAKTFLDKFNHEAEDLFYYSSLASWNYNTNITEIQNQTLQD...         2.470599   \n260060  STIEEQAKTFLDKFNHQAEDLFYQSSLAMWNKNTNITQENVQAMSN...         2.845864   \n260061  STIEEQAKTFLDKFNHEAEDLFYWSSLASWNYNTNITNIQQLDNAT...         2.773896   \n\n        solubility_latent_pred  \\\n0                     7.495675   \n1                     7.918597   \n2                     8.043570   \n3                     7.116463   \n4                     7.133160   \n...                        ...   \n260057               -2.401845   \n260058               -1.381156   \n260059               -1.585549   \n260060               -1.392259   \n260061               -1.445364   \n\n                                            gen_input_seq            PDB  \\\n0       STIEEQAKTFLDKFNHEAEDLFYQSSLASWNYNTNITEENVQNMNN...  template2.pdb   \n1       SDIEEQAKTFLDKFNHEAEDLQYQSSLASWNYNTNITEENVQNMNN...  template2.pdb   \n2       SSIEEQAKYFLDKFNHEAEDLFYQSSLASWNYNTNITEENVQNMNN...  template2.pdb   \n3       STIEEQAKTFLDKFNHEAEDLFYQSSLASWNYNTNITEENVQNMNN...  template2.pdb   \n4       STIEEQAKTFLDKFNHEAEDLFYQSFLASWIYNTNITEENVQNMNN...  template2.pdb   \n...                                                   ...            ...   \n260057  STIEEQAKTFLDKFNHEAEDSFYQSSIASWNYNTNITEENVQNMNN...  template2.pdb   \n260058  STIEEQAKTFLDKFNHEAEDLFYQSSLASWNYNTNITEENVQDMNN...  template2.pdb   \n260059  STIEEQAKTFLDKFNHEAEDLFYYSSLASWNYNTNITEENVQNMQN...  template2.pdb   \n260060  STIEEQAKTFLDKFNHEAEDLFYQSSLAKWNMNTNITEENVQAMNN...  template2.pdb   \n260061  STIEEQAKTFLDKFNHEAEDLFYWSSLASWNYNTNITEENVQNMNN...  template2.pdb   \n\n       Chain  Start_index                                             WT_seq  \\\n0          A           19  STIEEQAKTFLDKFNHEAEDLFYQSSLASWNYNTNITEENVQNMNN...   \n1          A           19  STIEEQAKTFLDKFNHEAEDLFYQSSLASWNYNTNITEENVQNMNN...   \n2          A           19  STIEEQAKTFLDKFNHEAEDLFYQSSLASWNYNTNITEENVQNMNN...   \n3          A           19  STIEEQAKTFLDKFNHEAEDLFYQSSLASWNYNTNITEENVQNMNN...   \n4          A           19  STIEEQAKTFLDKFNHEAEDLFYQSSLASWNYNTNITEENVQNMNN...   \n...      ...          ...                                                ...   \n260057     A           19  STIEEQAKTFLDKFNHEAEDLFYQSSLASWNYNTNITEENVQNMNN...   \n260058     A           19  STIEEQAKTFLDKFNHEAEDLFYQSSLASWNYNTNITEENVQNMNN...   \n260059     A           19  STIEEQAKTFLDKFNHEAEDLFYQSSLASWNYNTNITEENVQNMNN...   \n260060     A           19  STIEEQAKTFLDKFNHEAEDLFYQSSLASWNYNTNITEENVQNMNN...   \n260061     A           19  STIEEQAKTFLDKFNHEAEDLFYQSSLASWNYNTNITEENVQNMNN...   \n\n        repeated_gen  in_train_data_gen  ddG_latent_pred_rank  \\\n0              False              False               18557.0   \n1              False              False               22064.0   \n2              False              False               23185.0   \n3              False              False               15181.0   \n4              False              False               15890.0   \n...              ...                ...                   ...   \n260057         False              False              251122.0   \n260058         False              False              253471.0   \n260059         False              False              254795.0   \n260060         False              False              255969.0   \n260061         False              False              255785.0   \n\n        solubility_latent_pred_rank  avg_latent_head_pred_rank  \n0                           12982.0                    15769.5  \n1                           10351.0                    16207.5  \n2                            9634.0                    16409.5  \n3                           17658.0                    16419.5  \n4                           17378.0                    16634.0  \n...                             ...                        ...  \n260057                     255865.0                   253493.5  \n260058                     254150.0                   253810.5  \n260059                     254779.0                   254787.0  \n260060                     254200.0                   255084.5  \n260061                     254426.0                   255105.5  \n\n[260062 rows x 13 columns]",
      "text/html": "<div>\n<style scoped>\n    .dataframe tbody tr th:only-of-type {\n        vertical-align: middle;\n    }\n\n    .dataframe tbody tr th {\n        vertical-align: top;\n    }\n\n    .dataframe thead th {\n        text-align: right;\n    }\n</style>\n<table border=\"1\" class=\"dataframe\">\n  <thead>\n    <tr style=\"text-align: right;\">\n      <th></th>\n      <th>MT_seq</th>\n      <th>ddG_latent_pred</th>\n      <th>solubility_latent_pred</th>\n      <th>gen_input_seq</th>\n      <th>PDB</th>\n      <th>Chain</th>\n      <th>Start_index</th>\n      <th>WT_seq</th>\n      <th>repeated_gen</th>\n      <th>in_train_data_gen</th>\n      <th>ddG_latent_pred_rank</th>\n      <th>solubility_latent_pred_rank</th>\n      <th>avg_latent_head_pred_rank</th>\n    </tr>\n  </thead>\n  <tbody>\n    <tr>\n      <th>0</th>\n      <td>STIEEQAKTFLDKFNHEAEDLFYQSSLASWNYNTNITEENVQNMNN...</td>\n      <td>-10.307658</td>\n      <td>7.495675</td>\n      <td>STIEEQAKTFLDKFNHEAEDLFYQSSLASWNYNTNITEENVQNMNN...</td>\n      <td>template2.pdb</td>\n      <td>A</td>\n      <td>19</td>\n      <td>STIEEQAKTFLDKFNHEAEDLFYQSSLASWNYNTNITEENVQNMNN...</td>\n      <td>False</td>\n      <td>False</td>\n      <td>18557.0</td>\n      <td>12982.0</td>\n      <td>15769.5</td>\n    </tr>\n    <tr>\n      <th>1</th>\n      <td>SDIEEQAKTFLDKFNHEAEDFQYQSSLASWNYNTNITEENVQNMNN...</td>\n      <td>-9.772393</td>\n      <td>7.918597</td>\n      <td>SDIEEQAKTFLDKFNHEAEDLQYQSSLASWNYNTNITEENVQNMNN...</td>\n      <td>template2.pdb</td>\n      <td>A</td>\n      <td>19</td>\n      <td>STIEEQAKTFLDKFNHEAEDLFYQSSLASWNYNTNITEENVQNMNN...</td>\n      <td>False</td>\n      <td>False</td>\n      <td>22064.0</td>\n      <td>10351.0</td>\n      <td>16207.5</td>\n    </tr>\n    <tr>\n      <th>2</th>\n      <td>SSIEEQAKYFLDKFNHEAEDLFYQSSLASWNYNTNITEENVQNMNN...</td>\n      <td>-9.608262</td>\n      <td>8.043570</td>\n      <td>SSIEEQAKYFLDKFNHEAEDLFYQSSLASWNYNTNITEENVQNMNN...</td>\n      <td>template2.pdb</td>\n      <td>A</td>\n      <td>19</td>\n      <td>STIEEQAKTFLDKFNHEAEDLFYQSSLASWNYNTNITEENVQNMNN...</td>\n      <td>False</td>\n      <td>False</td>\n      <td>23185.0</td>\n      <td>9634.0</td>\n      <td>16409.5</td>\n    </tr>\n    <tr>\n      <th>3</th>\n      <td>STIEEQAKTFLDKFNHEAEDLFYQSSLASWNYNTNITEENVQNMNN...</td>\n      <td>-10.861493</td>\n      <td>7.116463</td>\n      <td>STIEEQAKTFLDKFNHEAEDLFYQSSLASWNYNTNITEENVQNMNN...</td>\n      <td>template2.pdb</td>\n      <td>A</td>\n      <td>19</td>\n      <td>STIEEQAKTFLDKFNHEAEDLFYQSSLASWNYNTNITEENVQNMNN...</td>\n      <td>False</td>\n      <td>False</td>\n      <td>15181.0</td>\n      <td>17658.0</td>\n      <td>16419.5</td>\n    </tr>\n    <tr>\n      <th>4</th>\n      <td>STIEEQAKIFLDKFNHEAEDFFYQSSLASWFYNTNITEENVQNMNN...</td>\n      <td>-10.735771</td>\n      <td>7.133160</td>\n      <td>STIEEQAKTFLDKFNHEAEDLFYQSFLASWIYNTNITEENVQNMNN...</td>\n      <td>template2.pdb</td>\n      <td>A</td>\n      <td>19</td>\n      <td>STIEEQAKTFLDKFNHEAEDLFYQSSLASWNYNTNITEENVQNMNN...</td>\n      <td>False</td>\n      <td>False</td>\n      <td>15890.0</td>\n      <td>17378.0</td>\n      <td>16634.0</td>\n    </tr>\n    <tr>\n      <th>...</th>\n      <td>...</td>\n      <td>...</td>\n      <td>...</td>\n      <td>...</td>\n      <td>...</td>\n      <td>...</td>\n      <td>...</td>\n      <td>...</td>\n      <td>...</td>\n      <td>...</td>\n      <td>...</td>\n      <td>...</td>\n      <td>...</td>\n    </tr>\n    <tr>\n      <th>260057</th>\n      <td>STIEEQAKTFLDKFNHEASDSFYQSSIASWNYNTNITEENVQNMNN...</td>\n      <td>1.796386</td>\n      <td>-2.401845</td>\n      <td>STIEEQAKTFLDKFNHEAEDSFYQSSIASWNYNTNITEENVQNMNN...</td>\n      <td>template2.pdb</td>\n      <td>A</td>\n      <td>19</td>\n      <td>STIEEQAKTFLDKFNHEAEDLFYQSSLASWNYNTNITEENVQNMNN...</td>\n      <td>False</td>\n      <td>False</td>\n      <td>251122.0</td>\n      <td>255865.0</td>\n      <td>253493.5</td>\n    </tr>\n    <tr>\n      <th>260058</th>\n      <td>STIEEQAKTFLDKFNHEAEDLFYQSSLASWNYNTNITESGQVSLNI...</td>\n      <td>2.174142</td>\n      <td>-1.381156</td>\n      <td>STIEEQAKTFLDKFNHEAEDLFYQSSLASWNYNTNITEENVQDMNN...</td>\n      <td>template2.pdb</td>\n      <td>A</td>\n      <td>19</td>\n      <td>STIEEQAKTFLDKFNHEAEDLFYQSSLASWNYNTNITEENVQNMNN...</td>\n      <td>False</td>\n      <td>False</td>\n      <td>253471.0</td>\n      <td>254150.0</td>\n      <td>253810.5</td>\n    </tr>\n    <tr>\n      <th>260059</th>\n      <td>STIEEQAKTFLDKFNHEAEDLFYYSSLASWNYNTNITEIQNQTLQD...</td>\n      <td>2.470599</td>\n      <td>-1.585549</td>\n      <td>STIEEQAKTFLDKFNHEAEDLFYYSSLASWNYNTNITEENVQNMQN...</td>\n      <td>template2.pdb</td>\n      <td>A</td>\n      <td>19</td>\n      <td>STIEEQAKTFLDKFNHEAEDLFYQSSLASWNYNTNITEENVQNMNN...</td>\n      <td>False</td>\n      <td>False</td>\n      <td>254795.0</td>\n      <td>254779.0</td>\n      <td>254787.0</td>\n    </tr>\n    <tr>\n      <th>260060</th>\n      <td>STIEEQAKTFLDKFNHQAEDLFYQSSLAMWNKNTNITQENVQAMSN...</td>\n      <td>2.845864</td>\n      <td>-1.392259</td>\n      <td>STIEEQAKTFLDKFNHEAEDLFYQSSLAKWNMNTNITEENVQAMNN...</td>\n      <td>template2.pdb</td>\n      <td>A</td>\n      <td>19</td>\n      <td>STIEEQAKTFLDKFNHEAEDLFYQSSLASWNYNTNITEENVQNMNN...</td>\n      <td>False</td>\n      <td>False</td>\n      <td>255969.0</td>\n      <td>254200.0</td>\n      <td>255084.5</td>\n    </tr>\n    <tr>\n      <th>260061</th>\n      <td>STIEEQAKTFLDKFNHEAEDLFYWSSLASWNYNTNITNIQQLDNAT...</td>\n      <td>2.773896</td>\n      <td>-1.445364</td>\n      <td>STIEEQAKTFLDKFNHEAEDLFYWSSLASWNYNTNITEENVQNMNN...</td>\n      <td>template2.pdb</td>\n      <td>A</td>\n      <td>19</td>\n      <td>STIEEQAKTFLDKFNHEAEDLFYQSSLASWNYNTNITEENVQNMNN...</td>\n      <td>False</td>\n      <td>False</td>\n      <td>255785.0</td>\n      <td>254426.0</td>\n      <td>255105.5</td>\n    </tr>\n  </tbody>\n</table>\n<p>260062 rows × 13 columns</p>\n</div>"
     },
     "execution_count": 70,
     "metadata": {},
     "output_type": "execute_result"
    }
   ],
   "source": [
    "gen250k_df = pd.read_table(tsv_path)\n",
    "gen250k_df"
   ],
   "metadata": {
    "collapsed": false,
    "ExecuteTime": {
     "start_time": "2023-04-28T11:52:23.588429Z",
     "end_time": "2023-04-28T11:52:24.583498Z"
    }
   }
  },
  {
   "cell_type": "code",
   "execution_count": 71,
   "outputs": [
    {
     "data": {
      "text/plain": "{83, 87, 91, 95}"
     },
     "execution_count": 71,
     "metadata": {},
     "output_type": "execute_result"
    }
   ],
   "source": [
    "MT_seq_lens = [len(seq) for seq in gen250k_df.MT_seq]\n",
    "set(MT_seq_lens)"
   ],
   "metadata": {
    "collapsed": false,
    "ExecuteTime": {
     "start_time": "2023-04-28T11:52:24.767116Z",
     "end_time": "2023-04-28T11:52:24.767116Z"
    }
   }
  },
  {
   "cell_type": "code",
   "execution_count": 71,
   "outputs": [],
   "source": [],
   "metadata": {
    "collapsed": false,
    "ExecuteTime": {
     "start_time": "2023-04-28T11:52:26.245073Z",
     "end_time": "2023-04-28T11:52:26.246073Z"
    }
   }
  },
  {
   "cell_type": "markdown",
   "source": [
    "## filter out sequences without constant region"
   ],
   "metadata": {
    "collapsed": false
   }
  },
  {
   "cell_type": "code",
   "execution_count": 72,
   "outputs": [
    {
     "data": {
      "text/plain": "True"
     },
     "execution_count": 72,
     "metadata": {},
     "output_type": "execute_result"
    }
   ],
   "source": [
    "constant_region in gen250k_df.iloc[0]['MT_seq']"
   ],
   "metadata": {
    "collapsed": false,
    "ExecuteTime": {
     "start_time": "2023-04-28T11:52:27.301444Z",
     "end_time": "2023-04-28T11:52:27.305495Z"
    }
   }
  },
  {
   "cell_type": "code",
   "execution_count": 73,
   "outputs": [],
   "source": [
    "indices_to_drop = []\n",
    "dropped_seqs = []\n",
    "num_contain_non_bias_cons = 0\n",
    "num_contain_bias_cons = 0\n",
    "for index, row in gen250k_df.iterrows():\n",
    "    seq = row['MT_seq']\n",
    "    if constant_region not in seq:\n",
    "        indices_to_drop.append(index)\n",
    "        dropped_seqs.append(seq)\n",
    "    else:\n",
    "        num_contain_non_bias_cons += 1\n",
    "        cs_ind = seq.index(constant_region)\n",
    "        if cs_ind != wt_cs_ind:\n",
    "            indices_to_drop.append(index)\n",
    "            dropped_seqs.append(seq)\n",
    "            num_contain_bias_cons += 1"
   ],
   "metadata": {
    "collapsed": false,
    "ExecuteTime": {
     "start_time": "2023-04-28T11:52:28.552855Z",
     "end_time": "2023-04-28T11:52:38.295494Z"
    }
   }
  },
  {
   "cell_type": "code",
   "execution_count": 74,
   "outputs": [
    {
     "name": "stdout",
     "output_type": "stream",
     "text": [
      "31007\n",
      "[11, 14, 28, 49, 58, 69, 98, 111, 114, 118]\n",
      "['STIEEQAKIFMDKFNHEAEDFIYQASIEFWNYNTNITEERIQNMNNAVDKWSAFLKEMSDIAQMYPLQEIQNLTVKLQLQALQ', 'STIEEQAKTFMDKFNHEAEDIFYQWSFASWNYNTNINEENVQNMNNAGDKWSAFLKEMSDLAQMYPLQEIQNLTVKLQLQALQ', 'STIEEQAKTFLDKFNHEAEDRFYQSSIESWNYNTNITEDNVQNMANAFDRWSAFLKEMATLAQMFPLQEIQNLTVKFMLQALQ', 'STIEEQAKIFLDKFNHEAEDLFYQSMLASWNYNTNITEEAIQNMNNAGDKWSAFLKEQSTIAQMYPLQEIQNETVKLQLQALQ', 'STIEEQAKTFLDMFNNEAEDVFYQSSLASWNYNTNIIEESAQNMFNANDKWSAFLKEQSTLAQMYPLQEIQNWFVKMQLQALQ', 'STIEEQAKTFLDKFNHEAEDFFYQSMLANWNYNTNIIEENVQNMNNAAEKWSAFLKEQSTMAQMYPLQDIQNETVKLQLQALQ', 'SSIEEQAKYFLDKFNKEAEDLFYQSSLASWNYNTNITEEKVQNMNNAGDKWSAFLKEQATIAQMYPLQEIQNETVKVQLQALQ', 'STIEEQAKTFLDKFNHEAEDIFYQSSLASWNYNTNITEINVQNMNNAADKWSAFLKEQSTLAQMYPPQEIENWTVKLQLQALQ', 'STIEEQAKTFLDKFNHEAEDIFYQSSLASWNYNTNINEENVVNMNNAKAKWESFLKEQSTLAQMYPPQEIQNVPVKLQLEALQ', 'STIEEQAKFFLDKFNHEAEDMFYQSSIAMWNYNTNITEEAVQNMMNAGDKWSAFFKEQSTMAQMYPPQEIQNLTVKLQLQALQ']\n"
     ]
    }
   ],
   "source": [
    "print(len(indices_to_drop))\n",
    "print(indices_to_drop[:10])\n",
    "print(dropped_seqs[:10])"
   ],
   "metadata": {
    "collapsed": false,
    "ExecuteTime": {
     "start_time": "2023-04-28T11:52:38.344642Z",
     "end_time": "2023-04-28T11:52:38.357642Z"
    }
   }
  },
  {
   "cell_type": "code",
   "execution_count": 75,
   "outputs": [
    {
     "data": {
      "text/plain": "229055"
     },
     "execution_count": 75,
     "metadata": {},
     "output_type": "execute_result"
    }
   ],
   "source": [
    "gen250k_df_dropped_nocon = gen250k_df.drop(indices_to_drop)\n",
    "len(gen250k_df_dropped_nocon)"
   ],
   "metadata": {
    "collapsed": false,
    "ExecuteTime": {
     "start_time": "2023-04-28T11:52:38.344642Z",
     "end_time": "2023-04-28T11:52:38.507715Z"
    }
   }
  },
  {
   "cell_type": "code",
   "execution_count": 75,
   "outputs": [],
   "source": [],
   "metadata": {
    "collapsed": false,
    "ExecuteTime": {
     "start_time": "2023-04-28T11:52:38.508714Z",
     "end_time": "2023-04-28T11:52:38.527249Z"
    }
   }
  },
  {
   "cell_type": "markdown",
   "source": [
    "## filter out sequences with non-AA tokens"
   ],
   "metadata": {
    "collapsed": false
   }
  },
  {
   "cell_type": "code",
   "execution_count": 76,
   "outputs": [],
   "source": [
    "# do not constant region\n",
    "# gen250k_df_dropped_nocon = gen250k_df"
   ],
   "metadata": {
    "collapsed": false,
    "ExecuteTime": {
     "start_time": "2023-04-28T11:52:38.527249Z",
     "end_time": "2023-04-28T11:52:38.529660Z"
    }
   }
  },
  {
   "cell_type": "code",
   "execution_count": 77,
   "outputs": [],
   "source": [
    "rejected_tokens = [\"<pad>\", \"<sep>\", \"<cls>\", \"<mask>\", \"<unk>\"]"
   ],
   "metadata": {
    "collapsed": false,
    "ExecuteTime": {
     "start_time": "2023-04-28T11:52:38.527249Z",
     "end_time": "2023-04-28T11:52:38.529660Z"
    }
   }
  },
  {
   "cell_type": "code",
   "execution_count": 78,
   "outputs": [],
   "source": [
    "indices_to_drop = []\n",
    "dropped_seqs = []\n",
    "for index, row in gen250k_df_dropped_nocon.iterrows():\n",
    "    seq = row['MT_seq']\n",
    "\n",
    "    for rejected_token in rejected_tokens:\n",
    "        if rejected_token in seq:\n",
    "            indices_to_drop.append(index)\n",
    "            dropped_seqs.append(seq)\n",
    "            break"
   ],
   "metadata": {
    "collapsed": false,
    "ExecuteTime": {
     "start_time": "2023-04-28T11:52:38.527249Z",
     "end_time": "2023-04-28T11:52:47.052311Z"
    }
   }
  },
  {
   "cell_type": "code",
   "execution_count": 79,
   "outputs": [
    {
     "name": "stdout",
     "output_type": "stream",
     "text": [
      "701\n",
      "[834, 938, 1056, 2247, 2848, 3273, 3780, 4515, 4590, 4793]\n",
      "['STIEEQAKTFLDKFNHEAEDLFYQSSLAAWNYNTNITEENVQNMNNAKEKWSFFLKEQSA<cls>AQMYPLQEIQNLTVKIQMQALQ', 'STIEEMAKTFLDKFNHEAEDLFYQSSLAAWNYNTNITEENVQNMNNAADKWSWFFKEESTLAQMYPLQEIQNLTVK<cls>QMQALQ', 'STIEEQAKTFLDKFNHEAEDMFYQSSMASWNYNTNITEENVQNMINANEKWSAFIKEKS<cls>LAQMYPLQEIQNLTVKVMLQNLK', 'STIEEDAKFFLDKFNHEAEDIFYQSSLASWKYNTNITEEN<cls>QAMNNFADKWSAFLKEISTLAQMYPLQEIQNLTVKLQLQALQ', 'STIEEQAKIFLDKFNHEAEDLFYQFSLARWFYNTNITEENVQNMNNAGDKWSAFLKEISTLAQMYPRQEIQD<cls>TTKLQLQALQ', 'STIEEQAKTFLDKFNHEAEDLFYQSSLASWNYNTNITEENVQNMNNAGDKWSAFLKERSTRAQMFPLQEIQNWTVK<cls>QLQFLQ', 'STIEEQAKTFLDKFNHEAEDLFYQMSLASWNYNTNITEENVQNMNNAEDKWSAFLKEQSTLANMYPLQEI<cls>NLTVKLQLMALQ', 'STIEEQAKTFLDKFNHEAEDLFYQSALKSWNFNTNITEEN<cls>QAMNNLGDKWEAFLKEQSTLAQMFPLQEIQNLTVKLQLQALQ', 'SDIEEQAGKFLDKFNHEAEDLFYQSSLASWNYNTNITEENVQNMNNASDKWSAFLKEQSTLAQMYPLKEIQNL<cls>VKLQLQALQ', 'SEIEEQAKTFLEKFNHEAEDWFYMSSLMAWNYNTNITEENVQNMNNAGDKWHAFLKEQST<cls>AQMYPLQEIQNLTVKLQLQALQ']\n"
     ]
    }
   ],
   "source": [
    "print(len(indices_to_drop))\n",
    "print(indices_to_drop[:10])\n",
    "print(dropped_seqs[:10])"
   ],
   "metadata": {
    "collapsed": false,
    "ExecuteTime": {
     "start_time": "2023-04-28T11:52:47.054311Z",
     "end_time": "2023-04-28T11:52:47.057958Z"
    }
   }
  },
  {
   "cell_type": "code",
   "execution_count": 80,
   "outputs": [
    {
     "data": {
      "text/plain": "                                                   MT_seq  ddG_latent_pred  \\\n0       STIEEQAKTFLDKFNHEAEDLFYQSSLASWNYNTNITEENVQNMNN...       -10.307658   \n1       SDIEEQAKTFLDKFNHEAEDFQYQSSLASWNYNTNITEENVQNMNN...        -9.772393   \n2       SSIEEQAKYFLDKFNHEAEDLFYQSSLASWNYNTNITEENVQNMNN...        -9.608262   \n3       STIEEQAKTFLDKFNHEAEDLFYQSSLASWNYNTNITEENVQNMNN...       -10.861493   \n4       STIEEQAKIFLDKFNHEAEDFFYQSSLASWFYNTNITEENVQNMNN...       -10.735771   \n...                                                   ...              ...   \n260050  STIEEQAQTYLNKFNHEAEDLFYQSRLASWNANTNITEENVQNMNN...         1.761667   \n260053  STIEEQAKTFLDKFNHEAADLFYQSSLASWNYNTNITEENVQNMNN...         1.819618   \n260054  SIIEEQAKTFLDKFNHEAVDFFYQSSLASWNYNTNITEENVQNMNN...         1.718763   \n260055  STIEEQAQTFLDKFNHEAEDLFYQSSLASWNYNTNITEENVQNMNN...         2.285915   \n260057  STIEEQAKTFLDKFNHEASDSFYQSSIASWNYNTNITEENVQNMNN...         1.796386   \n\n        solubility_latent_pred  \\\n0                     7.495675   \n1                     7.918597   \n2                     8.043570   \n3                     7.116463   \n4                     7.133160   \n...                        ...   \n260050               -1.814477   \n260053               -1.662608   \n260054               -2.332379   \n260055               -1.257594   \n260057               -2.401845   \n\n                                            gen_input_seq            PDB  \\\n0       STIEEQAKTFLDKFNHEAEDLFYQSSLASWNYNTNITEENVQNMNN...  template2.pdb   \n1       SDIEEQAKTFLDKFNHEAEDLQYQSSLASWNYNTNITEENVQNMNN...  template2.pdb   \n2       SSIEEQAKYFLDKFNHEAEDLFYQSSLASWNYNTNITEENVQNMNN...  template2.pdb   \n3       STIEEQAKTFLDKFNHEAEDLFYQSSLASWNYNTNITEENVQNMNN...  template2.pdb   \n4       STIEEQAKTFLDKFNHEAEDLFYQSFLASWIYNTNITEENVQNMNN...  template2.pdb   \n...                                                   ...            ...   \n260050  STIEEQAQTFLDKFNHEAEDLFYQSRLASWNANTNITEENVQNMNN...  template2.pdb   \n260053  STIEEQAKTFLDKFNHEAEDLFYQSSLASWNYNTNITEENVQNMNN...  template2.pdb   \n260054  SIIEEQAKTFLDKFNHEAEDFFYQSSLASWNYNTNITEENVQNMNN...  template2.pdb   \n260055  STIEEQAQTFLDKFNHEAEDLFYQSSLASWNYNTNITEENVQNMNN...  template2.pdb   \n260057  STIEEQAKTFLDKFNHEAEDSFYQSSIASWNYNTNITEENVQNMNN...  template2.pdb   \n\n       Chain  Start_index                                             WT_seq  \\\n0          A           19  STIEEQAKTFLDKFNHEAEDLFYQSSLASWNYNTNITEENVQNMNN...   \n1          A           19  STIEEQAKTFLDKFNHEAEDLFYQSSLASWNYNTNITEENVQNMNN...   \n2          A           19  STIEEQAKTFLDKFNHEAEDLFYQSSLASWNYNTNITEENVQNMNN...   \n3          A           19  STIEEQAKTFLDKFNHEAEDLFYQSSLASWNYNTNITEENVQNMNN...   \n4          A           19  STIEEQAKTFLDKFNHEAEDLFYQSSLASWNYNTNITEENVQNMNN...   \n...      ...          ...                                                ...   \n260050     A           19  STIEEQAKTFLDKFNHEAEDLFYQSSLASWNYNTNITEENVQNMNN...   \n260053     A           19  STIEEQAKTFLDKFNHEAEDLFYQSSLASWNYNTNITEENVQNMNN...   \n260054     A           19  STIEEQAKTFLDKFNHEAEDLFYQSSLASWNYNTNITEENVQNMNN...   \n260055     A           19  STIEEQAKTFLDKFNHEAEDLFYQSSLASWNYNTNITEENVQNMNN...   \n260057     A           19  STIEEQAKTFLDKFNHEAEDLFYQSSLASWNYNTNITEENVQNMNN...   \n\n        repeated_gen  in_train_data_gen  ddG_latent_pred_rank  \\\n0              False              False               18557.0   \n1              False              False               22064.0   \n2              False              False               23185.0   \n3              False              False               15181.0   \n4              False              False               15890.0   \n...              ...                ...                   ...   \n260050         False              False              250869.0   \n260053         False              False              251297.0   \n260054         False              False              250527.0   \n260055         False              False              253990.0   \n260057         False              False              251122.0   \n\n        solubility_latent_pred_rank  avg_latent_head_pred_rank  \n0                           12982.0                    15769.5  \n1                           10351.0                    16207.5  \n2                            9634.0                    16409.5  \n3                           17658.0                    16419.5  \n4                           17378.0                    16634.0  \n...                             ...                        ...  \n260050                     255201.0                   253035.0  \n260053                     254927.0                   253112.0  \n260054                     255794.0                   253160.5  \n260055                     252452.0                   253221.0  \n260057                     255865.0                   253493.5  \n\n[228354 rows x 13 columns]",
      "text/html": "<div>\n<style scoped>\n    .dataframe tbody tr th:only-of-type {\n        vertical-align: middle;\n    }\n\n    .dataframe tbody tr th {\n        vertical-align: top;\n    }\n\n    .dataframe thead th {\n        text-align: right;\n    }\n</style>\n<table border=\"1\" class=\"dataframe\">\n  <thead>\n    <tr style=\"text-align: right;\">\n      <th></th>\n      <th>MT_seq</th>\n      <th>ddG_latent_pred</th>\n      <th>solubility_latent_pred</th>\n      <th>gen_input_seq</th>\n      <th>PDB</th>\n      <th>Chain</th>\n      <th>Start_index</th>\n      <th>WT_seq</th>\n      <th>repeated_gen</th>\n      <th>in_train_data_gen</th>\n      <th>ddG_latent_pred_rank</th>\n      <th>solubility_latent_pred_rank</th>\n      <th>avg_latent_head_pred_rank</th>\n    </tr>\n  </thead>\n  <tbody>\n    <tr>\n      <th>0</th>\n      <td>STIEEQAKTFLDKFNHEAEDLFYQSSLASWNYNTNITEENVQNMNN...</td>\n      <td>-10.307658</td>\n      <td>7.495675</td>\n      <td>STIEEQAKTFLDKFNHEAEDLFYQSSLASWNYNTNITEENVQNMNN...</td>\n      <td>template2.pdb</td>\n      <td>A</td>\n      <td>19</td>\n      <td>STIEEQAKTFLDKFNHEAEDLFYQSSLASWNYNTNITEENVQNMNN...</td>\n      <td>False</td>\n      <td>False</td>\n      <td>18557.0</td>\n      <td>12982.0</td>\n      <td>15769.5</td>\n    </tr>\n    <tr>\n      <th>1</th>\n      <td>SDIEEQAKTFLDKFNHEAEDFQYQSSLASWNYNTNITEENVQNMNN...</td>\n      <td>-9.772393</td>\n      <td>7.918597</td>\n      <td>SDIEEQAKTFLDKFNHEAEDLQYQSSLASWNYNTNITEENVQNMNN...</td>\n      <td>template2.pdb</td>\n      <td>A</td>\n      <td>19</td>\n      <td>STIEEQAKTFLDKFNHEAEDLFYQSSLASWNYNTNITEENVQNMNN...</td>\n      <td>False</td>\n      <td>False</td>\n      <td>22064.0</td>\n      <td>10351.0</td>\n      <td>16207.5</td>\n    </tr>\n    <tr>\n      <th>2</th>\n      <td>SSIEEQAKYFLDKFNHEAEDLFYQSSLASWNYNTNITEENVQNMNN...</td>\n      <td>-9.608262</td>\n      <td>8.043570</td>\n      <td>SSIEEQAKYFLDKFNHEAEDLFYQSSLASWNYNTNITEENVQNMNN...</td>\n      <td>template2.pdb</td>\n      <td>A</td>\n      <td>19</td>\n      <td>STIEEQAKTFLDKFNHEAEDLFYQSSLASWNYNTNITEENVQNMNN...</td>\n      <td>False</td>\n      <td>False</td>\n      <td>23185.0</td>\n      <td>9634.0</td>\n      <td>16409.5</td>\n    </tr>\n    <tr>\n      <th>3</th>\n      <td>STIEEQAKTFLDKFNHEAEDLFYQSSLASWNYNTNITEENVQNMNN...</td>\n      <td>-10.861493</td>\n      <td>7.116463</td>\n      <td>STIEEQAKTFLDKFNHEAEDLFYQSSLASWNYNTNITEENVQNMNN...</td>\n      <td>template2.pdb</td>\n      <td>A</td>\n      <td>19</td>\n      <td>STIEEQAKTFLDKFNHEAEDLFYQSSLASWNYNTNITEENVQNMNN...</td>\n      <td>False</td>\n      <td>False</td>\n      <td>15181.0</td>\n      <td>17658.0</td>\n      <td>16419.5</td>\n    </tr>\n    <tr>\n      <th>4</th>\n      <td>STIEEQAKIFLDKFNHEAEDFFYQSSLASWFYNTNITEENVQNMNN...</td>\n      <td>-10.735771</td>\n      <td>7.133160</td>\n      <td>STIEEQAKTFLDKFNHEAEDLFYQSFLASWIYNTNITEENVQNMNN...</td>\n      <td>template2.pdb</td>\n      <td>A</td>\n      <td>19</td>\n      <td>STIEEQAKTFLDKFNHEAEDLFYQSSLASWNYNTNITEENVQNMNN...</td>\n      <td>False</td>\n      <td>False</td>\n      <td>15890.0</td>\n      <td>17378.0</td>\n      <td>16634.0</td>\n    </tr>\n    <tr>\n      <th>...</th>\n      <td>...</td>\n      <td>...</td>\n      <td>...</td>\n      <td>...</td>\n      <td>...</td>\n      <td>...</td>\n      <td>...</td>\n      <td>...</td>\n      <td>...</td>\n      <td>...</td>\n      <td>...</td>\n      <td>...</td>\n      <td>...</td>\n    </tr>\n    <tr>\n      <th>260050</th>\n      <td>STIEEQAQTYLNKFNHEAEDLFYQSRLASWNANTNITEENVQNMNN...</td>\n      <td>1.761667</td>\n      <td>-1.814477</td>\n      <td>STIEEQAQTFLDKFNHEAEDLFYQSRLASWNANTNITEENVQNMNN...</td>\n      <td>template2.pdb</td>\n      <td>A</td>\n      <td>19</td>\n      <td>STIEEQAKTFLDKFNHEAEDLFYQSSLASWNYNTNITEENVQNMNN...</td>\n      <td>False</td>\n      <td>False</td>\n      <td>250869.0</td>\n      <td>255201.0</td>\n      <td>253035.0</td>\n    </tr>\n    <tr>\n      <th>260053</th>\n      <td>STIEEQAKTFLDKFNHEAADLFYQSSLASWNYNTNITEENVQNMNN...</td>\n      <td>1.819618</td>\n      <td>-1.662608</td>\n      <td>STIEEQAKTFLDKFNHEAEDLFYQSSLASWNYNTNITEENVQNMNN...</td>\n      <td>template2.pdb</td>\n      <td>A</td>\n      <td>19</td>\n      <td>STIEEQAKTFLDKFNHEAEDLFYQSSLASWNYNTNITEENVQNMNN...</td>\n      <td>False</td>\n      <td>False</td>\n      <td>251297.0</td>\n      <td>254927.0</td>\n      <td>253112.0</td>\n    </tr>\n    <tr>\n      <th>260054</th>\n      <td>SIIEEQAKTFLDKFNHEAVDFFYQSSLASWNYNTNITEENVQNMNN...</td>\n      <td>1.718763</td>\n      <td>-2.332379</td>\n      <td>SIIEEQAKTFLDKFNHEAEDFFYQSSLASWNYNTNITEENVQNMNN...</td>\n      <td>template2.pdb</td>\n      <td>A</td>\n      <td>19</td>\n      <td>STIEEQAKTFLDKFNHEAEDLFYQSSLASWNYNTNITEENVQNMNN...</td>\n      <td>False</td>\n      <td>False</td>\n      <td>250527.0</td>\n      <td>255794.0</td>\n      <td>253160.5</td>\n    </tr>\n    <tr>\n      <th>260055</th>\n      <td>STIEEQAQTFLDKFNHEAEDLFYQSSLASWNYNTNITEENVQNMNN...</td>\n      <td>2.285915</td>\n      <td>-1.257594</td>\n      <td>STIEEQAQTFLDKFNHEAEDLFYQSSLASWNYNTNITEENVQNMNN...</td>\n      <td>template2.pdb</td>\n      <td>A</td>\n      <td>19</td>\n      <td>STIEEQAKTFLDKFNHEAEDLFYQSSLASWNYNTNITEENVQNMNN...</td>\n      <td>False</td>\n      <td>False</td>\n      <td>253990.0</td>\n      <td>252452.0</td>\n      <td>253221.0</td>\n    </tr>\n    <tr>\n      <th>260057</th>\n      <td>STIEEQAKTFLDKFNHEASDSFYQSSIASWNYNTNITEENVQNMNN...</td>\n      <td>1.796386</td>\n      <td>-2.401845</td>\n      <td>STIEEQAKTFLDKFNHEAEDSFYQSSIASWNYNTNITEENVQNMNN...</td>\n      <td>template2.pdb</td>\n      <td>A</td>\n      <td>19</td>\n      <td>STIEEQAKTFLDKFNHEAEDLFYQSSLASWNYNTNITEENVQNMNN...</td>\n      <td>False</td>\n      <td>False</td>\n      <td>251122.0</td>\n      <td>255865.0</td>\n      <td>253493.5</td>\n    </tr>\n  </tbody>\n</table>\n<p>228354 rows × 13 columns</p>\n</div>"
     },
     "execution_count": 80,
     "metadata": {},
     "output_type": "execute_result"
    }
   ],
   "source": [
    "gen250k_df_dropped = gen250k_df_dropped_nocon.drop(indices_to_drop)\n",
    "gen250k_df_dropped"
   ],
   "metadata": {
    "collapsed": false,
    "ExecuteTime": {
     "start_time": "2023-04-28T11:52:47.059177Z",
     "end_time": "2023-04-28T11:52:47.240067Z"
    }
   }
  },
  {
   "cell_type": "code",
   "execution_count": 80,
   "outputs": [],
   "source": [],
   "metadata": {
    "collapsed": false,
    "ExecuteTime": {
     "start_time": "2023-04-28T11:52:47.240067Z",
     "end_time": "2023-04-28T11:52:47.240067Z"
    }
   }
  },
  {
   "cell_type": "markdown",
   "source": [
    "## filter out sequences that are repeat or in training set"
   ],
   "metadata": {
    "collapsed": false
   }
  },
  {
   "cell_type": "code",
   "execution_count": 81,
   "outputs": [
    {
     "data": {
      "text/plain": "                  PDB Chain  Start_index  \\\n0       template2.pdb     A           19   \n1       template2.pdb     A           19   \n2       template2.pdb     A           19   \n3       template2.pdb     A           19   \n4       template2.pdb     A           19   \n...               ...   ...          ...   \n249995  template2.pdb     A           19   \n249996  template2.pdb     A           19   \n249997  template2.pdb     A           19   \n249998  template2.pdb     A           19   \n249999  template2.pdb     A           19   \n\n                                                   WT_seq  \\\n0       STIEEQAKTFLDKFNHEAEDLFYQSSLASWNYNTNITEENVQNMNN...   \n1       STIEEQAKTFLDKFNHEAEDLFYQSSLASWNYNTNITEENVQNMNN...   \n2       STIEEQAKTFLDKFNHEAEDLFYQSSLASWNYNTNITEENVQNMNN...   \n3       STIEEQAKTFLDKFNHEAEDLFYQSSLASWNYNTNITEENVQNMNN...   \n4       STIEEQAKTFLDKFNHEAEDLFYQSSLASWNYNTNITEENVQNMNN...   \n...                                                   ...   \n249995  STIEEQAKTFLDKFNHEAEDLFYQSSLASWNYNTNITEENVQNMNN...   \n249996  STIEEQAKTFLDKFNHEAEDLFYQSSLASWNYNTNITEENVQNMNN...   \n249997  STIEEQAKTFLDKFNHEAEDLFYQSSLASWNYNTNITEENVQNMNN...   \n249998  STIEEQAKTFLDKFNHEAEDLFYQSSLASWNYNTNITEENVQNMNN...   \n249999  STIEEQAKTFLDKFNHEAEDLFYQSSLASWNYNTNITEENVQNMNN...   \n\n                                                   MT_seq  solubility  \\\n0       STIEEQAKTFLDKFNHEAEDLFYQSSLASWNYNTNITEENVQNMNN...       0.764   \n1       STIELQAKDFLDKFNHEAEDLFYQSSLASWNYNTNITEENVQNMNN...       0.701   \n2       STIEEQAKTFLDKFNHEAEDLFYQSSLASWNYNTNITEENVQNMNN...       0.769   \n3       STIEEQAKTFLDKFNHEAEDLFYQSSLASWNYNTNITEENVQNMNN...       0.807   \n4       STIEEQAKPFLDKFNHEAEDLFYQHSLASWNYNTNITEENVQNMNN...       0.752   \n...                                                   ...         ...   \n249995  STIEEQAKTFLDKFNHEAEDLFYQDSLASWNYNTNITEENVQNMNN...       0.781   \n249996  STIEEQAKTFLDKFNHEAEDLFYQSSLASWNYNTNITEENVQNMFN...       0.764   \n249997  STIEEQAKTFLDKFNHEAEDLDYQSSLASWNYNTNITEENVQNMNN...       0.781   \n249998  YTIEEQAKTFLDKFNHEAEDMFYVSSLASWNYNTNITEENVQNMNN...       0.824   \n249999  STIEEQAKTFLDKFNHEAEDLFYQSSLASWNYNTNITEENEQNMFN...       0.824   \n\n             ddG   ddG_std  ddG_rank  solubility_rank   avg_rank  \n0       0.487536  0.173732   27073.0         114868.5   70970.75  \n1       1.671400  0.154878   51857.0         226709.0  139283.00  \n2       6.211590  0.087345  150915.0          68731.0  109823.00  \n3       9.822730  2.028930  201957.0          12266.5  107111.75  \n4       3.106590  0.163249   84850.5         168879.0  126864.75  \n...          ...       ...       ...              ...        ...  \n249995  2.569060  0.042348   72549.0          43637.0   58093.00  \n249996  3.736110  0.500392   99288.0         114868.5  107078.25  \n249997  1.555830  0.024263   49188.0          43637.0   46412.50  \n249998  5.724200  0.292841  141810.0           5272.5   73541.25  \n249999  8.967940  0.818942  192400.0           5272.5   98836.25  \n\n[250000 rows x 11 columns]",
      "text/html": "<div>\n<style scoped>\n    .dataframe tbody tr th:only-of-type {\n        vertical-align: middle;\n    }\n\n    .dataframe tbody tr th {\n        vertical-align: top;\n    }\n\n    .dataframe thead th {\n        text-align: right;\n    }\n</style>\n<table border=\"1\" class=\"dataframe\">\n  <thead>\n    <tr style=\"text-align: right;\">\n      <th></th>\n      <th>PDB</th>\n      <th>Chain</th>\n      <th>Start_index</th>\n      <th>WT_seq</th>\n      <th>MT_seq</th>\n      <th>solubility</th>\n      <th>ddG</th>\n      <th>ddG_std</th>\n      <th>ddG_rank</th>\n      <th>solubility_rank</th>\n      <th>avg_rank</th>\n    </tr>\n  </thead>\n  <tbody>\n    <tr>\n      <th>0</th>\n      <td>template2.pdb</td>\n      <td>A</td>\n      <td>19</td>\n      <td>STIEEQAKTFLDKFNHEAEDLFYQSSLASWNYNTNITEENVQNMNN...</td>\n      <td>STIEEQAKTFLDKFNHEAEDLFYQSSLASWNYNTNITEENVQNMNN...</td>\n      <td>0.764</td>\n      <td>0.487536</td>\n      <td>0.173732</td>\n      <td>27073.0</td>\n      <td>114868.5</td>\n      <td>70970.75</td>\n    </tr>\n    <tr>\n      <th>1</th>\n      <td>template2.pdb</td>\n      <td>A</td>\n      <td>19</td>\n      <td>STIEEQAKTFLDKFNHEAEDLFYQSSLASWNYNTNITEENVQNMNN...</td>\n      <td>STIELQAKDFLDKFNHEAEDLFYQSSLASWNYNTNITEENVQNMNN...</td>\n      <td>0.701</td>\n      <td>1.671400</td>\n      <td>0.154878</td>\n      <td>51857.0</td>\n      <td>226709.0</td>\n      <td>139283.00</td>\n    </tr>\n    <tr>\n      <th>2</th>\n      <td>template2.pdb</td>\n      <td>A</td>\n      <td>19</td>\n      <td>STIEEQAKTFLDKFNHEAEDLFYQSSLASWNYNTNITEENVQNMNN...</td>\n      <td>STIEEQAKTFLDKFNHEAEDLFYQSSLASWNYNTNITEENVQNMNN...</td>\n      <td>0.769</td>\n      <td>6.211590</td>\n      <td>0.087345</td>\n      <td>150915.0</td>\n      <td>68731.0</td>\n      <td>109823.00</td>\n    </tr>\n    <tr>\n      <th>3</th>\n      <td>template2.pdb</td>\n      <td>A</td>\n      <td>19</td>\n      <td>STIEEQAKTFLDKFNHEAEDLFYQSSLASWNYNTNITEENVQNMNN...</td>\n      <td>STIEEQAKTFLDKFNHEAEDLFYQSSLASWNYNTNITEENVQNMNN...</td>\n      <td>0.807</td>\n      <td>9.822730</td>\n      <td>2.028930</td>\n      <td>201957.0</td>\n      <td>12266.5</td>\n      <td>107111.75</td>\n    </tr>\n    <tr>\n      <th>4</th>\n      <td>template2.pdb</td>\n      <td>A</td>\n      <td>19</td>\n      <td>STIEEQAKTFLDKFNHEAEDLFYQSSLASWNYNTNITEENVQNMNN...</td>\n      <td>STIEEQAKPFLDKFNHEAEDLFYQHSLASWNYNTNITEENVQNMNN...</td>\n      <td>0.752</td>\n      <td>3.106590</td>\n      <td>0.163249</td>\n      <td>84850.5</td>\n      <td>168879.0</td>\n      <td>126864.75</td>\n    </tr>\n    <tr>\n      <th>...</th>\n      <td>...</td>\n      <td>...</td>\n      <td>...</td>\n      <td>...</td>\n      <td>...</td>\n      <td>...</td>\n      <td>...</td>\n      <td>...</td>\n      <td>...</td>\n      <td>...</td>\n      <td>...</td>\n    </tr>\n    <tr>\n      <th>249995</th>\n      <td>template2.pdb</td>\n      <td>A</td>\n      <td>19</td>\n      <td>STIEEQAKTFLDKFNHEAEDLFYQSSLASWNYNTNITEENVQNMNN...</td>\n      <td>STIEEQAKTFLDKFNHEAEDLFYQDSLASWNYNTNITEENVQNMNN...</td>\n      <td>0.781</td>\n      <td>2.569060</td>\n      <td>0.042348</td>\n      <td>72549.0</td>\n      <td>43637.0</td>\n      <td>58093.00</td>\n    </tr>\n    <tr>\n      <th>249996</th>\n      <td>template2.pdb</td>\n      <td>A</td>\n      <td>19</td>\n      <td>STIEEQAKTFLDKFNHEAEDLFYQSSLASWNYNTNITEENVQNMNN...</td>\n      <td>STIEEQAKTFLDKFNHEAEDLFYQSSLASWNYNTNITEENVQNMFN...</td>\n      <td>0.764</td>\n      <td>3.736110</td>\n      <td>0.500392</td>\n      <td>99288.0</td>\n      <td>114868.5</td>\n      <td>107078.25</td>\n    </tr>\n    <tr>\n      <th>249997</th>\n      <td>template2.pdb</td>\n      <td>A</td>\n      <td>19</td>\n      <td>STIEEQAKTFLDKFNHEAEDLFYQSSLASWNYNTNITEENVQNMNN...</td>\n      <td>STIEEQAKTFLDKFNHEAEDLDYQSSLASWNYNTNITEENVQNMNN...</td>\n      <td>0.781</td>\n      <td>1.555830</td>\n      <td>0.024263</td>\n      <td>49188.0</td>\n      <td>43637.0</td>\n      <td>46412.50</td>\n    </tr>\n    <tr>\n      <th>249998</th>\n      <td>template2.pdb</td>\n      <td>A</td>\n      <td>19</td>\n      <td>STIEEQAKTFLDKFNHEAEDLFYQSSLASWNYNTNITEENVQNMNN...</td>\n      <td>YTIEEQAKTFLDKFNHEAEDMFYVSSLASWNYNTNITEENVQNMNN...</td>\n      <td>0.824</td>\n      <td>5.724200</td>\n      <td>0.292841</td>\n      <td>141810.0</td>\n      <td>5272.5</td>\n      <td>73541.25</td>\n    </tr>\n    <tr>\n      <th>249999</th>\n      <td>template2.pdb</td>\n      <td>A</td>\n      <td>19</td>\n      <td>STIEEQAKTFLDKFNHEAEDLFYQSSLASWNYNTNITEENVQNMNN...</td>\n      <td>STIEEQAKTFLDKFNHEAEDLFYQSSLASWNYNTNITEENEQNMFN...</td>\n      <td>0.824</td>\n      <td>8.967940</td>\n      <td>0.818942</td>\n      <td>192400.0</td>\n      <td>5272.5</td>\n      <td>98836.25</td>\n    </tr>\n  </tbody>\n</table>\n<p>250000 rows × 11 columns</p>\n</div>"
     },
     "execution_count": 81,
     "metadata": {},
     "output_type": "execute_result"
    }
   ],
   "source": [
    "input_data_df = pd.read_pickle(train_data_path)\n",
    "input_data_df"
   ],
   "metadata": {
    "collapsed": false,
    "ExecuteTime": {
     "start_time": "2023-04-28T11:52:47.240067Z",
     "end_time": "2023-04-28T11:52:47.423303Z"
    }
   }
  },
  {
   "cell_type": "code",
   "execution_count": 82,
   "outputs": [
    {
     "data": {
      "text/plain": "count    250000.000000\nmean          5.958471\nstd           5.354275\nmin          -8.449020\n25%           2.136552\n50%           4.903470\n75%           8.573042\nmax          60.631300\nName: ddG, dtype: float64"
     },
     "execution_count": 82,
     "metadata": {},
     "output_type": "execute_result"
    }
   ],
   "source": [
    "input_data_df.ddG.describe()"
   ],
   "metadata": {
    "collapsed": false,
    "ExecuteTime": {
     "start_time": "2023-04-28T11:52:47.423303Z",
     "end_time": "2023-04-28T11:52:47.423303Z"
    }
   }
  },
  {
   "cell_type": "code",
   "execution_count": 83,
   "outputs": [
    {
     "data": {
      "text/plain": "'STIEEQAKTFLDKFNHEAEDLFYQSSLASWNYNTNITEENVQNMNNAGDQWSAFLKEQSTIAQMYPLQEIKNLTVKLVLQALQ'"
     },
     "execution_count": 83,
     "metadata": {},
     "output_type": "execute_result"
    }
   ],
   "source": [
    "input_data_df.iloc[0]['MT_seq']"
   ],
   "metadata": {
    "collapsed": false,
    "ExecuteTime": {
     "start_time": "2023-04-28T11:52:47.423303Z",
     "end_time": "2023-04-28T11:52:47.425299Z"
    }
   }
  },
  {
   "cell_type": "code",
   "execution_count": 84,
   "outputs": [
    {
     "data": {
      "text/plain": "False"
     },
     "execution_count": 84,
     "metadata": {},
     "output_type": "execute_result"
    }
   ],
   "source": [
    "input_data_df.iloc[0]['MT_seq'] in input_data_df['MT_seq']"
   ],
   "metadata": {
    "collapsed": false,
    "ExecuteTime": {
     "start_time": "2023-04-28T11:52:47.423303Z",
     "end_time": "2023-04-28T11:52:47.425299Z"
    }
   }
  },
  {
   "cell_type": "code",
   "execution_count": 85,
   "outputs": [
    {
     "data": {
      "text/plain": "True"
     },
     "execution_count": 85,
     "metadata": {},
     "output_type": "execute_result"
    }
   ],
   "source": [
    "input_data_df.iloc[0]['MT_seq'] in input_data_df['MT_seq'].tolist()"
   ],
   "metadata": {
    "collapsed": false,
    "ExecuteTime": {
     "start_time": "2023-04-28T11:52:47.424299Z",
     "end_time": "2023-04-28T11:52:47.425299Z"
    }
   }
  },
  {
   "cell_type": "code",
   "execution_count": 86,
   "outputs": [],
   "source": [
    "train_seq_list = input_data_df['MT_seq'].tolist()"
   ],
   "metadata": {
    "collapsed": false,
    "ExecuteTime": {
     "start_time": "2023-04-28T11:52:47.424299Z",
     "end_time": "2023-04-28T11:52:47.426300Z"
    }
   }
  },
  {
   "cell_type": "code",
   "execution_count": 86,
   "outputs": [],
   "source": [],
   "metadata": {
    "collapsed": false,
    "ExecuteTime": {
     "start_time": "2023-04-28T11:52:47.424299Z",
     "end_time": "2023-04-28T11:52:47.426300Z"
    }
   }
  },
  {
   "cell_type": "code",
   "execution_count": 87,
   "outputs": [
    {
     "data": {
      "text/plain": "250000"
     },
     "execution_count": 87,
     "metadata": {},
     "output_type": "execute_result"
    }
   ],
   "source": [
    "# all seqs in the training set contain constant region, which binds to SARS-CoV-2 spike protein\n",
    "sum([1 if constant_region in seq else 0 for seq in train_seq_list])"
   ],
   "metadata": {
    "collapsed": false,
    "ExecuteTime": {
     "start_time": "2023-04-28T11:52:47.424299Z",
     "end_time": "2023-04-28T11:52:47.426300Z"
    }
   }
  },
  {
   "cell_type": "code",
   "execution_count": 87,
   "outputs": [],
   "source": [],
   "metadata": {
    "collapsed": false,
    "ExecuteTime": {
     "start_time": "2023-04-28T11:52:47.425299Z",
     "end_time": "2023-04-28T11:52:47.426300Z"
    }
   }
  },
  {
   "cell_type": "code",
   "execution_count": 87,
   "outputs": [],
   "source": [],
   "metadata": {
    "collapsed": false,
    "ExecuteTime": {
     "start_time": "2023-04-28T11:52:47.425299Z",
     "end_time": "2023-04-28T11:52:47.426300Z"
    }
   }
  },
  {
   "cell_type": "markdown",
   "source": [
    "## filter out those that are repeat"
   ],
   "metadata": {
    "collapsed": false
   }
  },
  {
   "cell_type": "code",
   "execution_count": 88,
   "outputs": [
    {
     "data": {
      "text/plain": "                                                   MT_seq  ddG_latent_pred  \\\n0       STIEEQAKTFLDKFNHEAEDLFYQSSLASWNYNTNITEENVQNMNN...       -10.307658   \n1       SDIEEQAKTFLDKFNHEAEDFQYQSSLASWNYNTNITEENVQNMNN...        -9.772393   \n2       SSIEEQAKYFLDKFNHEAEDLFYQSSLASWNYNTNITEENVQNMNN...        -9.608262   \n3       STIEEQAKTFLDKFNHEAEDLFYQSSLASWNYNTNITEENVQNMNN...       -10.861493   \n4       STIEEQAKIFLDKFNHEAEDFFYQSSLASWFYNTNITEENVQNMNN...       -10.735771   \n...                                                   ...              ...   \n260050  STIEEQAQTYLNKFNHEAEDLFYQSRLASWNANTNITEENVQNMNN...         1.761667   \n260053  STIEEQAKTFLDKFNHEAADLFYQSSLASWNYNTNITEENVQNMNN...         1.819618   \n260054  SIIEEQAKTFLDKFNHEAVDFFYQSSLASWNYNTNITEENVQNMNN...         1.718763   \n260055  STIEEQAQTFLDKFNHEAEDLFYQSSLASWNYNTNITEENVQNMNN...         2.285915   \n260057  STIEEQAKTFLDKFNHEASDSFYQSSIASWNYNTNITEENVQNMNN...         1.796386   \n\n        solubility_latent_pred  \\\n0                     7.495675   \n1                     7.918597   \n2                     8.043570   \n3                     7.116463   \n4                     7.133160   \n...                        ...   \n260050               -1.814477   \n260053               -1.662608   \n260054               -2.332379   \n260055               -1.257594   \n260057               -2.401845   \n\n                                            gen_input_seq            PDB  \\\n0       STIEEQAKTFLDKFNHEAEDLFYQSSLASWNYNTNITEENVQNMNN...  template2.pdb   \n1       SDIEEQAKTFLDKFNHEAEDLQYQSSLASWNYNTNITEENVQNMNN...  template2.pdb   \n2       SSIEEQAKYFLDKFNHEAEDLFYQSSLASWNYNTNITEENVQNMNN...  template2.pdb   \n3       STIEEQAKTFLDKFNHEAEDLFYQSSLASWNYNTNITEENVQNMNN...  template2.pdb   \n4       STIEEQAKTFLDKFNHEAEDLFYQSFLASWIYNTNITEENVQNMNN...  template2.pdb   \n...                                                   ...            ...   \n260050  STIEEQAQTFLDKFNHEAEDLFYQSRLASWNANTNITEENVQNMNN...  template2.pdb   \n260053  STIEEQAKTFLDKFNHEAEDLFYQSSLASWNYNTNITEENVQNMNN...  template2.pdb   \n260054  SIIEEQAKTFLDKFNHEAEDFFYQSSLASWNYNTNITEENVQNMNN...  template2.pdb   \n260055  STIEEQAQTFLDKFNHEAEDLFYQSSLASWNYNTNITEENVQNMNN...  template2.pdb   \n260057  STIEEQAKTFLDKFNHEAEDSFYQSSIASWNYNTNITEENVQNMNN...  template2.pdb   \n\n       Chain  Start_index                                             WT_seq  \\\n0          A           19  STIEEQAKTFLDKFNHEAEDLFYQSSLASWNYNTNITEENVQNMNN...   \n1          A           19  STIEEQAKTFLDKFNHEAEDLFYQSSLASWNYNTNITEENVQNMNN...   \n2          A           19  STIEEQAKTFLDKFNHEAEDLFYQSSLASWNYNTNITEENVQNMNN...   \n3          A           19  STIEEQAKTFLDKFNHEAEDLFYQSSLASWNYNTNITEENVQNMNN...   \n4          A           19  STIEEQAKTFLDKFNHEAEDLFYQSSLASWNYNTNITEENVQNMNN...   \n...      ...          ...                                                ...   \n260050     A           19  STIEEQAKTFLDKFNHEAEDLFYQSSLASWNYNTNITEENVQNMNN...   \n260053     A           19  STIEEQAKTFLDKFNHEAEDLFYQSSLASWNYNTNITEENVQNMNN...   \n260054     A           19  STIEEQAKTFLDKFNHEAEDLFYQSSLASWNYNTNITEENVQNMNN...   \n260055     A           19  STIEEQAKTFLDKFNHEAEDLFYQSSLASWNYNTNITEENVQNMNN...   \n260057     A           19  STIEEQAKTFLDKFNHEAEDLFYQSSLASWNYNTNITEENVQNMNN...   \n\n        repeated_gen  in_train_data_gen  ddG_latent_pred_rank  \\\n0              False              False               18557.0   \n1              False              False               22064.0   \n2              False              False               23185.0   \n3              False              False               15181.0   \n4              False              False               15890.0   \n...              ...                ...                   ...   \n260050         False              False              250869.0   \n260053         False              False              251297.0   \n260054         False              False              250527.0   \n260055         False              False              253990.0   \n260057         False              False              251122.0   \n\n        solubility_latent_pred_rank  avg_latent_head_pred_rank  \n0                           12982.0                    15769.5  \n1                           10351.0                    16207.5  \n2                            9634.0                    16409.5  \n3                           17658.0                    16419.5  \n4                           17378.0                    16634.0  \n...                             ...                        ...  \n260050                     255201.0                   253035.0  \n260053                     254927.0                   253112.0  \n260054                     255794.0                   253160.5  \n260055                     252452.0                   253221.0  \n260057                     255865.0                   253493.5  \n\n[228354 rows x 13 columns]",
      "text/html": "<div>\n<style scoped>\n    .dataframe tbody tr th:only-of-type {\n        vertical-align: middle;\n    }\n\n    .dataframe tbody tr th {\n        vertical-align: top;\n    }\n\n    .dataframe thead th {\n        text-align: right;\n    }\n</style>\n<table border=\"1\" class=\"dataframe\">\n  <thead>\n    <tr style=\"text-align: right;\">\n      <th></th>\n      <th>MT_seq</th>\n      <th>ddG_latent_pred</th>\n      <th>solubility_latent_pred</th>\n      <th>gen_input_seq</th>\n      <th>PDB</th>\n      <th>Chain</th>\n      <th>Start_index</th>\n      <th>WT_seq</th>\n      <th>repeated_gen</th>\n      <th>in_train_data_gen</th>\n      <th>ddG_latent_pred_rank</th>\n      <th>solubility_latent_pred_rank</th>\n      <th>avg_latent_head_pred_rank</th>\n    </tr>\n  </thead>\n  <tbody>\n    <tr>\n      <th>0</th>\n      <td>STIEEQAKTFLDKFNHEAEDLFYQSSLASWNYNTNITEENVQNMNN...</td>\n      <td>-10.307658</td>\n      <td>7.495675</td>\n      <td>STIEEQAKTFLDKFNHEAEDLFYQSSLASWNYNTNITEENVQNMNN...</td>\n      <td>template2.pdb</td>\n      <td>A</td>\n      <td>19</td>\n      <td>STIEEQAKTFLDKFNHEAEDLFYQSSLASWNYNTNITEENVQNMNN...</td>\n      <td>False</td>\n      <td>False</td>\n      <td>18557.0</td>\n      <td>12982.0</td>\n      <td>15769.5</td>\n    </tr>\n    <tr>\n      <th>1</th>\n      <td>SDIEEQAKTFLDKFNHEAEDFQYQSSLASWNYNTNITEENVQNMNN...</td>\n      <td>-9.772393</td>\n      <td>7.918597</td>\n      <td>SDIEEQAKTFLDKFNHEAEDLQYQSSLASWNYNTNITEENVQNMNN...</td>\n      <td>template2.pdb</td>\n      <td>A</td>\n      <td>19</td>\n      <td>STIEEQAKTFLDKFNHEAEDLFYQSSLASWNYNTNITEENVQNMNN...</td>\n      <td>False</td>\n      <td>False</td>\n      <td>22064.0</td>\n      <td>10351.0</td>\n      <td>16207.5</td>\n    </tr>\n    <tr>\n      <th>2</th>\n      <td>SSIEEQAKYFLDKFNHEAEDLFYQSSLASWNYNTNITEENVQNMNN...</td>\n      <td>-9.608262</td>\n      <td>8.043570</td>\n      <td>SSIEEQAKYFLDKFNHEAEDLFYQSSLASWNYNTNITEENVQNMNN...</td>\n      <td>template2.pdb</td>\n      <td>A</td>\n      <td>19</td>\n      <td>STIEEQAKTFLDKFNHEAEDLFYQSSLASWNYNTNITEENVQNMNN...</td>\n      <td>False</td>\n      <td>False</td>\n      <td>23185.0</td>\n      <td>9634.0</td>\n      <td>16409.5</td>\n    </tr>\n    <tr>\n      <th>3</th>\n      <td>STIEEQAKTFLDKFNHEAEDLFYQSSLASWNYNTNITEENVQNMNN...</td>\n      <td>-10.861493</td>\n      <td>7.116463</td>\n      <td>STIEEQAKTFLDKFNHEAEDLFYQSSLASWNYNTNITEENVQNMNN...</td>\n      <td>template2.pdb</td>\n      <td>A</td>\n      <td>19</td>\n      <td>STIEEQAKTFLDKFNHEAEDLFYQSSLASWNYNTNITEENVQNMNN...</td>\n      <td>False</td>\n      <td>False</td>\n      <td>15181.0</td>\n      <td>17658.0</td>\n      <td>16419.5</td>\n    </tr>\n    <tr>\n      <th>4</th>\n      <td>STIEEQAKIFLDKFNHEAEDFFYQSSLASWFYNTNITEENVQNMNN...</td>\n      <td>-10.735771</td>\n      <td>7.133160</td>\n      <td>STIEEQAKTFLDKFNHEAEDLFYQSFLASWIYNTNITEENVQNMNN...</td>\n      <td>template2.pdb</td>\n      <td>A</td>\n      <td>19</td>\n      <td>STIEEQAKTFLDKFNHEAEDLFYQSSLASWNYNTNITEENVQNMNN...</td>\n      <td>False</td>\n      <td>False</td>\n      <td>15890.0</td>\n      <td>17378.0</td>\n      <td>16634.0</td>\n    </tr>\n    <tr>\n      <th>...</th>\n      <td>...</td>\n      <td>...</td>\n      <td>...</td>\n      <td>...</td>\n      <td>...</td>\n      <td>...</td>\n      <td>...</td>\n      <td>...</td>\n      <td>...</td>\n      <td>...</td>\n      <td>...</td>\n      <td>...</td>\n      <td>...</td>\n    </tr>\n    <tr>\n      <th>260050</th>\n      <td>STIEEQAQTYLNKFNHEAEDLFYQSRLASWNANTNITEENVQNMNN...</td>\n      <td>1.761667</td>\n      <td>-1.814477</td>\n      <td>STIEEQAQTFLDKFNHEAEDLFYQSRLASWNANTNITEENVQNMNN...</td>\n      <td>template2.pdb</td>\n      <td>A</td>\n      <td>19</td>\n      <td>STIEEQAKTFLDKFNHEAEDLFYQSSLASWNYNTNITEENVQNMNN...</td>\n      <td>False</td>\n      <td>False</td>\n      <td>250869.0</td>\n      <td>255201.0</td>\n      <td>253035.0</td>\n    </tr>\n    <tr>\n      <th>260053</th>\n      <td>STIEEQAKTFLDKFNHEAADLFYQSSLASWNYNTNITEENVQNMNN...</td>\n      <td>1.819618</td>\n      <td>-1.662608</td>\n      <td>STIEEQAKTFLDKFNHEAEDLFYQSSLASWNYNTNITEENVQNMNN...</td>\n      <td>template2.pdb</td>\n      <td>A</td>\n      <td>19</td>\n      <td>STIEEQAKTFLDKFNHEAEDLFYQSSLASWNYNTNITEENVQNMNN...</td>\n      <td>False</td>\n      <td>False</td>\n      <td>251297.0</td>\n      <td>254927.0</td>\n      <td>253112.0</td>\n    </tr>\n    <tr>\n      <th>260054</th>\n      <td>SIIEEQAKTFLDKFNHEAVDFFYQSSLASWNYNTNITEENVQNMNN...</td>\n      <td>1.718763</td>\n      <td>-2.332379</td>\n      <td>SIIEEQAKTFLDKFNHEAEDFFYQSSLASWNYNTNITEENVQNMNN...</td>\n      <td>template2.pdb</td>\n      <td>A</td>\n      <td>19</td>\n      <td>STIEEQAKTFLDKFNHEAEDLFYQSSLASWNYNTNITEENVQNMNN...</td>\n      <td>False</td>\n      <td>False</td>\n      <td>250527.0</td>\n      <td>255794.0</td>\n      <td>253160.5</td>\n    </tr>\n    <tr>\n      <th>260055</th>\n      <td>STIEEQAQTFLDKFNHEAEDLFYQSSLASWNYNTNITEENVQNMNN...</td>\n      <td>2.285915</td>\n      <td>-1.257594</td>\n      <td>STIEEQAQTFLDKFNHEAEDLFYQSSLASWNYNTNITEENVQNMNN...</td>\n      <td>template2.pdb</td>\n      <td>A</td>\n      <td>19</td>\n      <td>STIEEQAKTFLDKFNHEAEDLFYQSSLASWNYNTNITEENVQNMNN...</td>\n      <td>False</td>\n      <td>False</td>\n      <td>253990.0</td>\n      <td>252452.0</td>\n      <td>253221.0</td>\n    </tr>\n    <tr>\n      <th>260057</th>\n      <td>STIEEQAKTFLDKFNHEASDSFYQSSIASWNYNTNITEENVQNMNN...</td>\n      <td>1.796386</td>\n      <td>-2.401845</td>\n      <td>STIEEQAKTFLDKFNHEAEDSFYQSSIASWNYNTNITEENVQNMNN...</td>\n      <td>template2.pdb</td>\n      <td>A</td>\n      <td>19</td>\n      <td>STIEEQAKTFLDKFNHEAEDLFYQSSLASWNYNTNITEENVQNMNN...</td>\n      <td>False</td>\n      <td>False</td>\n      <td>251122.0</td>\n      <td>255865.0</td>\n      <td>253493.5</td>\n    </tr>\n  </tbody>\n</table>\n<p>228354 rows × 13 columns</p>\n</div>"
     },
     "execution_count": 88,
     "metadata": {},
     "output_type": "execute_result"
    }
   ],
   "source": [
    "gen250k_df_dropped_norepeat = gen250k_df_dropped[gen250k_df_dropped['repeated_gen'] == False]\n",
    "gen250k_df_dropped_norepeat"
   ],
   "metadata": {
    "collapsed": false,
    "ExecuteTime": {
     "start_time": "2023-04-28T11:52:47.425299Z",
     "end_time": "2023-04-28T11:52:47.429302Z"
    }
   }
  },
  {
   "cell_type": "code",
   "execution_count": 88,
   "outputs": [],
   "source": [],
   "metadata": {
    "collapsed": false,
    "ExecuteTime": {
     "start_time": "2023-04-28T11:52:47.429302Z",
     "end_time": "2023-04-28T11:52:47.429302Z"
    }
   }
  },
  {
   "cell_type": "markdown",
   "source": [
    "## filter out those that are in training set"
   ],
   "metadata": {
    "collapsed": false
   }
  },
  {
   "cell_type": "code",
   "execution_count": 89,
   "outputs": [
    {
     "data": {
      "text/plain": "                                                   MT_seq  ddG_latent_pred  \\\n0       STIEEQAKTFLDKFNHEAEDLFYQSSLASWNYNTNITEENVQNMNN...       -10.307658   \n1       SDIEEQAKTFLDKFNHEAEDFQYQSSLASWNYNTNITEENVQNMNN...        -9.772393   \n2       SSIEEQAKYFLDKFNHEAEDLFYQSSLASWNYNTNITEENVQNMNN...        -9.608262   \n3       STIEEQAKTFLDKFNHEAEDLFYQSSLASWNYNTNITEENVQNMNN...       -10.861493   \n4       STIEEQAKIFLDKFNHEAEDFFYQSSLASWFYNTNITEENVQNMNN...       -10.735771   \n...                                                   ...              ...   \n260050  STIEEQAQTYLNKFNHEAEDLFYQSRLASWNANTNITEENVQNMNN...         1.761667   \n260053  STIEEQAKTFLDKFNHEAADLFYQSSLASWNYNTNITEENVQNMNN...         1.819618   \n260054  SIIEEQAKTFLDKFNHEAVDFFYQSSLASWNYNTNITEENVQNMNN...         1.718763   \n260055  STIEEQAQTFLDKFNHEAEDLFYQSSLASWNYNTNITEENVQNMNN...         2.285915   \n260057  STIEEQAKTFLDKFNHEASDSFYQSSIASWNYNTNITEENVQNMNN...         1.796386   \n\n        solubility_latent_pred  \\\n0                     7.495675   \n1                     7.918597   \n2                     8.043570   \n3                     7.116463   \n4                     7.133160   \n...                        ...   \n260050               -1.814477   \n260053               -1.662608   \n260054               -2.332379   \n260055               -1.257594   \n260057               -2.401845   \n\n                                            gen_input_seq            PDB  \\\n0       STIEEQAKTFLDKFNHEAEDLFYQSSLASWNYNTNITEENVQNMNN...  template2.pdb   \n1       SDIEEQAKTFLDKFNHEAEDLQYQSSLASWNYNTNITEENVQNMNN...  template2.pdb   \n2       SSIEEQAKYFLDKFNHEAEDLFYQSSLASWNYNTNITEENVQNMNN...  template2.pdb   \n3       STIEEQAKTFLDKFNHEAEDLFYQSSLASWNYNTNITEENVQNMNN...  template2.pdb   \n4       STIEEQAKTFLDKFNHEAEDLFYQSFLASWIYNTNITEENVQNMNN...  template2.pdb   \n...                                                   ...            ...   \n260050  STIEEQAQTFLDKFNHEAEDLFYQSRLASWNANTNITEENVQNMNN...  template2.pdb   \n260053  STIEEQAKTFLDKFNHEAEDLFYQSSLASWNYNTNITEENVQNMNN...  template2.pdb   \n260054  SIIEEQAKTFLDKFNHEAEDFFYQSSLASWNYNTNITEENVQNMNN...  template2.pdb   \n260055  STIEEQAQTFLDKFNHEAEDLFYQSSLASWNYNTNITEENVQNMNN...  template2.pdb   \n260057  STIEEQAKTFLDKFNHEAEDSFYQSSIASWNYNTNITEENVQNMNN...  template2.pdb   \n\n       Chain  Start_index                                             WT_seq  \\\n0          A           19  STIEEQAKTFLDKFNHEAEDLFYQSSLASWNYNTNITEENVQNMNN...   \n1          A           19  STIEEQAKTFLDKFNHEAEDLFYQSSLASWNYNTNITEENVQNMNN...   \n2          A           19  STIEEQAKTFLDKFNHEAEDLFYQSSLASWNYNTNITEENVQNMNN...   \n3          A           19  STIEEQAKTFLDKFNHEAEDLFYQSSLASWNYNTNITEENVQNMNN...   \n4          A           19  STIEEQAKTFLDKFNHEAEDLFYQSSLASWNYNTNITEENVQNMNN...   \n...      ...          ...                                                ...   \n260050     A           19  STIEEQAKTFLDKFNHEAEDLFYQSSLASWNYNTNITEENVQNMNN...   \n260053     A           19  STIEEQAKTFLDKFNHEAEDLFYQSSLASWNYNTNITEENVQNMNN...   \n260054     A           19  STIEEQAKTFLDKFNHEAEDLFYQSSLASWNYNTNITEENVQNMNN...   \n260055     A           19  STIEEQAKTFLDKFNHEAEDLFYQSSLASWNYNTNITEENVQNMNN...   \n260057     A           19  STIEEQAKTFLDKFNHEAEDLFYQSSLASWNYNTNITEENVQNMNN...   \n\n        repeated_gen  in_train_data_gen  ddG_latent_pred_rank  \\\n0              False              False               18557.0   \n1              False              False               22064.0   \n2              False              False               23185.0   \n3              False              False               15181.0   \n4              False              False               15890.0   \n...              ...                ...                   ...   \n260050         False              False              250869.0   \n260053         False              False              251297.0   \n260054         False              False              250527.0   \n260055         False              False              253990.0   \n260057         False              False              251122.0   \n\n        solubility_latent_pred_rank  avg_latent_head_pred_rank  \n0                           12982.0                    15769.5  \n1                           10351.0                    16207.5  \n2                            9634.0                    16409.5  \n3                           17658.0                    16419.5  \n4                           17378.0                    16634.0  \n...                             ...                        ...  \n260050                     255201.0                   253035.0  \n260053                     254927.0                   253112.0  \n260054                     255794.0                   253160.5  \n260055                     252452.0                   253221.0  \n260057                     255865.0                   253493.5  \n\n[228354 rows x 13 columns]",
      "text/html": "<div>\n<style scoped>\n    .dataframe tbody tr th:only-of-type {\n        vertical-align: middle;\n    }\n\n    .dataframe tbody tr th {\n        vertical-align: top;\n    }\n\n    .dataframe thead th {\n        text-align: right;\n    }\n</style>\n<table border=\"1\" class=\"dataframe\">\n  <thead>\n    <tr style=\"text-align: right;\">\n      <th></th>\n      <th>MT_seq</th>\n      <th>ddG_latent_pred</th>\n      <th>solubility_latent_pred</th>\n      <th>gen_input_seq</th>\n      <th>PDB</th>\n      <th>Chain</th>\n      <th>Start_index</th>\n      <th>WT_seq</th>\n      <th>repeated_gen</th>\n      <th>in_train_data_gen</th>\n      <th>ddG_latent_pred_rank</th>\n      <th>solubility_latent_pred_rank</th>\n      <th>avg_latent_head_pred_rank</th>\n    </tr>\n  </thead>\n  <tbody>\n    <tr>\n      <th>0</th>\n      <td>STIEEQAKTFLDKFNHEAEDLFYQSSLASWNYNTNITEENVQNMNN...</td>\n      <td>-10.307658</td>\n      <td>7.495675</td>\n      <td>STIEEQAKTFLDKFNHEAEDLFYQSSLASWNYNTNITEENVQNMNN...</td>\n      <td>template2.pdb</td>\n      <td>A</td>\n      <td>19</td>\n      <td>STIEEQAKTFLDKFNHEAEDLFYQSSLASWNYNTNITEENVQNMNN...</td>\n      <td>False</td>\n      <td>False</td>\n      <td>18557.0</td>\n      <td>12982.0</td>\n      <td>15769.5</td>\n    </tr>\n    <tr>\n      <th>1</th>\n      <td>SDIEEQAKTFLDKFNHEAEDFQYQSSLASWNYNTNITEENVQNMNN...</td>\n      <td>-9.772393</td>\n      <td>7.918597</td>\n      <td>SDIEEQAKTFLDKFNHEAEDLQYQSSLASWNYNTNITEENVQNMNN...</td>\n      <td>template2.pdb</td>\n      <td>A</td>\n      <td>19</td>\n      <td>STIEEQAKTFLDKFNHEAEDLFYQSSLASWNYNTNITEENVQNMNN...</td>\n      <td>False</td>\n      <td>False</td>\n      <td>22064.0</td>\n      <td>10351.0</td>\n      <td>16207.5</td>\n    </tr>\n    <tr>\n      <th>2</th>\n      <td>SSIEEQAKYFLDKFNHEAEDLFYQSSLASWNYNTNITEENVQNMNN...</td>\n      <td>-9.608262</td>\n      <td>8.043570</td>\n      <td>SSIEEQAKYFLDKFNHEAEDLFYQSSLASWNYNTNITEENVQNMNN...</td>\n      <td>template2.pdb</td>\n      <td>A</td>\n      <td>19</td>\n      <td>STIEEQAKTFLDKFNHEAEDLFYQSSLASWNYNTNITEENVQNMNN...</td>\n      <td>False</td>\n      <td>False</td>\n      <td>23185.0</td>\n      <td>9634.0</td>\n      <td>16409.5</td>\n    </tr>\n    <tr>\n      <th>3</th>\n      <td>STIEEQAKTFLDKFNHEAEDLFYQSSLASWNYNTNITEENVQNMNN...</td>\n      <td>-10.861493</td>\n      <td>7.116463</td>\n      <td>STIEEQAKTFLDKFNHEAEDLFYQSSLASWNYNTNITEENVQNMNN...</td>\n      <td>template2.pdb</td>\n      <td>A</td>\n      <td>19</td>\n      <td>STIEEQAKTFLDKFNHEAEDLFYQSSLASWNYNTNITEENVQNMNN...</td>\n      <td>False</td>\n      <td>False</td>\n      <td>15181.0</td>\n      <td>17658.0</td>\n      <td>16419.5</td>\n    </tr>\n    <tr>\n      <th>4</th>\n      <td>STIEEQAKIFLDKFNHEAEDFFYQSSLASWFYNTNITEENVQNMNN...</td>\n      <td>-10.735771</td>\n      <td>7.133160</td>\n      <td>STIEEQAKTFLDKFNHEAEDLFYQSFLASWIYNTNITEENVQNMNN...</td>\n      <td>template2.pdb</td>\n      <td>A</td>\n      <td>19</td>\n      <td>STIEEQAKTFLDKFNHEAEDLFYQSSLASWNYNTNITEENVQNMNN...</td>\n      <td>False</td>\n      <td>False</td>\n      <td>15890.0</td>\n      <td>17378.0</td>\n      <td>16634.0</td>\n    </tr>\n    <tr>\n      <th>...</th>\n      <td>...</td>\n      <td>...</td>\n      <td>...</td>\n      <td>...</td>\n      <td>...</td>\n      <td>...</td>\n      <td>...</td>\n      <td>...</td>\n      <td>...</td>\n      <td>...</td>\n      <td>...</td>\n      <td>...</td>\n      <td>...</td>\n    </tr>\n    <tr>\n      <th>260050</th>\n      <td>STIEEQAQTYLNKFNHEAEDLFYQSRLASWNANTNITEENVQNMNN...</td>\n      <td>1.761667</td>\n      <td>-1.814477</td>\n      <td>STIEEQAQTFLDKFNHEAEDLFYQSRLASWNANTNITEENVQNMNN...</td>\n      <td>template2.pdb</td>\n      <td>A</td>\n      <td>19</td>\n      <td>STIEEQAKTFLDKFNHEAEDLFYQSSLASWNYNTNITEENVQNMNN...</td>\n      <td>False</td>\n      <td>False</td>\n      <td>250869.0</td>\n      <td>255201.0</td>\n      <td>253035.0</td>\n    </tr>\n    <tr>\n      <th>260053</th>\n      <td>STIEEQAKTFLDKFNHEAADLFYQSSLASWNYNTNITEENVQNMNN...</td>\n      <td>1.819618</td>\n      <td>-1.662608</td>\n      <td>STIEEQAKTFLDKFNHEAEDLFYQSSLASWNYNTNITEENVQNMNN...</td>\n      <td>template2.pdb</td>\n      <td>A</td>\n      <td>19</td>\n      <td>STIEEQAKTFLDKFNHEAEDLFYQSSLASWNYNTNITEENVQNMNN...</td>\n      <td>False</td>\n      <td>False</td>\n      <td>251297.0</td>\n      <td>254927.0</td>\n      <td>253112.0</td>\n    </tr>\n    <tr>\n      <th>260054</th>\n      <td>SIIEEQAKTFLDKFNHEAVDFFYQSSLASWNYNTNITEENVQNMNN...</td>\n      <td>1.718763</td>\n      <td>-2.332379</td>\n      <td>SIIEEQAKTFLDKFNHEAEDFFYQSSLASWNYNTNITEENVQNMNN...</td>\n      <td>template2.pdb</td>\n      <td>A</td>\n      <td>19</td>\n      <td>STIEEQAKTFLDKFNHEAEDLFYQSSLASWNYNTNITEENVQNMNN...</td>\n      <td>False</td>\n      <td>False</td>\n      <td>250527.0</td>\n      <td>255794.0</td>\n      <td>253160.5</td>\n    </tr>\n    <tr>\n      <th>260055</th>\n      <td>STIEEQAQTFLDKFNHEAEDLFYQSSLASWNYNTNITEENVQNMNN...</td>\n      <td>2.285915</td>\n      <td>-1.257594</td>\n      <td>STIEEQAQTFLDKFNHEAEDLFYQSSLASWNYNTNITEENVQNMNN...</td>\n      <td>template2.pdb</td>\n      <td>A</td>\n      <td>19</td>\n      <td>STIEEQAKTFLDKFNHEAEDLFYQSSLASWNYNTNITEENVQNMNN...</td>\n      <td>False</td>\n      <td>False</td>\n      <td>253990.0</td>\n      <td>252452.0</td>\n      <td>253221.0</td>\n    </tr>\n    <tr>\n      <th>260057</th>\n      <td>STIEEQAKTFLDKFNHEASDSFYQSSIASWNYNTNITEENVQNMNN...</td>\n      <td>1.796386</td>\n      <td>-2.401845</td>\n      <td>STIEEQAKTFLDKFNHEAEDSFYQSSIASWNYNTNITEENVQNMNN...</td>\n      <td>template2.pdb</td>\n      <td>A</td>\n      <td>19</td>\n      <td>STIEEQAKTFLDKFNHEAEDLFYQSSLASWNYNTNITEENVQNMNN...</td>\n      <td>False</td>\n      <td>False</td>\n      <td>251122.0</td>\n      <td>255865.0</td>\n      <td>253493.5</td>\n    </tr>\n  </tbody>\n</table>\n<p>228354 rows × 13 columns</p>\n</div>"
     },
     "execution_count": 89,
     "metadata": {},
     "output_type": "execute_result"
    }
   ],
   "source": [
    "gen250k_df_filtered = gen250k_df_dropped_norepeat[gen250k_df_dropped_norepeat['in_train_data_gen'] == False]\n",
    "gen250k_df_filtered"
   ],
   "metadata": {
    "collapsed": false,
    "ExecuteTime": {
     "start_time": "2023-04-28T11:52:47.429302Z",
     "end_time": "2023-04-28T11:52:47.607303Z"
    }
   }
  },
  {
   "cell_type": "code",
   "execution_count": 90,
   "outputs": [
    {
     "data": {
      "text/plain": "0"
     },
     "execution_count": 90,
     "metadata": {},
     "output_type": "execute_result"
    }
   ],
   "source": [
    "np.sum(gen250k_df_filtered['repeated_gen'])"
   ],
   "metadata": {
    "collapsed": false,
    "ExecuteTime": {
     "start_time": "2023-04-28T11:52:47.607303Z",
     "end_time": "2023-04-28T11:52:47.607303Z"
    }
   }
  },
  {
   "cell_type": "code",
   "execution_count": 91,
   "outputs": [
    {
     "data": {
      "text/plain": "0"
     },
     "execution_count": 91,
     "metadata": {},
     "output_type": "execute_result"
    }
   ],
   "source": [
    "np.sum(gen250k_df_filtered['in_train_data_gen'])"
   ],
   "metadata": {
    "collapsed": false,
    "ExecuteTime": {
     "start_time": "2023-04-28T11:52:47.607303Z",
     "end_time": "2023-04-28T11:52:47.607303Z"
    }
   }
  },
  {
   "cell_type": "code",
   "execution_count": 91,
   "outputs": [],
   "source": [],
   "metadata": {
    "collapsed": false,
    "ExecuteTime": {
     "start_time": "2023-04-28T11:52:47.607303Z",
     "end_time": "2023-04-28T11:52:47.607303Z"
    }
   }
  },
  {
   "cell_type": "markdown",
   "source": [
    "# Analyze hamming distance"
   ],
   "metadata": {
    "collapsed": false
   }
  },
  {
   "cell_type": "code",
   "execution_count": 92,
   "outputs": [],
   "source": [
    "# Compute hamming distance between MT and WT\n",
    "def hamming_dist(str1, str2):\n",
    "    i = 0\n",
    "    count = 0\n",
    "\n",
    "    while (i < len(str1)):\n",
    "        if (str1[i] != str2[i]):\n",
    "            count += 1\n",
    "        i += 1\n",
    "    return count"
   ],
   "metadata": {
    "collapsed": false,
    "ExecuteTime": {
     "start_time": "2023-04-28T11:52:47.607303Z",
     "end_time": "2023-04-28T11:52:47.607303Z"
    }
   }
  },
  {
   "cell_type": "code",
   "execution_count": 93,
   "outputs": [],
   "source": [
    "hamming_dist_list = []\n",
    "drop_indices = []\n",
    "for index, row in gen250k_df_filtered.iterrows():\n",
    "    gen_seq = row['MT_seq']\n",
    "    h_dist = hamming_dist(gen_seq, wt_seq)\n",
    "    hamming_dist_list.append(h_dist)\n",
    "    if h_dist > 8:\n",
    "        drop_indices.append(index)"
   ],
   "metadata": {
    "collapsed": false,
    "ExecuteTime": {
     "start_time": "2023-04-28T11:52:47.607303Z",
     "end_time": "2023-04-28T11:52:58.672943Z"
    }
   }
  },
  {
   "cell_type": "code",
   "execution_count": 94,
   "outputs": [
    {
     "name": "stdout",
     "output_type": "stream",
     "text": [
      "Hamming distance stats\n",
      "max:  49\n",
      "min:  0\n",
      "median:  5.0\n",
      "mean:  5.369588446009266\n",
      "std:  3.2171150067979006\n"
     ]
    }
   ],
   "source": [
    "print(\"Hamming distance stats\")\n",
    "print(\"max: \", np.max(hamming_dist_list))\n",
    "print(\"min: \", np.min(hamming_dist_list))\n",
    "print(\"median: \", np.median(hamming_dist_list))\n",
    "print(\"mean: \", np.mean(hamming_dist_list))\n",
    "print(\"std: \", np.std(hamming_dist_list))"
   ],
   "metadata": {
    "collapsed": false,
    "ExecuteTime": {
     "start_time": "2023-04-28T11:52:58.721939Z",
     "end_time": "2023-04-28T11:52:58.762942Z"
    }
   }
  },
  {
   "cell_type": "code",
   "execution_count": 94,
   "outputs": [],
   "source": [],
   "metadata": {
    "collapsed": false,
    "ExecuteTime": {
     "start_time": "2023-04-28T11:52:58.762942Z",
     "end_time": "2023-04-28T11:52:58.762942Z"
    }
   }
  },
  {
   "cell_type": "markdown",
   "source": [
    "## hamming distance for generator training data"
   ],
   "metadata": {
    "collapsed": false
   }
  },
  {
   "cell_type": "code",
   "execution_count": 95,
   "outputs": [],
   "source": [
    "gen_train_df = pd.read_pickle(train_data_path)\n",
    "gen_train_hamming_dist_list = []\n",
    "for index, row in gen_train_df.iterrows():\n",
    "    train_seq = row['MT_seq']\n",
    "    h_dist = hamming_dist(train_seq, wt_seq)\n",
    "    gen_train_hamming_dist_list.append(h_dist)"
   ],
   "metadata": {
    "collapsed": false,
    "ExecuteTime": {
     "start_time": "2023-04-28T11:52:58.807007Z",
     "end_time": "2023-04-28T11:53:11.082105Z"
    }
   }
  },
  {
   "cell_type": "code",
   "execution_count": 96,
   "outputs": [
    {
     "data": {
      "text/plain": "<matplotlib.legend.Legend at 0x7f23f91c9d30>"
     },
     "execution_count": 96,
     "metadata": {},
     "output_type": "execute_result"
    },
    {
     "data": {
      "text/plain": "<Figure size 800x600 with 1 Axes>",
      "image/png": "[encoded data removed]"
     },
     "metadata": {},
     "output_type": "display_data"
    }
   ],
   "source": [
    "plt.figure(figsize=(8, 6))\n",
    "plt.hist(hamming_dist_list, density=True, label='250K generation data', bins=[i for i in range(20)], alpha=0.4)\n",
    "plt.hist(gen_train_hamming_dist_list, density=True, label='125K top half train data', bins=[i for i in range(20)], alpha=0.4)\n",
    "plt.xlabel(\"Hamming Distance\", size=14)\n",
    "plt.ylabel(\"Density\", size=14)\n",
    "plt.title(\"Hamming Distance Distribution\")\n",
    "plt.legend(loc='upper right')\n",
    "# plt.savefig('./figures/congen4_distance.png')"
   ],
   "metadata": {
    "collapsed": false,
    "ExecuteTime": {
     "start_time": "2023-04-28T11:53:11.091105Z",
     "end_time": "2023-04-28T11:53:12.703917Z"
    }
   }
  },
  {
   "cell_type": "code",
   "execution_count": 96,
   "outputs": [],
   "source": [],
   "metadata": {
    "collapsed": false,
    "ExecuteTime": {
     "start_time": "2023-04-28T11:53:12.699918Z",
     "end_time": "2023-04-28T11:53:12.704914Z"
    }
   }
  },
  {
   "cell_type": "markdown",
   "source": [
    "## filter out seqs with hamming distance > 8"
   ],
   "metadata": {
    "collapsed": false
   }
  },
  {
   "cell_type": "code",
   "execution_count": 97,
   "outputs": [
    {
     "data": {
      "text/plain": "                                                   MT_seq  ddG_latent_pred  \\\n0       STIEEQAKTFLDKFNHEAEDLFYQSSLASWNYNTNITEENVQNMNN...       -10.307658   \n1       SDIEEQAKTFLDKFNHEAEDFQYQSSLASWNYNTNITEENVQNMNN...        -9.772393   \n2       SSIEEQAKYFLDKFNHEAEDLFYQSSLASWNYNTNITEENVQNMNN...        -9.608262   \n3       STIEEQAKTFLDKFNHEAEDLFYQSSLASWNYNTNITEENVQNMNN...       -10.861493   \n4       STIEEQAKIFLDKFNHEAEDFFYQSSLASWFYNTNITEENVQNMNN...       -10.735771   \n...                                                   ...              ...   \n260050  STIEEQAQTYLNKFNHEAEDLFYQSRLASWNANTNITEENVQNMNN...         1.761667   \n260053  STIEEQAKTFLDKFNHEAADLFYQSSLASWNYNTNITEENVQNMNN...         1.819618   \n260054  SIIEEQAKTFLDKFNHEAVDFFYQSSLASWNYNTNITEENVQNMNN...         1.718763   \n260055  STIEEQAQTFLDKFNHEAEDLFYQSSLASWNYNTNITEENVQNMNN...         2.285915   \n260057  STIEEQAKTFLDKFNHEASDSFYQSSIASWNYNTNITEENVQNMNN...         1.796386   \n\n        solubility_latent_pred  \\\n0                     7.495675   \n1                     7.918597   \n2                     8.043570   \n3                     7.116463   \n4                     7.133160   \n...                        ...   \n260050               -1.814477   \n260053               -1.662608   \n260054               -2.332379   \n260055               -1.257594   \n260057               -2.401845   \n\n                                            gen_input_seq            PDB  \\\n0       STIEEQAKTFLDKFNHEAEDLFYQSSLASWNYNTNITEENVQNMNN...  template2.pdb   \n1       SDIEEQAKTFLDKFNHEAEDLQYQSSLASWNYNTNITEENVQNMNN...  template2.pdb   \n2       SSIEEQAKYFLDKFNHEAEDLFYQSSLASWNYNTNITEENVQNMNN...  template2.pdb   \n3       STIEEQAKTFLDKFNHEAEDLFYQSSLASWNYNTNITEENVQNMNN...  template2.pdb   \n4       STIEEQAKTFLDKFNHEAEDLFYQSFLASWIYNTNITEENVQNMNN...  template2.pdb   \n...                                                   ...            ...   \n260050  STIEEQAQTFLDKFNHEAEDLFYQSRLASWNANTNITEENVQNMNN...  template2.pdb   \n260053  STIEEQAKTFLDKFNHEAEDLFYQSSLASWNYNTNITEENVQNMNN...  template2.pdb   \n260054  SIIEEQAKTFLDKFNHEAEDFFYQSSLASWNYNTNITEENVQNMNN...  template2.pdb   \n260055  STIEEQAQTFLDKFNHEAEDLFYQSSLASWNYNTNITEENVQNMNN...  template2.pdb   \n260057  STIEEQAKTFLDKFNHEAEDSFYQSSIASWNYNTNITEENVQNMNN...  template2.pdb   \n\n       Chain  Start_index                                             WT_seq  \\\n0          A           19  STIEEQAKTFLDKFNHEAEDLFYQSSLASWNYNTNITEENVQNMNN...   \n1          A           19  STIEEQAKTFLDKFNHEAEDLFYQSSLASWNYNTNITEENVQNMNN...   \n2          A           19  STIEEQAKTFLDKFNHEAEDLFYQSSLASWNYNTNITEENVQNMNN...   \n3          A           19  STIEEQAKTFLDKFNHEAEDLFYQSSLASWNYNTNITEENVQNMNN...   \n4          A           19  STIEEQAKTFLDKFNHEAEDLFYQSSLASWNYNTNITEENVQNMNN...   \n...      ...          ...                                                ...   \n260050     A           19  STIEEQAKTFLDKFNHEAEDLFYQSSLASWNYNTNITEENVQNMNN...   \n260053     A           19  STIEEQAKTFLDKFNHEAEDLFYQSSLASWNYNTNITEENVQNMNN...   \n260054     A           19  STIEEQAKTFLDKFNHEAEDLFYQSSLASWNYNTNITEENVQNMNN...   \n260055     A           19  STIEEQAKTFLDKFNHEAEDLFYQSSLASWNYNTNITEENVQNMNN...   \n260057     A           19  STIEEQAKTFLDKFNHEAEDLFYQSSLASWNYNTNITEENVQNMNN...   \n\n        repeated_gen  in_train_data_gen  ddG_latent_pred_rank  \\\n0              False              False               18557.0   \n1              False              False               22064.0   \n2              False              False               23185.0   \n3              False              False               15181.0   \n4              False              False               15890.0   \n...              ...                ...                   ...   \n260050         False              False              250869.0   \n260053         False              False              251297.0   \n260054         False              False              250527.0   \n260055         False              False              253990.0   \n260057         False              False              251122.0   \n\n        solubility_latent_pred_rank  avg_latent_head_pred_rank  \n0                           12982.0                    15769.5  \n1                           10351.0                    16207.5  \n2                            9634.0                    16409.5  \n3                           17658.0                    16419.5  \n4                           17378.0                    16634.0  \n...                             ...                        ...  \n260050                     255201.0                   253035.0  \n260053                     254927.0                   253112.0  \n260054                     255794.0                   253160.5  \n260055                     252452.0                   253221.0  \n260057                     255865.0                   253493.5  \n\n[228354 rows x 13 columns]",
      "text/html": "<div>\n<style scoped>\n    .dataframe tbody tr th:only-of-type {\n        vertical-align: middle;\n    }\n\n    .dataframe tbody tr th {\n        vertical-align: top;\n    }\n\n    .dataframe thead th {\n        text-align: right;\n    }\n</style>\n<table border=\"1\" class=\"dataframe\">\n  <thead>\n    <tr style=\"text-align: right;\">\n      <th></th>\n      <th>MT_seq</th>\n      <th>ddG_latent_pred</th>\n      <th>solubility_latent_pred</th>\n      <th>gen_input_seq</th>\n      <th>PDB</th>\n      <th>Chain</th>\n      <th>Start_index</th>\n      <th>WT_seq</th>\n      <th>repeated_gen</th>\n      <th>in_train_data_gen</th>\n      <th>ddG_latent_pred_rank</th>\n      <th>solubility_latent_pred_rank</th>\n      <th>avg_latent_head_pred_rank</th>\n    </tr>\n  </thead>\n  <tbody>\n    <tr>\n      <th>0</th>\n      <td>STIEEQAKTFLDKFNHEAEDLFYQSSLASWNYNTNITEENVQNMNN...</td>\n      <td>-10.307658</td>\n      <td>7.495675</td>\n      <td>STIEEQAKTFLDKFNHEAEDLFYQSSLASWNYNTNITEENVQNMNN...</td>\n      <td>template2.pdb</td>\n      <td>A</td>\n      <td>19</td>\n      <td>STIEEQAKTFLDKFNHEAEDLFYQSSLASWNYNTNITEENVQNMNN...</td>\n      <td>False</td>\n      <td>False</td>\n      <td>18557.0</td>\n      <td>12982.0</td>\n      <td>15769.5</td>\n    </tr>\n    <tr>\n      <th>1</th>\n      <td>SDIEEQAKTFLDKFNHEAEDFQYQSSLASWNYNTNITEENVQNMNN...</td>\n      <td>-9.772393</td>\n      <td>7.918597</td>\n      <td>SDIEEQAKTFLDKFNHEAEDLQYQSSLASWNYNTNITEENVQNMNN...</td>\n      <td>template2.pdb</td>\n      <td>A</td>\n      <td>19</td>\n      <td>STIEEQAKTFLDKFNHEAEDLFYQSSLASWNYNTNITEENVQNMNN...</td>\n      <td>False</td>\n      <td>False</td>\n      <td>22064.0</td>\n      <td>10351.0</td>\n      <td>16207.5</td>\n    </tr>\n    <tr>\n      <th>2</th>\n      <td>SSIEEQAKYFLDKFNHEAEDLFYQSSLASWNYNTNITEENVQNMNN...</td>\n      <td>-9.608262</td>\n      <td>8.043570</td>\n      <td>SSIEEQAKYFLDKFNHEAEDLFYQSSLASWNYNTNITEENVQNMNN...</td>\n      <td>template2.pdb</td>\n      <td>A</td>\n      <td>19</td>\n      <td>STIEEQAKTFLDKFNHEAEDLFYQSSLASWNYNTNITEENVQNMNN...</td>\n      <td>False</td>\n      <td>False</td>\n      <td>23185.0</td>\n      <td>9634.0</td>\n      <td>16409.5</td>\n    </tr>\n    <tr>\n      <th>3</th>\n      <td>STIEEQAKTFLDKFNHEAEDLFYQSSLASWNYNTNITEENVQNMNN...</td>\n      <td>-10.861493</td>\n      <td>7.116463</td>\n      <td>STIEEQAKTFLDKFNHEAEDLFYQSSLASWNYNTNITEENVQNMNN...</td>\n      <td>template2.pdb</td>\n      <td>A</td>\n      <td>19</td>\n      <td>STIEEQAKTFLDKFNHEAEDLFYQSSLASWNYNTNITEENVQNMNN...</td>\n      <td>False</td>\n      <td>False</td>\n      <td>15181.0</td>\n      <td>17658.0</td>\n      <td>16419.5</td>\n    </tr>\n    <tr>\n      <th>4</th>\n      <td>STIEEQAKIFLDKFNHEAEDFFYQSSLASWFYNTNITEENVQNMNN...</td>\n      <td>-10.735771</td>\n      <td>7.133160</td>\n      <td>STIEEQAKTFLDKFNHEAEDLFYQSFLASWIYNTNITEENVQNMNN...</td>\n      <td>template2.pdb</td>\n      <td>A</td>\n      <td>19</td>\n      <td>STIEEQAKTFLDKFNHEAEDLFYQSSLASWNYNTNITEENVQNMNN...</td>\n      <td>False</td>\n      <td>False</td>\n      <td>15890.0</td>\n      <td>17378.0</td>\n      <td>16634.0</td>\n    </tr>\n    <tr>\n      <th>...</th>\n      <td>...</td>\n      <td>...</td>\n      <td>...</td>\n      <td>...</td>\n      <td>...</td>\n      <td>...</td>\n      <td>...</td>\n      <td>...</td>\n      <td>...</td>\n      <td>...</td>\n      <td>...</td>\n      <td>...</td>\n      <td>...</td>\n    </tr>\n    <tr>\n      <th>260050</th>\n      <td>STIEEQAQTYLNKFNHEAEDLFYQSRLASWNANTNITEENVQNMNN...</td>\n      <td>1.761667</td>\n      <td>-1.814477</td>\n      <td>STIEEQAQTFLDKFNHEAEDLFYQSRLASWNANTNITEENVQNMNN...</td>\n      <td>template2.pdb</td>\n      <td>A</td>\n      <td>19</td>\n      <td>STIEEQAKTFLDKFNHEAEDLFYQSSLASWNYNTNITEENVQNMNN...</td>\n      <td>False</td>\n      <td>False</td>\n      <td>250869.0</td>\n      <td>255201.0</td>\n      <td>253035.0</td>\n    </tr>\n    <tr>\n      <th>260053</th>\n      <td>STIEEQAKTFLDKFNHEAADLFYQSSLASWNYNTNITEENVQNMNN...</td>\n      <td>1.819618</td>\n      <td>-1.662608</td>\n      <td>STIEEQAKTFLDKFNHEAEDLFYQSSLASWNYNTNITEENVQNMNN...</td>\n      <td>template2.pdb</td>\n      <td>A</td>\n      <td>19</td>\n      <td>STIEEQAKTFLDKFNHEAEDLFYQSSLASWNYNTNITEENVQNMNN...</td>\n      <td>False</td>\n      <td>False</td>\n      <td>251297.0</td>\n      <td>254927.0</td>\n      <td>253112.0</td>\n    </tr>\n    <tr>\n      <th>260054</th>\n      <td>SIIEEQAKTFLDKFNHEAVDFFYQSSLASWNYNTNITEENVQNMNN...</td>\n      <td>1.718763</td>\n      <td>-2.332379</td>\n      <td>SIIEEQAKTFLDKFNHEAEDFFYQSSLASWNYNTNITEENVQNMNN...</td>\n      <td>template2.pdb</td>\n      <td>A</td>\n      <td>19</td>\n      <td>STIEEQAKTFLDKFNHEAEDLFYQSSLASWNYNTNITEENVQNMNN...</td>\n      <td>False</td>\n      <td>False</td>\n      <td>250527.0</td>\n      <td>255794.0</td>\n      <td>253160.5</td>\n    </tr>\n    <tr>\n      <th>260055</th>\n      <td>STIEEQAQTFLDKFNHEAEDLFYQSSLASWNYNTNITEENVQNMNN...</td>\n      <td>2.285915</td>\n      <td>-1.257594</td>\n      <td>STIEEQAQTFLDKFNHEAEDLFYQSSLASWNYNTNITEENVQNMNN...</td>\n      <td>template2.pdb</td>\n      <td>A</td>\n      <td>19</td>\n      <td>STIEEQAKTFLDKFNHEAEDLFYQSSLASWNYNTNITEENVQNMNN...</td>\n      <td>False</td>\n      <td>False</td>\n      <td>253990.0</td>\n      <td>252452.0</td>\n      <td>253221.0</td>\n    </tr>\n    <tr>\n      <th>260057</th>\n      <td>STIEEQAKTFLDKFNHEASDSFYQSSIASWNYNTNITEENVQNMNN...</td>\n      <td>1.796386</td>\n      <td>-2.401845</td>\n      <td>STIEEQAKTFLDKFNHEAEDSFYQSSIASWNYNTNITEENVQNMNN...</td>\n      <td>template2.pdb</td>\n      <td>A</td>\n      <td>19</td>\n      <td>STIEEQAKTFLDKFNHEAEDLFYQSSLASWNYNTNITEENVQNMNN...</td>\n      <td>False</td>\n      <td>False</td>\n      <td>251122.0</td>\n      <td>255865.0</td>\n      <td>253493.5</td>\n    </tr>\n  </tbody>\n</table>\n<p>228354 rows × 13 columns</p>\n</div>"
     },
     "execution_count": 97,
     "metadata": {},
     "output_type": "execute_result"
    }
   ],
   "source": [
    "gen250k_df_filtered"
   ],
   "metadata": {
    "collapsed": false,
    "ExecuteTime": {
     "start_time": "2023-04-28T11:53:12.699918Z",
     "end_time": "2023-04-28T11:53:12.881398Z"
    }
   }
  },
  {
   "cell_type": "code",
   "execution_count": 98,
   "outputs": [
    {
     "data": {
      "text/plain": "                                                   MT_seq  ddG_latent_pred  \\\n0       STIEEQAKTFLDKFNHEAEDLFYQSSLASWNYNTNITEENVQNMNN...       -10.307658   \n1       SDIEEQAKTFLDKFNHEAEDFQYQSSLASWNYNTNITEENVQNMNN...        -9.772393   \n2       SSIEEQAKYFLDKFNHEAEDLFYQSSLASWNYNTNITEENVQNMNN...        -9.608262   \n3       STIEEQAKTFLDKFNHEAEDLFYQSSLASWNYNTNITEENVQNMNN...       -10.861493   \n4       STIEEQAKIFLDKFNHEAEDFFYQSSLASWFYNTNITEENVQNMNN...       -10.735771   \n...                                                   ...              ...   \n260050  STIEEQAQTYLNKFNHEAEDLFYQSRLASWNANTNITEENVQNMNN...         1.761667   \n260053  STIEEQAKTFLDKFNHEAADLFYQSSLASWNYNTNITEENVQNMNN...         1.819618   \n260054  SIIEEQAKTFLDKFNHEAVDFFYQSSLASWNYNTNITEENVQNMNN...         1.718763   \n260055  STIEEQAQTFLDKFNHEAEDLFYQSSLASWNYNTNITEENVQNMNN...         2.285915   \n260057  STIEEQAKTFLDKFNHEASDSFYQSSIASWNYNTNITEENVQNMNN...         1.796386   \n\n        solubility_latent_pred  \\\n0                     7.495675   \n1                     7.918597   \n2                     8.043570   \n3                     7.116463   \n4                     7.133160   \n...                        ...   \n260050               -1.814477   \n260053               -1.662608   \n260054               -2.332379   \n260055               -1.257594   \n260057               -2.401845   \n\n                                            gen_input_seq            PDB  \\\n0       STIEEQAKTFLDKFNHEAEDLFYQSSLASWNYNTNITEENVQNMNN...  template2.pdb   \n1       SDIEEQAKTFLDKFNHEAEDLQYQSSLASWNYNTNITEENVQNMNN...  template2.pdb   \n2       SSIEEQAKYFLDKFNHEAEDLFYQSSLASWNYNTNITEENVQNMNN...  template2.pdb   \n3       STIEEQAKTFLDKFNHEAEDLFYQSSLASWNYNTNITEENVQNMNN...  template2.pdb   \n4       STIEEQAKTFLDKFNHEAEDLFYQSFLASWIYNTNITEENVQNMNN...  template2.pdb   \n...                                                   ...            ...   \n260050  STIEEQAQTFLDKFNHEAEDLFYQSRLASWNANTNITEENVQNMNN...  template2.pdb   \n260053  STIEEQAKTFLDKFNHEAEDLFYQSSLASWNYNTNITEENVQNMNN...  template2.pdb   \n260054  SIIEEQAKTFLDKFNHEAEDFFYQSSLASWNYNTNITEENVQNMNN...  template2.pdb   \n260055  STIEEQAQTFLDKFNHEAEDLFYQSSLASWNYNTNITEENVQNMNN...  template2.pdb   \n260057  STIEEQAKTFLDKFNHEAEDSFYQSSIASWNYNTNITEENVQNMNN...  template2.pdb   \n\n       Chain  Start_index                                             WT_seq  \\\n0          A           19  STIEEQAKTFLDKFNHEAEDLFYQSSLASWNYNTNITEENVQNMNN...   \n1          A           19  STIEEQAKTFLDKFNHEAEDLFYQSSLASWNYNTNITEENVQNMNN...   \n2          A           19  STIEEQAKTFLDKFNHEAEDLFYQSSLASWNYNTNITEENVQNMNN...   \n3          A           19  STIEEQAKTFLDKFNHEAEDLFYQSSLASWNYNTNITEENVQNMNN...   \n4          A           19  STIEEQAKTFLDKFNHEAEDLFYQSSLASWNYNTNITEENVQNMNN...   \n...      ...          ...                                                ...   \n260050     A           19  STIEEQAKTFLDKFNHEAEDLFYQSSLASWNYNTNITEENVQNMNN...   \n260053     A           19  STIEEQAKTFLDKFNHEAEDLFYQSSLASWNYNTNITEENVQNMNN...   \n260054     A           19  STIEEQAKTFLDKFNHEAEDLFYQSSLASWNYNTNITEENVQNMNN...   \n260055     A           19  STIEEQAKTFLDKFNHEAEDLFYQSSLASWNYNTNITEENVQNMNN...   \n260057     A           19  STIEEQAKTFLDKFNHEAEDLFYQSSLASWNYNTNITEENVQNMNN...   \n\n        repeated_gen  in_train_data_gen  ddG_latent_pred_rank  \\\n0              False              False               18557.0   \n1              False              False               22064.0   \n2              False              False               23185.0   \n3              False              False               15181.0   \n4              False              False               15890.0   \n...              ...                ...                   ...   \n260050         False              False              250869.0   \n260053         False              False              251297.0   \n260054         False              False              250527.0   \n260055         False              False              253990.0   \n260057         False              False              251122.0   \n\n        solubility_latent_pred_rank  avg_latent_head_pred_rank  \n0                           12982.0                    15769.5  \n1                           10351.0                    16207.5  \n2                            9634.0                    16409.5  \n3                           17658.0                    16419.5  \n4                           17378.0                    16634.0  \n...                             ...                        ...  \n260050                     255201.0                   253035.0  \n260053                     254927.0                   253112.0  \n260054                     255794.0                   253160.5  \n260055                     252452.0                   253221.0  \n260057                     255865.0                   253493.5  \n\n[214503 rows x 13 columns]",
      "text/html": "<div>\n<style scoped>\n    .dataframe tbody tr th:only-of-type {\n        vertical-align: middle;\n    }\n\n    .dataframe tbody tr th {\n        vertical-align: top;\n    }\n\n    .dataframe thead th {\n        text-align: right;\n    }\n</style>\n<table border=\"1\" class=\"dataframe\">\n  <thead>\n    <tr style=\"text-align: right;\">\n      <th></th>\n      <th>MT_seq</th>\n      <th>ddG_latent_pred</th>\n      <th>solubility_latent_pred</th>\n      <th>gen_input_seq</th>\n      <th>PDB</th>\n      <th>Chain</th>\n      <th>Start_index</th>\n      <th>WT_seq</th>\n      <th>repeated_gen</th>\n      <th>in_train_data_gen</th>\n      <th>ddG_latent_pred_rank</th>\n      <th>solubility_latent_pred_rank</th>\n      <th>avg_latent_head_pred_rank</th>\n    </tr>\n  </thead>\n  <tbody>\n    <tr>\n      <th>0</th>\n      <td>STIEEQAKTFLDKFNHEAEDLFYQSSLASWNYNTNITEENVQNMNN...</td>\n      <td>-10.307658</td>\n      <td>7.495675</td>\n      <td>STIEEQAKTFLDKFNHEAEDLFYQSSLASWNYNTNITEENVQNMNN...</td>\n      <td>template2.pdb</td>\n      <td>A</td>\n      <td>19</td>\n      <td>STIEEQAKTFLDKFNHEAEDLFYQSSLASWNYNTNITEENVQNMNN...</td>\n      <td>False</td>\n      <td>False</td>\n      <td>18557.0</td>\n      <td>12982.0</td>\n      <td>15769.5</td>\n    </tr>\n    <tr>\n      <th>1</th>\n      <td>SDIEEQAKTFLDKFNHEAEDFQYQSSLASWNYNTNITEENVQNMNN...</td>\n      <td>-9.772393</td>\n      <td>7.918597</td>\n      <td>SDIEEQAKTFLDKFNHEAEDLQYQSSLASWNYNTNITEENVQNMNN...</td>\n      <td>template2.pdb</td>\n      <td>A</td>\n      <td>19</td>\n      <td>STIEEQAKTFLDKFNHEAEDLFYQSSLASWNYNTNITEENVQNMNN...</td>\n      <td>False</td>\n      <td>False</td>\n      <td>22064.0</td>\n      <td>10351.0</td>\n      <td>16207.5</td>\n    </tr>\n    <tr>\n      <th>2</th>\n      <td>SSIEEQAKYFLDKFNHEAEDLFYQSSLASWNYNTNITEENVQNMNN...</td>\n      <td>-9.608262</td>\n      <td>8.043570</td>\n      <td>SSIEEQAKYFLDKFNHEAEDLFYQSSLASWNYNTNITEENVQNMNN...</td>\n      <td>template2.pdb</td>\n      <td>A</td>\n      <td>19</td>\n      <td>STIEEQAKTFLDKFNHEAEDLFYQSSLASWNYNTNITEENVQNMNN...</td>\n      <td>False</td>\n      <td>False</td>\n      <td>23185.0</td>\n      <td>9634.0</td>\n      <td>16409.5</td>\n    </tr>\n    <tr>\n      <th>3</th>\n      <td>STIEEQAKTFLDKFNHEAEDLFYQSSLASWNYNTNITEENVQNMNN...</td>\n      <td>-10.861493</td>\n      <td>7.116463</td>\n      <td>STIEEQAKTFLDKFNHEAEDLFYQSSLASWNYNTNITEENVQNMNN...</td>\n      <td>template2.pdb</td>\n      <td>A</td>\n      <td>19</td>\n      <td>STIEEQAKTFLDKFNHEAEDLFYQSSLASWNYNTNITEENVQNMNN...</td>\n      <td>False</td>\n      <td>False</td>\n      <td>15181.0</td>\n      <td>17658.0</td>\n      <td>16419.5</td>\n    </tr>\n    <tr>\n      <th>4</th>\n      <td>STIEEQAKIFLDKFNHEAEDFFYQSSLASWFYNTNITEENVQNMNN...</td>\n      <td>-10.735771</td>\n      <td>7.133160</td>\n      <td>STIEEQAKTFLDKFNHEAEDLFYQSFLASWIYNTNITEENVQNMNN...</td>\n      <td>template2.pdb</td>\n      <td>A</td>\n      <td>19</td>\n      <td>STIEEQAKTFLDKFNHEAEDLFYQSSLASWNYNTNITEENVQNMNN...</td>\n      <td>False</td>\n      <td>False</td>\n      <td>15890.0</td>\n      <td>17378.0</td>\n      <td>16634.0</td>\n    </tr>\n    <tr>\n      <th>...</th>\n      <td>...</td>\n      <td>...</td>\n      <td>...</td>\n      <td>...</td>\n      <td>...</td>\n      <td>...</td>\n      <td>...</td>\n      <td>...</td>\n      <td>...</td>\n      <td>...</td>\n      <td>...</td>\n      <td>...</td>\n      <td>...</td>\n    </tr>\n    <tr>\n      <th>260050</th>\n      <td>STIEEQAQTYLNKFNHEAEDLFYQSRLASWNANTNITEENVQNMNN...</td>\n      <td>1.761667</td>\n      <td>-1.814477</td>\n      <td>STIEEQAQTFLDKFNHEAEDLFYQSRLASWNANTNITEENVQNMNN...</td>\n      <td>template2.pdb</td>\n      <td>A</td>\n      <td>19</td>\n      <td>STIEEQAKTFLDKFNHEAEDLFYQSSLASWNYNTNITEENVQNMNN...</td>\n      <td>False</td>\n      <td>False</td>\n      <td>250869.0</td>\n      <td>255201.0</td>\n      <td>253035.0</td>\n    </tr>\n    <tr>\n      <th>260053</th>\n      <td>STIEEQAKTFLDKFNHEAADLFYQSSLASWNYNTNITEENVQNMNN...</td>\n      <td>1.819618</td>\n      <td>-1.662608</td>\n      <td>STIEEQAKTFLDKFNHEAEDLFYQSSLASWNYNTNITEENVQNMNN...</td>\n      <td>template2.pdb</td>\n      <td>A</td>\n      <td>19</td>\n      <td>STIEEQAKTFLDKFNHEAEDLFYQSSLASWNYNTNITEENVQNMNN...</td>\n      <td>False</td>\n      <td>False</td>\n      <td>251297.0</td>\n      <td>254927.0</td>\n      <td>253112.0</td>\n    </tr>\n    <tr>\n      <th>260054</th>\n      <td>SIIEEQAKTFLDKFNHEAVDFFYQSSLASWNYNTNITEENVQNMNN...</td>\n      <td>1.718763</td>\n      <td>-2.332379</td>\n      <td>SIIEEQAKTFLDKFNHEAEDFFYQSSLASWNYNTNITEENVQNMNN...</td>\n      <td>template2.pdb</td>\n      <td>A</td>\n      <td>19</td>\n      <td>STIEEQAKTFLDKFNHEAEDLFYQSSLASWNYNTNITEENVQNMNN...</td>\n      <td>False</td>\n      <td>False</td>\n      <td>250527.0</td>\n      <td>255794.0</td>\n      <td>253160.5</td>\n    </tr>\n    <tr>\n      <th>260055</th>\n      <td>STIEEQAQTFLDKFNHEAEDLFYQSSLASWNYNTNITEENVQNMNN...</td>\n      <td>2.285915</td>\n      <td>-1.257594</td>\n      <td>STIEEQAQTFLDKFNHEAEDLFYQSSLASWNYNTNITEENVQNMNN...</td>\n      <td>template2.pdb</td>\n      <td>A</td>\n      <td>19</td>\n      <td>STIEEQAKTFLDKFNHEAEDLFYQSSLASWNYNTNITEENVQNMNN...</td>\n      <td>False</td>\n      <td>False</td>\n      <td>253990.0</td>\n      <td>252452.0</td>\n      <td>253221.0</td>\n    </tr>\n    <tr>\n      <th>260057</th>\n      <td>STIEEQAKTFLDKFNHEASDSFYQSSIASWNYNTNITEENVQNMNN...</td>\n      <td>1.796386</td>\n      <td>-2.401845</td>\n      <td>STIEEQAKTFLDKFNHEAEDSFYQSSIASWNYNTNITEENVQNMNN...</td>\n      <td>template2.pdb</td>\n      <td>A</td>\n      <td>19</td>\n      <td>STIEEQAKTFLDKFNHEAEDLFYQSSLASWNYNTNITEENVQNMNN...</td>\n      <td>False</td>\n      <td>False</td>\n      <td>251122.0</td>\n      <td>255865.0</td>\n      <td>253493.5</td>\n    </tr>\n  </tbody>\n</table>\n<p>214503 rows × 13 columns</p>\n</div>"
     },
     "execution_count": 98,
     "metadata": {},
     "output_type": "execute_result"
    }
   ],
   "source": [
    "gen250k_df_filtered = gen250k_df_filtered.drop(drop_indices)\n",
    "gen250k_df_filtered"
   ],
   "metadata": {
    "collapsed": false,
    "ExecuteTime": {
     "start_time": "2023-04-28T11:53:12.881398Z",
     "end_time": "2023-04-28T11:53:12.884399Z"
    }
   }
  },
  {
   "cell_type": "code",
   "execution_count": 46,
   "outputs": [],
   "source": [],
   "metadata": {
    "collapsed": false,
    "ExecuteTime": {
     "start_time": "2023-04-28T11:48:22.289399Z",
     "end_time": "2023-04-28T11:48:22.289399Z"
    }
   }
  },
  {
   "cell_type": "code",
   "execution_count": 92,
   "outputs": [],
   "source": [],
   "metadata": {
    "collapsed": false,
    "ExecuteTime": {
     "start_time": "2023-04-28T11:43:24.941027Z",
     "end_time": "2023-04-28T11:43:24.942024Z"
    }
   }
  },
  {
   "cell_type": "markdown",
   "source": [
    "# Save top 10/100/1000/10000 seqs for FoldX Evaluation"
   ],
   "metadata": {
    "collapsed": false
   }
  },
  {
   "cell_type": "code",
   "execution_count": 99,
   "outputs": [
    {
     "name": "stdout",
     "output_type": "stream",
     "text": [
      "/home/hew/python/genhance/output/congen10_new_ddG_solubility_6_layer_gens_step_final_[-30.0]_[1.0]_[1.0]/ddG_top10000.tsv\n",
      "/home/hew/python/genhance/output/congen10_new_ddG_solubility_6_layer_gens_step_final_[-30.0]_[1.0]_[1.0]/solubility_top10000.tsv\n",
      "/home/hew/python/genhance/output/congen10_new_ddG_solubility_6_layer_gens_step_final_[-30.0]_[1.0]_[1.0]/ddG_solubility_avg_top10000.tsv\n",
      "/home/hew/python/genhance/output/congen10_new_ddG_solubility_6_layer_gens_step_final_[-30.0]_[1.0]_[1.0]/ddG_top1000.tsv\n",
      "/home/hew/python/genhance/output/congen10_new_ddG_solubility_6_layer_gens_step_final_[-30.0]_[1.0]_[1.0]/solubility_top1000.tsv\n",
      "/home/hew/python/genhance/output/congen10_new_ddG_solubility_6_layer_gens_step_final_[-30.0]_[1.0]_[1.0]/ddG_solubility_avg_top1000.tsv\n",
      "/home/hew/python/genhance/output/congen10_new_ddG_solubility_6_layer_gens_step_final_[-30.0]_[1.0]_[1.0]/ddG_top100.tsv\n",
      "/home/hew/python/genhance/output/congen10_new_ddG_solubility_6_layer_gens_step_final_[-30.0]_[1.0]_[1.0]/solubility_top100.tsv\n",
      "/home/hew/python/genhance/output/congen10_new_ddG_solubility_6_layer_gens_step_final_[-30.0]_[1.0]_[1.0]/ddG_solubility_avg_top100.tsv\n",
      "/home/hew/python/genhance/output/congen10_new_ddG_solubility_6_layer_gens_step_final_[-30.0]_[1.0]_[1.0]/ddG_top10.tsv\n",
      "/home/hew/python/genhance/output/congen10_new_ddG_solubility_6_layer_gens_step_final_[-30.0]_[1.0]_[1.0]/solubility_top10.tsv\n",
      "/home/hew/python/genhance/output/congen10_new_ddG_solubility_6_layer_gens_step_final_[-30.0]_[1.0]_[1.0]/ddG_solubility_avg_top10.tsv\n"
     ]
    }
   ],
   "source": [
    "topK_saved_list = [10000, 1000, 100, 10]\n",
    "sort_column_list = ['ddG_latent_pred', 'solubility_latent_pred', 'avg_latent_head_pred_rank']\n",
    "for topk in topK_saved_list:\n",
    "    for sort_column in sort_column_list:\n",
    "        if sort_column in gen250k_df_filtered.columns:\n",
    "            if sort_column == 'ddG_latent_pred' and not gen250k_df_filtered[sort_column].isnull().any():\n",
    "                prefix = 'ddG'\n",
    "                ascending = True\n",
    "            elif sort_column == 'solubility_latent_pred' and not gen250k_df_filtered[sort_column].isnull().any():\n",
    "                prefix = 'solubility'\n",
    "                ascending = False\n",
    "            elif sort_column == 'avg_latent_head_pred_rank':\n",
    "                prefix = 'ddG_solubility_avg'\n",
    "                ascending = True\n",
    "            else:\n",
    "                continue\n",
    "\n",
    "            final_topk_df = gen250k_df_filtered.sort_values(by=sort_column, ascending=ascending)\n",
    "            final_topk_df = final_topk_df.iloc[:topk]\n",
    "            csv_file = f'{output_dir}/{prefix}_top{topk}.tsv'\n",
    "            final_topk_df.to_csv(csv_file, sep='\\t', index=False)\n",
    "            print(csv_file)"
   ],
   "metadata": {
    "collapsed": false,
    "ExecuteTime": {
     "start_time": "2023-04-28T11:53:21.648304Z",
     "end_time": "2023-04-28T11:53:22.736524Z"
    }
   }
  },
  {
   "cell_type": "code",
   "execution_count": 100,
   "outputs": [
    {
     "data": {
      "text/plain": "                                                MT_seq  ddG_latent_pred  \\\n0    STIEEQAKTFLDKFNHEAEDLFYQSSLASWNYNTNITEENVQNMNN...       -10.307658   \n1    SDIEEQAKTFLDKFNHEAEDFQYQSSLASWNYNTNITEENVQNMNN...        -9.772393   \n2    SSIEEQAKYFLDKFNHEAEDLFYQSSLASWNYNTNITEENVQNMNN...        -9.608262   \n3    STIEEQAKTFLDKFNHEAEDLFYQSSLASWNYNTNITEENVQNMNN...       -10.861493   \n4    STIEEQAKIFLDKFNHEAEDFFYQSSLASWFYNTNITEENVQNMNN...       -10.735771   \n..                                                 ...              ...   \n120  STIEEQAKTFLDKFNHEAEDLFYQSMLANWNYNTNITEENVQNMNN...       -11.488681   \n121  STIEEQAKTFMDKFNHEAEDYFYQSSLASWNYNTNITEENVQNMNN...       -10.193822   \n123  SSIEEQAKYFLEKFNHEAEDLFYQSSLASWNYNTNITEENVQNMNN...       -11.530498   \n124  STIEEQAKIFLDKFNHEAEDIFYQSSMASWNYNTNITEENVQNMNQ...       -11.554396   \n125  SSIEEQAKYFLDKFNHEAEDLFYQSSLASWNYNTNITEENVQNMNN...       -10.682727   \n\n     solubility_latent_pred  \\\n0                  7.495675   \n1                  7.918597   \n2                  8.043570   \n3                  7.116463   \n4                  7.133160   \n..                      ...   \n120                5.720611   \n121                6.815171   \n123                5.667688   \n124                5.648527   \n125                6.517193   \n\n                                         gen_input_seq            PDB Chain  \\\n0    STIEEQAKTFLDKFNHEAEDLFYQSSLASWNYNTNITEENVQNMNN...  template2.pdb     A   \n1    SDIEEQAKTFLDKFNHEAEDLQYQSSLASWNYNTNITEENVQNMNN...  template2.pdb     A   \n2    SSIEEQAKYFLDKFNHEAEDLFYQSSLASWNYNTNITEENVQNMNN...  template2.pdb     A   \n3    STIEEQAKTFLDKFNHEAEDLFYQSSLASWNYNTNITEENVQNMNN...  template2.pdb     A   \n4    STIEEQAKTFLDKFNHEAEDLFYQSFLASWIYNTNITEENVQNMNN...  template2.pdb     A   \n..                                                 ...            ...   ...   \n120  STIEEQAKTFLDKFNHEAEDLFYQSMLANWNYNTNITEENVQNMNN...  template2.pdb     A   \n121  STIEEQAKTFMDKFNHEAEDLFYQSSLASWNYNTNITEENVQNMNN...  template2.pdb     A   \n123  SSIEEQAKYFLDKFNHEAEDLFYQSSLASWNYNTNITEENVQNMNN...  template2.pdb     A   \n124  STIEEQAKTFLDKFNHEAEDIFYQSSIASWNYNTNITEENVQNMNQ...  template2.pdb     A   \n125  SSIEEQAKYFLDKFNHEAEDLFYQSSLASWNYNTNITEENVQNMNN...  template2.pdb     A   \n\n     Start_index                                             WT_seq  \\\n0             19  STIEEQAKTFLDKFNHEAEDLFYQSSLASWNYNTNITEENVQNMNN...   \n1             19  STIEEQAKTFLDKFNHEAEDLFYQSSLASWNYNTNITEENVQNMNN...   \n2             19  STIEEQAKTFLDKFNHEAEDLFYQSSLASWNYNTNITEENVQNMNN...   \n3             19  STIEEQAKTFLDKFNHEAEDLFYQSSLASWNYNTNITEENVQNMNN...   \n4             19  STIEEQAKTFLDKFNHEAEDLFYQSSLASWNYNTNITEENVQNMNN...   \n..           ...                                                ...   \n120           19  STIEEQAKTFLDKFNHEAEDLFYQSSLASWNYNTNITEENVQNMNN...   \n121           19  STIEEQAKTFLDKFNHEAEDLFYQSSLASWNYNTNITEENVQNMNN...   \n123           19  STIEEQAKTFLDKFNHEAEDLFYQSSLASWNYNTNITEENVQNMNN...   \n124           19  STIEEQAKTFLDKFNHEAEDLFYQSSLASWNYNTNITEENVQNMNN...   \n125           19  STIEEQAKTFLDKFNHEAEDLFYQSSLASWNYNTNITEENVQNMNN...   \n\n     repeated_gen  in_train_data_gen  ddG_latent_pred_rank  \\\n0           False              False               18557.0   \n1           False              False               22064.0   \n2           False              False               23185.0   \n3           False              False               15181.0   \n4           False              False               15890.0   \n..            ...                ...                   ...   \n120         False              False               11814.0   \n121         False              False               19278.0   \n123         False              False               11601.0   \n124         False              False               11484.0   \n125         False              False               16231.0   \n\n     solubility_latent_pred_rank  avg_latent_head_pred_rank  \n0                        12982.0                    15769.5  \n1                        10351.0                    16207.5  \n2                         9634.0                    16409.5  \n3                        17658.0                    16419.5  \n4                        17378.0                    16634.0  \n..                           ...                        ...  \n120                      30055.0                    20934.5  \n121                      22602.0                    20940.0  \n123                      30403.0                    21002.0  \n124                      30560.0                    21022.0  \n125                      25820.0                    21025.5  \n\n[100 rows x 13 columns]",
      "text/html": "<div>\n<style scoped>\n    .dataframe tbody tr th:only-of-type {\n        vertical-align: middle;\n    }\n\n    .dataframe tbody tr th {\n        vertical-align: top;\n    }\n\n    .dataframe thead th {\n        text-align: right;\n    }\n</style>\n<table border=\"1\" class=\"dataframe\">\n  <thead>\n    <tr style=\"text-align: right;\">\n      <th></th>\n      <th>MT_seq</th>\n      <th>ddG_latent_pred</th>\n      <th>solubility_latent_pred</th>\n      <th>gen_input_seq</th>\n      <th>PDB</th>\n      <th>Chain</th>\n      <th>Start_index</th>\n      <th>WT_seq</th>\n      <th>repeated_gen</th>\n      <th>in_train_data_gen</th>\n      <th>ddG_latent_pred_rank</th>\n      <th>solubility_latent_pred_rank</th>\n      <th>avg_latent_head_pred_rank</th>\n    </tr>\n  </thead>\n  <tbody>\n    <tr>\n      <th>0</th>\n      <td>STIEEQAKTFLDKFNHEAEDLFYQSSLASWNYNTNITEENVQNMNN...</td>\n      <td>-10.307658</td>\n      <td>7.495675</td>\n      <td>STIEEQAKTFLDKFNHEAEDLFYQSSLASWNYNTNITEENVQNMNN...</td>\n      <td>template2.pdb</td>\n      <td>A</td>\n      <td>19</td>\n      <td>STIEEQAKTFLDKFNHEAEDLFYQSSLASWNYNTNITEENVQNMNN...</td>\n      <td>False</td>\n      <td>False</td>\n      <td>18557.0</td>\n      <td>12982.0</td>\n      <td>15769.5</td>\n    </tr>\n    <tr>\n      <th>1</th>\n      <td>SDIEEQAKTFLDKFNHEAEDFQYQSSLASWNYNTNITEENVQNMNN...</td>\n      <td>-9.772393</td>\n      <td>7.918597</td>\n      <td>SDIEEQAKTFLDKFNHEAEDLQYQSSLASWNYNTNITEENVQNMNN...</td>\n      <td>template2.pdb</td>\n      <td>A</td>\n      <td>19</td>\n      <td>STIEEQAKTFLDKFNHEAEDLFYQSSLASWNYNTNITEENVQNMNN...</td>\n      <td>False</td>\n      <td>False</td>\n      <td>22064.0</td>\n      <td>10351.0</td>\n      <td>16207.5</td>\n    </tr>\n    <tr>\n      <th>2</th>\n      <td>SSIEEQAKYFLDKFNHEAEDLFYQSSLASWNYNTNITEENVQNMNN...</td>\n      <td>-9.608262</td>\n      <td>8.043570</td>\n      <td>SSIEEQAKYFLDKFNHEAEDLFYQSSLASWNYNTNITEENVQNMNN...</td>\n      <td>template2.pdb</td>\n      <td>A</td>\n      <td>19</td>\n      <td>STIEEQAKTFLDKFNHEAEDLFYQSSLASWNYNTNITEENVQNMNN...</td>\n      <td>False</td>\n      <td>False</td>\n      <td>23185.0</td>\n      <td>9634.0</td>\n      <td>16409.5</td>\n    </tr>\n    <tr>\n      <th>3</th>\n      <td>STIEEQAKTFLDKFNHEAEDLFYQSSLASWNYNTNITEENVQNMNN...</td>\n      <td>-10.861493</td>\n      <td>7.116463</td>\n      <td>STIEEQAKTFLDKFNHEAEDLFYQSSLASWNYNTNITEENVQNMNN...</td>\n      <td>template2.pdb</td>\n      <td>A</td>\n      <td>19</td>\n      <td>STIEEQAKTFLDKFNHEAEDLFYQSSLASWNYNTNITEENVQNMNN...</td>\n      <td>False</td>\n      <td>False</td>\n      <td>15181.0</td>\n      <td>17658.0</td>\n      <td>16419.5</td>\n    </tr>\n    <tr>\n      <th>4</th>\n      <td>STIEEQAKIFLDKFNHEAEDFFYQSSLASWFYNTNITEENVQNMNN...</td>\n      <td>-10.735771</td>\n      <td>7.133160</td>\n      <td>STIEEQAKTFLDKFNHEAEDLFYQSFLASWIYNTNITEENVQNMNN...</td>\n      <td>template2.pdb</td>\n      <td>A</td>\n      <td>19</td>\n      <td>STIEEQAKTFLDKFNHEAEDLFYQSSLASWNYNTNITEENVQNMNN...</td>\n      <td>False</td>\n      <td>False</td>\n      <td>15890.0</td>\n      <td>17378.0</td>\n      <td>16634.0</td>\n    </tr>\n    <tr>\n      <th>...</th>\n      <td>...</td>\n      <td>...</td>\n      <td>...</td>\n      <td>...</td>\n      <td>...</td>\n      <td>...</td>\n      <td>...</td>\n      <td>...</td>\n      <td>...</td>\n      <td>...</td>\n      <td>...</td>\n      <td>...</td>\n      <td>...</td>\n    </tr>\n    <tr>\n      <th>120</th>\n      <td>STIEEQAKTFLDKFNHEAEDLFYQSMLANWNYNTNITEENVQNMNN...</td>\n      <td>-11.488681</td>\n      <td>5.720611</td>\n      <td>STIEEQAKTFLDKFNHEAEDLFYQSMLANWNYNTNITEENVQNMNN...</td>\n      <td>template2.pdb</td>\n      <td>A</td>\n      <td>19</td>\n      <td>STIEEQAKTFLDKFNHEAEDLFYQSSLASWNYNTNITEENVQNMNN...</td>\n      <td>False</td>\n      <td>False</td>\n      <td>11814.0</td>\n      <td>30055.0</td>\n      <td>20934.5</td>\n    </tr>\n    <tr>\n      <th>121</th>\n      <td>STIEEQAKTFMDKFNHEAEDYFYQSSLASWNYNTNITEENVQNMNN...</td>\n      <td>-10.193822</td>\n      <td>6.815171</td>\n      <td>STIEEQAKTFMDKFNHEAEDLFYQSSLASWNYNTNITEENVQNMNN...</td>\n      <td>template2.pdb</td>\n      <td>A</td>\n      <td>19</td>\n      <td>STIEEQAKTFLDKFNHEAEDLFYQSSLASWNYNTNITEENVQNMNN...</td>\n      <td>False</td>\n      <td>False</td>\n      <td>19278.0</td>\n      <td>22602.0</td>\n      <td>20940.0</td>\n    </tr>\n    <tr>\n      <th>123</th>\n      <td>SSIEEQAKYFLEKFNHEAEDLFYQSSLASWNYNTNITEENVQNMNN...</td>\n      <td>-11.530498</td>\n      <td>5.667688</td>\n      <td>SSIEEQAKYFLDKFNHEAEDLFYQSSLASWNYNTNITEENVQNMNN...</td>\n      <td>template2.pdb</td>\n      <td>A</td>\n      <td>19</td>\n      <td>STIEEQAKTFLDKFNHEAEDLFYQSSLASWNYNTNITEENVQNMNN...</td>\n      <td>False</td>\n      <td>False</td>\n      <td>11601.0</td>\n      <td>30403.0</td>\n      <td>21002.0</td>\n    </tr>\n    <tr>\n      <th>124</th>\n      <td>STIEEQAKIFLDKFNHEAEDIFYQSSMASWNYNTNITEENVQNMNQ...</td>\n      <td>-11.554396</td>\n      <td>5.648527</td>\n      <td>STIEEQAKTFLDKFNHEAEDIFYQSSIASWNYNTNITEENVQNMNQ...</td>\n      <td>template2.pdb</td>\n      <td>A</td>\n      <td>19</td>\n      <td>STIEEQAKTFLDKFNHEAEDLFYQSSLASWNYNTNITEENVQNMNN...</td>\n      <td>False</td>\n      <td>False</td>\n      <td>11484.0</td>\n      <td>30560.0</td>\n      <td>21022.0</td>\n    </tr>\n    <tr>\n      <th>125</th>\n      <td>SSIEEQAKYFLDKFNHEAEDLFYQSSLASWNYNTNITEENVQNMNN...</td>\n      <td>-10.682727</td>\n      <td>6.517193</td>\n      <td>SSIEEQAKYFLDKFNHEAEDLFYQSSLASWNYNTNITEENVQNMNN...</td>\n      <td>template2.pdb</td>\n      <td>A</td>\n      <td>19</td>\n      <td>STIEEQAKTFLDKFNHEAEDLFYQSSLASWNYNTNITEENVQNMNN...</td>\n      <td>False</td>\n      <td>False</td>\n      <td>16231.0</td>\n      <td>25820.0</td>\n      <td>21025.5</td>\n    </tr>\n  </tbody>\n</table>\n<p>100 rows × 13 columns</p>\n</div>"
     },
     "execution_count": 100,
     "metadata": {},
     "output_type": "execute_result"
    }
   ],
   "source": [
    "topK_saved = 100\n",
    "# sort_column = 'ddG_latent_pred'\n",
    "# ascending = True\n",
    "# sort_column = 'solubility_latent_pred'\n",
    "# ascending = False\n",
    "sort_column = 'avg_latent_head_pred_rank'\n",
    "ascending = True\n",
    "\n",
    "final_topk_df = gen250k_df_filtered.sort_values(by=sort_column, ascending=ascending)\n",
    "final_topk_df = final_topk_df.iloc[:topK_saved]\n",
    "final_topk_df"
   ],
   "metadata": {
    "collapsed": false,
    "ExecuteTime": {
     "start_time": "2023-04-28T11:53:22.727438Z",
     "end_time": "2023-04-28T11:53:22.908742Z"
    }
   }
  },
  {
   "cell_type": "code",
   "execution_count": 101,
   "outputs": [
    {
     "data": {
      "text/plain": "                                              MT_seq  ddG_latent_pred  \\\n0  STIEEQAKTFLDKFNHEAEDLFYQSSLASWNYNTNITEENVQNMNN...       -10.307658   \n1  SDIEEQAKTFLDKFNHEAEDFQYQSSLASWNYNTNITEENVQNMNN...        -9.772393   \n2  SSIEEQAKYFLDKFNHEAEDLFYQSSLASWNYNTNITEENVQNMNN...        -9.608262   \n3  STIEEQAKTFLDKFNHEAEDLFYQSSLASWNYNTNITEENVQNMNN...       -10.861493   \n4  STIEEQAKIFLDKFNHEAEDFFYQSSLASWFYNTNITEENVQNMNN...       -10.735771   \n5  STIEEQAKTFLDKFNHEAEDIFYQFSLASWIYNTNITEENVQNMNN...        -9.956779   \n6  STIEEQAKIFLDKFNHEAEDLFYQSSMMAWNYNTNITEENVQNMNN...       -10.480534   \n7  SSIEEQAKYFLEKFNHEAEDYFYQSSLASWNYNTNITEENVQNMNN...        -9.710723   \n8  STIEEQAKTFLDKFNHEAEDLFYQSMLANWNYNTNITEENVQNMNN...        -9.395791   \n9  STIEEQAKIFLDKFNHEAEDIFYQSSLASWNYNTNITEENEQNMNN...        -9.580462   \n\n   solubility_latent_pred                                      gen_input_seq  \\\n0                7.495675  STIEEQAKTFLDKFNHEAEDLFYQSSLASWNYNTNITEENVQNMNN...   \n1                7.918597  SDIEEQAKTFLDKFNHEAEDLQYQSSLASWNYNTNITEENVQNMNN...   \n2                8.043570  SSIEEQAKYFLDKFNHEAEDLFYQSSLASWNYNTNITEENVQNMNN...   \n3                7.116463  STIEEQAKTFLDKFNHEAEDLFYQSSLASWNYNTNITEENVQNMNN...   \n4                7.133160  STIEEQAKTFLDKFNHEAEDLFYQSFLASWIYNTNITEENVQNMNN...   \n5                7.559714  STIEEQAKTFLDKFNHEAEDLFYQSFLASWIYNTNITEENVQNMNN...   \n6                7.110551  STIEEQAKTFLDKFNHEAEDLFYQSSMASWNYNTNITEENVQNMNN...   \n7                7.466070  SSIEEQAKYFLDKFNHEAEDLFYQSSLASWNYNTNITEENVQNMNN...   \n8                7.774136  STIEEQAKTFLDKFNHEAEDLFYQSMLANWNYNTNITEENVQNMNN...   \n9                7.452818  STIEEQAKTFLDKFNHEAEDLFYQSSLASWNYNTNITEENEQNMNN...   \n\n             PDB Chain  Start_index  \\\n0  template2.pdb     A           19   \n1  template2.pdb     A           19   \n2  template2.pdb     A           19   \n3  template2.pdb     A           19   \n4  template2.pdb     A           19   \n5  template2.pdb     A           19   \n6  template2.pdb     A           19   \n7  template2.pdb     A           19   \n8  template2.pdb     A           19   \n9  template2.pdb     A           19   \n\n                                              WT_seq  repeated_gen  \\\n0  STIEEQAKTFLDKFNHEAEDLFYQSSLASWNYNTNITEENVQNMNN...         False   \n1  STIEEQAKTFLDKFNHEAEDLFYQSSLASWNYNTNITEENVQNMNN...         False   \n2  STIEEQAKTFLDKFNHEAEDLFYQSSLASWNYNTNITEENVQNMNN...         False   \n3  STIEEQAKTFLDKFNHEAEDLFYQSSLASWNYNTNITEENVQNMNN...         False   \n4  STIEEQAKTFLDKFNHEAEDLFYQSSLASWNYNTNITEENVQNMNN...         False   \n5  STIEEQAKTFLDKFNHEAEDLFYQSSLASWNYNTNITEENVQNMNN...         False   \n6  STIEEQAKTFLDKFNHEAEDLFYQSSLASWNYNTNITEENVQNMNN...         False   \n7  STIEEQAKTFLDKFNHEAEDLFYQSSLASWNYNTNITEENVQNMNN...         False   \n8  STIEEQAKTFLDKFNHEAEDLFYQSSLASWNYNTNITEENVQNMNN...         False   \n9  STIEEQAKTFLDKFNHEAEDLFYQSSLASWNYNTNITEENVQNMNN...         False   \n\n   in_train_data_gen  ddG_latent_pred_rank  solubility_latent_pred_rank  \\\n0              False               18557.0                      12982.0   \n1              False               22064.0                      10351.0   \n2              False               23185.0                       9634.0   \n3              False               15181.0                      17658.0   \n4              False               15890.0                      17378.0   \n5              False               20812.0                      12544.0   \n6              False               17472.0                      17745.0   \n7              False               22532.0                      13228.0   \n8              False               24710.0                      11244.0   \n9              False               23392.0                      13348.0   \n\n   avg_latent_head_pred_rank  \n0                    15769.5  \n1                    16207.5  \n2                    16409.5  \n3                    16419.5  \n4                    16634.0  \n5                    16678.0  \n6                    17608.5  \n7                    17880.0  \n8                    17977.0  \n9                    18370.0  ",
      "text/html": "<div>\n<style scoped>\n    .dataframe tbody tr th:only-of-type {\n        vertical-align: middle;\n    }\n\n    .dataframe tbody tr th {\n        vertical-align: top;\n    }\n\n    .dataframe thead th {\n        text-align: right;\n    }\n</style>\n<table border=\"1\" class=\"dataframe\">\n  <thead>\n    <tr style=\"text-align: right;\">\n      <th></th>\n      <th>MT_seq</th>\n      <th>ddG_latent_pred</th>\n      <th>solubility_latent_pred</th>\n      <th>gen_input_seq</th>\n      <th>PDB</th>\n      <th>Chain</th>\n      <th>Start_index</th>\n      <th>WT_seq</th>\n      <th>repeated_gen</th>\n      <th>in_train_data_gen</th>\n      <th>ddG_latent_pred_rank</th>\n      <th>solubility_latent_pred_rank</th>\n      <th>avg_latent_head_pred_rank</th>\n    </tr>\n  </thead>\n  <tbody>\n    <tr>\n      <th>0</th>\n      <td>STIEEQAKTFLDKFNHEAEDLFYQSSLASWNYNTNITEENVQNMNN...</td>\n      <td>-10.307658</td>\n      <td>7.495675</td>\n      <td>STIEEQAKTFLDKFNHEAEDLFYQSSLASWNYNTNITEENVQNMNN...</td>\n      <td>template2.pdb</td>\n      <td>A</td>\n      <td>19</td>\n      <td>STIEEQAKTFLDKFNHEAEDLFYQSSLASWNYNTNITEENVQNMNN...</td>\n      <td>False</td>\n      <td>False</td>\n      <td>18557.0</td>\n      <td>12982.0</td>\n      <td>15769.5</td>\n    </tr>\n    <tr>\n      <th>1</th>\n      <td>SDIEEQAKTFLDKFNHEAEDFQYQSSLASWNYNTNITEENVQNMNN...</td>\n      <td>-9.772393</td>\n      <td>7.918597</td>\n      <td>SDIEEQAKTFLDKFNHEAEDLQYQSSLASWNYNTNITEENVQNMNN...</td>\n      <td>template2.pdb</td>\n      <td>A</td>\n      <td>19</td>\n      <td>STIEEQAKTFLDKFNHEAEDLFYQSSLASWNYNTNITEENVQNMNN...</td>\n      <td>False</td>\n      <td>False</td>\n      <td>22064.0</td>\n      <td>10351.0</td>\n      <td>16207.5</td>\n    </tr>\n    <tr>\n      <th>2</th>\n      <td>SSIEEQAKYFLDKFNHEAEDLFYQSSLASWNYNTNITEENVQNMNN...</td>\n      <td>-9.608262</td>\n      <td>8.043570</td>\n      <td>SSIEEQAKYFLDKFNHEAEDLFYQSSLASWNYNTNITEENVQNMNN...</td>\n      <td>template2.pdb</td>\n      <td>A</td>\n      <td>19</td>\n      <td>STIEEQAKTFLDKFNHEAEDLFYQSSLASWNYNTNITEENVQNMNN...</td>\n      <td>False</td>\n      <td>False</td>\n      <td>23185.0</td>\n      <td>9634.0</td>\n      <td>16409.5</td>\n    </tr>\n    <tr>\n      <th>3</th>\n      <td>STIEEQAKTFLDKFNHEAEDLFYQSSLASWNYNTNITEENVQNMNN...</td>\n      <td>-10.861493</td>\n      <td>7.116463</td>\n      <td>STIEEQAKTFLDKFNHEAEDLFYQSSLASWNYNTNITEENVQNMNN...</td>\n      <td>template2.pdb</td>\n      <td>A</td>\n      <td>19</td>\n      <td>STIEEQAKTFLDKFNHEAEDLFYQSSLASWNYNTNITEENVQNMNN...</td>\n      <td>False</td>\n      <td>False</td>\n      <td>15181.0</td>\n      <td>17658.0</td>\n      <td>16419.5</td>\n    </tr>\n    <tr>\n      <th>4</th>\n      <td>STIEEQAKIFLDKFNHEAEDFFYQSSLASWFYNTNITEENVQNMNN...</td>\n      <td>-10.735771</td>\n      <td>7.133160</td>\n      <td>STIEEQAKTFLDKFNHEAEDLFYQSFLASWIYNTNITEENVQNMNN...</td>\n      <td>template2.pdb</td>\n      <td>A</td>\n      <td>19</td>\n      <td>STIEEQAKTFLDKFNHEAEDLFYQSSLASWNYNTNITEENVQNMNN...</td>\n      <td>False</td>\n      <td>False</td>\n      <td>15890.0</td>\n      <td>17378.0</td>\n      <td>16634.0</td>\n    </tr>\n    <tr>\n      <th>5</th>\n      <td>STIEEQAKTFLDKFNHEAEDIFYQFSLASWIYNTNITEENVQNMNN...</td>\n      <td>-9.956779</td>\n      <td>7.559714</td>\n      <td>STIEEQAKTFLDKFNHEAEDLFYQSFLASWIYNTNITEENVQNMNN...</td>\n      <td>template2.pdb</td>\n      <td>A</td>\n      <td>19</td>\n      <td>STIEEQAKTFLDKFNHEAEDLFYQSSLASWNYNTNITEENVQNMNN...</td>\n      <td>False</td>\n      <td>False</td>\n      <td>20812.0</td>\n      <td>12544.0</td>\n      <td>16678.0</td>\n    </tr>\n    <tr>\n      <th>6</th>\n      <td>STIEEQAKIFLDKFNHEAEDLFYQSSMMAWNYNTNITEENVQNMNN...</td>\n      <td>-10.480534</td>\n      <td>7.110551</td>\n      <td>STIEEQAKTFLDKFNHEAEDLFYQSSMASWNYNTNITEENVQNMNN...</td>\n      <td>template2.pdb</td>\n      <td>A</td>\n      <td>19</td>\n      <td>STIEEQAKTFLDKFNHEAEDLFYQSSLASWNYNTNITEENVQNMNN...</td>\n      <td>False</td>\n      <td>False</td>\n      <td>17472.0</td>\n      <td>17745.0</td>\n      <td>17608.5</td>\n    </tr>\n    <tr>\n      <th>7</th>\n      <td>SSIEEQAKYFLEKFNHEAEDYFYQSSLASWNYNTNITEENVQNMNN...</td>\n      <td>-9.710723</td>\n      <td>7.466070</td>\n      <td>SSIEEQAKYFLDKFNHEAEDLFYQSSLASWNYNTNITEENVQNMNN...</td>\n      <td>template2.pdb</td>\n      <td>A</td>\n      <td>19</td>\n      <td>STIEEQAKTFLDKFNHEAEDLFYQSSLASWNYNTNITEENVQNMNN...</td>\n      <td>False</td>\n      <td>False</td>\n      <td>22532.0</td>\n      <td>13228.0</td>\n      <td>17880.0</td>\n    </tr>\n    <tr>\n      <th>8</th>\n      <td>STIEEQAKTFLDKFNHEAEDLFYQSMLANWNYNTNITEENVQNMNN...</td>\n      <td>-9.395791</td>\n      <td>7.774136</td>\n      <td>STIEEQAKTFLDKFNHEAEDLFYQSMLANWNYNTNITEENVQNMNN...</td>\n      <td>template2.pdb</td>\n      <td>A</td>\n      <td>19</td>\n      <td>STIEEQAKTFLDKFNHEAEDLFYQSSLASWNYNTNITEENVQNMNN...</td>\n      <td>False</td>\n      <td>False</td>\n      <td>24710.0</td>\n      <td>11244.0</td>\n      <td>17977.0</td>\n    </tr>\n    <tr>\n      <th>9</th>\n      <td>STIEEQAKIFLDKFNHEAEDIFYQSSLASWNYNTNITEENEQNMNN...</td>\n      <td>-9.580462</td>\n      <td>7.452818</td>\n      <td>STIEEQAKTFLDKFNHEAEDLFYQSSLASWNYNTNITEENEQNMNN...</td>\n      <td>template2.pdb</td>\n      <td>A</td>\n      <td>19</td>\n      <td>STIEEQAKTFLDKFNHEAEDLFYQSSLASWNYNTNITEENVQNMNN...</td>\n      <td>False</td>\n      <td>False</td>\n      <td>23392.0</td>\n      <td>13348.0</td>\n      <td>18370.0</td>\n    </tr>\n  </tbody>\n</table>\n</div>"
     },
     "execution_count": 101,
     "metadata": {},
     "output_type": "execute_result"
    }
   ],
   "source": [
    "topK_saved = 100\n",
    "# prefix = 'ddG'\n",
    "# prefix = 'solubility'\n",
    "prefix = 'ddG_solubility_avg'\n",
    "\n",
    "csv_file = f'{output_dir}/{prefix}_top{topk}.tsv'\n",
    "load_topk_data = pd.read_csv(csv_file, sep=\"\\t\")\n",
    "load_topk_data"
   ],
   "metadata": {
    "collapsed": false,
    "ExecuteTime": {
     "start_time": "2023-04-28T11:53:22.908742Z",
     "end_time": "2023-04-28T11:53:22.971806Z"
    }
   }
  },
  {
   "cell_type": "code",
   "execution_count": 101,
   "outputs": [],
   "source": [],
   "metadata": {
    "collapsed": false,
    "ExecuteTime": {
     "start_time": "2023-04-28T11:53:22.952690Z",
     "end_time": "2023-04-28T11:53:22.971806Z"
    }
   }
  },
  {
   "cell_type": "markdown",
   "source": [
    "# Sample for E[min] FoldX Computation"
   ],
   "metadata": {
    "collapsed": false
   }
  },
  {
   "cell_type": "code",
   "execution_count": 102,
   "outputs": [
    {
     "data": {
      "text/plain": "                                                   MT_seq  ddG_latent_pred  \\\n0       STIEEQAKTFLDKFNHEAEDLFYQSSLASWNYNTNITEENVQNMNN...       -10.307658   \n1       SDIEEQAKTFLDKFNHEAEDFQYQSSLASWNYNTNITEENVQNMNN...        -9.772393   \n2       SSIEEQAKYFLDKFNHEAEDLFYQSSLASWNYNTNITEENVQNMNN...        -9.608262   \n3       STIEEQAKTFLDKFNHEAEDLFYQSSLASWNYNTNITEENVQNMNN...       -10.861493   \n4       STIEEQAKIFLDKFNHEAEDFFYQSSLASWFYNTNITEENVQNMNN...       -10.735771   \n...                                                   ...              ...   \n260050  STIEEQAQTYLNKFNHEAEDLFYQSRLASWNANTNITEENVQNMNN...         1.761667   \n260053  STIEEQAKTFLDKFNHEAADLFYQSSLASWNYNTNITEENVQNMNN...         1.819618   \n260054  SIIEEQAKTFLDKFNHEAVDFFYQSSLASWNYNTNITEENVQNMNN...         1.718763   \n260055  STIEEQAQTFLDKFNHEAEDLFYQSSLASWNYNTNITEENVQNMNN...         2.285915   \n260057  STIEEQAKTFLDKFNHEASDSFYQSSIASWNYNTNITEENVQNMNN...         1.796386   \n\n        solubility_latent_pred  \\\n0                     7.495675   \n1                     7.918597   \n2                     8.043570   \n3                     7.116463   \n4                     7.133160   \n...                        ...   \n260050               -1.814477   \n260053               -1.662608   \n260054               -2.332379   \n260055               -1.257594   \n260057               -2.401845   \n\n                                            gen_input_seq            PDB  \\\n0       STIEEQAKTFLDKFNHEAEDLFYQSSLASWNYNTNITEENVQNMNN...  template2.pdb   \n1       SDIEEQAKTFLDKFNHEAEDLQYQSSLASWNYNTNITEENVQNMNN...  template2.pdb   \n2       SSIEEQAKYFLDKFNHEAEDLFYQSSLASWNYNTNITEENVQNMNN...  template2.pdb   \n3       STIEEQAKTFLDKFNHEAEDLFYQSSLASWNYNTNITEENVQNMNN...  template2.pdb   \n4       STIEEQAKTFLDKFNHEAEDLFYQSFLASWIYNTNITEENVQNMNN...  template2.pdb   \n...                                                   ...            ...   \n260050  STIEEQAQTFLDKFNHEAEDLFYQSRLASWNANTNITEENVQNMNN...  template2.pdb   \n260053  STIEEQAKTFLDKFNHEAEDLFYQSSLASWNYNTNITEENVQNMNN...  template2.pdb   \n260054  SIIEEQAKTFLDKFNHEAEDFFYQSSLASWNYNTNITEENVQNMNN...  template2.pdb   \n260055  STIEEQAQTFLDKFNHEAEDLFYQSSLASWNYNTNITEENVQNMNN...  template2.pdb   \n260057  STIEEQAKTFLDKFNHEAEDSFYQSSIASWNYNTNITEENVQNMNN...  template2.pdb   \n\n       Chain  Start_index                                             WT_seq  \\\n0          A           19  STIEEQAKTFLDKFNHEAEDLFYQSSLASWNYNTNITEENVQNMNN...   \n1          A           19  STIEEQAKTFLDKFNHEAEDLFYQSSLASWNYNTNITEENVQNMNN...   \n2          A           19  STIEEQAKTFLDKFNHEAEDLFYQSSLASWNYNTNITEENVQNMNN...   \n3          A           19  STIEEQAKTFLDKFNHEAEDLFYQSSLASWNYNTNITEENVQNMNN...   \n4          A           19  STIEEQAKTFLDKFNHEAEDLFYQSSLASWNYNTNITEENVQNMNN...   \n...      ...          ...                                                ...   \n260050     A           19  STIEEQAKTFLDKFNHEAEDLFYQSSLASWNYNTNITEENVQNMNN...   \n260053     A           19  STIEEQAKTFLDKFNHEAEDLFYQSSLASWNYNTNITEENVQNMNN...   \n260054     A           19  STIEEQAKTFLDKFNHEAEDLFYQSSLASWNYNTNITEENVQNMNN...   \n260055     A           19  STIEEQAKTFLDKFNHEAEDLFYQSSLASWNYNTNITEENVQNMNN...   \n260057     A           19  STIEEQAKTFLDKFNHEAEDLFYQSSLASWNYNTNITEENVQNMNN...   \n\n        repeated_gen  in_train_data_gen  ddG_latent_pred_rank  \\\n0              False              False               18557.0   \n1              False              False               22064.0   \n2              False              False               23185.0   \n3              False              False               15181.0   \n4              False              False               15890.0   \n...              ...                ...                   ...   \n260050         False              False              250869.0   \n260053         False              False              251297.0   \n260054         False              False              250527.0   \n260055         False              False              253990.0   \n260057         False              False              251122.0   \n\n        solubility_latent_pred_rank  avg_latent_head_pred_rank  \n0                           12982.0                    15769.5  \n1                           10351.0                    16207.5  \n2                            9634.0                    16409.5  \n3                           17658.0                    16419.5  \n4                           17378.0                    16634.0  \n...                             ...                        ...  \n260050                     255201.0                   253035.0  \n260053                     254927.0                   253112.0  \n260054                     255794.0                   253160.5  \n260055                     252452.0                   253221.0  \n260057                     255865.0                   253493.5  \n\n[214503 rows x 13 columns]",
      "text/html": "<div>\n<style scoped>\n    .dataframe tbody tr th:only-of-type {\n        vertical-align: middle;\n    }\n\n    .dataframe tbody tr th {\n        vertical-align: top;\n    }\n\n    .dataframe thead th {\n        text-align: right;\n    }\n</style>\n<table border=\"1\" class=\"dataframe\">\n  <thead>\n    <tr style=\"text-align: right;\">\n      <th></th>\n      <th>MT_seq</th>\n      <th>ddG_latent_pred</th>\n      <th>solubility_latent_pred</th>\n      <th>gen_input_seq</th>\n      <th>PDB</th>\n      <th>Chain</th>\n      <th>Start_index</th>\n      <th>WT_seq</th>\n      <th>repeated_gen</th>\n      <th>in_train_data_gen</th>\n      <th>ddG_latent_pred_rank</th>\n      <th>solubility_latent_pred_rank</th>\n      <th>avg_latent_head_pred_rank</th>\n    </tr>\n  </thead>\n  <tbody>\n    <tr>\n      <th>0</th>\n      <td>STIEEQAKTFLDKFNHEAEDLFYQSSLASWNYNTNITEENVQNMNN...</td>\n      <td>-10.307658</td>\n      <td>7.495675</td>\n      <td>STIEEQAKTFLDKFNHEAEDLFYQSSLASWNYNTNITEENVQNMNN...</td>\n      <td>template2.pdb</td>\n      <td>A</td>\n      <td>19</td>\n      <td>STIEEQAKTFLDKFNHEAEDLFYQSSLASWNYNTNITEENVQNMNN...</td>\n      <td>False</td>\n      <td>False</td>\n      <td>18557.0</td>\n      <td>12982.0</td>\n      <td>15769.5</td>\n    </tr>\n    <tr>\n      <th>1</th>\n      <td>SDIEEQAKTFLDKFNHEAEDFQYQSSLASWNYNTNITEENVQNMNN...</td>\n      <td>-9.772393</td>\n      <td>7.918597</td>\n      <td>SDIEEQAKTFLDKFNHEAEDLQYQSSLASWNYNTNITEENVQNMNN...</td>\n      <td>template2.pdb</td>\n      <td>A</td>\n      <td>19</td>\n      <td>STIEEQAKTFLDKFNHEAEDLFYQSSLASWNYNTNITEENVQNMNN...</td>\n      <td>False</td>\n      <td>False</td>\n      <td>22064.0</td>\n      <td>10351.0</td>\n      <td>16207.5</td>\n    </tr>\n    <tr>\n      <th>2</th>\n      <td>SSIEEQAKYFLDKFNHEAEDLFYQSSLASWNYNTNITEENVQNMNN...</td>\n      <td>-9.608262</td>\n      <td>8.043570</td>\n      <td>SSIEEQAKYFLDKFNHEAEDLFYQSSLASWNYNTNITEENVQNMNN...</td>\n      <td>template2.pdb</td>\n      <td>A</td>\n      <td>19</td>\n      <td>STIEEQAKTFLDKFNHEAEDLFYQSSLASWNYNTNITEENVQNMNN...</td>\n      <td>False</td>\n      <td>False</td>\n      <td>23185.0</td>\n      <td>9634.0</td>\n      <td>16409.5</td>\n    </tr>\n    <tr>\n      <th>3</th>\n      <td>STIEEQAKTFLDKFNHEAEDLFYQSSLASWNYNTNITEENVQNMNN...</td>\n      <td>-10.861493</td>\n      <td>7.116463</td>\n      <td>STIEEQAKTFLDKFNHEAEDLFYQSSLASWNYNTNITEENVQNMNN...</td>\n      <td>template2.pdb</td>\n      <td>A</td>\n      <td>19</td>\n      <td>STIEEQAKTFLDKFNHEAEDLFYQSSLASWNYNTNITEENVQNMNN...</td>\n      <td>False</td>\n      <td>False</td>\n      <td>15181.0</td>\n      <td>17658.0</td>\n      <td>16419.5</td>\n    </tr>\n    <tr>\n      <th>4</th>\n      <td>STIEEQAKIFLDKFNHEAEDFFYQSSLASWFYNTNITEENVQNMNN...</td>\n      <td>-10.735771</td>\n      <td>7.133160</td>\n      <td>STIEEQAKTFLDKFNHEAEDLFYQSFLASWIYNTNITEENVQNMNN...</td>\n      <td>template2.pdb</td>\n      <td>A</td>\n      <td>19</td>\n      <td>STIEEQAKTFLDKFNHEAEDLFYQSSLASWNYNTNITEENVQNMNN...</td>\n      <td>False</td>\n      <td>False</td>\n      <td>15890.0</td>\n      <td>17378.0</td>\n      <td>16634.0</td>\n    </tr>\n    <tr>\n      <th>...</th>\n      <td>...</td>\n      <td>...</td>\n      <td>...</td>\n      <td>...</td>\n      <td>...</td>\n      <td>...</td>\n      <td>...</td>\n      <td>...</td>\n      <td>...</td>\n      <td>...</td>\n      <td>...</td>\n      <td>...</td>\n      <td>...</td>\n    </tr>\n    <tr>\n      <th>260050</th>\n      <td>STIEEQAQTYLNKFNHEAEDLFYQSRLASWNANTNITEENVQNMNN...</td>\n      <td>1.761667</td>\n      <td>-1.814477</td>\n      <td>STIEEQAQTFLDKFNHEAEDLFYQSRLASWNANTNITEENVQNMNN...</td>\n      <td>template2.pdb</td>\n      <td>A</td>\n      <td>19</td>\n      <td>STIEEQAKTFLDKFNHEAEDLFYQSSLASWNYNTNITEENVQNMNN...</td>\n      <td>False</td>\n      <td>False</td>\n      <td>250869.0</td>\n      <td>255201.0</td>\n      <td>253035.0</td>\n    </tr>\n    <tr>\n      <th>260053</th>\n      <td>STIEEQAKTFLDKFNHEAADLFYQSSLASWNYNTNITEENVQNMNN...</td>\n      <td>1.819618</td>\n      <td>-1.662608</td>\n      <td>STIEEQAKTFLDKFNHEAEDLFYQSSLASWNYNTNITEENVQNMNN...</td>\n      <td>template2.pdb</td>\n      <td>A</td>\n      <td>19</td>\n      <td>STIEEQAKTFLDKFNHEAEDLFYQSSLASWNYNTNITEENVQNMNN...</td>\n      <td>False</td>\n      <td>False</td>\n      <td>251297.0</td>\n      <td>254927.0</td>\n      <td>253112.0</td>\n    </tr>\n    <tr>\n      <th>260054</th>\n      <td>SIIEEQAKTFLDKFNHEAVDFFYQSSLASWNYNTNITEENVQNMNN...</td>\n      <td>1.718763</td>\n      <td>-2.332379</td>\n      <td>SIIEEQAKTFLDKFNHEAEDFFYQSSLASWNYNTNITEENVQNMNN...</td>\n      <td>template2.pdb</td>\n      <td>A</td>\n      <td>19</td>\n      <td>STIEEQAKTFLDKFNHEAEDLFYQSSLASWNYNTNITEENVQNMNN...</td>\n      <td>False</td>\n      <td>False</td>\n      <td>250527.0</td>\n      <td>255794.0</td>\n      <td>253160.5</td>\n    </tr>\n    <tr>\n      <th>260055</th>\n      <td>STIEEQAQTFLDKFNHEAEDLFYQSSLASWNYNTNITEENVQNMNN...</td>\n      <td>2.285915</td>\n      <td>-1.257594</td>\n      <td>STIEEQAQTFLDKFNHEAEDLFYQSSLASWNYNTNITEENVQNMNN...</td>\n      <td>template2.pdb</td>\n      <td>A</td>\n      <td>19</td>\n      <td>STIEEQAKTFLDKFNHEAEDLFYQSSLASWNYNTNITEENVQNMNN...</td>\n      <td>False</td>\n      <td>False</td>\n      <td>253990.0</td>\n      <td>252452.0</td>\n      <td>253221.0</td>\n    </tr>\n    <tr>\n      <th>260057</th>\n      <td>STIEEQAKTFLDKFNHEASDSFYQSSIASWNYNTNITEENVQNMNN...</td>\n      <td>1.796386</td>\n      <td>-2.401845</td>\n      <td>STIEEQAKTFLDKFNHEAEDSFYQSSIASWNYNTNITEENVQNMNN...</td>\n      <td>template2.pdb</td>\n      <td>A</td>\n      <td>19</td>\n      <td>STIEEQAKTFLDKFNHEAEDLFYQSSLASWNYNTNITEENVQNMNN...</td>\n      <td>False</td>\n      <td>False</td>\n      <td>251122.0</td>\n      <td>255865.0</td>\n      <td>253493.5</td>\n    </tr>\n  </tbody>\n</table>\n<p>214503 rows × 13 columns</p>\n</div>"
     },
     "execution_count": 102,
     "metadata": {},
     "output_type": "execute_result"
    }
   ],
   "source": [
    "gen250k_df_filtered"
   ],
   "metadata": {
    "collapsed": false,
    "ExecuteTime": {
     "start_time": "2023-04-28T11:53:22.952690Z",
     "end_time": "2023-04-28T11:53:23.103667Z"
    }
   }
  },
  {
   "cell_type": "code",
   "execution_count": 103,
   "outputs": [
    {
     "name": "stdout",
     "output_type": "stream",
     "text": [
      "col_to_sort:  avg_latent_head_pred_rank\n"
     ]
    },
    {
     "name": "stderr",
     "output_type": "stream",
     "text": [
      "/tmp/ipykernel_16009/1355194123.py:35: FutureWarning: The frame.append method is deprecated and will be removed from pandas in a future version. Use pandas.concat instead.\n",
      "  foldx_df = foldx_df.append(row)\n",
      "/tmp/ipykernel_16009/1355194123.py:35: FutureWarning: The frame.append method is deprecated and will be removed from pandas in a future version. Use pandas.concat instead.\n",
      "  foldx_df = foldx_df.append(row)\n",
      "/tmp/ipykernel_16009/1355194123.py:35: FutureWarning: The frame.append method is deprecated and will be removed from pandas in a future version. Use pandas.concat instead.\n",
      "  foldx_df = foldx_df.append(row)\n",
      "/tmp/ipykernel_16009/1355194123.py:35: FutureWarning: The frame.append method is deprecated and will be removed from pandas in a future version. Use pandas.concat instead.\n",
      "  foldx_df = foldx_df.append(row)\n",
      "/tmp/ipykernel_16009/1355194123.py:35: FutureWarning: The frame.append method is deprecated and will be removed from pandas in a future version. Use pandas.concat instead.\n",
      "  foldx_df = foldx_df.append(row)\n",
      "/tmp/ipykernel_16009/1355194123.py:35: FutureWarning: The frame.append method is deprecated and will be removed from pandas in a future version. Use pandas.concat instead.\n",
      "  foldx_df = foldx_df.append(row)\n",
      "/tmp/ipykernel_16009/1355194123.py:35: FutureWarning: The frame.append method is deprecated and will be removed from pandas in a future version. Use pandas.concat instead.\n",
      "  foldx_df = foldx_df.append(row)\n",
      "/tmp/ipykernel_16009/1355194123.py:35: FutureWarning: The frame.append method is deprecated and will be removed from pandas in a future version. Use pandas.concat instead.\n",
      "  foldx_df = foldx_df.append(row)\n",
      "/tmp/ipykernel_16009/1355194123.py:35: FutureWarning: The frame.append method is deprecated and will be removed from pandas in a future version. Use pandas.concat instead.\n",
      "  foldx_df = foldx_df.append(row)\n",
      "/tmp/ipykernel_16009/1355194123.py:35: FutureWarning: The frame.append method is deprecated and will be removed from pandas in a future version. Use pandas.concat instead.\n",
      "  foldx_df = foldx_df.append(row)\n",
      "/tmp/ipykernel_16009/1355194123.py:35: FutureWarning: The frame.append method is deprecated and will be removed from pandas in a future version. Use pandas.concat instead.\n",
      "  foldx_df = foldx_df.append(row)\n",
      "/tmp/ipykernel_16009/1355194123.py:35: FutureWarning: The frame.append method is deprecated and will be removed from pandas in a future version. Use pandas.concat instead.\n",
      "  foldx_df = foldx_df.append(row)\n",
      "/tmp/ipykernel_16009/1355194123.py:35: FutureWarning: The frame.append method is deprecated and will be removed from pandas in a future version. Use pandas.concat instead.\n",
      "  foldx_df = foldx_df.append(row)\n",
      "/tmp/ipykernel_16009/1355194123.py:35: FutureWarning: The frame.append method is deprecated and will be removed from pandas in a future version. Use pandas.concat instead.\n",
      "  foldx_df = foldx_df.append(row)\n",
      "/tmp/ipykernel_16009/1355194123.py:35: FutureWarning: The frame.append method is deprecated and will be removed from pandas in a future version. Use pandas.concat instead.\n",
      "  foldx_df = foldx_df.append(row)\n",
      "/tmp/ipykernel_16009/1355194123.py:35: FutureWarning: The frame.append method is deprecated and will be removed from pandas in a future version. Use pandas.concat instead.\n",
      "  foldx_df = foldx_df.append(row)\n",
      "/tmp/ipykernel_16009/1355194123.py:35: FutureWarning: The frame.append method is deprecated and will be removed from pandas in a future version. Use pandas.concat instead.\n",
      "  foldx_df = foldx_df.append(row)\n",
      "/tmp/ipykernel_16009/1355194123.py:35: FutureWarning: The frame.append method is deprecated and will be removed from pandas in a future version. Use pandas.concat instead.\n",
      "  foldx_df = foldx_df.append(row)\n",
      "/tmp/ipykernel_16009/1355194123.py:35: FutureWarning: The frame.append method is deprecated and will be removed from pandas in a future version. Use pandas.concat instead.\n",
      "  foldx_df = foldx_df.append(row)\n",
      "/tmp/ipykernel_16009/1355194123.py:35: FutureWarning: The frame.append method is deprecated and will be removed from pandas in a future version. Use pandas.concat instead.\n",
      "  foldx_df = foldx_df.append(row)\n",
      "/tmp/ipykernel_16009/1355194123.py:35: FutureWarning: The frame.append method is deprecated and will be removed from pandas in a future version. Use pandas.concat instead.\n",
      "  foldx_df = foldx_df.append(row)\n",
      "/tmp/ipykernel_16009/1355194123.py:35: FutureWarning: The frame.append method is deprecated and will be removed from pandas in a future version. Use pandas.concat instead.\n",
      "  foldx_df = foldx_df.append(row)\n",
      "/tmp/ipykernel_16009/1355194123.py:35: FutureWarning: The frame.append method is deprecated and will be removed from pandas in a future version. Use pandas.concat instead.\n",
      "  foldx_df = foldx_df.append(row)\n",
      "/tmp/ipykernel_16009/1355194123.py:35: FutureWarning: The frame.append method is deprecated and will be removed from pandas in a future version. Use pandas.concat instead.\n",
      "  foldx_df = foldx_df.append(row)\n",
      "/tmp/ipykernel_16009/1355194123.py:35: FutureWarning: The frame.append method is deprecated and will be removed from pandas in a future version. Use pandas.concat instead.\n",
      "  foldx_df = foldx_df.append(row)\n",
      "/tmp/ipykernel_16009/1355194123.py:35: FutureWarning: The frame.append method is deprecated and will be removed from pandas in a future version. Use pandas.concat instead.\n",
      "  foldx_df = foldx_df.append(row)\n",
      "/tmp/ipykernel_16009/1355194123.py:35: FutureWarning: The frame.append method is deprecated and will be removed from pandas in a future version. Use pandas.concat instead.\n",
      "  foldx_df = foldx_df.append(row)\n",
      "/tmp/ipykernel_16009/1355194123.py:35: FutureWarning: The frame.append method is deprecated and will be removed from pandas in a future version. Use pandas.concat instead.\n",
      "  foldx_df = foldx_df.append(row)\n",
      "/tmp/ipykernel_16009/1355194123.py:35: FutureWarning: The frame.append method is deprecated and will be removed from pandas in a future version. Use pandas.concat instead.\n",
      "  foldx_df = foldx_df.append(row)\n",
      "/tmp/ipykernel_16009/1355194123.py:35: FutureWarning: The frame.append method is deprecated and will be removed from pandas in a future version. Use pandas.concat instead.\n",
      "  foldx_df = foldx_df.append(row)\n",
      "/tmp/ipykernel_16009/1355194123.py:35: FutureWarning: The frame.append method is deprecated and will be removed from pandas in a future version. Use pandas.concat instead.\n",
      "  foldx_df = foldx_df.append(row)\n",
      "/tmp/ipykernel_16009/1355194123.py:35: FutureWarning: The frame.append method is deprecated and will be removed from pandas in a future version. Use pandas.concat instead.\n",
      "  foldx_df = foldx_df.append(row)\n",
      "/tmp/ipykernel_16009/1355194123.py:35: FutureWarning: The frame.append method is deprecated and will be removed from pandas in a future version. Use pandas.concat instead.\n",
      "  foldx_df = foldx_df.append(row)\n",
      "/tmp/ipykernel_16009/1355194123.py:35: FutureWarning: The frame.append method is deprecated and will be removed from pandas in a future version. Use pandas.concat instead.\n",
      "  foldx_df = foldx_df.append(row)\n",
      "/tmp/ipykernel_16009/1355194123.py:35: FutureWarning: The frame.append method is deprecated and will be removed from pandas in a future version. Use pandas.concat instead.\n",
      "  foldx_df = foldx_df.append(row)\n",
      "/tmp/ipykernel_16009/1355194123.py:35: FutureWarning: The frame.append method is deprecated and will be removed from pandas in a future version. Use pandas.concat instead.\n",
      "  foldx_df = foldx_df.append(row)\n",
      "/tmp/ipykernel_16009/1355194123.py:35: FutureWarning: The frame.append method is deprecated and will be removed from pandas in a future version. Use pandas.concat instead.\n",
      "  foldx_df = foldx_df.append(row)\n",
      "/tmp/ipykernel_16009/1355194123.py:35: FutureWarning: The frame.append method is deprecated and will be removed from pandas in a future version. Use pandas.concat instead.\n",
      "  foldx_df = foldx_df.append(row)\n",
      "/tmp/ipykernel_16009/1355194123.py:35: FutureWarning: The frame.append method is deprecated and will be removed from pandas in a future version. Use pandas.concat instead.\n",
      "  foldx_df = foldx_df.append(row)\n",
      "/tmp/ipykernel_16009/1355194123.py:35: FutureWarning: The frame.append method is deprecated and will be removed from pandas in a future version. Use pandas.concat instead.\n",
      "  foldx_df = foldx_df.append(row)\n",
      "/tmp/ipykernel_16009/1355194123.py:35: FutureWarning: The frame.append method is deprecated and will be removed from pandas in a future version. Use pandas.concat instead.\n",
      "  foldx_df = foldx_df.append(row)\n",
      "/tmp/ipykernel_16009/1355194123.py:35: FutureWarning: The frame.append method is deprecated and will be removed from pandas in a future version. Use pandas.concat instead.\n",
      "  foldx_df = foldx_df.append(row)\n",
      "/tmp/ipykernel_16009/1355194123.py:35: FutureWarning: The frame.append method is deprecated and will be removed from pandas in a future version. Use pandas.concat instead.\n",
      "  foldx_df = foldx_df.append(row)\n",
      "/tmp/ipykernel_16009/1355194123.py:35: FutureWarning: The frame.append method is deprecated and will be removed from pandas in a future version. Use pandas.concat instead.\n",
      "  foldx_df = foldx_df.append(row)\n",
      "/tmp/ipykernel_16009/1355194123.py:35: FutureWarning: The frame.append method is deprecated and will be removed from pandas in a future version. Use pandas.concat instead.\n",
      "  foldx_df = foldx_df.append(row)\n",
      "/tmp/ipykernel_16009/1355194123.py:35: FutureWarning: The frame.append method is deprecated and will be removed from pandas in a future version. Use pandas.concat instead.\n",
      "  foldx_df = foldx_df.append(row)\n",
      "/tmp/ipykernel_16009/1355194123.py:35: FutureWarning: The frame.append method is deprecated and will be removed from pandas in a future version. Use pandas.concat instead.\n",
      "  foldx_df = foldx_df.append(row)\n",
      "/tmp/ipykernel_16009/1355194123.py:35: FutureWarning: The frame.append method is deprecated and will be removed from pandas in a future version. Use pandas.concat instead.\n",
      "  foldx_df = foldx_df.append(row)\n",
      "/tmp/ipykernel_16009/1355194123.py:35: FutureWarning: The frame.append method is deprecated and will be removed from pandas in a future version. Use pandas.concat instead.\n",
      "  foldx_df = foldx_df.append(row)\n",
      "/tmp/ipykernel_16009/1355194123.py:35: FutureWarning: The frame.append method is deprecated and will be removed from pandas in a future version. Use pandas.concat instead.\n",
      "  foldx_df = foldx_df.append(row)\n",
      "/tmp/ipykernel_16009/1355194123.py:35: FutureWarning: The frame.append method is deprecated and will be removed from pandas in a future version. Use pandas.concat instead.\n",
      "  foldx_df = foldx_df.append(row)\n",
      "/tmp/ipykernel_16009/1355194123.py:35: FutureWarning: The frame.append method is deprecated and will be removed from pandas in a future version. Use pandas.concat instead.\n",
      "  foldx_df = foldx_df.append(row)\n",
      "/tmp/ipykernel_16009/1355194123.py:35: FutureWarning: The frame.append method is deprecated and will be removed from pandas in a future version. Use pandas.concat instead.\n",
      "  foldx_df = foldx_df.append(row)\n",
      "/tmp/ipykernel_16009/1355194123.py:35: FutureWarning: The frame.append method is deprecated and will be removed from pandas in a future version. Use pandas.concat instead.\n",
      "  foldx_df = foldx_df.append(row)\n",
      "/tmp/ipykernel_16009/1355194123.py:35: FutureWarning: The frame.append method is deprecated and will be removed from pandas in a future version. Use pandas.concat instead.\n",
      "  foldx_df = foldx_df.append(row)\n",
      "/tmp/ipykernel_16009/1355194123.py:35: FutureWarning: The frame.append method is deprecated and will be removed from pandas in a future version. Use pandas.concat instead.\n",
      "  foldx_df = foldx_df.append(row)\n",
      "/tmp/ipykernel_16009/1355194123.py:35: FutureWarning: The frame.append method is deprecated and will be removed from pandas in a future version. Use pandas.concat instead.\n",
      "  foldx_df = foldx_df.append(row)\n",
      "/tmp/ipykernel_16009/1355194123.py:35: FutureWarning: The frame.append method is deprecated and will be removed from pandas in a future version. Use pandas.concat instead.\n",
      "  foldx_df = foldx_df.append(row)\n",
      "/tmp/ipykernel_16009/1355194123.py:35: FutureWarning: The frame.append method is deprecated and will be removed from pandas in a future version. Use pandas.concat instead.\n",
      "  foldx_df = foldx_df.append(row)\n",
      "/tmp/ipykernel_16009/1355194123.py:35: FutureWarning: The frame.append method is deprecated and will be removed from pandas in a future version. Use pandas.concat instead.\n",
      "  foldx_df = foldx_df.append(row)\n",
      "/tmp/ipykernel_16009/1355194123.py:35: FutureWarning: The frame.append method is deprecated and will be removed from pandas in a future version. Use pandas.concat instead.\n",
      "  foldx_df = foldx_df.append(row)\n",
      "/tmp/ipykernel_16009/1355194123.py:35: FutureWarning: The frame.append method is deprecated and will be removed from pandas in a future version. Use pandas.concat instead.\n",
      "  foldx_df = foldx_df.append(row)\n",
      "/tmp/ipykernel_16009/1355194123.py:35: FutureWarning: The frame.append method is deprecated and will be removed from pandas in a future version. Use pandas.concat instead.\n",
      "  foldx_df = foldx_df.append(row)\n",
      "/tmp/ipykernel_16009/1355194123.py:35: FutureWarning: The frame.append method is deprecated and will be removed from pandas in a future version. Use pandas.concat instead.\n",
      "  foldx_df = foldx_df.append(row)\n",
      "/tmp/ipykernel_16009/1355194123.py:35: FutureWarning: The frame.append method is deprecated and will be removed from pandas in a future version. Use pandas.concat instead.\n",
      "  foldx_df = foldx_df.append(row)\n",
      "/tmp/ipykernel_16009/1355194123.py:35: FutureWarning: The frame.append method is deprecated and will be removed from pandas in a future version. Use pandas.concat instead.\n",
      "  foldx_df = foldx_df.append(row)\n",
      "/tmp/ipykernel_16009/1355194123.py:35: FutureWarning: The frame.append method is deprecated and will be removed from pandas in a future version. Use pandas.concat instead.\n",
      "  foldx_df = foldx_df.append(row)\n",
      "/tmp/ipykernel_16009/1355194123.py:35: FutureWarning: The frame.append method is deprecated and will be removed from pandas in a future version. Use pandas.concat instead.\n",
      "  foldx_df = foldx_df.append(row)\n",
      "/tmp/ipykernel_16009/1355194123.py:35: FutureWarning: The frame.append method is deprecated and will be removed from pandas in a future version. Use pandas.concat instead.\n",
      "  foldx_df = foldx_df.append(row)\n",
      "/tmp/ipykernel_16009/1355194123.py:35: FutureWarning: The frame.append method is deprecated and will be removed from pandas in a future version. Use pandas.concat instead.\n",
      "  foldx_df = foldx_df.append(row)\n",
      "/tmp/ipykernel_16009/1355194123.py:35: FutureWarning: The frame.append method is deprecated and will be removed from pandas in a future version. Use pandas.concat instead.\n",
      "  foldx_df = foldx_df.append(row)\n",
      "/tmp/ipykernel_16009/1355194123.py:35: FutureWarning: The frame.append method is deprecated and will be removed from pandas in a future version. Use pandas.concat instead.\n",
      "  foldx_df = foldx_df.append(row)\n",
      "/tmp/ipykernel_16009/1355194123.py:35: FutureWarning: The frame.append method is deprecated and will be removed from pandas in a future version. Use pandas.concat instead.\n",
      "  foldx_df = foldx_df.append(row)\n",
      "/tmp/ipykernel_16009/1355194123.py:35: FutureWarning: The frame.append method is deprecated and will be removed from pandas in a future version. Use pandas.concat instead.\n",
      "  foldx_df = foldx_df.append(row)\n",
      "/tmp/ipykernel_16009/1355194123.py:35: FutureWarning: The frame.append method is deprecated and will be removed from pandas in a future version. Use pandas.concat instead.\n",
      "  foldx_df = foldx_df.append(row)\n",
      "/tmp/ipykernel_16009/1355194123.py:35: FutureWarning: The frame.append method is deprecated and will be removed from pandas in a future version. Use pandas.concat instead.\n",
      "  foldx_df = foldx_df.append(row)\n",
      "/tmp/ipykernel_16009/1355194123.py:35: FutureWarning: The frame.append method is deprecated and will be removed from pandas in a future version. Use pandas.concat instead.\n",
      "  foldx_df = foldx_df.append(row)\n",
      "/tmp/ipykernel_16009/1355194123.py:35: FutureWarning: The frame.append method is deprecated and will be removed from pandas in a future version. Use pandas.concat instead.\n",
      "  foldx_df = foldx_df.append(row)\n",
      "/tmp/ipykernel_16009/1355194123.py:35: FutureWarning: The frame.append method is deprecated and will be removed from pandas in a future version. Use pandas.concat instead.\n",
      "  foldx_df = foldx_df.append(row)\n",
      "/tmp/ipykernel_16009/1355194123.py:35: FutureWarning: The frame.append method is deprecated and will be removed from pandas in a future version. Use pandas.concat instead.\n",
      "  foldx_df = foldx_df.append(row)\n",
      "/tmp/ipykernel_16009/1355194123.py:35: FutureWarning: The frame.append method is deprecated and will be removed from pandas in a future version. Use pandas.concat instead.\n",
      "  foldx_df = foldx_df.append(row)\n",
      "/tmp/ipykernel_16009/1355194123.py:35: FutureWarning: The frame.append method is deprecated and will be removed from pandas in a future version. Use pandas.concat instead.\n",
      "  foldx_df = foldx_df.append(row)\n",
      "/tmp/ipykernel_16009/1355194123.py:35: FutureWarning: The frame.append method is deprecated and will be removed from pandas in a future version. Use pandas.concat instead.\n",
      "  foldx_df = foldx_df.append(row)\n",
      "/tmp/ipykernel_16009/1355194123.py:35: FutureWarning: The frame.append method is deprecated and will be removed from pandas in a future version. Use pandas.concat instead.\n",
      "  foldx_df = foldx_df.append(row)\n",
      "/tmp/ipykernel_16009/1355194123.py:35: FutureWarning: The frame.append method is deprecated and will be removed from pandas in a future version. Use pandas.concat instead.\n",
      "  foldx_df = foldx_df.append(row)\n",
      "/tmp/ipykernel_16009/1355194123.py:35: FutureWarning: The frame.append method is deprecated and will be removed from pandas in a future version. Use pandas.concat instead.\n",
      "  foldx_df = foldx_df.append(row)\n",
      "/tmp/ipykernel_16009/1355194123.py:35: FutureWarning: The frame.append method is deprecated and will be removed from pandas in a future version. Use pandas.concat instead.\n",
      "  foldx_df = foldx_df.append(row)\n",
      "/tmp/ipykernel_16009/1355194123.py:35: FutureWarning: The frame.append method is deprecated and will be removed from pandas in a future version. Use pandas.concat instead.\n",
      "  foldx_df = foldx_df.append(row)\n",
      "/tmp/ipykernel_16009/1355194123.py:35: FutureWarning: The frame.append method is deprecated and will be removed from pandas in a future version. Use pandas.concat instead.\n",
      "  foldx_df = foldx_df.append(row)\n",
      "/tmp/ipykernel_16009/1355194123.py:35: FutureWarning: The frame.append method is deprecated and will be removed from pandas in a future version. Use pandas.concat instead.\n",
      "  foldx_df = foldx_df.append(row)\n",
      "/tmp/ipykernel_16009/1355194123.py:35: FutureWarning: The frame.append method is deprecated and will be removed from pandas in a future version. Use pandas.concat instead.\n",
      "  foldx_df = foldx_df.append(row)\n",
      "/tmp/ipykernel_16009/1355194123.py:35: FutureWarning: The frame.append method is deprecated and will be removed from pandas in a future version. Use pandas.concat instead.\n",
      "  foldx_df = foldx_df.append(row)\n",
      "/tmp/ipykernel_16009/1355194123.py:35: FutureWarning: The frame.append method is deprecated and will be removed from pandas in a future version. Use pandas.concat instead.\n",
      "  foldx_df = foldx_df.append(row)\n",
      "/tmp/ipykernel_16009/1355194123.py:35: FutureWarning: The frame.append method is deprecated and will be removed from pandas in a future version. Use pandas.concat instead.\n",
      "  foldx_df = foldx_df.append(row)\n",
      "/tmp/ipykernel_16009/1355194123.py:35: FutureWarning: The frame.append method is deprecated and will be removed from pandas in a future version. Use pandas.concat instead.\n",
      "  foldx_df = foldx_df.append(row)\n",
      "/tmp/ipykernel_16009/1355194123.py:35: FutureWarning: The frame.append method is deprecated and will be removed from pandas in a future version. Use pandas.concat instead.\n",
      "  foldx_df = foldx_df.append(row)\n",
      "/tmp/ipykernel_16009/1355194123.py:35: FutureWarning: The frame.append method is deprecated and will be removed from pandas in a future version. Use pandas.concat instead.\n",
      "  foldx_df = foldx_df.append(row)\n",
      "/tmp/ipykernel_16009/1355194123.py:35: FutureWarning: The frame.append method is deprecated and will be removed from pandas in a future version. Use pandas.concat instead.\n",
      "  foldx_df = foldx_df.append(row)\n",
      "/tmp/ipykernel_16009/1355194123.py:35: FutureWarning: The frame.append method is deprecated and will be removed from pandas in a future version. Use pandas.concat instead.\n",
      "  foldx_df = foldx_df.append(row)\n",
      "/tmp/ipykernel_16009/1355194123.py:35: FutureWarning: The frame.append method is deprecated and will be removed from pandas in a future version. Use pandas.concat instead.\n",
      "  foldx_df = foldx_df.append(row)\n",
      "/tmp/ipykernel_16009/1355194123.py:35: FutureWarning: The frame.append method is deprecated and will be removed from pandas in a future version. Use pandas.concat instead.\n",
      "  foldx_df = foldx_df.append(row)\n",
      "/tmp/ipykernel_16009/1355194123.py:35: FutureWarning: The frame.append method is deprecated and will be removed from pandas in a future version. Use pandas.concat instead.\n",
      "  foldx_df = foldx_df.append(row)\n",
      "/tmp/ipykernel_16009/1355194123.py:35: FutureWarning: The frame.append method is deprecated and will be removed from pandas in a future version. Use pandas.concat instead.\n",
      "  foldx_df = foldx_df.append(row)\n",
      "/tmp/ipykernel_16009/1355194123.py:35: FutureWarning: The frame.append method is deprecated and will be removed from pandas in a future version. Use pandas.concat instead.\n",
      "  foldx_df = foldx_df.append(row)\n",
      "/tmp/ipykernel_16009/1355194123.py:35: FutureWarning: The frame.append method is deprecated and will be removed from pandas in a future version. Use pandas.concat instead.\n",
      "  foldx_df = foldx_df.append(row)\n",
      "/tmp/ipykernel_16009/1355194123.py:35: FutureWarning: The frame.append method is deprecated and will be removed from pandas in a future version. Use pandas.concat instead.\n",
      "  foldx_df = foldx_df.append(row)\n",
      "/tmp/ipykernel_16009/1355194123.py:35: FutureWarning: The frame.append method is deprecated and will be removed from pandas in a future version. Use pandas.concat instead.\n",
      "  foldx_df = foldx_df.append(row)\n",
      "/tmp/ipykernel_16009/1355194123.py:35: FutureWarning: The frame.append method is deprecated and will be removed from pandas in a future version. Use pandas.concat instead.\n",
      "  foldx_df = foldx_df.append(row)\n",
      "/tmp/ipykernel_16009/1355194123.py:35: FutureWarning: The frame.append method is deprecated and will be removed from pandas in a future version. Use pandas.concat instead.\n",
      "  foldx_df = foldx_df.append(row)\n",
      "/tmp/ipykernel_16009/1355194123.py:35: FutureWarning: The frame.append method is deprecated and will be removed from pandas in a future version. Use pandas.concat instead.\n",
      "  foldx_df = foldx_df.append(row)\n",
      "/tmp/ipykernel_16009/1355194123.py:35: FutureWarning: The frame.append method is deprecated and will be removed from pandas in a future version. Use pandas.concat instead.\n",
      "  foldx_df = foldx_df.append(row)\n",
      "/tmp/ipykernel_16009/1355194123.py:35: FutureWarning: The frame.append method is deprecated and will be removed from pandas in a future version. Use pandas.concat instead.\n",
      "  foldx_df = foldx_df.append(row)\n",
      "/tmp/ipykernel_16009/1355194123.py:35: FutureWarning: The frame.append method is deprecated and will be removed from pandas in a future version. Use pandas.concat instead.\n",
      "  foldx_df = foldx_df.append(row)\n",
      "/tmp/ipykernel_16009/1355194123.py:35: FutureWarning: The frame.append method is deprecated and will be removed from pandas in a future version. Use pandas.concat instead.\n",
      "  foldx_df = foldx_df.append(row)\n",
      "/tmp/ipykernel_16009/1355194123.py:35: FutureWarning: The frame.append method is deprecated and will be removed from pandas in a future version. Use pandas.concat instead.\n",
      "  foldx_df = foldx_df.append(row)\n",
      "/tmp/ipykernel_16009/1355194123.py:35: FutureWarning: The frame.append method is deprecated and will be removed from pandas in a future version. Use pandas.concat instead.\n",
      "  foldx_df = foldx_df.append(row)\n",
      "/tmp/ipykernel_16009/1355194123.py:35: FutureWarning: The frame.append method is deprecated and will be removed from pandas in a future version. Use pandas.concat instead.\n",
      "  foldx_df = foldx_df.append(row)\n",
      "/tmp/ipykernel_16009/1355194123.py:35: FutureWarning: The frame.append method is deprecated and will be removed from pandas in a future version. Use pandas.concat instead.\n",
      "  foldx_df = foldx_df.append(row)\n",
      "/tmp/ipykernel_16009/1355194123.py:35: FutureWarning: The frame.append method is deprecated and will be removed from pandas in a future version. Use pandas.concat instead.\n",
      "  foldx_df = foldx_df.append(row)\n",
      "/tmp/ipykernel_16009/1355194123.py:35: FutureWarning: The frame.append method is deprecated and will be removed from pandas in a future version. Use pandas.concat instead.\n",
      "  foldx_df = foldx_df.append(row)\n",
      "/tmp/ipykernel_16009/1355194123.py:35: FutureWarning: The frame.append method is deprecated and will be removed from pandas in a future version. Use pandas.concat instead.\n",
      "  foldx_df = foldx_df.append(row)\n",
      "/tmp/ipykernel_16009/1355194123.py:35: FutureWarning: The frame.append method is deprecated and will be removed from pandas in a future version. Use pandas.concat instead.\n",
      "  foldx_df = foldx_df.append(row)\n",
      "/tmp/ipykernel_16009/1355194123.py:35: FutureWarning: The frame.append method is deprecated and will be removed from pandas in a future version. Use pandas.concat instead.\n",
      "  foldx_df = foldx_df.append(row)\n",
      "/tmp/ipykernel_16009/1355194123.py:35: FutureWarning: The frame.append method is deprecated and will be removed from pandas in a future version. Use pandas.concat instead.\n",
      "  foldx_df = foldx_df.append(row)\n",
      "/tmp/ipykernel_16009/1355194123.py:35: FutureWarning: The frame.append method is deprecated and will be removed from pandas in a future version. Use pandas.concat instead.\n",
      "  foldx_df = foldx_df.append(row)\n",
      "/tmp/ipykernel_16009/1355194123.py:35: FutureWarning: The frame.append method is deprecated and will be removed from pandas in a future version. Use pandas.concat instead.\n",
      "  foldx_df = foldx_df.append(row)\n",
      "/tmp/ipykernel_16009/1355194123.py:35: FutureWarning: The frame.append method is deprecated and will be removed from pandas in a future version. Use pandas.concat instead.\n",
      "  foldx_df = foldx_df.append(row)\n",
      "/tmp/ipykernel_16009/1355194123.py:35: FutureWarning: The frame.append method is deprecated and will be removed from pandas in a future version. Use pandas.concat instead.\n",
      "  foldx_df = foldx_df.append(row)\n",
      "/tmp/ipykernel_16009/1355194123.py:35: FutureWarning: The frame.append method is deprecated and will be removed from pandas in a future version. Use pandas.concat instead.\n",
      "  foldx_df = foldx_df.append(row)\n",
      "/tmp/ipykernel_16009/1355194123.py:35: FutureWarning: The frame.append method is deprecated and will be removed from pandas in a future version. Use pandas.concat instead.\n",
      "  foldx_df = foldx_df.append(row)\n",
      "/tmp/ipykernel_16009/1355194123.py:35: FutureWarning: The frame.append method is deprecated and will be removed from pandas in a future version. Use pandas.concat instead.\n",
      "  foldx_df = foldx_df.append(row)\n",
      "/tmp/ipykernel_16009/1355194123.py:35: FutureWarning: The frame.append method is deprecated and will be removed from pandas in a future version. Use pandas.concat instead.\n",
      "  foldx_df = foldx_df.append(row)\n",
      "/tmp/ipykernel_16009/1355194123.py:35: FutureWarning: The frame.append method is deprecated and will be removed from pandas in a future version. Use pandas.concat instead.\n",
      "  foldx_df = foldx_df.append(row)\n",
      "/tmp/ipykernel_16009/1355194123.py:35: FutureWarning: The frame.append method is deprecated and will be removed from pandas in a future version. Use pandas.concat instead.\n",
      "  foldx_df = foldx_df.append(row)\n",
      "/tmp/ipykernel_16009/1355194123.py:35: FutureWarning: The frame.append method is deprecated and will be removed from pandas in a future version. Use pandas.concat instead.\n",
      "  foldx_df = foldx_df.append(row)\n",
      "/tmp/ipykernel_16009/1355194123.py:35: FutureWarning: The frame.append method is deprecated and will be removed from pandas in a future version. Use pandas.concat instead.\n",
      "  foldx_df = foldx_df.append(row)\n",
      "/tmp/ipykernel_16009/1355194123.py:35: FutureWarning: The frame.append method is deprecated and will be removed from pandas in a future version. Use pandas.concat instead.\n",
      "  foldx_df = foldx_df.append(row)\n",
      "/tmp/ipykernel_16009/1355194123.py:35: FutureWarning: The frame.append method is deprecated and will be removed from pandas in a future version. Use pandas.concat instead.\n",
      "  foldx_df = foldx_df.append(row)\n",
      "/tmp/ipykernel_16009/1355194123.py:35: FutureWarning: The frame.append method is deprecated and will be removed from pandas in a future version. Use pandas.concat instead.\n",
      "  foldx_df = foldx_df.append(row)\n",
      "/tmp/ipykernel_16009/1355194123.py:35: FutureWarning: The frame.append method is deprecated and will be removed from pandas in a future version. Use pandas.concat instead.\n",
      "  foldx_df = foldx_df.append(row)\n",
      "/tmp/ipykernel_16009/1355194123.py:35: FutureWarning: The frame.append method is deprecated and will be removed from pandas in a future version. Use pandas.concat instead.\n",
      "  foldx_df = foldx_df.append(row)\n",
      "/tmp/ipykernel_16009/1355194123.py:35: FutureWarning: The frame.append method is deprecated and will be removed from pandas in a future version. Use pandas.concat instead.\n",
      "  foldx_df = foldx_df.append(row)\n",
      "/tmp/ipykernel_16009/1355194123.py:35: FutureWarning: The frame.append method is deprecated and will be removed from pandas in a future version. Use pandas.concat instead.\n",
      "  foldx_df = foldx_df.append(row)\n",
      "/tmp/ipykernel_16009/1355194123.py:35: FutureWarning: The frame.append method is deprecated and will be removed from pandas in a future version. Use pandas.concat instead.\n",
      "  foldx_df = foldx_df.append(row)\n",
      "/tmp/ipykernel_16009/1355194123.py:35: FutureWarning: The frame.append method is deprecated and will be removed from pandas in a future version. Use pandas.concat instead.\n",
      "  foldx_df = foldx_df.append(row)\n",
      "/tmp/ipykernel_16009/1355194123.py:35: FutureWarning: The frame.append method is deprecated and will be removed from pandas in a future version. Use pandas.concat instead.\n",
      "  foldx_df = foldx_df.append(row)\n",
      "/tmp/ipykernel_16009/1355194123.py:35: FutureWarning: The frame.append method is deprecated and will be removed from pandas in a future version. Use pandas.concat instead.\n",
      "  foldx_df = foldx_df.append(row)\n",
      "/tmp/ipykernel_16009/1355194123.py:35: FutureWarning: The frame.append method is deprecated and will be removed from pandas in a future version. Use pandas.concat instead.\n",
      "  foldx_df = foldx_df.append(row)\n",
      "/tmp/ipykernel_16009/1355194123.py:35: FutureWarning: The frame.append method is deprecated and will be removed from pandas in a future version. Use pandas.concat instead.\n",
      "  foldx_df = foldx_df.append(row)\n",
      "/tmp/ipykernel_16009/1355194123.py:35: FutureWarning: The frame.append method is deprecated and will be removed from pandas in a future version. Use pandas.concat instead.\n",
      "  foldx_df = foldx_df.append(row)\n",
      "/tmp/ipykernel_16009/1355194123.py:35: FutureWarning: The frame.append method is deprecated and will be removed from pandas in a future version. Use pandas.concat instead.\n",
      "  foldx_df = foldx_df.append(row)\n",
      "/tmp/ipykernel_16009/1355194123.py:35: FutureWarning: The frame.append method is deprecated and will be removed from pandas in a future version. Use pandas.concat instead.\n",
      "  foldx_df = foldx_df.append(row)\n",
      "/tmp/ipykernel_16009/1355194123.py:35: FutureWarning: The frame.append method is deprecated and will be removed from pandas in a future version. Use pandas.concat instead.\n",
      "  foldx_df = foldx_df.append(row)\n",
      "/tmp/ipykernel_16009/1355194123.py:35: FutureWarning: The frame.append method is deprecated and will be removed from pandas in a future version. Use pandas.concat instead.\n",
      "  foldx_df = foldx_df.append(row)\n",
      "/tmp/ipykernel_16009/1355194123.py:35: FutureWarning: The frame.append method is deprecated and will be removed from pandas in a future version. Use pandas.concat instead.\n",
      "  foldx_df = foldx_df.append(row)\n",
      "/tmp/ipykernel_16009/1355194123.py:35: FutureWarning: The frame.append method is deprecated and will be removed from pandas in a future version. Use pandas.concat instead.\n",
      "  foldx_df = foldx_df.append(row)\n",
      "/tmp/ipykernel_16009/1355194123.py:35: FutureWarning: The frame.append method is deprecated and will be removed from pandas in a future version. Use pandas.concat instead.\n",
      "  foldx_df = foldx_df.append(row)\n",
      "/tmp/ipykernel_16009/1355194123.py:35: FutureWarning: The frame.append method is deprecated and will be removed from pandas in a future version. Use pandas.concat instead.\n",
      "  foldx_df = foldx_df.append(row)\n",
      "/tmp/ipykernel_16009/1355194123.py:35: FutureWarning: The frame.append method is deprecated and will be removed from pandas in a future version. Use pandas.concat instead.\n",
      "  foldx_df = foldx_df.append(row)\n",
      "/tmp/ipykernel_16009/1355194123.py:35: FutureWarning: The frame.append method is deprecated and will be removed from pandas in a future version. Use pandas.concat instead.\n",
      "  foldx_df = foldx_df.append(row)\n",
      "/tmp/ipykernel_16009/1355194123.py:35: FutureWarning: The frame.append method is deprecated and will be removed from pandas in a future version. Use pandas.concat instead.\n",
      "  foldx_df = foldx_df.append(row)\n",
      "/tmp/ipykernel_16009/1355194123.py:35: FutureWarning: The frame.append method is deprecated and will be removed from pandas in a future version. Use pandas.concat instead.\n",
      "  foldx_df = foldx_df.append(row)\n",
      "/tmp/ipykernel_16009/1355194123.py:35: FutureWarning: The frame.append method is deprecated and will be removed from pandas in a future version. Use pandas.concat instead.\n",
      "  foldx_df = foldx_df.append(row)\n",
      "/tmp/ipykernel_16009/1355194123.py:35: FutureWarning: The frame.append method is deprecated and will be removed from pandas in a future version. Use pandas.concat instead.\n",
      "  foldx_df = foldx_df.append(row)\n",
      "/tmp/ipykernel_16009/1355194123.py:35: FutureWarning: The frame.append method is deprecated and will be removed from pandas in a future version. Use pandas.concat instead.\n",
      "  foldx_df = foldx_df.append(row)\n",
      "/tmp/ipykernel_16009/1355194123.py:35: FutureWarning: The frame.append method is deprecated and will be removed from pandas in a future version. Use pandas.concat instead.\n",
      "  foldx_df = foldx_df.append(row)\n",
      "/tmp/ipykernel_16009/1355194123.py:35: FutureWarning: The frame.append method is deprecated and will be removed from pandas in a future version. Use pandas.concat instead.\n",
      "  foldx_df = foldx_df.append(row)\n",
      "/tmp/ipykernel_16009/1355194123.py:35: FutureWarning: The frame.append method is deprecated and will be removed from pandas in a future version. Use pandas.concat instead.\n",
      "  foldx_df = foldx_df.append(row)\n",
      "/tmp/ipykernel_16009/1355194123.py:35: FutureWarning: The frame.append method is deprecated and will be removed from pandas in a future version. Use pandas.concat instead.\n",
      "  foldx_df = foldx_df.append(row)\n",
      "/tmp/ipykernel_16009/1355194123.py:35: FutureWarning: The frame.append method is deprecated and will be removed from pandas in a future version. Use pandas.concat instead.\n",
      "  foldx_df = foldx_df.append(row)\n",
      "/tmp/ipykernel_16009/1355194123.py:35: FutureWarning: The frame.append method is deprecated and will be removed from pandas in a future version. Use pandas.concat instead.\n",
      "  foldx_df = foldx_df.append(row)\n",
      "/tmp/ipykernel_16009/1355194123.py:35: FutureWarning: The frame.append method is deprecated and will be removed from pandas in a future version. Use pandas.concat instead.\n",
      "  foldx_df = foldx_df.append(row)\n",
      "/tmp/ipykernel_16009/1355194123.py:35: FutureWarning: The frame.append method is deprecated and will be removed from pandas in a future version. Use pandas.concat instead.\n",
      "  foldx_df = foldx_df.append(row)\n",
      "/tmp/ipykernel_16009/1355194123.py:35: FutureWarning: The frame.append method is deprecated and will be removed from pandas in a future version. Use pandas.concat instead.\n",
      "  foldx_df = foldx_df.append(row)\n",
      "/tmp/ipykernel_16009/1355194123.py:35: FutureWarning: The frame.append method is deprecated and will be removed from pandas in a future version. Use pandas.concat instead.\n",
      "  foldx_df = foldx_df.append(row)\n",
      "/tmp/ipykernel_16009/1355194123.py:35: FutureWarning: The frame.append method is deprecated and will be removed from pandas in a future version. Use pandas.concat instead.\n",
      "  foldx_df = foldx_df.append(row)\n",
      "/tmp/ipykernel_16009/1355194123.py:35: FutureWarning: The frame.append method is deprecated and will be removed from pandas in a future version. Use pandas.concat instead.\n",
      "  foldx_df = foldx_df.append(row)\n",
      "/tmp/ipykernel_16009/1355194123.py:35: FutureWarning: The frame.append method is deprecated and will be removed from pandas in a future version. Use pandas.concat instead.\n",
      "  foldx_df = foldx_df.append(row)\n",
      "/tmp/ipykernel_16009/1355194123.py:35: FutureWarning: The frame.append method is deprecated and will be removed from pandas in a future version. Use pandas.concat instead.\n",
      "  foldx_df = foldx_df.append(row)\n",
      "/tmp/ipykernel_16009/1355194123.py:35: FutureWarning: The frame.append method is deprecated and will be removed from pandas in a future version. Use pandas.concat instead.\n",
      "  foldx_df = foldx_df.append(row)\n",
      "/tmp/ipykernel_16009/1355194123.py:35: FutureWarning: The frame.append method is deprecated and will be removed from pandas in a future version. Use pandas.concat instead.\n",
      "  foldx_df = foldx_df.append(row)\n",
      "/tmp/ipykernel_16009/1355194123.py:35: FutureWarning: The frame.append method is deprecated and will be removed from pandas in a future version. Use pandas.concat instead.\n",
      "  foldx_df = foldx_df.append(row)\n",
      "/tmp/ipykernel_16009/1355194123.py:35: FutureWarning: The frame.append method is deprecated and will be removed from pandas in a future version. Use pandas.concat instead.\n",
      "  foldx_df = foldx_df.append(row)\n",
      "/tmp/ipykernel_16009/1355194123.py:35: FutureWarning: The frame.append method is deprecated and will be removed from pandas in a future version. Use pandas.concat instead.\n",
      "  foldx_df = foldx_df.append(row)\n",
      "/tmp/ipykernel_16009/1355194123.py:35: FutureWarning: The frame.append method is deprecated and will be removed from pandas in a future version. Use pandas.concat instead.\n",
      "  foldx_df = foldx_df.append(row)\n",
      "/tmp/ipykernel_16009/1355194123.py:35: FutureWarning: The frame.append method is deprecated and will be removed from pandas in a future version. Use pandas.concat instead.\n",
      "  foldx_df = foldx_df.append(row)\n",
      "/tmp/ipykernel_16009/1355194123.py:35: FutureWarning: The frame.append method is deprecated and will be removed from pandas in a future version. Use pandas.concat instead.\n",
      "  foldx_df = foldx_df.append(row)\n",
      "/tmp/ipykernel_16009/1355194123.py:35: FutureWarning: The frame.append method is deprecated and will be removed from pandas in a future version. Use pandas.concat instead.\n",
      "  foldx_df = foldx_df.append(row)\n",
      "/tmp/ipykernel_16009/1355194123.py:35: FutureWarning: The frame.append method is deprecated and will be removed from pandas in a future version. Use pandas.concat instead.\n",
      "  foldx_df = foldx_df.append(row)\n",
      "/tmp/ipykernel_16009/1355194123.py:35: FutureWarning: The frame.append method is deprecated and will be removed from pandas in a future version. Use pandas.concat instead.\n",
      "  foldx_df = foldx_df.append(row)\n",
      "/tmp/ipykernel_16009/1355194123.py:35: FutureWarning: The frame.append method is deprecated and will be removed from pandas in a future version. Use pandas.concat instead.\n",
      "  foldx_df = foldx_df.append(row)\n",
      "/tmp/ipykernel_16009/1355194123.py:35: FutureWarning: The frame.append method is deprecated and will be removed from pandas in a future version. Use pandas.concat instead.\n",
      "  foldx_df = foldx_df.append(row)\n",
      "/tmp/ipykernel_16009/1355194123.py:35: FutureWarning: The frame.append method is deprecated and will be removed from pandas in a future version. Use pandas.concat instead.\n",
      "  foldx_df = foldx_df.append(row)\n",
      "/tmp/ipykernel_16009/1355194123.py:35: FutureWarning: The frame.append method is deprecated and will be removed from pandas in a future version. Use pandas.concat instead.\n",
      "  foldx_df = foldx_df.append(row)\n",
      "/tmp/ipykernel_16009/1355194123.py:35: FutureWarning: The frame.append method is deprecated and will be removed from pandas in a future version. Use pandas.concat instead.\n",
      "  foldx_df = foldx_df.append(row)\n",
      "/tmp/ipykernel_16009/1355194123.py:35: FutureWarning: The frame.append method is deprecated and will be removed from pandas in a future version. Use pandas.concat instead.\n",
      "  foldx_df = foldx_df.append(row)\n",
      "/tmp/ipykernel_16009/1355194123.py:35: FutureWarning: The frame.append method is deprecated and will be removed from pandas in a future version. Use pandas.concat instead.\n",
      "  foldx_df = foldx_df.append(row)\n",
      "/tmp/ipykernel_16009/1355194123.py:35: FutureWarning: The frame.append method is deprecated and will be removed from pandas in a future version. Use pandas.concat instead.\n",
      "  foldx_df = foldx_df.append(row)\n",
      "/tmp/ipykernel_16009/1355194123.py:35: FutureWarning: The frame.append method is deprecated and will be removed from pandas in a future version. Use pandas.concat instead.\n",
      "  foldx_df = foldx_df.append(row)\n",
      "/tmp/ipykernel_16009/1355194123.py:35: FutureWarning: The frame.append method is deprecated and will be removed from pandas in a future version. Use pandas.concat instead.\n",
      "  foldx_df = foldx_df.append(row)\n",
      "/tmp/ipykernel_16009/1355194123.py:35: FutureWarning: The frame.append method is deprecated and will be removed from pandas in a future version. Use pandas.concat instead.\n",
      "  foldx_df = foldx_df.append(row)\n",
      "/tmp/ipykernel_16009/1355194123.py:35: FutureWarning: The frame.append method is deprecated and will be removed from pandas in a future version. Use pandas.concat instead.\n",
      "  foldx_df = foldx_df.append(row)\n",
      "/tmp/ipykernel_16009/1355194123.py:35: FutureWarning: The frame.append method is deprecated and will be removed from pandas in a future version. Use pandas.concat instead.\n",
      "  foldx_df = foldx_df.append(row)\n",
      "/tmp/ipykernel_16009/1355194123.py:35: FutureWarning: The frame.append method is deprecated and will be removed from pandas in a future version. Use pandas.concat instead.\n",
      "  foldx_df = foldx_df.append(row)\n",
      "/tmp/ipykernel_16009/1355194123.py:35: FutureWarning: The frame.append method is deprecated and will be removed from pandas in a future version. Use pandas.concat instead.\n",
      "  foldx_df = foldx_df.append(row)\n",
      "/tmp/ipykernel_16009/1355194123.py:35: FutureWarning: The frame.append method is deprecated and will be removed from pandas in a future version. Use pandas.concat instead.\n",
      "  foldx_df = foldx_df.append(row)\n",
      "/tmp/ipykernel_16009/1355194123.py:35: FutureWarning: The frame.append method is deprecated and will be removed from pandas in a future version. Use pandas.concat instead.\n",
      "  foldx_df = foldx_df.append(row)\n",
      "/tmp/ipykernel_16009/1355194123.py:35: FutureWarning: The frame.append method is deprecated and will be removed from pandas in a future version. Use pandas.concat instead.\n",
      "  foldx_df = foldx_df.append(row)\n",
      "/tmp/ipykernel_16009/1355194123.py:35: FutureWarning: The frame.append method is deprecated and will be removed from pandas in a future version. Use pandas.concat instead.\n",
      "  foldx_df = foldx_df.append(row)\n",
      "/tmp/ipykernel_16009/1355194123.py:35: FutureWarning: The frame.append method is deprecated and will be removed from pandas in a future version. Use pandas.concat instead.\n",
      "  foldx_df = foldx_df.append(row)\n",
      "/tmp/ipykernel_16009/1355194123.py:35: FutureWarning: The frame.append method is deprecated and will be removed from pandas in a future version. Use pandas.concat instead.\n",
      "  foldx_df = foldx_df.append(row)\n",
      "/tmp/ipykernel_16009/1355194123.py:35: FutureWarning: The frame.append method is deprecated and will be removed from pandas in a future version. Use pandas.concat instead.\n",
      "  foldx_df = foldx_df.append(row)\n",
      "/tmp/ipykernel_16009/1355194123.py:35: FutureWarning: The frame.append method is deprecated and will be removed from pandas in a future version. Use pandas.concat instead.\n",
      "  foldx_df = foldx_df.append(row)\n"
     ]
    },
    {
     "name": "stdout",
     "output_type": "stream",
     "text": [
      "len(foldx_df)+in_count:  1000\n"
     ]
    },
    {
     "name": "stderr",
     "output_type": "stream",
     "text": [
      "/tmp/ipykernel_16009/1355194123.py:35: FutureWarning: The frame.append method is deprecated and will be removed from pandas in a future version. Use pandas.concat instead.\n",
      "  foldx_df = foldx_df.append(row)\n",
      "/tmp/ipykernel_16009/1355194123.py:35: FutureWarning: The frame.append method is deprecated and will be removed from pandas in a future version. Use pandas.concat instead.\n",
      "  foldx_df = foldx_df.append(row)\n",
      "/tmp/ipykernel_16009/1355194123.py:35: FutureWarning: The frame.append method is deprecated and will be removed from pandas in a future version. Use pandas.concat instead.\n",
      "  foldx_df = foldx_df.append(row)\n",
      "/tmp/ipykernel_16009/1355194123.py:35: FutureWarning: The frame.append method is deprecated and will be removed from pandas in a future version. Use pandas.concat instead.\n",
      "  foldx_df = foldx_df.append(row)\n",
      "/tmp/ipykernel_16009/1355194123.py:35: FutureWarning: The frame.append method is deprecated and will be removed from pandas in a future version. Use pandas.concat instead.\n",
      "  foldx_df = foldx_df.append(row)\n",
      "/tmp/ipykernel_16009/1355194123.py:35: FutureWarning: The frame.append method is deprecated and will be removed from pandas in a future version. Use pandas.concat instead.\n",
      "  foldx_df = foldx_df.append(row)\n",
      "/tmp/ipykernel_16009/1355194123.py:35: FutureWarning: The frame.append method is deprecated and will be removed from pandas in a future version. Use pandas.concat instead.\n",
      "  foldx_df = foldx_df.append(row)\n",
      "/tmp/ipykernel_16009/1355194123.py:35: FutureWarning: The frame.append method is deprecated and will be removed from pandas in a future version. Use pandas.concat instead.\n",
      "  foldx_df = foldx_df.append(row)\n",
      "/tmp/ipykernel_16009/1355194123.py:35: FutureWarning: The frame.append method is deprecated and will be removed from pandas in a future version. Use pandas.concat instead.\n",
      "  foldx_df = foldx_df.append(row)\n",
      "/tmp/ipykernel_16009/1355194123.py:35: FutureWarning: The frame.append method is deprecated and will be removed from pandas in a future version. Use pandas.concat instead.\n",
      "  foldx_df = foldx_df.append(row)\n",
      "/tmp/ipykernel_16009/1355194123.py:35: FutureWarning: The frame.append method is deprecated and will be removed from pandas in a future version. Use pandas.concat instead.\n",
      "  foldx_df = foldx_df.append(row)\n",
      "/tmp/ipykernel_16009/1355194123.py:35: FutureWarning: The frame.append method is deprecated and will be removed from pandas in a future version. Use pandas.concat instead.\n",
      "  foldx_df = foldx_df.append(row)\n",
      "/tmp/ipykernel_16009/1355194123.py:35: FutureWarning: The frame.append method is deprecated and will be removed from pandas in a future version. Use pandas.concat instead.\n",
      "  foldx_df = foldx_df.append(row)\n",
      "/tmp/ipykernel_16009/1355194123.py:35: FutureWarning: The frame.append method is deprecated and will be removed from pandas in a future version. Use pandas.concat instead.\n",
      "  foldx_df = foldx_df.append(row)\n",
      "/tmp/ipykernel_16009/1355194123.py:35: FutureWarning: The frame.append method is deprecated and will be removed from pandas in a future version. Use pandas.concat instead.\n",
      "  foldx_df = foldx_df.append(row)\n",
      "/tmp/ipykernel_16009/1355194123.py:35: FutureWarning: The frame.append method is deprecated and will be removed from pandas in a future version. Use pandas.concat instead.\n",
      "  foldx_df = foldx_df.append(row)\n",
      "/tmp/ipykernel_16009/1355194123.py:35: FutureWarning: The frame.append method is deprecated and will be removed from pandas in a future version. Use pandas.concat instead.\n",
      "  foldx_df = foldx_df.append(row)\n",
      "/tmp/ipykernel_16009/1355194123.py:35: FutureWarning: The frame.append method is deprecated and will be removed from pandas in a future version. Use pandas.concat instead.\n",
      "  foldx_df = foldx_df.append(row)\n",
      "/tmp/ipykernel_16009/1355194123.py:35: FutureWarning: The frame.append method is deprecated and will be removed from pandas in a future version. Use pandas.concat instead.\n",
      "  foldx_df = foldx_df.append(row)\n",
      "/tmp/ipykernel_16009/1355194123.py:35: FutureWarning: The frame.append method is deprecated and will be removed from pandas in a future version. Use pandas.concat instead.\n",
      "  foldx_df = foldx_df.append(row)\n",
      "/tmp/ipykernel_16009/1355194123.py:35: FutureWarning: The frame.append method is deprecated and will be removed from pandas in a future version. Use pandas.concat instead.\n",
      "  foldx_df = foldx_df.append(row)\n",
      "/tmp/ipykernel_16009/1355194123.py:35: FutureWarning: The frame.append method is deprecated and will be removed from pandas in a future version. Use pandas.concat instead.\n",
      "  foldx_df = foldx_df.append(row)\n",
      "/tmp/ipykernel_16009/1355194123.py:35: FutureWarning: The frame.append method is deprecated and will be removed from pandas in a future version. Use pandas.concat instead.\n",
      "  foldx_df = foldx_df.append(row)\n",
      "/tmp/ipykernel_16009/1355194123.py:35: FutureWarning: The frame.append method is deprecated and will be removed from pandas in a future version. Use pandas.concat instead.\n",
      "  foldx_df = foldx_df.append(row)\n",
      "/tmp/ipykernel_16009/1355194123.py:35: FutureWarning: The frame.append method is deprecated and will be removed from pandas in a future version. Use pandas.concat instead.\n",
      "  foldx_df = foldx_df.append(row)\n",
      "/tmp/ipykernel_16009/1355194123.py:35: FutureWarning: The frame.append method is deprecated and will be removed from pandas in a future version. Use pandas.concat instead.\n",
      "  foldx_df = foldx_df.append(row)\n",
      "/tmp/ipykernel_16009/1355194123.py:35: FutureWarning: The frame.append method is deprecated and will be removed from pandas in a future version. Use pandas.concat instead.\n",
      "  foldx_df = foldx_df.append(row)\n",
      "/tmp/ipykernel_16009/1355194123.py:35: FutureWarning: The frame.append method is deprecated and will be removed from pandas in a future version. Use pandas.concat instead.\n",
      "  foldx_df = foldx_df.append(row)\n",
      "/tmp/ipykernel_16009/1355194123.py:35: FutureWarning: The frame.append method is deprecated and will be removed from pandas in a future version. Use pandas.concat instead.\n",
      "  foldx_df = foldx_df.append(row)\n",
      "/tmp/ipykernel_16009/1355194123.py:35: FutureWarning: The frame.append method is deprecated and will be removed from pandas in a future version. Use pandas.concat instead.\n",
      "  foldx_df = foldx_df.append(row)\n",
      "/tmp/ipykernel_16009/1355194123.py:35: FutureWarning: The frame.append method is deprecated and will be removed from pandas in a future version. Use pandas.concat instead.\n",
      "  foldx_df = foldx_df.append(row)\n",
      "/tmp/ipykernel_16009/1355194123.py:35: FutureWarning: The frame.append method is deprecated and will be removed from pandas in a future version. Use pandas.concat instead.\n",
      "  foldx_df = foldx_df.append(row)\n",
      "/tmp/ipykernel_16009/1355194123.py:35: FutureWarning: The frame.append method is deprecated and will be removed from pandas in a future version. Use pandas.concat instead.\n",
      "  foldx_df = foldx_df.append(row)\n",
      "/tmp/ipykernel_16009/1355194123.py:35: FutureWarning: The frame.append method is deprecated and will be removed from pandas in a future version. Use pandas.concat instead.\n",
      "  foldx_df = foldx_df.append(row)\n",
      "/tmp/ipykernel_16009/1355194123.py:35: FutureWarning: The frame.append method is deprecated and will be removed from pandas in a future version. Use pandas.concat instead.\n",
      "  foldx_df = foldx_df.append(row)\n",
      "/tmp/ipykernel_16009/1355194123.py:35: FutureWarning: The frame.append method is deprecated and will be removed from pandas in a future version. Use pandas.concat instead.\n",
      "  foldx_df = foldx_df.append(row)\n",
      "/tmp/ipykernel_16009/1355194123.py:35: FutureWarning: The frame.append method is deprecated and will be removed from pandas in a future version. Use pandas.concat instead.\n",
      "  foldx_df = foldx_df.append(row)\n",
      "/tmp/ipykernel_16009/1355194123.py:35: FutureWarning: The frame.append method is deprecated and will be removed from pandas in a future version. Use pandas.concat instead.\n",
      "  foldx_df = foldx_df.append(row)\n",
      "/tmp/ipykernel_16009/1355194123.py:35: FutureWarning: The frame.append method is deprecated and will be removed from pandas in a future version. Use pandas.concat instead.\n",
      "  foldx_df = foldx_df.append(row)\n",
      "/tmp/ipykernel_16009/1355194123.py:35: FutureWarning: The frame.append method is deprecated and will be removed from pandas in a future version. Use pandas.concat instead.\n",
      "  foldx_df = foldx_df.append(row)\n",
      "/tmp/ipykernel_16009/1355194123.py:35: FutureWarning: The frame.append method is deprecated and will be removed from pandas in a future version. Use pandas.concat instead.\n",
      "  foldx_df = foldx_df.append(row)\n",
      "/tmp/ipykernel_16009/1355194123.py:35: FutureWarning: The frame.append method is deprecated and will be removed from pandas in a future version. Use pandas.concat instead.\n",
      "  foldx_df = foldx_df.append(row)\n",
      "/tmp/ipykernel_16009/1355194123.py:35: FutureWarning: The frame.append method is deprecated and will be removed from pandas in a future version. Use pandas.concat instead.\n",
      "  foldx_df = foldx_df.append(row)\n",
      "/tmp/ipykernel_16009/1355194123.py:35: FutureWarning: The frame.append method is deprecated and will be removed from pandas in a future version. Use pandas.concat instead.\n",
      "  foldx_df = foldx_df.append(row)\n",
      "/tmp/ipykernel_16009/1355194123.py:35: FutureWarning: The frame.append method is deprecated and will be removed from pandas in a future version. Use pandas.concat instead.\n",
      "  foldx_df = foldx_df.append(row)\n",
      "/tmp/ipykernel_16009/1355194123.py:35: FutureWarning: The frame.append method is deprecated and will be removed from pandas in a future version. Use pandas.concat instead.\n",
      "  foldx_df = foldx_df.append(row)\n",
      "/tmp/ipykernel_16009/1355194123.py:35: FutureWarning: The frame.append method is deprecated and will be removed from pandas in a future version. Use pandas.concat instead.\n",
      "  foldx_df = foldx_df.append(row)\n",
      "/tmp/ipykernel_16009/1355194123.py:35: FutureWarning: The frame.append method is deprecated and will be removed from pandas in a future version. Use pandas.concat instead.\n",
      "  foldx_df = foldx_df.append(row)\n",
      "/tmp/ipykernel_16009/1355194123.py:35: FutureWarning: The frame.append method is deprecated and will be removed from pandas in a future version. Use pandas.concat instead.\n",
      "  foldx_df = foldx_df.append(row)\n",
      "/tmp/ipykernel_16009/1355194123.py:35: FutureWarning: The frame.append method is deprecated and will be removed from pandas in a future version. Use pandas.concat instead.\n",
      "  foldx_df = foldx_df.append(row)\n",
      "/tmp/ipykernel_16009/1355194123.py:35: FutureWarning: The frame.append method is deprecated and will be removed from pandas in a future version. Use pandas.concat instead.\n",
      "  foldx_df = foldx_df.append(row)\n",
      "/tmp/ipykernel_16009/1355194123.py:35: FutureWarning: The frame.append method is deprecated and will be removed from pandas in a future version. Use pandas.concat instead.\n",
      "  foldx_df = foldx_df.append(row)\n",
      "/tmp/ipykernel_16009/1355194123.py:35: FutureWarning: The frame.append method is deprecated and will be removed from pandas in a future version. Use pandas.concat instead.\n",
      "  foldx_df = foldx_df.append(row)\n",
      "/tmp/ipykernel_16009/1355194123.py:35: FutureWarning: The frame.append method is deprecated and will be removed from pandas in a future version. Use pandas.concat instead.\n",
      "  foldx_df = foldx_df.append(row)\n",
      "/tmp/ipykernel_16009/1355194123.py:35: FutureWarning: The frame.append method is deprecated and will be removed from pandas in a future version. Use pandas.concat instead.\n",
      "  foldx_df = foldx_df.append(row)\n",
      "/tmp/ipykernel_16009/1355194123.py:35: FutureWarning: The frame.append method is deprecated and will be removed from pandas in a future version. Use pandas.concat instead.\n",
      "  foldx_df = foldx_df.append(row)\n"
     ]
    }
   ],
   "source": [
    "# Get topk seqs\n",
    "num_rounds = 100  # N\n",
    "round_pool_size = 10000\n",
    "topk = 10  # K\n",
    "\n",
    "round_topk = {}\n",
    "# ['ddG_latent_pred', 'solubility_latent_pred', 'avg_latent_head_pred_rank']\n",
    "# cols_to_sort = ['ddG_latent_pred']\n",
    "# ascending = True\n",
    "# cols_to_sort = ['solubility_latent_pred']\n",
    "# ascending = False\n",
    "cols_to_sort = ['avg_latent_head_pred_rank']\n",
    "ascending = True\n",
    "\n",
    "foldx_df = None\n",
    "in_count = 0\n",
    "for col_to_sort in cols_to_sort:\n",
    "    print(\"col_to_sort: \", col_to_sort)\n",
    "    round_topk[col_to_sort] = {}\n",
    "    for round_ind in range(num_rounds):\n",
    "        sampled_rows = gen250k_df_filtered.sample(n=round_pool_size)\n",
    "        sorted_sampled_rows = sampled_rows.sort_values(by=col_to_sort, ascending=ascending)[:topk]\n",
    "        topk_rows = sorted_sampled_rows[:topk]\n",
    "        round_topk[col_to_sort][round_ind] = topk_rows\n",
    "\n",
    "    for round_ind in round_topk[col_to_sort]:\n",
    "        round_topk_df = round_topk[col_to_sort][round_ind]\n",
    "        if foldx_df is None:\n",
    "            foldx_df = round_topk_df\n",
    "        else:\n",
    "            all_mt = foldx_df['MT_seq'].tolist()\n",
    "\n",
    "            for row_ind, row in round_topk_df.iterrows():\n",
    "                if row['MT_seq'] not in all_mt:\n",
    "                    foldx_df = foldx_df.append(row)\n",
    "                else:\n",
    "                    in_count += 1\n",
    "\n",
    "    print(\"len(foldx_df)+in_count: \", len(foldx_df) + in_count)"
   ],
   "metadata": {
    "collapsed": false,
    "ExecuteTime": {
     "start_time": "2023-04-28T11:53:23.091710Z",
     "end_time": "2023-04-28T11:53:24.458927Z"
    }
   }
  },
  {
   "cell_type": "code",
   "execution_count": 103,
   "outputs": [],
   "source": [],
   "metadata": {
    "collapsed": false,
    "ExecuteTime": {
     "start_time": "2023-04-28T11:53:24.441841Z",
     "end_time": "2023-04-28T11:53:24.459927Z"
    }
   }
  },
  {
   "cell_type": "code",
   "execution_count": 104,
   "outputs": [
    {
     "data": {
      "text/plain": "                                                MT_seq  ddG_latent_pred  \\\n15   STIEEQAKIFLDKFNHEAEDIFYQSSLASWNYNTNITEENEQNMNN...        -9.580462   \n23   STIEEMAKTFLDKFNHEAEDIFYQSSLASWNYNTNITEENVQNMNN...        -8.648665   \n26   STIEEQAKTFLDKFNHEAEDIFYQSSNASWNYNTNITEENVQNMNN...       -10.085117   \n163  STIEEQAKTFLDKFNHEAEDFFYQSSLASWNYNTNITEENVQNMNN...        -8.480585   \n193  SSIEEQAKYFLDKFNHEAEDLFYQSSLASWNYNTNITEENVQNMNN...       -10.240438   \n..                                                 ...              ...   \n362  STIEEAAKTFLDKFNHEAEDIFYQSSLTSWNYNTNITEENIQNMNN...        -8.337305   \n252  STIEEQAKTFLDKFNHEAEDLFYQSFLASWIFNTNITEENVQNMNN...       -10.404466   \n307  STIEEQAKTFLDKFNHEAEDIFYQVSLAEWNYNTNITEENVQNMNN...       -10.588065   \n354  STIEEQAKTFLDKFNHEAEDLFYQSSLASWNYNTNITEENWTNMNN...        -9.799937   \n448  STIEEQAKTFLDKFNHEAEDLFYQSMLANWNYNTNITEENVQNMNN...        -9.895275   \n\n     solubility_latent_pred  \\\n15                 7.452818   \n23                 8.348221   \n26                 7.083210   \n163                7.829576   \n193                6.648117   \n..                      ...   \n362                7.398304   \n252                6.394461   \n307                5.941116   \n354                6.615335   \n448                6.315716   \n\n                                         gen_input_seq            PDB Chain  \\\n15   STIEEQAKTFLDKFNHEAEDLFYQSSLASWNYNTNITEENEQNMNN...  template2.pdb     A   \n23   STIEEQAKTFLDKFNHEAEDIFYQSSLASWNYNTNITEENVQNMNN...  template2.pdb     A   \n26   STIEEQAKTFLDKFNHEAEDLFYQSSHASWNYNTNITEENVQNMNN...  template2.pdb     A   \n163  STIEEQAKTFLDKFNHEAEDFFYQSSLASWNYNTNITEENVQNMNN...  template2.pdb     A   \n193  SSIEEQAKYFLDKFNHEAEDLFYQSSLASWNYNTNITEENVQNMNN...  template2.pdb     A   \n..                                                 ...            ...   ...   \n362  STIEEQAKTFLDKFNHEAEDIFYQSSLTSWNYNTNITEENVQNMNN...  template2.pdb     A   \n252  STIEEQAKTFLDKFNHEAEDLFYQSFLASWIYNTNITEENVQNMNN...  template2.pdb     A   \n307  STIEEQAKTFLDKFNHEAEDLFYQTSLAEWNYNTNITEENVQNMNN...  template2.pdb     A   \n354  STIEEQAKTFLDKFNHEAEDLFYQSSLASWNYNTNITEENRQNMNN...  template2.pdb     A   \n448  STIEEQAKTFLDKFNHEAEDLFYQSMLANWNYNTNITEENVQNMNN...  template2.pdb     A   \n\n     Start_index                                             WT_seq  \\\n15            19  STIEEQAKTFLDKFNHEAEDLFYQSSLASWNYNTNITEENVQNMNN...   \n23            19  STIEEQAKTFLDKFNHEAEDLFYQSSLASWNYNTNITEENVQNMNN...   \n26            19  STIEEQAKTFLDKFNHEAEDLFYQSSLASWNYNTNITEENVQNMNN...   \n163           19  STIEEQAKTFLDKFNHEAEDLFYQSSLASWNYNTNITEENVQNMNN...   \n193           19  STIEEQAKTFLDKFNHEAEDLFYQSSLASWNYNTNITEENVQNMNN...   \n..           ...                                                ...   \n362           19  STIEEQAKTFLDKFNHEAEDLFYQSSLASWNYNTNITEENVQNMNN...   \n252           19  STIEEQAKTFLDKFNHEAEDLFYQSSLASWNYNTNITEENVQNMNN...   \n307           19  STIEEQAKTFLDKFNHEAEDLFYQSSLASWNYNTNITEENVQNMNN...   \n354           19  STIEEQAKTFLDKFNHEAEDLFYQSSLASWNYNTNITEENVQNMNN...   \n448           19  STIEEQAKTFLDKFNHEAEDLFYQSSLASWNYNTNITEENVQNMNN...   \n\n     repeated_gen  in_train_data_gen  ddG_latent_pred_rank  \\\n15          False              False               23392.0   \n23          False              False               30450.0   \n26          False              False               19977.0   \n163         False              False               31818.0   \n193         False              False               18975.0   \n..            ...                ...                   ...   \n362         False              False               33106.0   \n252         False              False               17943.0   \n307         False              False               16798.0   \n354         False              False               21886.0   \n448         False              False               21227.0   \n\n     solubility_latent_pred_rank  avg_latent_head_pred_rank  \n15                       13348.0                    18370.0  \n23                        7680.0                    19065.0  \n26                       18246.0                    19111.5  \n163                      10913.0                    21365.5  \n193                      24612.0                    21793.5  \n..                           ...                        ...  \n362                      13850.0                    23478.0  \n252                      26697.0                    22320.0  \n307                      29064.0                    22931.0  \n354                      24929.0                    23407.5  \n448                      27192.0                    24209.5  \n\n[279 rows x 13 columns]",
      "text/html": "<div>\n<style scoped>\n    .dataframe tbody tr th:only-of-type {\n        vertical-align: middle;\n    }\n\n    .dataframe tbody tr th {\n        vertical-align: top;\n    }\n\n    .dataframe thead th {\n        text-align: right;\n    }\n</style>\n<table border=\"1\" class=\"dataframe\">\n  <thead>\n    <tr style=\"text-align: right;\">\n      <th></th>\n      <th>MT_seq</th>\n      <th>ddG_latent_pred</th>\n      <th>solubility_latent_pred</th>\n      <th>gen_input_seq</th>\n      <th>PDB</th>\n      <th>Chain</th>\n      <th>Start_index</th>\n      <th>WT_seq</th>\n      <th>repeated_gen</th>\n      <th>in_train_data_gen</th>\n      <th>ddG_latent_pred_rank</th>\n      <th>solubility_latent_pred_rank</th>\n      <th>avg_latent_head_pred_rank</th>\n    </tr>\n  </thead>\n  <tbody>\n    <tr>\n      <th>15</th>\n      <td>STIEEQAKIFLDKFNHEAEDIFYQSSLASWNYNTNITEENEQNMNN...</td>\n      <td>-9.580462</td>\n      <td>7.452818</td>\n      <td>STIEEQAKTFLDKFNHEAEDLFYQSSLASWNYNTNITEENEQNMNN...</td>\n      <td>template2.pdb</td>\n      <td>A</td>\n      <td>19</td>\n      <td>STIEEQAKTFLDKFNHEAEDLFYQSSLASWNYNTNITEENVQNMNN...</td>\n      <td>False</td>\n      <td>False</td>\n      <td>23392.0</td>\n      <td>13348.0</td>\n      <td>18370.0</td>\n    </tr>\n    <tr>\n      <th>23</th>\n      <td>STIEEMAKTFLDKFNHEAEDIFYQSSLASWNYNTNITEENVQNMNN...</td>\n      <td>-8.648665</td>\n      <td>8.348221</td>\n      <td>STIEEQAKTFLDKFNHEAEDIFYQSSLASWNYNTNITEENVQNMNN...</td>\n      <td>template2.pdb</td>\n      <td>A</td>\n      <td>19</td>\n      <td>STIEEQAKTFLDKFNHEAEDLFYQSSLASWNYNTNITEENVQNMNN...</td>\n      <td>False</td>\n      <td>False</td>\n      <td>30450.0</td>\n      <td>7680.0</td>\n      <td>19065.0</td>\n    </tr>\n    <tr>\n      <th>26</th>\n      <td>STIEEQAKTFLDKFNHEAEDIFYQSSNASWNYNTNITEENVQNMNN...</td>\n      <td>-10.085117</td>\n      <td>7.083210</td>\n      <td>STIEEQAKTFLDKFNHEAEDLFYQSSHASWNYNTNITEENVQNMNN...</td>\n      <td>template2.pdb</td>\n      <td>A</td>\n      <td>19</td>\n      <td>STIEEQAKTFLDKFNHEAEDLFYQSSLASWNYNTNITEENVQNMNN...</td>\n      <td>False</td>\n      <td>False</td>\n      <td>19977.0</td>\n      <td>18246.0</td>\n      <td>19111.5</td>\n    </tr>\n    <tr>\n      <th>163</th>\n      <td>STIEEQAKTFLDKFNHEAEDFFYQSSLASWNYNTNITEENVQNMNN...</td>\n      <td>-8.480585</td>\n      <td>7.829576</td>\n      <td>STIEEQAKTFLDKFNHEAEDFFYQSSLASWNYNTNITEENVQNMNN...</td>\n      <td>template2.pdb</td>\n      <td>A</td>\n      <td>19</td>\n      <td>STIEEQAKTFLDKFNHEAEDLFYQSSLASWNYNTNITEENVQNMNN...</td>\n      <td>False</td>\n      <td>False</td>\n      <td>31818.0</td>\n      <td>10913.0</td>\n      <td>21365.5</td>\n    </tr>\n    <tr>\n      <th>193</th>\n      <td>SSIEEQAKYFLDKFNHEAEDLFYQSSLASWNYNTNITEENVQNMNN...</td>\n      <td>-10.240438</td>\n      <td>6.648117</td>\n      <td>SSIEEQAKYFLDKFNHEAEDLFYQSSLASWNYNTNITEENVQNMNN...</td>\n      <td>template2.pdb</td>\n      <td>A</td>\n      <td>19</td>\n      <td>STIEEQAKTFLDKFNHEAEDLFYQSSLASWNYNTNITEENVQNMNN...</td>\n      <td>False</td>\n      <td>False</td>\n      <td>18975.0</td>\n      <td>24612.0</td>\n      <td>21793.5</td>\n    </tr>\n    <tr>\n      <th>...</th>\n      <td>...</td>\n      <td>...</td>\n      <td>...</td>\n      <td>...</td>\n      <td>...</td>\n      <td>...</td>\n      <td>...</td>\n      <td>...</td>\n      <td>...</td>\n      <td>...</td>\n      <td>...</td>\n      <td>...</td>\n      <td>...</td>\n    </tr>\n    <tr>\n      <th>362</th>\n      <td>STIEEAAKTFLDKFNHEAEDIFYQSSLTSWNYNTNITEENIQNMNN...</td>\n      <td>-8.337305</td>\n      <td>7.398304</td>\n      <td>STIEEQAKTFLDKFNHEAEDIFYQSSLTSWNYNTNITEENVQNMNN...</td>\n      <td>template2.pdb</td>\n      <td>A</td>\n      <td>19</td>\n      <td>STIEEQAKTFLDKFNHEAEDLFYQSSLASWNYNTNITEENVQNMNN...</td>\n      <td>False</td>\n      <td>False</td>\n      <td>33106.0</td>\n      <td>13850.0</td>\n      <td>23478.0</td>\n    </tr>\n    <tr>\n      <th>252</th>\n      <td>STIEEQAKTFLDKFNHEAEDLFYQSFLASWIFNTNITEENVQNMNN...</td>\n      <td>-10.404466</td>\n      <td>6.394461</td>\n      <td>STIEEQAKTFLDKFNHEAEDLFYQSFLASWIYNTNITEENVQNMNN...</td>\n      <td>template2.pdb</td>\n      <td>A</td>\n      <td>19</td>\n      <td>STIEEQAKTFLDKFNHEAEDLFYQSSLASWNYNTNITEENVQNMNN...</td>\n      <td>False</td>\n      <td>False</td>\n      <td>17943.0</td>\n      <td>26697.0</td>\n      <td>22320.0</td>\n    </tr>\n    <tr>\n      <th>307</th>\n      <td>STIEEQAKTFLDKFNHEAEDIFYQVSLAEWNYNTNITEENVQNMNN...</td>\n      <td>-10.588065</td>\n      <td>5.941116</td>\n      <td>STIEEQAKTFLDKFNHEAEDLFYQTSLAEWNYNTNITEENVQNMNN...</td>\n      <td>template2.pdb</td>\n      <td>A</td>\n      <td>19</td>\n      <td>STIEEQAKTFLDKFNHEAEDLFYQSSLASWNYNTNITEENVQNMNN...</td>\n      <td>False</td>\n      <td>False</td>\n      <td>16798.0</td>\n      <td>29064.0</td>\n      <td>22931.0</td>\n    </tr>\n    <tr>\n      <th>354</th>\n      <td>STIEEQAKTFLDKFNHEAEDLFYQSSLASWNYNTNITEENWTNMNN...</td>\n      <td>-9.799937</td>\n      <td>6.615335</td>\n      <td>STIEEQAKTFLDKFNHEAEDLFYQSSLASWNYNTNITEENRQNMNN...</td>\n      <td>template2.pdb</td>\n      <td>A</td>\n      <td>19</td>\n      <td>STIEEQAKTFLDKFNHEAEDLFYQSSLASWNYNTNITEENVQNMNN...</td>\n      <td>False</td>\n      <td>False</td>\n      <td>21886.0</td>\n      <td>24929.0</td>\n      <td>23407.5</td>\n    </tr>\n    <tr>\n      <th>448</th>\n      <td>STIEEQAKTFLDKFNHEAEDLFYQSMLANWNYNTNITEENVQNMNN...</td>\n      <td>-9.895275</td>\n      <td>6.315716</td>\n      <td>STIEEQAKTFLDKFNHEAEDLFYQSMLANWNYNTNITEENVQNMNN...</td>\n      <td>template2.pdb</td>\n      <td>A</td>\n      <td>19</td>\n      <td>STIEEQAKTFLDKFNHEAEDLFYQSSLASWNYNTNITEENVQNMNN...</td>\n      <td>False</td>\n      <td>False</td>\n      <td>21227.0</td>\n      <td>27192.0</td>\n      <td>24209.5</td>\n    </tr>\n  </tbody>\n</table>\n<p>279 rows × 13 columns</p>\n</div>"
     },
     "execution_count": 104,
     "metadata": {},
     "output_type": "execute_result"
    }
   ],
   "source": [
    "foldx_df"
   ],
   "metadata": {
    "collapsed": false,
    "ExecuteTime": {
     "start_time": "2023-04-28T11:53:24.441841Z",
     "end_time": "2023-04-28T11:53:24.493839Z"
    }
   }
  },
  {
   "cell_type": "code",
   "execution_count": 105,
   "outputs": [
    {
     "data": {
      "text/plain": "721"
     },
     "execution_count": 105,
     "metadata": {},
     "output_type": "execute_result"
    }
   ],
   "source": [
    "in_count"
   ],
   "metadata": {
    "collapsed": false,
    "ExecuteTime": {
     "start_time": "2023-04-28T11:53:24.465851Z",
     "end_time": "2023-04-28T11:53:24.493839Z"
    }
   }
  },
  {
   "cell_type": "code",
   "execution_count": 105,
   "outputs": [],
   "source": [],
   "metadata": {
    "collapsed": false,
    "ExecuteTime": {
     "start_time": "2023-04-28T11:53:24.487864Z",
     "end_time": "2023-04-28T11:53:24.532798Z"
    }
   }
  },
  {
   "cell_type": "markdown",
   "source": [
    "## save E[min] seqs to do FoldX¶"
   ],
   "metadata": {
    "collapsed": false
   }
  },
  {
   "cell_type": "code",
   "execution_count": 106,
   "outputs": [],
   "source": [
    "before_foldx = True\n",
    "# seqsforEmin_dict_name = f'{output_dir}/ddG_Emin_df.pkl'\n",
    "# seqsforEmin_dict_name = f'{output_dir}/solubility_Emin_df.pkl'\n",
    "seqsforEmin_dict_name = f'{output_dir}/avg_rank_Emin_df.pkl'\n",
    "if before_foldx:\n",
    "    with open(seqsforEmin_dict_name, 'wb') as f:\n",
    "        pickle.dump(round_topk, f)"
   ],
   "metadata": {
    "collapsed": false,
    "ExecuteTime": {
     "start_time": "2023-04-28T11:53:24.487864Z",
     "end_time": "2023-04-28T11:53:24.539799Z"
    }
   }
  },
  {
   "cell_type": "code",
   "execution_count": 107,
   "outputs": [
    {
     "data": {
      "text/plain": "(dict_keys(['avg_latent_head_pred_rank']),\n dict_keys([0, 1, 2, 3, 4, 5, 6, 7, 8, 9, 10, 11, 12, 13, 14, 15, 16, 17, 18, 19, 20, 21, 22, 23, 24, 25, 26, 27, 28, 29, 30, 31, 32, 33, 34, 35, 36, 37, 38, 39, 40, 41, 42, 43, 44, 45, 46, 47, 48, 49, 50, 51, 52, 53, 54, 55, 56, 57, 58, 59, 60, 61, 62, 63, 64, 65, 66, 67, 68, 69, 70, 71, 72, 73, 74, 75, 76, 77, 78, 79, 80, 81, 82, 83, 84, 85, 86, 87, 88, 89, 90, 91, 92, 93, 94, 95, 96, 97, 98, 99]))"
     },
     "execution_count": 107,
     "metadata": {},
     "output_type": "execute_result"
    }
   ],
   "source": [
    "with open(seqsforEmin_dict_name, 'rb') as f:\n",
    "    Emin_dict = pickle.load(f)\n",
    "Emin_dict.keys(), Emin_dict[cols_to_sort[0]].keys()"
   ],
   "metadata": {
    "collapsed": false,
    "ExecuteTime": {
     "start_time": "2023-04-28T11:53:24.487864Z",
     "end_time": "2023-04-28T11:53:24.539799Z"
    }
   }
  },
  {
   "cell_type": "code",
   "execution_count": 108,
   "outputs": [
    {
     "data": {
      "text/plain": "                                                MT_seq  ddG_latent_pred  \\\n15   STIEEQAKIFLDKFNHEAEDIFYQSSLASWNYNTNITEENEQNMNN...        -9.580462   \n23   STIEEMAKTFLDKFNHEAEDIFYQSSLASWNYNTNITEENVQNMNN...        -8.648665   \n26   STIEEQAKTFLDKFNHEAEDIFYQSSNASWNYNTNITEENVQNMNN...       -10.085117   \n163  STIEEQAKTFLDKFNHEAEDFFYQSSLASWNYNTNITEENVQNMNN...        -8.480585   \n193  SSIEEQAKYFLDKFNHEAEDLFYQSSLASWNYNTNITEENVQNMNN...       -10.240438   \n194  STIEEQAKTFLDKFNHEAEDLFYQSSLASWNYNTNITEENVQNMNN...       -10.929138   \n196  STIEEQAKIFLDKFNHEAEDYFYQSSLASWNYNTNITEENVQNMNN...       -10.545261   \n229  STIEEQAKIFLDKFNHEAEDFFYVSSNASWNYNTNITEENVQNMNN...       -10.594706   \n295  STIEEQAKIFLDKFNHEAEDLFYMSSLASWNYNTNITEENVQNMNN...       -11.389321   \n298  STIEEQAKTFLDKFNHEAEDLFYQVMLASWNYNTNITEENVQNMNN...       -10.051264   \n\n     solubility_latent_pred  \\\n15                 7.452818   \n23                 8.348221   \n26                 7.083210   \n163                7.829576   \n193                6.648117   \n194                6.009204   \n196                6.414642   \n229                6.261812   \n295                5.460168   \n298                6.551439   \n\n                                         gen_input_seq            PDB Chain  \\\n15   STIEEQAKTFLDKFNHEAEDLFYQSSLASWNYNTNITEENEQNMNN...  template2.pdb     A   \n23   STIEEQAKTFLDKFNHEAEDIFYQSSLASWNYNTNITEENVQNMNN...  template2.pdb     A   \n26   STIEEQAKTFLDKFNHEAEDLFYQSSHASWNYNTNITEENVQNMNN...  template2.pdb     A   \n163  STIEEQAKTFLDKFNHEAEDFFYQSSLASWNYNTNITEENVQNMNN...  template2.pdb     A   \n193  SSIEEQAKYFLDKFNHEAEDLFYQSSLASWNYNTNITEENVQNMNN...  template2.pdb     A   \n194  STIEEQAKTFLDKFNHEAEDLFYQSSLASWNYNTNITEENVQNMNN...  template2.pdb     A   \n196  STIEEQAKIFLDKFNHEAEDRFYQSSLASYNYNTNITEENVQNMNN...  template2.pdb     A   \n229  STIEEQAKTFLDKFNHEAEDVFYFSSSASWNYNTNITEENVQNMNN...  template2.pdb     A   \n295  STIEEQAITFLDKFNHEAEDLFYQSSLASWNYNTNITEENVQNMNN...  template2.pdb     A   \n298  STIEEQAKTFLDKFNHEAEDLFYQSMLASWNYNTNITEENVQNMNN...  template2.pdb     A   \n\n     Start_index                                             WT_seq  \\\n15            19  STIEEQAKTFLDKFNHEAEDLFYQSSLASWNYNTNITEENVQNMNN...   \n23            19  STIEEQAKTFLDKFNHEAEDLFYQSSLASWNYNTNITEENVQNMNN...   \n26            19  STIEEQAKTFLDKFNHEAEDLFYQSSLASWNYNTNITEENVQNMNN...   \n163           19  STIEEQAKTFLDKFNHEAEDLFYQSSLASWNYNTNITEENVQNMNN...   \n193           19  STIEEQAKTFLDKFNHEAEDLFYQSSLASWNYNTNITEENVQNMNN...   \n194           19  STIEEQAKTFLDKFNHEAEDLFYQSSLASWNYNTNITEENVQNMNN...   \n196           19  STIEEQAKTFLDKFNHEAEDLFYQSSLASWNYNTNITEENVQNMNN...   \n229           19  STIEEQAKTFLDKFNHEAEDLFYQSSLASWNYNTNITEENVQNMNN...   \n295           19  STIEEQAKTFLDKFNHEAEDLFYQSSLASWNYNTNITEENVQNMNN...   \n298           19  STIEEQAKTFLDKFNHEAEDLFYQSSLASWNYNTNITEENVQNMNN...   \n\n     repeated_gen  in_train_data_gen  ddG_latent_pred_rank  \\\n15          False              False               23392.0   \n23          False              False               30450.0   \n26          False              False               19977.0   \n163         False              False               31818.0   \n193         False              False               18975.0   \n194         False              False               14830.0   \n196         False              False               17058.0   \n229         False              False               16765.0   \n295         False              False               12320.0   \n298         False              False               20189.0   \n\n     solubility_latent_pred_rank  avg_latent_head_pred_rank  \n15                       13348.0                    18370.0  \n23                        7680.0                    19065.0  \n26                       18246.0                    19111.5  \n163                      10913.0                    21365.5  \n193                      24612.0                    21793.5  \n194                      28767.0                    21798.5  \n196                      26575.0                    21816.5  \n229                      27518.0                    22141.5  \n295                      33367.0                    22843.5  \n298                      25530.0                    22859.5  ",
      "text/html": "<div>\n<style scoped>\n    .dataframe tbody tr th:only-of-type {\n        vertical-align: middle;\n    }\n\n    .dataframe tbody tr th {\n        vertical-align: top;\n    }\n\n    .dataframe thead th {\n        text-align: right;\n    }\n</style>\n<table border=\"1\" class=\"dataframe\">\n  <thead>\n    <tr style=\"text-align: right;\">\n      <th></th>\n      <th>MT_seq</th>\n      <th>ddG_latent_pred</th>\n      <th>solubility_latent_pred</th>\n      <th>gen_input_seq</th>\n      <th>PDB</th>\n      <th>Chain</th>\n      <th>Start_index</th>\n      <th>WT_seq</th>\n      <th>repeated_gen</th>\n      <th>in_train_data_gen</th>\n      <th>ddG_latent_pred_rank</th>\n      <th>solubility_latent_pred_rank</th>\n      <th>avg_latent_head_pred_rank</th>\n    </tr>\n  </thead>\n  <tbody>\n    <tr>\n      <th>15</th>\n      <td>STIEEQAKIFLDKFNHEAEDIFYQSSLASWNYNTNITEENEQNMNN...</td>\n      <td>-9.580462</td>\n      <td>7.452818</td>\n      <td>STIEEQAKTFLDKFNHEAEDLFYQSSLASWNYNTNITEENEQNMNN...</td>\n      <td>template2.pdb</td>\n      <td>A</td>\n      <td>19</td>\n      <td>STIEEQAKTFLDKFNHEAEDLFYQSSLASWNYNTNITEENVQNMNN...</td>\n      <td>False</td>\n      <td>False</td>\n      <td>23392.0</td>\n      <td>13348.0</td>\n      <td>18370.0</td>\n    </tr>\n    <tr>\n      <th>23</th>\n      <td>STIEEMAKTFLDKFNHEAEDIFYQSSLASWNYNTNITEENVQNMNN...</td>\n      <td>-8.648665</td>\n      <td>8.348221</td>\n      <td>STIEEQAKTFLDKFNHEAEDIFYQSSLASWNYNTNITEENVQNMNN...</td>\n      <td>template2.pdb</td>\n      <td>A</td>\n      <td>19</td>\n      <td>STIEEQAKTFLDKFNHEAEDLFYQSSLASWNYNTNITEENVQNMNN...</td>\n      <td>False</td>\n      <td>False</td>\n      <td>30450.0</td>\n      <td>7680.0</td>\n      <td>19065.0</td>\n    </tr>\n    <tr>\n      <th>26</th>\n      <td>STIEEQAKTFLDKFNHEAEDIFYQSSNASWNYNTNITEENVQNMNN...</td>\n      <td>-10.085117</td>\n      <td>7.083210</td>\n      <td>STIEEQAKTFLDKFNHEAEDLFYQSSHASWNYNTNITEENVQNMNN...</td>\n      <td>template2.pdb</td>\n      <td>A</td>\n      <td>19</td>\n      <td>STIEEQAKTFLDKFNHEAEDLFYQSSLASWNYNTNITEENVQNMNN...</td>\n      <td>False</td>\n      <td>False</td>\n      <td>19977.0</td>\n      <td>18246.0</td>\n      <td>19111.5</td>\n    </tr>\n    <tr>\n      <th>163</th>\n      <td>STIEEQAKTFLDKFNHEAEDFFYQSSLASWNYNTNITEENVQNMNN...</td>\n      <td>-8.480585</td>\n      <td>7.829576</td>\n      <td>STIEEQAKTFLDKFNHEAEDFFYQSSLASWNYNTNITEENVQNMNN...</td>\n      <td>template2.pdb</td>\n      <td>A</td>\n      <td>19</td>\n      <td>STIEEQAKTFLDKFNHEAEDLFYQSSLASWNYNTNITEENVQNMNN...</td>\n      <td>False</td>\n      <td>False</td>\n      <td>31818.0</td>\n      <td>10913.0</td>\n      <td>21365.5</td>\n    </tr>\n    <tr>\n      <th>193</th>\n      <td>SSIEEQAKYFLDKFNHEAEDLFYQSSLASWNYNTNITEENVQNMNN...</td>\n      <td>-10.240438</td>\n      <td>6.648117</td>\n      <td>SSIEEQAKYFLDKFNHEAEDLFYQSSLASWNYNTNITEENVQNMNN...</td>\n      <td>template2.pdb</td>\n      <td>A</td>\n      <td>19</td>\n      <td>STIEEQAKTFLDKFNHEAEDLFYQSSLASWNYNTNITEENVQNMNN...</td>\n      <td>False</td>\n      <td>False</td>\n      <td>18975.0</td>\n      <td>24612.0</td>\n      <td>21793.5</td>\n    </tr>\n    <tr>\n      <th>194</th>\n      <td>STIEEQAKTFLDKFNHEAEDLFYQSSLASWNYNTNITEENVQNMNN...</td>\n      <td>-10.929138</td>\n      <td>6.009204</td>\n      <td>STIEEQAKTFLDKFNHEAEDLFYQSSLASWNYNTNITEENVQNMNN...</td>\n      <td>template2.pdb</td>\n      <td>A</td>\n      <td>19</td>\n      <td>STIEEQAKTFLDKFNHEAEDLFYQSSLASWNYNTNITEENVQNMNN...</td>\n      <td>False</td>\n      <td>False</td>\n      <td>14830.0</td>\n      <td>28767.0</td>\n      <td>21798.5</td>\n    </tr>\n    <tr>\n      <th>196</th>\n      <td>STIEEQAKIFLDKFNHEAEDYFYQSSLASWNYNTNITEENVQNMNN...</td>\n      <td>-10.545261</td>\n      <td>6.414642</td>\n      <td>STIEEQAKIFLDKFNHEAEDRFYQSSLASYNYNTNITEENVQNMNN...</td>\n      <td>template2.pdb</td>\n      <td>A</td>\n      <td>19</td>\n      <td>STIEEQAKTFLDKFNHEAEDLFYQSSLASWNYNTNITEENVQNMNN...</td>\n      <td>False</td>\n      <td>False</td>\n      <td>17058.0</td>\n      <td>26575.0</td>\n      <td>21816.5</td>\n    </tr>\n    <tr>\n      <th>229</th>\n      <td>STIEEQAKIFLDKFNHEAEDFFYVSSNASWNYNTNITEENVQNMNN...</td>\n      <td>-10.594706</td>\n      <td>6.261812</td>\n      <td>STIEEQAKTFLDKFNHEAEDVFYFSSSASWNYNTNITEENVQNMNN...</td>\n      <td>template2.pdb</td>\n      <td>A</td>\n      <td>19</td>\n      <td>STIEEQAKTFLDKFNHEAEDLFYQSSLASWNYNTNITEENVQNMNN...</td>\n      <td>False</td>\n      <td>False</td>\n      <td>16765.0</td>\n      <td>27518.0</td>\n      <td>22141.5</td>\n    </tr>\n    <tr>\n      <th>295</th>\n      <td>STIEEQAKIFLDKFNHEAEDLFYMSSLASWNYNTNITEENVQNMNN...</td>\n      <td>-11.389321</td>\n      <td>5.460168</td>\n      <td>STIEEQAITFLDKFNHEAEDLFYQSSLASWNYNTNITEENVQNMNN...</td>\n      <td>template2.pdb</td>\n      <td>A</td>\n      <td>19</td>\n      <td>STIEEQAKTFLDKFNHEAEDLFYQSSLASWNYNTNITEENVQNMNN...</td>\n      <td>False</td>\n      <td>False</td>\n      <td>12320.0</td>\n      <td>33367.0</td>\n      <td>22843.5</td>\n    </tr>\n    <tr>\n      <th>298</th>\n      <td>STIEEQAKTFLDKFNHEAEDLFYQVMLASWNYNTNITEENVQNMNN...</td>\n      <td>-10.051264</td>\n      <td>6.551439</td>\n      <td>STIEEQAKTFLDKFNHEAEDLFYQSMLASWNYNTNITEENVQNMNN...</td>\n      <td>template2.pdb</td>\n      <td>A</td>\n      <td>19</td>\n      <td>STIEEQAKTFLDKFNHEAEDLFYQSSLASWNYNTNITEENVQNMNN...</td>\n      <td>False</td>\n      <td>False</td>\n      <td>20189.0</td>\n      <td>25530.0</td>\n      <td>22859.5</td>\n    </tr>\n  </tbody>\n</table>\n</div>"
     },
     "execution_count": 108,
     "metadata": {},
     "output_type": "execute_result"
    }
   ],
   "source": [
    "Emin_dict[cols_to_sort[0]][0]"
   ],
   "metadata": {
    "collapsed": false,
    "ExecuteTime": {
     "start_time": "2023-04-28T11:53:24.487864Z",
     "end_time": "2023-04-28T11:53:24.539799Z"
    }
   }
  },
  {
   "cell_type": "code",
   "execution_count": 109,
   "outputs": [],
   "source": [
    "# seqsforEmin_tsv_name = f'{output_dir}/ddG_Emin_df.tsv'\n",
    "# seqsforEmin_tsv_name = f'{output_dir}/solubility_Emin_df.tsv'\n",
    "seqsforEmin_tsv_name = f'{output_dir}/avg_rank_Emin_df.tsv'\n",
    "if before_foldx:\n",
    "    foldx_df.to_csv(seqsforEmin_tsv_name, sep=\"\\t\", index=False)"
   ],
   "metadata": {
    "collapsed": false,
    "ExecuteTime": {
     "start_time": "2023-04-28T11:53:24.489859Z",
     "end_time": "2023-04-28T11:53:24.620880Z"
    }
   }
  },
  {
   "cell_type": "code",
   "execution_count": 110,
   "outputs": [
    {
     "data": {
      "text/plain": "                                                MT_seq  ddG_latent_pred  \\\n0    STIEEQAKIFLDKFNHEAEDIFYQSSLASWNYNTNITEENEQNMNN...        -9.580462   \n1    STIEEMAKTFLDKFNHEAEDIFYQSSLASWNYNTNITEENVQNMNN...        -8.648665   \n2    STIEEQAKTFLDKFNHEAEDIFYQSSNASWNYNTNITEENVQNMNN...       -10.085117   \n3    STIEEQAKTFLDKFNHEAEDFFYQSSLASWNYNTNITEENVQNMNN...        -8.480585   \n4    SSIEEQAKYFLDKFNHEAEDLFYQSSLASWNYNTNITEENVQNMNN...       -10.240438   \n..                                                 ...              ...   \n274  STIEEAAKTFLDKFNHEAEDIFYQSSLTSWNYNTNITEENIQNMNN...        -8.337305   \n275  STIEEQAKTFLDKFNHEAEDLFYQSFLASWIFNTNITEENVQNMNN...       -10.404466   \n276  STIEEQAKTFLDKFNHEAEDIFYQVSLAEWNYNTNITEENVQNMNN...       -10.588065   \n277  STIEEQAKTFLDKFNHEAEDLFYQSSLASWNYNTNITEENWTNMNN...        -9.799937   \n278  STIEEQAKTFLDKFNHEAEDLFYQSMLANWNYNTNITEENVQNMNN...        -9.895275   \n\n     solubility_latent_pred  \\\n0                  7.452818   \n1                  8.348221   \n2                  7.083210   \n3                  7.829576   \n4                  6.648117   \n..                      ...   \n274                7.398304   \n275                6.394461   \n276                5.941116   \n277                6.615335   \n278                6.315716   \n\n                                         gen_input_seq            PDB Chain  \\\n0    STIEEQAKTFLDKFNHEAEDLFYQSSLASWNYNTNITEENEQNMNN...  template2.pdb     A   \n1    STIEEQAKTFLDKFNHEAEDIFYQSSLASWNYNTNITEENVQNMNN...  template2.pdb     A   \n2    STIEEQAKTFLDKFNHEAEDLFYQSSHASWNYNTNITEENVQNMNN...  template2.pdb     A   \n3    STIEEQAKTFLDKFNHEAEDFFYQSSLASWNYNTNITEENVQNMNN...  template2.pdb     A   \n4    SSIEEQAKYFLDKFNHEAEDLFYQSSLASWNYNTNITEENVQNMNN...  template2.pdb     A   \n..                                                 ...            ...   ...   \n274  STIEEQAKTFLDKFNHEAEDIFYQSSLTSWNYNTNITEENVQNMNN...  template2.pdb     A   \n275  STIEEQAKTFLDKFNHEAEDLFYQSFLASWIYNTNITEENVQNMNN...  template2.pdb     A   \n276  STIEEQAKTFLDKFNHEAEDLFYQTSLAEWNYNTNITEENVQNMNN...  template2.pdb     A   \n277  STIEEQAKTFLDKFNHEAEDLFYQSSLASWNYNTNITEENRQNMNN...  template2.pdb     A   \n278  STIEEQAKTFLDKFNHEAEDLFYQSMLANWNYNTNITEENVQNMNN...  template2.pdb     A   \n\n     Start_index                                             WT_seq  \\\n0             19  STIEEQAKTFLDKFNHEAEDLFYQSSLASWNYNTNITEENVQNMNN...   \n1             19  STIEEQAKTFLDKFNHEAEDLFYQSSLASWNYNTNITEENVQNMNN...   \n2             19  STIEEQAKTFLDKFNHEAEDLFYQSSLASWNYNTNITEENVQNMNN...   \n3             19  STIEEQAKTFLDKFNHEAEDLFYQSSLASWNYNTNITEENVQNMNN...   \n4             19  STIEEQAKTFLDKFNHEAEDLFYQSSLASWNYNTNITEENVQNMNN...   \n..           ...                                                ...   \n274           19  STIEEQAKTFLDKFNHEAEDLFYQSSLASWNYNTNITEENVQNMNN...   \n275           19  STIEEQAKTFLDKFNHEAEDLFYQSSLASWNYNTNITEENVQNMNN...   \n276           19  STIEEQAKTFLDKFNHEAEDLFYQSSLASWNYNTNITEENVQNMNN...   \n277           19  STIEEQAKTFLDKFNHEAEDLFYQSSLASWNYNTNITEENVQNMNN...   \n278           19  STIEEQAKTFLDKFNHEAEDLFYQSSLASWNYNTNITEENVQNMNN...   \n\n     repeated_gen  in_train_data_gen  ddG_latent_pred_rank  \\\n0           False              False               23392.0   \n1           False              False               30450.0   \n2           False              False               19977.0   \n3           False              False               31818.0   \n4           False              False               18975.0   \n..            ...                ...                   ...   \n274         False              False               33106.0   \n275         False              False               17943.0   \n276         False              False               16798.0   \n277         False              False               21886.0   \n278         False              False               21227.0   \n\n     solubility_latent_pred_rank  avg_latent_head_pred_rank  \n0                        13348.0                    18370.0  \n1                         7680.0                    19065.0  \n2                        18246.0                    19111.5  \n3                        10913.0                    21365.5  \n4                        24612.0                    21793.5  \n..                           ...                        ...  \n274                      13850.0                    23478.0  \n275                      26697.0                    22320.0  \n276                      29064.0                    22931.0  \n277                      24929.0                    23407.5  \n278                      27192.0                    24209.5  \n\n[279 rows x 13 columns]",
      "text/html": "<div>\n<style scoped>\n    .dataframe tbody tr th:only-of-type {\n        vertical-align: middle;\n    }\n\n    .dataframe tbody tr th {\n        vertical-align: top;\n    }\n\n    .dataframe thead th {\n        text-align: right;\n    }\n</style>\n<table border=\"1\" class=\"dataframe\">\n  <thead>\n    <tr style=\"text-align: right;\">\n      <th></th>\n      <th>MT_seq</th>\n      <th>ddG_latent_pred</th>\n      <th>solubility_latent_pred</th>\n      <th>gen_input_seq</th>\n      <th>PDB</th>\n      <th>Chain</th>\n      <th>Start_index</th>\n      <th>WT_seq</th>\n      <th>repeated_gen</th>\n      <th>in_train_data_gen</th>\n      <th>ddG_latent_pred_rank</th>\n      <th>solubility_latent_pred_rank</th>\n      <th>avg_latent_head_pred_rank</th>\n    </tr>\n  </thead>\n  <tbody>\n    <tr>\n      <th>0</th>\n      <td>STIEEQAKIFLDKFNHEAEDIFYQSSLASWNYNTNITEENEQNMNN...</td>\n      <td>-9.580462</td>\n      <td>7.452818</td>\n      <td>STIEEQAKTFLDKFNHEAEDLFYQSSLASWNYNTNITEENEQNMNN...</td>\n      <td>template2.pdb</td>\n      <td>A</td>\n      <td>19</td>\n      <td>STIEEQAKTFLDKFNHEAEDLFYQSSLASWNYNTNITEENVQNMNN...</td>\n      <td>False</td>\n      <td>False</td>\n      <td>23392.0</td>\n      <td>13348.0</td>\n      <td>18370.0</td>\n    </tr>\n    <tr>\n      <th>1</th>\n      <td>STIEEMAKTFLDKFNHEAEDIFYQSSLASWNYNTNITEENVQNMNN...</td>\n      <td>-8.648665</td>\n      <td>8.348221</td>\n      <td>STIEEQAKTFLDKFNHEAEDIFYQSSLASWNYNTNITEENVQNMNN...</td>\n      <td>template2.pdb</td>\n      <td>A</td>\n      <td>19</td>\n      <td>STIEEQAKTFLDKFNHEAEDLFYQSSLASWNYNTNITEENVQNMNN...</td>\n      <td>False</td>\n      <td>False</td>\n      <td>30450.0</td>\n      <td>7680.0</td>\n      <td>19065.0</td>\n    </tr>\n    <tr>\n      <th>2</th>\n      <td>STIEEQAKTFLDKFNHEAEDIFYQSSNASWNYNTNITEENVQNMNN...</td>\n      <td>-10.085117</td>\n      <td>7.083210</td>\n      <td>STIEEQAKTFLDKFNHEAEDLFYQSSHASWNYNTNITEENVQNMNN...</td>\n      <td>template2.pdb</td>\n      <td>A</td>\n      <td>19</td>\n      <td>STIEEQAKTFLDKFNHEAEDLFYQSSLASWNYNTNITEENVQNMNN...</td>\n      <td>False</td>\n      <td>False</td>\n      <td>19977.0</td>\n      <td>18246.0</td>\n      <td>19111.5</td>\n    </tr>\n    <tr>\n      <th>3</th>\n      <td>STIEEQAKTFLDKFNHEAEDFFYQSSLASWNYNTNITEENVQNMNN...</td>\n      <td>-8.480585</td>\n      <td>7.829576</td>\n      <td>STIEEQAKTFLDKFNHEAEDFFYQSSLASWNYNTNITEENVQNMNN...</td>\n      <td>template2.pdb</td>\n      <td>A</td>\n      <td>19</td>\n      <td>STIEEQAKTFLDKFNHEAEDLFYQSSLASWNYNTNITEENVQNMNN...</td>\n      <td>False</td>\n      <td>False</td>\n      <td>31818.0</td>\n      <td>10913.0</td>\n      <td>21365.5</td>\n    </tr>\n    <tr>\n      <th>4</th>\n      <td>SSIEEQAKYFLDKFNHEAEDLFYQSSLASWNYNTNITEENVQNMNN...</td>\n      <td>-10.240438</td>\n      <td>6.648117</td>\n      <td>SSIEEQAKYFLDKFNHEAEDLFYQSSLASWNYNTNITEENVQNMNN...</td>\n      <td>template2.pdb</td>\n      <td>A</td>\n      <td>19</td>\n      <td>STIEEQAKTFLDKFNHEAEDLFYQSSLASWNYNTNITEENVQNMNN...</td>\n      <td>False</td>\n      <td>False</td>\n      <td>18975.0</td>\n      <td>24612.0</td>\n      <td>21793.5</td>\n    </tr>\n    <tr>\n      <th>...</th>\n      <td>...</td>\n      <td>...</td>\n      <td>...</td>\n      <td>...</td>\n      <td>...</td>\n      <td>...</td>\n      <td>...</td>\n      <td>...</td>\n      <td>...</td>\n      <td>...</td>\n      <td>...</td>\n      <td>...</td>\n      <td>...</td>\n    </tr>\n    <tr>\n      <th>274</th>\n      <td>STIEEAAKTFLDKFNHEAEDIFYQSSLTSWNYNTNITEENIQNMNN...</td>\n      <td>-8.337305</td>\n      <td>7.398304</td>\n      <td>STIEEQAKTFLDKFNHEAEDIFYQSSLTSWNYNTNITEENVQNMNN...</td>\n      <td>template2.pdb</td>\n      <td>A</td>\n      <td>19</td>\n      <td>STIEEQAKTFLDKFNHEAEDLFYQSSLASWNYNTNITEENVQNMNN...</td>\n      <td>False</td>\n      <td>False</td>\n      <td>33106.0</td>\n      <td>13850.0</td>\n      <td>23478.0</td>\n    </tr>\n    <tr>\n      <th>275</th>\n      <td>STIEEQAKTFLDKFNHEAEDLFYQSFLASWIFNTNITEENVQNMNN...</td>\n      <td>-10.404466</td>\n      <td>6.394461</td>\n      <td>STIEEQAKTFLDKFNHEAEDLFYQSFLASWIYNTNITEENVQNMNN...</td>\n      <td>template2.pdb</td>\n      <td>A</td>\n      <td>19</td>\n      <td>STIEEQAKTFLDKFNHEAEDLFYQSSLASWNYNTNITEENVQNMNN...</td>\n      <td>False</td>\n      <td>False</td>\n      <td>17943.0</td>\n      <td>26697.0</td>\n      <td>22320.0</td>\n    </tr>\n    <tr>\n      <th>276</th>\n      <td>STIEEQAKTFLDKFNHEAEDIFYQVSLAEWNYNTNITEENVQNMNN...</td>\n      <td>-10.588065</td>\n      <td>5.941116</td>\n      <td>STIEEQAKTFLDKFNHEAEDLFYQTSLAEWNYNTNITEENVQNMNN...</td>\n      <td>template2.pdb</td>\n      <td>A</td>\n      <td>19</td>\n      <td>STIEEQAKTFLDKFNHEAEDLFYQSSLASWNYNTNITEENVQNMNN...</td>\n      <td>False</td>\n      <td>False</td>\n      <td>16798.0</td>\n      <td>29064.0</td>\n      <td>22931.0</td>\n    </tr>\n    <tr>\n      <th>277</th>\n      <td>STIEEQAKTFLDKFNHEAEDLFYQSSLASWNYNTNITEENWTNMNN...</td>\n      <td>-9.799937</td>\n      <td>6.615335</td>\n      <td>STIEEQAKTFLDKFNHEAEDLFYQSSLASWNYNTNITEENRQNMNN...</td>\n      <td>template2.pdb</td>\n      <td>A</td>\n      <td>19</td>\n      <td>STIEEQAKTFLDKFNHEAEDLFYQSSLASWNYNTNITEENVQNMNN...</td>\n      <td>False</td>\n      <td>False</td>\n      <td>21886.0</td>\n      <td>24929.0</td>\n      <td>23407.5</td>\n    </tr>\n    <tr>\n      <th>278</th>\n      <td>STIEEQAKTFLDKFNHEAEDLFYQSMLANWNYNTNITEENVQNMNN...</td>\n      <td>-9.895275</td>\n      <td>6.315716</td>\n      <td>STIEEQAKTFLDKFNHEAEDLFYQSMLANWNYNTNITEENVQNMNN...</td>\n      <td>template2.pdb</td>\n      <td>A</td>\n      <td>19</td>\n      <td>STIEEQAKTFLDKFNHEAEDLFYQSSLASWNYNTNITEENVQNMNN...</td>\n      <td>False</td>\n      <td>False</td>\n      <td>21227.0</td>\n      <td>27192.0</td>\n      <td>24209.5</td>\n    </tr>\n  </tbody>\n</table>\n<p>279 rows × 13 columns</p>\n</div>"
     },
     "execution_count": 110,
     "metadata": {},
     "output_type": "execute_result"
    }
   ],
   "source": [
    "Emin_df = pd.read_csv(seqsforEmin_tsv_name, sep=\"\\t\")\n",
    "Emin_df"
   ],
   "metadata": {
    "collapsed": false,
    "ExecuteTime": {
     "start_time": "2023-04-28T11:53:24.597882Z",
     "end_time": "2023-04-28T11:53:24.620880Z"
    }
   }
  },
  {
   "cell_type": "code",
   "execution_count": 110,
   "outputs": [],
   "source": [],
   "metadata": {
    "collapsed": false,
    "ExecuteTime": {
     "start_time": "2023-04-28T11:53:24.597882Z",
     "end_time": "2023-04-28T11:53:24.620880Z"
    }
   }
  },
  {
   "cell_type": "code",
   "execution_count": 110,
   "outputs": [],
   "source": [],
   "metadata": {
    "collapsed": false,
    "ExecuteTime": {
     "start_time": "2023-04-28T11:53:24.669874Z",
     "end_time": "2023-04-28T11:53:24.696797Z"
    }
   }
  },
  {
   "cell_type": "code",
   "execution_count": 104,
   "outputs": [],
   "source": [],
   "metadata": {
    "collapsed": false,
    "ExecuteTime": {
     "start_time": "2023-04-28T11:43:26.735304Z",
     "end_time": "2023-04-28T11:43:26.778313Z"
    }
   }
  },
  {
   "cell_type": "code",
   "execution_count": 50,
   "outputs": [],
   "source": [],
   "metadata": {
    "collapsed": false,
    "ExecuteTime": {
     "start_time": "2023-04-27T16:37:30.567151Z",
     "end_time": "2023-04-27T16:37:30.640983Z"
    }
   }
  },
  {
   "cell_type": "code",
   "execution_count": 50,
   "outputs": [],
   "source": [],
   "metadata": {
    "collapsed": false,
    "ExecuteTime": {
     "start_time": "2023-04-27T16:37:30.567151Z",
     "end_time": "2023-04-27T16:37:30.640983Z"
    }
   }
  },
  {
   "cell_type": "code",
   "execution_count": 50,
   "outputs": [],
   "source": [],
   "metadata": {
    "collapsed": false,
    "ExecuteTime": {
     "start_time": "2023-04-27T16:37:30.567151Z",
     "end_time": "2023-04-27T16:37:30.640983Z"
    }
   }
  },
  {
   "cell_type": "code",
   "execution_count": 50,
   "outputs": [],
   "source": [],
   "metadata": {
    "collapsed": false,
    "ExecuteTime": {
     "start_time": "2023-04-27T16:37:30.567151Z",
     "end_time": "2023-04-27T16:37:30.640983Z"
    }
   }
  },
  {
   "cell_type": "code",
   "execution_count": 50,
   "outputs": [],
   "source": [],
   "metadata": {
    "collapsed": false,
    "ExecuteTime": {
     "start_time": "2023-04-27T16:37:30.568183Z",
     "end_time": "2023-04-27T16:37:30.640983Z"
    }
   }
  },
  {
   "cell_type": "code",
   "execution_count": 50,
   "outputs": [],
   "source": [],
   "metadata": {
    "collapsed": false,
    "ExecuteTime": {
     "start_time": "2023-04-27T16:37:30.568183Z",
     "end_time": "2023-04-27T16:37:30.640983Z"
    }
   }
  },
  {
   "cell_type": "code",
   "execution_count": 50,
   "outputs": [],
   "source": [],
   "metadata": {
    "collapsed": false,
    "ExecuteTime": {
     "start_time": "2023-04-27T16:37:30.568183Z",
     "end_time": "2023-04-27T16:37:30.640983Z"
    }
   }
  },
  {
   "cell_type": "code",
   "execution_count": 50,
   "outputs": [],
   "source": [],
   "metadata": {
    "collapsed": false,
    "ExecuteTime": {
     "start_time": "2023-04-27T16:37:30.569210Z",
     "end_time": "2023-04-27T16:37:30.640983Z"
    }
   }
  },
  {
   "cell_type": "code",
   "execution_count": 50,
   "outputs": [],
   "source": [],
   "metadata": {
    "collapsed": false,
    "ExecuteTime": {
     "start_time": "2023-04-27T16:37:30.569210Z",
     "end_time": "2023-04-27T16:37:30.640983Z"
    }
   }
  }
 ],
 "metadata": {
  "kernelspec": {
   "display_name": "Python 3",
   "language": "python",
   "name": "python3"
  },
  "language_info": {
   "codemirror_mode": {
    "name": "ipython",
    "version": 3
   },
   "file_extension": ".py",
   "mimetype": "text/x-python",
   "name": "python",
   "nbconvert_exporter": "python",
   "pygments_lexer": "ipython3",
   "version": "3.8.5"
  }
 },
 "nbformat": 4,
 "nbformat_minor": 5
}
