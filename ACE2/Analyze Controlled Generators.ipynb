{
 "cells": [
  {
   "cell_type": "code",
   "execution_count": 1,
   "outputs": [
    {
     "name": "stdout",
     "output_type": "stream",
     "text": [
      "/home/hew/python/genhance\n",
      "\u001B[0m\u001B[01;34mACE2\u001B[0m/  \u001B[01;34mdata\u001B[0m/  \u001B[01;34mdebug\u001B[0m/  \u001B[01;34moutput\u001B[0m/  \u001B[01;34mtemp\u001B[0m/  \u001B[01;34mtensorboard\u001B[0m/  \u001B[01;34mtransformers_custom\u001B[0m/\r\n"
     ]
    }
   ],
   "source": [
    "%load_ext autoreload\n",
    "%autoreload 2\n",
    "%cd '/home/hew/python/genhance/'\n",
    "%ls"
   ],
   "metadata": {
    "collapsed": false,
    "ExecuteTime": {
     "start_time": "2023-04-25T22:26:28.265924Z",
     "end_time": "2023-04-25T22:26:28.393238Z"
    }
   }
  },
  {
   "cell_type": "code",
   "execution_count": 2,
   "outputs": [
    {
     "name": "stdout",
     "output_type": "stream",
     "text": [
      "Tue Apr 25 19:26:28 2023       \r\n",
      "+-----------------------------------------------------------------------------+\r\n",
      "| NVIDIA-SMI 525.85.12    Driver Version: 525.85.12    CUDA Version: 12.0     |\r\n",
      "|-------------------------------+----------------------+----------------------+\r\n",
      "| GPU  Name        Persistence-M| Bus-Id        Disp.A | Volatile Uncorr. ECC |\r\n",
      "| Fan  Temp  Perf  Pwr:Usage/Cap|         Memory-Usage | GPU-Util  Compute M. |\r\n",
      "|                               |                      |               MIG M. |\r\n",
      "|===============================+======================+======================|\r\n",
      "|   0  NVIDIA A100-SXM...  Off  | 00000000:00:05.0 Off |                    0 |\r\n",
      "| N/A   51C    P0    97W / 400W |  48962MiB / 81920MiB |     51%      Default |\r\n",
      "|                               |                      |             Disabled |\r\n",
      "+-------------------------------+----------------------+----------------------+\r\n",
      "|   1  NVIDIA A100-SXM...  Off  | 00000000:00:06.0 Off |                    0 |\r\n",
      "| N/A   63C    P0   346W / 400W |  47816MiB / 81920MiB |     47%      Default |\r\n",
      "|                               |                      |             Disabled |\r\n",
      "+-------------------------------+----------------------+----------------------+\r\n",
      "                                                                               \r\n",
      "+-----------------------------------------------------------------------------+\r\n",
      "| Processes:                                                                  |\r\n",
      "|  GPU   GI   CI        PID   Type   Process name                  GPU Memory |\r\n",
      "|        ID   ID                                                   Usage      |\r\n",
      "|=============================================================================|\r\n",
      "|    0   N/A  N/A      8283      C   .../envs/genhance/bin/python    30316MiB |\r\n",
      "|    0   N/A  N/A     18760      C   .../envs/genhance/bin/python    18642MiB |\r\n",
      "|    1   N/A  N/A      8283      C   .../envs/genhance/bin/python    29498MiB |\r\n",
      "|    1   N/A  N/A     18760      C   .../envs/genhance/bin/python    18314MiB |\r\n",
      "+-----------------------------------------------------------------------------+\r\n"
     ]
    }
   ],
   "source": [
    "!nvidia-smi"
   ],
   "metadata": {
    "collapsed": false,
    "ExecuteTime": {
     "start_time": "2023-04-25T22:26:28.395238Z",
     "end_time": "2023-04-25T22:26:28.973267Z"
    }
   }
  },
  {
   "cell_type": "code",
   "execution_count": 3,
   "id": "aquatic-space",
   "metadata": {
    "ExecuteTime": {
     "start_time": "2023-04-25T22:26:28.975265Z",
     "end_time": "2023-04-25T22:26:30.660694Z"
    }
   },
   "outputs": [],
   "source": [
    "import re\n",
    "import os\n",
    "import torch\n",
    "import numpy as np\n",
    "import random\n",
    "import scipy\n",
    "import pandas as pd\n",
    "import typing\n",
    "import matplotlib.pyplot as plt\n",
    "from transformers import T5Tokenizer\n",
    "from transformers_custom import MT5ForConditionalGenerationWithLatentSpace\n",
    "from torch.utils.data import DataLoader, Dataset\n",
    "from pathlib import Path\n",
    "from tqdm import tqdm"
   ]
  },
  {
   "cell_type": "code",
   "execution_count": 4,
   "id": "clinical-advancement",
   "metadata": {
    "ExecuteTime": {
     "start_time": "2023-04-25T22:26:49.142980Z",
     "end_time": "2023-04-25T22:26:49.161893Z"
    }
   },
   "outputs": [],
   "source": [
    "data_dir = \"/home/hew/storage/storage/genhance/data\"\n",
    "# congen_name = 'congen2'\n",
    "# congen_name = 'congen8_new_ddG_6_layer'\n",
    "congen_name = 'congen9_new_solubility_6_layer'\n",
    "# step_name = 42000\n",
    "# pretrained_dir = f\"/home/hew/storage/storage/genhance/ckpts/{congen_name}/results/step_{step_name}\"\n",
    "pretrained_dir = f\"/home/hew/storage/storage/genhance/ckpts/{congen_name}/results/\"\n",
    "cache_dir = '/home/hew/storage/storage/genhance/pretrained/'"
   ]
  },
  {
   "cell_type": "code",
   "execution_count": 5,
   "outputs": [
    {
     "name": "stdout",
     "output_type": "stream",
     "text": [
      "ckpt_args.property:  solubility\n",
      "ckpt_args.z_tar_vector_dim:  1\n",
      "ckpt_args.num_layers:  6\n",
      "ckpt_args.num_decoder_layers:  6\n"
     ]
    },
    {
     "data": {
      "text/plain": "Namespace(beta=1.0, beta_ratio_increase=0.25, beta_ratio_zero=0.25, beta_start_step=50000, cache_dir='/home/hew/storage/storage/genhance/pretrained/', contrastive_cyc_start_step=50000, contrastive_perturb_cyc_start_step=-1, cuda_device='0,1', data_dir='/home/hew/storage/storage/genhance/data/', datafile='train_new_tophalf_solubility.pkl', dim_target_kl=0.5, do_mi=False, eval_split_name='valid', eval_steps=500, lambda_contrastive=1.0, lambda_contrastive_cyc=1.0, lambda_contrastive_perturb_cyc=0.0, lambda_logvar_KL=0.0, lambda_logvar_L1=0.0, lambda_mi_head_loss=1.0, latent_pooler='cls', latent_size=1024, latent_space_type='wae', logging_dir='/home/hew/python/genhance/tensorboard/congen9_new_solubility_6_layer', logging_steps=20, lr=0.0001, mask_non_target_z_vector=False, mmd_method='rf', num_decoder_layers=6, num_layers=6, num_train_epochs=30, num_warmup_steps=0, output_dir='/home/hew/storage/storage/genhance/ckpts/congen9_new_solubility_6_layer/results/', pc_perturb=-0.25, pc_perturb_type='std', per_device_eval_batch_size=128, per_device_train_batch_size=32, pool_enc_hidden_states_for_dec=True, pretrained_dir='/home/hew/storage/storage/genhance/pretrained/', property='solubility', rf_dim_mmd=None, save_steps=1000, save_total_limit=30, seed=42, separate_latent_dec=False, separate_latent_enc=False, separate_targetattr_head=False, sigma_mmd=None, src_json='/home/hew/python/genhance/temp/config.json', train_ratio=0.9, train_split_name='train', use_beta_schedule=False, wae_z_enc_type='deterministic', warmup_steps=500, weight_decay=0.01, z_tar_vector_dim=1)"
     },
     "execution_count": 5,
     "metadata": {},
     "output_type": "execute_result"
    }
   ],
   "source": [
    "ckpt_args = torch.load(pretrained_dir + '/training_args.bin')\n",
    "print('ckpt_args.property: ', ckpt_args.property)\n",
    "ckpt_args.z_tar_vector_dim = 2 if ckpt_args.property == 'ddG_solubility' else 1\n",
    "print('ckpt_args.z_tar_vector_dim: ', ckpt_args.z_tar_vector_dim)\n",
    "print('ckpt_args.num_layers: ', ckpt_args.num_layers)\n",
    "print('ckpt_args.num_decoder_layers: ', ckpt_args.num_decoder_layers)\n",
    "ckpt_args"
   ],
   "metadata": {
    "collapsed": false,
    "ExecuteTime": {
     "start_time": "2023-04-25T22:26:54.304246Z",
     "end_time": "2023-04-25T22:26:54.329879Z"
    }
   }
  },
  {
   "cell_type": "code",
   "execution_count": 6,
   "id": "opponent-vehicle",
   "metadata": {
    "ExecuteTime": {
     "start_time": "2023-04-25T22:26:58.056651Z",
     "end_time": "2023-04-25T22:26:58.225017Z"
    }
   },
   "outputs": [],
   "source": [
    "np.random.seed(ckpt_args.seed)\n",
    "random.seed(ckpt_args.seed)\n",
    "torch.manual_seed(ckpt_args.seed)\n",
    "\n",
    "tokenizer = T5Tokenizer.from_pretrained(\"Rostlab/prot_t5_xl_uniref50\", cache_dir=ckpt_args.cache_dir)\n",
    "tokenizer.add_special_tokens({\"cls_token\": \"<cls>\"})\n",
    "assert tokenizer.cls_token == \"<cls>\"\n",
    "\n",
    "# os.environ['CUDA_VISIBLE_DEVICES'] = '0,1'"
   ]
  },
  {
   "cell_type": "code",
   "execution_count": 7,
   "id": "engaged-soldier",
   "metadata": {
    "ExecuteTime": {
     "start_time": "2023-04-25T22:26:59.190966Z",
     "end_time": "2023-04-25T22:27:28.204330Z"
    }
   },
   "outputs": [
    {
     "name": "stdout",
     "output_type": "stream",
     "text": [
      "==================== T5 Model T5ForConditionalGenerationWithLatentSpace Initialization start ====================\n",
      "========== Initialize T5ForConditionalGenerationWithLatentSpace ==========\n",
      "latent_space_type:  wae\n",
      "wae_z_enc_type:  deterministic\n",
      "separate_latent_enc:  False\n",
      "separate_latent_dec:  False\n",
      "mmd_method:  rf\n",
      "sigma_mmd:  None\n",
      "rf_dim_mmd:  None\n",
      "dim_target_kl:  0.5\n",
      "latent_size:  1024\n",
      "latent_pooler:  cls\n",
      "pool_enc_hidden_states_for_dec:  True\n",
      "mask_non_target_z_vector:  False\n",
      "separate_targetattr_head:  False\n",
      "do_mi:  False\n",
      "========== Initialize T5ForConditionalGenerationWithLatentSpace ==========\n",
      "==================== T5 Model T5ForConditionalGenerationWithLatentSpace Initialization end ====================\n",
      "CPU times: user 25.5 s, sys: 4.61 s, total: 30.1 s\n",
      "Wall time: 29 s\n"
     ]
    },
    {
     "data": {
      "text/plain": "Embedding(129, 1024)"
     },
     "execution_count": 7,
     "metadata": {},
     "output_type": "execute_result"
    }
   ],
   "source": [
    "%%time\n",
    "latent_space_args = {\n",
    "    'latent_pooler'                 : ckpt_args.latent_pooler,\n",
    "    'pool_enc_hidden_states_for_dec': ckpt_args.pool_enc_hidden_states_for_dec,\n",
    "    'latent_space_type'             : ckpt_args.latent_space_type,\n",
    "    'mask_non_target_z_vector'      : ckpt_args.mask_non_target_z_vector,\n",
    "    'separate_targetattr_head'      : ckpt_args.separate_targetattr_head,\n",
    "    'z_tar_vector_dim'              : ckpt_args.z_tar_vector_dim,\n",
    "    'do_mi'                         : ckpt_args.do_mi,\n",
    "    'latent_size'                   : ckpt_args.latent_size,\n",
    "    'wae_z_enc_type'                : ckpt_args.wae_z_enc_type,\n",
    "    'separate_latent_enc'           : ckpt_args.separate_latent_enc,\n",
    "    'separate_latent_dec'           : ckpt_args.separate_latent_dec,\n",
    "    }\n",
    "\n",
    "model = MT5ForConditionalGenerationWithLatentSpace.from_pretrained(pretrained_dir,\n",
    "                                                                   cache_dir=ckpt_args.cache_dir,\n",
    "                                                                   num_layers=ckpt_args.num_layers,\n",
    "                                                                   num_decoder_layers=ckpt_args.num_decoder_layers,\n",
    "                                                                   **latent_space_args)\n",
    "model.parallelize()\n",
    "model.resize_token_embeddings(len(tokenizer))"
   ]
  },
  {
   "cell_type": "code",
   "execution_count": 8,
   "outputs": [
    {
     "data": {
      "text/plain": "device(type='cuda', index=0)"
     },
     "execution_count": 8,
     "metadata": {},
     "output_type": "execute_result"
    }
   ],
   "source": [
    "model.device"
   ],
   "metadata": {
    "collapsed": false,
    "ExecuteTime": {
     "start_time": "2023-04-25T22:27:28.206330Z",
     "end_time": "2023-04-25T22:27:28.229993Z"
    }
   }
  },
  {
   "cell_type": "code",
   "execution_count": 8,
   "outputs": [],
   "source": [],
   "metadata": {
    "collapsed": false,
    "ExecuteTime": {
     "start_time": "2023-04-22T12:29:20.470532Z",
     "end_time": "2023-04-22T12:29:20.471574Z"
    }
   }
  },
  {
   "cell_type": "markdown",
   "id": "third-diameter",
   "metadata": {},
   "source": [
    "# Evaluate Generator's ddG predictions"
   ]
  },
  {
   "cell_type": "code",
   "execution_count": 9,
   "id": "apart-bahrain",
   "metadata": {
    "ExecuteTime": {
     "start_time": "2023-04-25T22:27:36.622998Z",
     "end_time": "2023-04-25T22:27:36.640020Z"
    }
   },
   "outputs": [],
   "source": [
    "train_ratio = 0.9\n",
    "\n",
    "# 80GB*1 6 layers\n",
    "# per_device_train_batch_size = 1200\n",
    "# per_device_eval_batch_size = 1200\n",
    "\n",
    "# 80GB*2 24 layers\n",
    "per_device_train_batch_size = 800\n",
    "per_device_eval_batch_size = 800"
   ]
  },
  {
   "cell_type": "code",
   "execution_count": 10,
   "id": "revised-african",
   "metadata": {
    "ExecuteTime": {
     "start_time": "2023-04-25T22:27:37.525428Z",
     "end_time": "2023-04-25T22:27:37.568568Z"
    }
   },
   "outputs": [],
   "source": [
    "class PKLDFDatasetForGen(Dataset):\n",
    "    def __init__(\n",
    "            self,\n",
    "            data_file: typing.Union[str, Path],\n",
    "            in_memory: bool = False,\n",
    "            split: str = 'train',\n",
    "            train_ratio: float = 1,\n",
    "            data_subset='full'\n",
    "            ):\n",
    "\n",
    "        data_file = Path(data_file)\n",
    "        if not data_file.exists():\n",
    "            raise FileNotFoundError(data_file)\n",
    "\n",
    "        df = pd.read_pickle(data_file)\n",
    "\n",
    "        if train_ratio != 1:\n",
    "            shuffled_df = df.sort_index()\n",
    "            train_num_samples = int(len(shuffled_df)*train_ratio)\n",
    "            if split == 'train':\n",
    "                final_df = shuffled_df.iloc[:train_num_samples]\n",
    "            elif split == 'valid':\n",
    "                final_df = shuffled_df.iloc[train_num_samples:]\n",
    "            else:\n",
    "                final_df = df\n",
    "        else:\n",
    "            final_df = df\n",
    "\n",
    "        # split into subset if not full training set\n",
    "        if data_subset != 'full':\n",
    "            ddG_sorted_final_df = final_df.sort_values(by='ddG', ascending=True)\n",
    "            train_subset_num_samples = int(data_subset*len(ddG_sorted_final_df))\n",
    "            final_df = ddG_sorted_final_df.iloc[:train_subset_num_samples]\n",
    "\n",
    "        print(\"split: \", split)\n",
    "        print(\"data_file: \", data_file)\n",
    "        print(\"len(final_df): \", len(final_df))\n",
    "\n",
    "        self.df = final_df\n",
    "        num_examples = len(final_df)\n",
    "        self._num_examples = num_examples\n",
    "\n",
    "        if in_memory:\n",
    "            cache = [None]*num_examples\n",
    "            self._cache = cache\n",
    "\n",
    "        self._in_memory = in_memory\n",
    "\n",
    "    def __len__(self) -> int:\n",
    "        return self._num_examples\n",
    "\n",
    "    def __getitem__(self, index: int):\n",
    "        if not 0 <= index < self._num_examples:\n",
    "            raise IndexError(index)\n",
    "\n",
    "        if self._in_memory and self._cache[index] is not None:\n",
    "            item = self._cache[index]\n",
    "        else:\n",
    "            row = self.df.iloc[index]\n",
    "            item = {}\n",
    "            item['ddG'] = row['ddG']\n",
    "            item['solubility'] = row['solubility']\n",
    "            item['input_ids'] = row['MT_seq']\n",
    "            item['labels'] = row['MT_seq']\n",
    "            item['id'] = str(index)\n",
    "            if self._in_memory:\n",
    "                self._cache[index] = item\n",
    "\n",
    "        return item\n",
    "\n",
    "\n",
    "class CustomStabilityDatasetForGenLatentSpace(Dataset):\n",
    "    def __init__(\n",
    "            self,\n",
    "            data_path: typing.Union[str, Path],\n",
    "            split: str,\n",
    "            tokenizer,\n",
    "            in_memory: bool = False,\n",
    "            train_ratio: float = 1,\n",
    "            ):\n",
    "\n",
    "        self.tokenizer = tokenizer\n",
    "\n",
    "        if split == 'valid':\n",
    "            file_prefix = 'train'\n",
    "        else:\n",
    "            file_prefix = split\n",
    "\n",
    "        data_path = Path(data_path)\n",
    "        # data_file = f'{file_prefix}_new_tophalf_ddG_solubility.pkl'  # tophalf\n",
    "        data_file = f'{file_prefix}_new_tophalf_ddG.pkl'  # tophalf\n",
    "        self.data = PKLDFDatasetForGen(data_path/data_file, in_memory, split, train_ratio, data_subset='full')\n",
    "\n",
    "    def __len__(self) -> int:\n",
    "        return len(self.data)\n",
    "\n",
    "    def __getitem__(self, index: int):\n",
    "        item = self.data[index]\n",
    "        input_ids = item['input_ids']\n",
    "        labels = item['labels']\n",
    "        if ckpt_args.property == 'ddG':\n",
    "            ddG = item['ddG']\n",
    "            solubility = None\n",
    "        elif ckpt_args.property == 'solubility':\n",
    "            ddG = None\n",
    "            solubility = item['solubility']\n",
    "        elif ckpt_args.property == 'ddG_solubility':\n",
    "            ddG = item['ddG']\n",
    "            solubility = item['solubility']\n",
    "        return input_ids, labels, ddG, solubility\n",
    "\n",
    "    def collate_fn(self, batch: typing.List[typing.Tuple[typing.Any, ...]]) -> typing.Dict[str, torch.Tensor]:\n",
    "        input_ids, labels, ddG, solubility = tuple(zip(*batch))\n",
    "        prefix = \"<cls> \"\n",
    "        input_ids = [prefix + \" \".join(list(re.sub(r\"[UZOB]\", \"X\", sequence))) for sequence in input_ids]\n",
    "        labels = [prefix + \" \".join(list(re.sub(r\"[UZOB]\", \"X\", sequence))) for sequence in labels]\n",
    "        input_ids = self.tokenizer.batch_encode_plus(input_ids, add_special_tokens=True, padding=\"longest\", return_tensors='pt')[\n",
    "            'input_ids']\n",
    "        labels = self.tokenizer.batch_encode_plus(labels, add_special_tokens=True, padding=\"longest\", return_tensors='pt')['input_ids']\n",
    "        ddG = torch.Tensor(ddG) if None not in ddG else None\n",
    "        solubility = torch.Tensor(solubility) if None not in solubility else None\n",
    "        return {\n",
    "            'input_ids' : input_ids,\n",
    "            'labels'    : labels,\n",
    "            'ddG'       : ddG,\n",
    "            'solubility': solubility\n",
    "            }"
   ]
  },
  {
   "cell_type": "code",
   "execution_count": 11,
   "id": "invalid-consolidation",
   "metadata": {
    "ExecuteTime": {
     "start_time": "2023-04-25T22:27:38.667770Z",
     "end_time": "2023-04-25T22:27:38.845438Z"
    }
   },
   "outputs": [
    {
     "name": "stdout",
     "output_type": "stream",
     "text": [
      "split:  train\n",
      "data_file:  /home/hew/storage/storage/genhance/data/train_new_tophalf_ddG.pkl\n",
      "len(final_df):  112500\n",
      "split:  valid\n",
      "data_file:  /home/hew/storage/storage/genhance/data/train_new_tophalf_ddG.pkl\n",
      "len(final_df):  12500\n"
     ]
    }
   ],
   "source": [
    "train_dataset = CustomStabilityDatasetForGenLatentSpace(data_dir, 'train', train_ratio=train_ratio, tokenizer=tokenizer)\n",
    "eval_dataset = CustomStabilityDatasetForGenLatentSpace(data_dir, 'valid', train_ratio=train_ratio, tokenizer=tokenizer)\n",
    "\n",
    "# Train data set-up\n",
    "train_loader = DataLoader(train_dataset, batch_size=per_device_train_batch_size, shuffle=True,\n",
    "                          num_workers=0, collate_fn=train_dataset.collate_fn)\n",
    "# Eval data set-up\n",
    "eval_loader = DataLoader(eval_dataset, batch_size=per_device_eval_batch_size, shuffle=False,\n",
    "                         num_workers=0, collate_fn=train_dataset.collate_fn)"
   ]
  },
  {
   "cell_type": "code",
   "execution_count": 12,
   "id": "extended-recipe",
   "metadata": {
    "ExecuteTime": {
     "start_time": "2023-04-25T22:27:42.042040Z",
     "end_time": "2023-04-25T22:27:42.061009Z"
    }
   },
   "outputs": [],
   "source": [
    "def spearmanr(target, prediction):\n",
    "    target_array = np.asarray(target)\n",
    "    prediction_array = np.asarray(prediction)\n",
    "    print(\"target_array.shape: \", target_array.shape)\n",
    "    print(\"prediction_array.shape: \", prediction_array.shape)\n",
    "    return scipy.stats.spearmanr(target_array, prediction_array).correlation"
   ]
  },
  {
   "cell_type": "code",
   "execution_count": 13,
   "id": "guilty-bangkok",
   "metadata": {
    "ExecuteTime": {
     "start_time": "2023-04-25T22:27:42.723877Z",
     "end_time": "2023-04-25T22:27:42.772954Z"
    }
   },
   "outputs": [],
   "source": [
    "def evaluate(model, eval_loader, do_mi=False, do_spearmanr=True, latent_space_type='wae', return_pred=False):\n",
    "    eval_contrastive_loss_total = 0\n",
    "    eval_lm_loss_total = 0\n",
    "    if do_mi:\n",
    "        eval_mi_head_loss_total = 0\n",
    "    if latent_space_type in ['vae', 'wae']:\n",
    "        eval_z_regu_loss_total = 0\n",
    "    model.eval()\n",
    "    num_eval_batch = 0\n",
    "\n",
    "    ddG_preds = []\n",
    "    ddG_targs = []\n",
    "    solubility_preds = []\n",
    "    solubility_targs = []\n",
    "\n",
    "    with torch.no_grad():\n",
    "        for step, batch in enumerate(tqdm(eval_loader)):\n",
    "            input_ids = batch['input_ids'].to(model.device)\n",
    "            labels = batch['labels'].to(model.device)\n",
    "            ddG_targets = batch['ddG'].to(model.device) if batch['ddG'] is not None else None\n",
    "            solubility_targets = batch['solubility'].to(model.device) if batch['solubility'] is not None else None\n",
    "            contrast_targets = [ddG_targets, solubility_targets]\n",
    "\n",
    "            if do_mi:\n",
    "                model_outputs = model(input_ids, labels=labels, contrast_targets=contrast_targets)\n",
    "                outputs, contrastive_loss, contrastive_value, mi_head_loss = model_outputs[0], model_outputs[1], model_outputs[2], \\\n",
    "                    model_outputs[3]\n",
    "                eval_mi_head_loss_total = eval_mi_head_loss_total + mi_head_loss\n",
    "            else:\n",
    "                model_outputs = model(input_ids, labels=labels, contrast_targets=contrast_targets)\n",
    "                outputs, contrastive_loss, contrastive_value = model_outputs[0], model_outputs[1], model_outputs[2]\n",
    "\n",
    "            if latent_space_type in ['vae', 'wae']:\n",
    "                z_regu_output = model_outputs[-1]\n",
    "                if type(z_regu_output) is dict:\n",
    "                    z_regu_loss = z_regu_output['z_regu_loss']\n",
    "                else:\n",
    "                    z_regu_loss = z_regu_output\n",
    "\n",
    "            # contrastive_value: [batch_size, 1] or [batch_size, 2], ddG_targets: [batch_size]\n",
    "            if ckpt_args.property == 'ddG':\n",
    "                for pred, target in zip(contrastive_value.squeeze().cpu().numpy(), ddG_targets.cpu().numpy()):\n",
    "                    ddG_targs.append(target)\n",
    "                    ddG_preds.append(pred)\n",
    "            elif ckpt_args.property == 'solubility':\n",
    "                for pred, target in zip(contrastive_value.squeeze().cpu().numpy(), solubility_targets.cpu().numpy()):\n",
    "                    solubility_targs.append(target)\n",
    "                    solubility_preds.append(pred)\n",
    "            elif ckpt_args.property == 'ddG_solubility':\n",
    "                for pred, target in zip(contrastive_value[:, 0].squeeze().cpu().numpy(), ddG_targets.cpu().numpy()):\n",
    "                    ddG_targs.append(target)\n",
    "                    ddG_preds.append(pred)\n",
    "                for pred, target in zip(contrastive_value[:, 1].squeeze().cpu().numpy(), solubility_targets.cpu().numpy()):\n",
    "                    solubility_targs.append(target)\n",
    "                    solubility_preds.append(pred)\n",
    "\n",
    "            lm_loss = outputs.loss\n",
    "\n",
    "            eval_contrastive_loss_total = eval_contrastive_loss_total + contrastive_loss\n",
    "            eval_lm_loss_total = eval_lm_loss_total + lm_loss\n",
    "\n",
    "            if latent_space_type in ['vae', 'wae']:\n",
    "                eval_z_regu_loss_total = eval_z_regu_loss_total + z_regu_loss\n",
    "\n",
    "            num_eval_batch += 1\n",
    "\n",
    "    eval_lm_loss = eval_lm_loss_total/num_eval_batch\n",
    "    eval_contrastive_loss = eval_contrastive_loss_total/num_eval_batch\n",
    "    eval_output = {\n",
    "        \"lm_loss\"         : eval_lm_loss,\n",
    "        \"contrastive_loss\": eval_contrastive_loss,\n",
    "        }\n",
    "\n",
    "    if do_mi:\n",
    "        eval_mi_head_loss_total = eval_mi_head_loss_total/num_eval_batch\n",
    "        eval_output['mi_head_loss'] = eval_mi_head_loss_total\n",
    "\n",
    "    if latent_space_type in ['vae', 'wae']:\n",
    "        eval_z_regu_loss_total = eval_z_regu_loss_total/num_eval_batch\n",
    "        eval_output['z_regu_loss'] = eval_z_regu_loss_total\n",
    "\n",
    "    if do_spearmanr:\n",
    "        ddG_spearmanr = 0\n",
    "        solubility_spearmanr = 0\n",
    "        if len(ddG_targs) > 0 and len(ddG_preds) > 0:\n",
    "            ddG_spearmanr = spearmanr(ddG_targs, ddG_preds)\n",
    "        if len(solubility_targs) > 0 and len(solubility_preds) > 0:\n",
    "            solubility_spearmanr = spearmanr(solubility_targs, solubility_preds)\n",
    "\n",
    "        print()\n",
    "        print(\"========== evaluation finished ==========\")\n",
    "        print(\"ddG_spearmanr: \", ddG_spearmanr)\n",
    "        print(\"solubility_spearmanr: \", solubility_spearmanr)\n",
    "        print(\"========== evaluation finished ==========\")\n",
    "        eval_output['ddG_spearmanr'] = ddG_spearmanr\n",
    "        eval_output['solubility_spearmanr'] = solubility_spearmanr\n",
    "\n",
    "    if return_pred:\n",
    "        eval_output['ddG_preds'] = ddG_preds\n",
    "        eval_output['ddG_targs'] = ddG_targs\n",
    "        eval_output['solubility_preds'] = solubility_preds\n",
    "        eval_output['solubility_targs'] = solubility_targs\n",
    "\n",
    "    return eval_output"
   ]
  },
  {
   "cell_type": "code",
   "execution_count": 14,
   "id": "extreme-thought",
   "metadata": {
    "scrolled": true,
    "ExecuteTime": {
     "start_time": "2023-04-25T22:27:43.510885Z",
     "end_time": "2023-04-25T22:28:28.107177Z"
    }
   },
   "outputs": [
    {
     "name": "stderr",
     "output_type": "stream",
     "text": [
      "100%|██████████| 16/16 [00:43<00:00,  2.75s/it]\n"
     ]
    },
    {
     "name": "stdout",
     "output_type": "stream",
     "text": [
      "target_array.shape:  (12500,)\n",
      "prediction_array.shape:  (12500,)\n",
      "\n",
      "========== evaluation finished ==========\n",
      "ddG_spearmanr:  0\n",
      "solubility_spearmanr:  0.4666317936099932\n",
      "========== evaluation finished ==========\n"
     ]
    }
   ],
   "source": [
    "eval_output = evaluate(model, eval_loader, do_mi=latent_space_args['do_mi'], return_pred=True,\n",
    "                       latent_space_type=latent_space_args['latent_space_type'])"
   ]
  },
  {
   "cell_type": "code",
   "execution_count": 15,
   "id": "lesser-gazette",
   "metadata": {
    "ExecuteTime": {
     "start_time": "2023-04-25T22:28:28.122269Z",
     "end_time": "2023-04-25T22:28:28.155057Z"
    }
   },
   "outputs": [
    {
     "name": "stdout",
     "output_type": "stream",
     "text": [
      "eval_lm_loss:  tensor(0.0030, device='cuda:0')\n",
      "eval_contrastive_loss:  tensor(0.6350, device='cuda:1')\n",
      "eval_ddG_spearmanr:  0\n",
      "eval_solubility_spearmanr:  0.4666317936099932\n"
     ]
    }
   ],
   "source": [
    "eval_lm_loss, eval_contrastive_loss, eval_ddG_spearmanr, eval_solubility_spearmanr = eval_output['lm_loss'], eval_output[\n",
    "    'contrastive_loss'], eval_output['ddG_spearmanr'], eval_output['solubility_spearmanr']\n",
    "\n",
    "print(\"eval_lm_loss: \", eval_lm_loss)\n",
    "print(\"eval_contrastive_loss: \", eval_contrastive_loss)\n",
    "print(\"eval_ddG_spearmanr: \", eval_ddG_spearmanr)\n",
    "print(\"eval_solubility_spearmanr: \", eval_solubility_spearmanr)"
   ]
  },
  {
   "cell_type": "code",
   "execution_count": 16,
   "outputs": [
    {
     "name": "stdout",
     "output_type": "stream",
     "text": [
      "len(ddG_preds):  0\n",
      "len(ddG_targs):  0\n",
      "len(solubility_preds):  12500\n",
      "len(solubility_targs):  12500\n"
     ]
    }
   ],
   "source": [
    "ddG_preds, ddG_targs = eval_output['ddG_preds'], eval_output['ddG_targs']\n",
    "solubility_preds, solubility_targs = eval_output['solubility_preds'], eval_output['solubility_targs']\n",
    "print(\"len(ddG_preds): \", len(ddG_preds))\n",
    "print(\"len(ddG_targs): \", len(ddG_targs))\n",
    "print(\"len(solubility_preds): \", len(solubility_preds))\n",
    "print(\"len(solubility_targs): \", len(solubility_targs))"
   ],
   "metadata": {
    "collapsed": false,
    "ExecuteTime": {
     "start_time": "2023-04-25T22:28:28.159710Z",
     "end_time": "2023-04-25T22:28:28.200394Z"
    }
   }
  },
  {
   "cell_type": "code",
   "execution_count": 17,
   "id": "numerical-twelve",
   "metadata": {
    "ExecuteTime": {
     "start_time": "2023-04-25T22:28:28.184511Z",
     "end_time": "2023-04-25T22:28:28.259471Z"
    }
   },
   "outputs": [
    {
     "name": "stdout",
     "output_type": "stream",
     "text": [
      "stats of solubility_preds\n",
      "min:  -2.449766\n",
      "mean:  -1.1901786\n",
      "median:  -2.3222866\n",
      "max:  10.4042425\n",
      "std:  1.9524919\n",
      "25% std:  0.48812296986579895\n"
     ]
    }
   ],
   "source": [
    "if 'ddG' in ckpt_args.property:\n",
    "    print(\"stats of ddG_preds\")\n",
    "    print(\"min: \", np.min(ddG_preds))\n",
    "    print(\"mean: \", np.mean(ddG_preds))\n",
    "    print(\"median: \", np.median(ddG_preds))\n",
    "    print(\"max: \", np.max(ddG_preds))\n",
    "    print(\"std: \", np.std(ddG_preds))\n",
    "    print(\"25% std: \", 0.25*np.std(ddG_preds))\n",
    "if 'solubility' in ckpt_args.property:\n",
    "    print(\"stats of solubility_preds\")\n",
    "    print(\"min: \", np.min(solubility_preds))\n",
    "    print(\"mean: \", np.mean(solubility_preds))\n",
    "    print(\"median: \", np.median(solubility_preds))\n",
    "    print(\"max: \", np.max(solubility_preds))\n",
    "    print(\"std: \", np.std(solubility_preds))\n",
    "    print(\"25% std: \", 0.25*np.std(solubility_preds))"
   ]
  },
  {
   "cell_type": "code",
   "execution_count": 18,
   "id": "aquatic-retro",
   "metadata": {
    "ExecuteTime": {
     "start_time": "2023-04-25T22:28:28.256957Z",
     "end_time": "2023-04-25T22:28:28.808554Z"
    }
   },
   "outputs": [
    {
     "data": {
      "text/plain": "<Figure size 800x600 with 1 Axes>",
      "image/png": "[encoded data removed]"
     },
     "metadata": {},
     "output_type": "display_data"
    },
    {
     "data": {
      "text/plain": "<Figure size 800x600 with 1 Axes>",
      "image/png": "[encoded data removed]"
     },
     "metadata": {},
     "output_type": "display_data"
    }
   ],
   "source": [
    "if 'ddG' in ckpt_args.property:\n",
    "    plt.figure(figsize=(8, 6))\n",
    "    plt.hist(ddG_preds, density=True, label='ddG value_pred', bins=[i for i in range(-20, 10)], alpha=0.4)\n",
    "    plt.hist(ddG_targs, density=True, label='foldx ddG', bins=[i for i in range(-20, 10)], alpha=0.4)\n",
    "    plt.xlabel(\"ddG\", size=14)\n",
    "    plt.ylabel(\"Density\", size=14)\n",
    "    plt.title(\"Eval set, Controlled generation\")\n",
    "    plt.legend(loc='upper left')\n",
    "if 'solubility' in ckpt_args.property:\n",
    "    plt.figure(figsize=(8, 6))\n",
    "    plt.hist(solubility_preds, density=True, label='solubility value_pred', alpha=0.4)\n",
    "    plt.xlabel(\"solubility score\", size=14)\n",
    "    plt.ylabel(\"Density\", size=14)\n",
    "    plt.title(\"Eval set, Controlled generation\")\n",
    "    plt.legend(loc='upper left')\n",
    "\n",
    "    plt.figure(figsize=(8, 6))\n",
    "    plt.hist(solubility_targs, density=True, label='protein-sol score', alpha=0.4)\n",
    "    plt.xlabel(\"solubility score\", size=14)\n",
    "    plt.ylabel(\"Density\", size=14)\n",
    "    plt.title(\"Eval set, Controlled generation\")\n",
    "    plt.legend(loc='upper left')"
   ]
  },
  {
   "cell_type": "code",
   "execution_count": 19,
   "outputs": [],
   "source": [],
   "metadata": {
    "collapsed": false,
    "ExecuteTime": {
     "start_time": "2023-04-20T16:59:28.101382Z",
     "end_time": "2023-04-20T16:59:28.110248Z"
    }
   }
  },
  {
   "cell_type": "code",
   "execution_count": 20,
   "id": "above-millennium",
   "metadata": {
    "ExecuteTime": {
     "start_time": "2023-04-20T16:59:28.290162Z",
     "end_time": "2023-04-20T16:59:28.350485Z"
    }
   },
   "outputs": [
    {
     "data": {
      "text/plain": "       value_pred      ddG\n762    -14.139789 -4.58069\n10550  -13.925159 -4.23669\n3274   -13.829757 -4.86664\n5230   -13.809940 -4.75198\n8602   -13.746979 -5.00012\n...           ...      ...\n725     10.009272  4.71477\n11910   10.137735  4.61548\n6653    10.420370  4.81421\n11572   10.513784  4.61348\n3888    10.572622  4.73317\n\n[12500 rows x 2 columns]",
      "text/html": "<div>\n<style scoped>\n    .dataframe tbody tr th:only-of-type {\n        vertical-align: middle;\n    }\n\n    .dataframe tbody tr th {\n        vertical-align: top;\n    }\n\n    .dataframe thead th {\n        text-align: right;\n    }\n</style>\n<table border=\"1\" class=\"dataframe\">\n  <thead>\n    <tr style=\"text-align: right;\">\n      <th></th>\n      <th>value_pred</th>\n      <th>ddG</th>\n    </tr>\n  </thead>\n  <tbody>\n    <tr>\n      <th>762</th>\n      <td>-14.139789</td>\n      <td>-4.58069</td>\n    </tr>\n    <tr>\n      <th>10550</th>\n      <td>-13.925159</td>\n      <td>-4.23669</td>\n    </tr>\n    <tr>\n      <th>3274</th>\n      <td>-13.829757</td>\n      <td>-4.86664</td>\n    </tr>\n    <tr>\n      <th>5230</th>\n      <td>-13.809940</td>\n      <td>-4.75198</td>\n    </tr>\n    <tr>\n      <th>8602</th>\n      <td>-13.746979</td>\n      <td>-5.00012</td>\n    </tr>\n    <tr>\n      <th>...</th>\n      <td>...</td>\n      <td>...</td>\n    </tr>\n    <tr>\n      <th>725</th>\n      <td>10.009272</td>\n      <td>4.71477</td>\n    </tr>\n    <tr>\n      <th>11910</th>\n      <td>10.137735</td>\n      <td>4.61548</td>\n    </tr>\n    <tr>\n      <th>6653</th>\n      <td>10.420370</td>\n      <td>4.81421</td>\n    </tr>\n    <tr>\n      <th>11572</th>\n      <td>10.513784</td>\n      <td>4.61348</td>\n    </tr>\n    <tr>\n      <th>3888</th>\n      <td>10.572622</td>\n      <td>4.73317</td>\n    </tr>\n  </tbody>\n</table>\n<p>12500 rows × 2 columns</p>\n</div>"
     },
     "execution_count": 20,
     "metadata": {},
     "output_type": "execute_result"
    }
   ],
   "source": [
    "eval_df = pd.DataFrame()\n",
    "eval_df['value_pred'] = ddG_preds\n",
    "eval_df['ddG'] = ddG_targs\n",
    "eval_df = eval_df.sort_values(by='value_pred', ascending=True)\n",
    "eval_df"
   ]
  },
  {
   "cell_type": "code",
   "execution_count": 22,
   "id": "respected-ireland",
   "metadata": {},
   "outputs": [],
   "source": []
  },
  {
   "cell_type": "code",
   "execution_count": 24,
   "id": "literary-payday",
   "metadata": {},
   "outputs": [
    {
     "name": "stdout",
     "output_type": "stream",
     "text": [
      "[625, 1250, 1875, 2500, 3125]\n"
     ]
    }
   ],
   "source": [
    "# topK_list = [10, 100, 1000, 10000]\n",
    "percentile_list = [95, 90, 85, 80, 75]\n",
    "topK_list = [len(eval_df)*(100 - i)//100 for i in percentile_list]\n",
    "print(topK_list)"
   ]
  },
  {
   "cell_type": "code",
   "execution_count": 25,
   "id": "stable-ultimate",
   "metadata": {},
   "outputs": [],
   "source": [
    "ddG_df = eval_df\n",
    "all_ddG_list = eval_df['ddG']"
   ]
  },
  {
   "cell_type": "code",
   "execution_count": 26,
   "id": "damaged-conditioning",
   "metadata": {
    "scrolled": true
   },
   "outputs": [
    {
     "name": "stdout",
     "output_type": "stream",
     "text": [
      "top K:  625\n",
      "max:  -0.03659899905323982\n",
      "min:  -5.416450023651123\n",
      "mean:  -1.8593817\n",
      "median:  -1.67805\n",
      "PCI_95pct:  0.8672\n",
      "PCI_90pct:  0.9952\n",
      "PCI_85pct:  0.9968\n",
      "PCI_80pct:  1.0\n",
      "PCI_75pct:  1.0\n",
      "PCI_WT:  1.0\n",
      "____________________\n",
      "top K:  1250\n",
      "max:  0.3907800018787384\n",
      "min:  -5.416450023651123\n",
      "mean:  -1.3627449\n",
      "median:  -1.18961\n",
      "PCI_95pct:  0.4864\n",
      "PCI_90pct:  0.884\n",
      "PCI_85pct:  0.9824\n",
      "PCI_80pct:  0.9968\n",
      "PCI_75pct:  0.9976\n",
      "PCI_WT:  0.9976\n",
      "____________________\n",
      "top K:  1875\n",
      "max:  1.0369499921798706\n",
      "min:  -5.416450023651123\n",
      "mean:  -1.0596857\n",
      "median:  -0.895829\n",
      "PCI_95pct:  0.33013333333333333\n",
      "PCI_90pct:  0.6565333333333333\n",
      "PCI_85pct:  0.9045333333333333\n",
      "PCI_80pct:  0.9808\n",
      "PCI_75pct:  0.9925333333333334\n",
      "PCI_WT:  0.9813333333333333\n",
      "____________________\n",
      "top K:  2500\n",
      "max:  2.750420093536377\n",
      "min:  -5.416450023651123\n",
      "mean:  -0.8265798\n",
      "median:  -0.651613\n",
      "PCI_95pct:  0.2488\n",
      "PCI_90pct:  0.4964\n",
      "PCI_85pct:  0.7312\n",
      "PCI_80pct:  0.9124\n",
      "PCI_75pct:  0.978\n",
      "PCI_WT:  0.9208\n",
      "____________________\n",
      "top K:  3125\n",
      "max:  2.750420093536377\n",
      "min:  -5.416450023651123\n",
      "mean:  -0.63663393\n",
      "median:  -0.468308\n",
      "PCI_95pct:  0.19968\n",
      "PCI_90pct:  0.39872\n",
      "PCI_85pct:  0.59456\n",
      "PCI_80pct:  0.77664\n",
      "PCI_75pct:  0.92256\n",
      "PCI_WT:  0.78944\n",
      "____________________\n",
      "top half:  6250\n",
      "max:  3.486649990081787\n",
      "min:  -5.416450023651123\n",
      "mean:  0.09100869\n",
      "median:  0.231983\n",
      "PCI_95pct:  0.1\n",
      "PCI_90pct:  0.2\n",
      "PCI_85pct:  0.3\n",
      "PCI_80pct:  0.39968\n",
      "PCI_75pct:  0.49952\n",
      "PCI_WT:  0.40784\n",
      "____________________\n",
      "train dataset:  12500\n",
      "max:  3.575050115585327\n",
      "min:  -5.416450023651123\n",
      "mean:  1.2558804\n",
      "median:  1.3483701\n",
      "PCI_95pct:  0.05\n",
      "PCI_90pct:  0.1\n",
      "PCI_85pct:  0.15\n",
      "PCI_80pct:  0.2\n",
      "PCI_75pct:  0.25\n",
      "PCI_WT:  0.20408\n",
      "____________________\n"
     ]
    }
   ],
   "source": [
    "for topK in topK_list:\n",
    "    topK_df = ddG_df[:topK]\n",
    "    print(\"top K: \", len(topK_df))\n",
    "    print(\"max: \", np.max(topK_df['ddG']))\n",
    "    print(\"min: \", np.min(topK_df['ddG']))\n",
    "    print(\"mean: \", np.mean(topK_df['ddG']))\n",
    "    print(\"median: \", np.median(topK_df['ddG']))\n",
    "    \n",
    "    for percentile in percentile_list:\n",
    "        pct = np.percentile(all_ddG_list, 100 - percentile)\n",
    "        PCI_pct = np.sum(topK_df['ddG'] < pct)/len(topK_df['ddG'])\n",
    "        print(\"PCI_{}pct: \".format(percentile), PCI_pct)\n",
    "    \n",
    "    PCI_WT = np.sum(topK_df['ddG'] < 0)/len(topK_df['ddG'])\n",
    "    print(\"PCI_WT: \", PCI_WT)\n",
    "    \n",
    "    print(\"_\"*20)\n",
    "\n",
    "tophalf_df = ddG_df[:len(ddG_df)//2]\n",
    "print(\"top half: \", len(tophalf_df))\n",
    "print(\"max: \", np.max(tophalf_df['ddG']))\n",
    "print(\"min: \", np.min(tophalf_df['ddG']))\n",
    "print(\"mean: \", np.mean(tophalf_df['ddG']))\n",
    "print(\"median: \", np.median(tophalf_df['ddG']))\n",
    "\n",
    "# PCI_75pct = np.sum(tophalf_df['ddG'] < train_75pct) / len(tophalf_df['ddG'])\n",
    "# print(\"PCI_75pct: \", PCI_75pct)\n",
    "\n",
    "for percentile in percentile_list:\n",
    "    pct = np.percentile(all_ddG_list, 100 - percentile)\n",
    "    PCI_pct = np.sum(tophalf_df['ddG'] < pct)/len(tophalf_df['ddG'])\n",
    "    print(\"PCI_{}pct: \".format(percentile), PCI_pct)\n",
    "\n",
    "PCI_WT = np.sum(tophalf_df['ddG'] < 0)/len(tophalf_df['ddG'])\n",
    "print(\"PCI_WT: \", PCI_WT)\n",
    "\n",
    "print(\"_\"*20)\n",
    "\n",
    "# training data distribution\n",
    "print(\"train dataset: \", len(all_ddG_list))\n",
    "print(\"max: \", np.max(all_ddG_list))\n",
    "print(\"min: \", np.min(all_ddG_list))\n",
    "print(\"mean: \", np.mean(all_ddG_list))\n",
    "print(\"median: \", np.median(all_ddG_list))\n",
    "\n",
    "for percentile in percentile_list:\n",
    "    pct = np.percentile(all_ddG_list, 100 - percentile)\n",
    "    PCI_pct = np.sum(all_ddG_list < pct)/len(all_ddG_list)\n",
    "    print(\"PCI_{}pct: \".format(percentile), PCI_pct)\n",
    "\n",
    "PCI_WT = np.sum(all_ddG_list < 0)/len(all_ddG_list)\n",
    "print(\"PCI_WT: \", PCI_WT)\n",
    "\n",
    "print(\"_\"*20)"
   ]
  },
  {
   "cell_type": "code",
   "execution_count": 26,
   "outputs": [],
   "source": [],
   "metadata": {
    "collapsed": false
   }
  },
  {
   "cell_type": "markdown",
   "id": "critical-trustee",
   "metadata": {},
   "source": [
    "# Get value_pred of gen input samples"
   ]
  },
  {
   "cell_type": "code",
   "execution_count": 27,
   "id": "hungry-foundation",
   "metadata": {},
   "outputs": [
    {
     "data": {
      "text/plain": "                  PDB Chain  Start_index  \\\n126123  template2.pdb     A           19   \n84432   template2.pdb     A           19   \n152024  template2.pdb     A           19   \n8286    template2.pdb     A           19   \n117039  template2.pdb     A           19   \n...               ...   ...          ...   \n194795  template2.pdb     A           19   \n239399  template2.pdb     A           19   \n43578   template2.pdb     A           19   \n33515   template2.pdb     A           19   \n192843  template2.pdb     A           19   \n\n                                                   WT_seq  \\\n126123  STIEEQAKTFLDKFNHEAEDLFYQSSLASWNYNTNITEENVQNMNN...   \n84432   STIEEQAKTFLDKFNHEAEDLFYQSSLASWNYNTNITEENVQNMNN...   \n152024  STIEEQAKTFLDKFNHEAEDLFYQSSLASWNYNTNITEENVQNMNN...   \n8286    STIEEQAKTFLDKFNHEAEDLFYQSSLASWNYNTNITEENVQNMNN...   \n117039  STIEEQAKTFLDKFNHEAEDLFYQSSLASWNYNTNITEENVQNMNN...   \n...                                                   ...   \n194795  STIEEQAKTFLDKFNHEAEDLFYQSSLASWNYNTNITEENVQNMNN...   \n239399  STIEEQAKTFLDKFNHEAEDLFYQSSLASWNYNTNITEENVQNMNN...   \n43578   STIEEQAKTFLDKFNHEAEDLFYQSSLASWNYNTNITEENVQNMNN...   \n33515   STIEEQAKTFLDKFNHEAEDLFYQSSLASWNYNTNITEENVQNMNN...   \n192843  STIEEQAKTFLDKFNHEAEDLFYQSSLASWNYNTNITEENVQNMNN...   \n\n                                                   MT_seq      ddG  R_label  \\\n126123  STIEEQAKTFLDKFNHEKEDLFYQSSLAIWNYNTNITEENVQNMNF... -6.59818        5   \n84432   SYIEEQAKTFLDKFNHEAEDLFYQSSLASWNYNTNITEENVQNMNN... -6.00327        5   \n152024  SDIEEQAKSFLDKFNHEAEDLFYQSSLASWNYNTNITEENVQNMNN... -5.98875        5   \n8286    SDIEEQAKTFLKKFNHEAQDLFYQSSLASWNYNTNITEENVQNMNN... -5.91251        5   \n117039  STIEEQAKTFLDKFNHEAEDLFYQSSLASWNYNTNITEENVQNMNN... -5.89473        5   \n...                                                   ...      ...      ...   \n194795  STIEEQAKTFLPKFNHEAEDLFYQSSLASWNYNTNITEENVQNMNN...  3.57494        0   \n239399  STIEEQAKTFLDKFNHEAVDLFSQSSLASWNYNTNITEENVQNMNN...  3.57505        0   \n43578   STIEEQAKTFLDKFNHEAYDLFYQSSLASNNYNTNITEENVQNMNN...  3.57507        0   \n33515   STIEYQAKTFLDKFNEEAEDLFLQSSLASWNYNTNITEENVKNMNN...  3.57508        0   \n192843  SHIEEQAKTFLDKFNHEAEDLFYQSSLASWNYNTNITEENVQNMNN...  3.57510        0   \n\n        solubility  \n126123       0.764  \n84432        0.764  \n152024       0.781  \n8286         0.713  \n117039       0.713  \n...            ...  \n194795       0.713  \n239399       0.713  \n43578        0.701  \n33515        0.764  \n192843       0.711  \n\n[125000 rows x 8 columns]",
      "text/html": "<div>\n<style scoped>\n    .dataframe tbody tr th:only-of-type {\n        vertical-align: middle;\n    }\n\n    .dataframe tbody tr th {\n        vertical-align: top;\n    }\n\n    .dataframe thead th {\n        text-align: right;\n    }\n</style>\n<table border=\"1\" class=\"dataframe\">\n  <thead>\n    <tr style=\"text-align: right;\">\n      <th></th>\n      <th>PDB</th>\n      <th>Chain</th>\n      <th>Start_index</th>\n      <th>WT_seq</th>\n      <th>MT_seq</th>\n      <th>ddG</th>\n      <th>R_label</th>\n      <th>solubility</th>\n    </tr>\n  </thead>\n  <tbody>\n    <tr>\n      <th>126123</th>\n      <td>template2.pdb</td>\n      <td>A</td>\n      <td>19</td>\n      <td>STIEEQAKTFLDKFNHEAEDLFYQSSLASWNYNTNITEENVQNMNN...</td>\n      <td>STIEEQAKTFLDKFNHEKEDLFYQSSLAIWNYNTNITEENVQNMNF...</td>\n      <td>-6.59818</td>\n      <td>5</td>\n      <td>0.764</td>\n    </tr>\n    <tr>\n      <th>84432</th>\n      <td>template2.pdb</td>\n      <td>A</td>\n      <td>19</td>\n      <td>STIEEQAKTFLDKFNHEAEDLFYQSSLASWNYNTNITEENVQNMNN...</td>\n      <td>SYIEEQAKTFLDKFNHEAEDLFYQSSLASWNYNTNITEENVQNMNN...</td>\n      <td>-6.00327</td>\n      <td>5</td>\n      <td>0.764</td>\n    </tr>\n    <tr>\n      <th>152024</th>\n      <td>template2.pdb</td>\n      <td>A</td>\n      <td>19</td>\n      <td>STIEEQAKTFLDKFNHEAEDLFYQSSLASWNYNTNITEENVQNMNN...</td>\n      <td>SDIEEQAKSFLDKFNHEAEDLFYQSSLASWNYNTNITEENVQNMNN...</td>\n      <td>-5.98875</td>\n      <td>5</td>\n      <td>0.781</td>\n    </tr>\n    <tr>\n      <th>8286</th>\n      <td>template2.pdb</td>\n      <td>A</td>\n      <td>19</td>\n      <td>STIEEQAKTFLDKFNHEAEDLFYQSSLASWNYNTNITEENVQNMNN...</td>\n      <td>SDIEEQAKTFLKKFNHEAQDLFYQSSLASWNYNTNITEENVQNMNN...</td>\n      <td>-5.91251</td>\n      <td>5</td>\n      <td>0.713</td>\n    </tr>\n    <tr>\n      <th>117039</th>\n      <td>template2.pdb</td>\n      <td>A</td>\n      <td>19</td>\n      <td>STIEEQAKTFLDKFNHEAEDLFYQSSLASWNYNTNITEENVQNMNN...</td>\n      <td>STIEEQAKTFLDKFNHEAEDLFYQSSLASWNYNTNITEENVQNMNN...</td>\n      <td>-5.89473</td>\n      <td>5</td>\n      <td>0.713</td>\n    </tr>\n    <tr>\n      <th>...</th>\n      <td>...</td>\n      <td>...</td>\n      <td>...</td>\n      <td>...</td>\n      <td>...</td>\n      <td>...</td>\n      <td>...</td>\n      <td>...</td>\n    </tr>\n    <tr>\n      <th>194795</th>\n      <td>template2.pdb</td>\n      <td>A</td>\n      <td>19</td>\n      <td>STIEEQAKTFLDKFNHEAEDLFYQSSLASWNYNTNITEENVQNMNN...</td>\n      <td>STIEEQAKTFLPKFNHEAEDLFYQSSLASWNYNTNITEENVQNMNN...</td>\n      <td>3.57494</td>\n      <td>0</td>\n      <td>0.713</td>\n    </tr>\n    <tr>\n      <th>239399</th>\n      <td>template2.pdb</td>\n      <td>A</td>\n      <td>19</td>\n      <td>STIEEQAKTFLDKFNHEAEDLFYQSSLASWNYNTNITEENVQNMNN...</td>\n      <td>STIEEQAKTFLDKFNHEAVDLFSQSSLASWNYNTNITEENVQNMNN...</td>\n      <td>3.57505</td>\n      <td>0</td>\n      <td>0.713</td>\n    </tr>\n    <tr>\n      <th>43578</th>\n      <td>template2.pdb</td>\n      <td>A</td>\n      <td>19</td>\n      <td>STIEEQAKTFLDKFNHEAEDLFYQSSLASWNYNTNITEENVQNMNN...</td>\n      <td>STIEEQAKTFLDKFNHEAYDLFYQSSLASNNYNTNITEENVQNMNN...</td>\n      <td>3.57507</td>\n      <td>0</td>\n      <td>0.701</td>\n    </tr>\n    <tr>\n      <th>33515</th>\n      <td>template2.pdb</td>\n      <td>A</td>\n      <td>19</td>\n      <td>STIEEQAKTFLDKFNHEAEDLFYQSSLASWNYNTNITEENVQNMNN...</td>\n      <td>STIEYQAKTFLDKFNEEAEDLFLQSSLASWNYNTNITEENVKNMNN...</td>\n      <td>3.57508</td>\n      <td>0</td>\n      <td>0.764</td>\n    </tr>\n    <tr>\n      <th>192843</th>\n      <td>template2.pdb</td>\n      <td>A</td>\n      <td>19</td>\n      <td>STIEEQAKTFLDKFNHEAEDLFYQSSLASWNYNTNITEENVQNMNN...</td>\n      <td>SHIEEQAKTFLDKFNHEAEDLFYQSSLASWNYNTNITEENVQNMNN...</td>\n      <td>3.57510</td>\n      <td>0</td>\n      <td>0.711</td>\n    </tr>\n  </tbody>\n</table>\n<p>125000 rows × 8 columns</p>\n</div>"
     },
     "execution_count": 27,
     "metadata": {},
     "output_type": "execute_result"
    }
   ],
   "source": [
    "input_data_path = Path(data_dir)\n",
    "input_data_file = f'train_new_tophalf_ddG_solubility.pkl'\n",
    "input_data_file = input_data_path/input_data_file\n",
    "input_data_df = pd.read_pickle(input_data_file)\n",
    "input_data_df"
   ]
  },
  {
   "cell_type": "code",
   "execution_count": 28,
   "id": "demographic-watson",
   "metadata": {},
   "outputs": [],
   "source": [
    "topk_as_input = 12500"
   ]
  },
  {
   "cell_type": "code",
   "execution_count": 29,
   "id": "mediterranean-longitude",
   "metadata": {},
   "outputs": [
    {
     "name": "stdout",
     "output_type": "stream",
     "text": [
      "ddG stats of input data\n",
      "min:  -6.59818\n",
      "mean:  1.26221709496\n",
      "median:  1.3439199999999998\n",
      "max:  3.5751\n",
      "std:  1.42693826641798\n"
     ]
    }
   ],
   "source": [
    "print(\"ddG stats of input data\")\n",
    "print(\"min: \", np.min(input_data_df['ddG']))\n",
    "print(\"mean: \", np.mean(input_data_df['ddG']))\n",
    "print(\"median: \", np.median(input_data_df['ddG']))\n",
    "print(\"max: \", np.max(input_data_df['ddG']))\n",
    "print(\"std: \", np.std(input_data_df['ddG']))\n",
    "\n",
    "ddG_sorted_input_df = input_data_df.sort_values(by='ddG', ascending=True)\n",
    "gen_input_df = ddG_sorted_input_df.iloc[:topk_as_input]"
   ]
  },
  {
   "cell_type": "code",
   "execution_count": 30,
   "id": "revised-sunrise",
   "metadata": {},
   "outputs": [
    {
     "data": {
      "text/plain": "                  PDB Chain  Start_index  \\\n126123  template2.pdb     A           19   \n84432   template2.pdb     A           19   \n152024  template2.pdb     A           19   \n8286    template2.pdb     A           19   \n117039  template2.pdb     A           19   \n...               ...   ...          ...   \n155099  template2.pdb     A           19   \n108721  template2.pdb     A           19   \n224553  template2.pdb     A           19   \n87017   template2.pdb     A           19   \n136736  template2.pdb     A           19   \n\n                                                   WT_seq  \\\n126123  STIEEQAKTFLDKFNHEAEDLFYQSSLASWNYNTNITEENVQNMNN...   \n84432   STIEEQAKTFLDKFNHEAEDLFYQSSLASWNYNTNITEENVQNMNN...   \n152024  STIEEQAKTFLDKFNHEAEDLFYQSSLASWNYNTNITEENVQNMNN...   \n8286    STIEEQAKTFLDKFNHEAEDLFYQSSLASWNYNTNITEENVQNMNN...   \n117039  STIEEQAKTFLDKFNHEAEDLFYQSSLASWNYNTNITEENVQNMNN...   \n...                                                   ...   \n155099  STIEEQAKTFLDKFNHEAEDLFYQSSLASWNYNTNITEENVQNMNN...   \n108721  STIEEQAKTFLDKFNHEAEDLFYQSSLASWNYNTNITEENVQNMNN...   \n224553  STIEEQAKTFLDKFNHEAEDLFYQSSLASWNYNTNITEENVQNMNN...   \n87017   STIEEQAKTFLDKFNHEAEDLFYQSSLASWNYNTNITEENVQNMNN...   \n136736  STIEEQAKTFLDKFNHEAEDLFYQSSLASWNYNTNITEENVQNMNN...   \n\n                                                   MT_seq       ddG  R_label  \\\n126123  STIEEQAKTFLDKFNHEKEDLFYQSSLAIWNYNTNITEENVQNMNF... -6.598180        5   \n84432   SYIEEQAKTFLDKFNHEAEDLFYQSSLASWNYNTNITEENVQNMNN... -6.003270        5   \n152024  SDIEEQAKSFLDKFNHEAEDLFYQSSLASWNYNTNITEENVQNMNN... -5.988750        5   \n8286    SDIEEQAKTFLKKFNHEAQDLFYQSSLASWNYNTNITEENVQNMNN... -5.912510        5   \n117039  STIEEQAKTFLDKFNHEAEDLFYQSSLASWNYNTNITEENVQNMNN... -5.894730        5   \n...                                                   ...       ...      ...   \n155099  STWEEQAKLFLDKFNHEAEDLFYQSSLASWNYNTNITEENKQNMNN... -0.628241        1   \n108721  SNIEEQAKTFLDKFEHEAEDLFYQSSLASWNMNTNITEENVQNMNN... -0.628223        1   \n224553  STIEEQAKTFLDKFNIEAEDLFYQSSLASWNYNTNITEENVQNMNR... -0.628191        1   \n87017   STIEEYAKTFLDKFNHTAEDLFYQSSLASWNYNTNITEENVQNMQN... -0.628175        1   \n136736  STMEEQAKTFLDKFNHEAESLFYQSSLASWNYNTNITEENVQNMNN... -0.628152        1   \n\n        solubility  \n126123       0.764  \n84432        0.764  \n152024       0.781  \n8286         0.713  \n117039       0.713  \n...            ...  \n155099       0.781  \n108721       0.781  \n224553       0.764  \n87017        0.764  \n136736       0.713  \n\n[12500 rows x 8 columns]",
      "text/html": "<div>\n<style scoped>\n    .dataframe tbody tr th:only-of-type {\n        vertical-align: middle;\n    }\n\n    .dataframe tbody tr th {\n        vertical-align: top;\n    }\n\n    .dataframe thead th {\n        text-align: right;\n    }\n</style>\n<table border=\"1\" class=\"dataframe\">\n  <thead>\n    <tr style=\"text-align: right;\">\n      <th></th>\n      <th>PDB</th>\n      <th>Chain</th>\n      <th>Start_index</th>\n      <th>WT_seq</th>\n      <th>MT_seq</th>\n      <th>ddG</th>\n      <th>R_label</th>\n      <th>solubility</th>\n    </tr>\n  </thead>\n  <tbody>\n    <tr>\n      <th>126123</th>\n      <td>template2.pdb</td>\n      <td>A</td>\n      <td>19</td>\n      <td>STIEEQAKTFLDKFNHEAEDLFYQSSLASWNYNTNITEENVQNMNN...</td>\n      <td>STIEEQAKTFLDKFNHEKEDLFYQSSLAIWNYNTNITEENVQNMNF...</td>\n      <td>-6.598180</td>\n      <td>5</td>\n      <td>0.764</td>\n    </tr>\n    <tr>\n      <th>84432</th>\n      <td>template2.pdb</td>\n      <td>A</td>\n      <td>19</td>\n      <td>STIEEQAKTFLDKFNHEAEDLFYQSSLASWNYNTNITEENVQNMNN...</td>\n      <td>SYIEEQAKTFLDKFNHEAEDLFYQSSLASWNYNTNITEENVQNMNN...</td>\n      <td>-6.003270</td>\n      <td>5</td>\n      <td>0.764</td>\n    </tr>\n    <tr>\n      <th>152024</th>\n      <td>template2.pdb</td>\n      <td>A</td>\n      <td>19</td>\n      <td>STIEEQAKTFLDKFNHEAEDLFYQSSLASWNYNTNITEENVQNMNN...</td>\n      <td>SDIEEQAKSFLDKFNHEAEDLFYQSSLASWNYNTNITEENVQNMNN...</td>\n      <td>-5.988750</td>\n      <td>5</td>\n      <td>0.781</td>\n    </tr>\n    <tr>\n      <th>8286</th>\n      <td>template2.pdb</td>\n      <td>A</td>\n      <td>19</td>\n      <td>STIEEQAKTFLDKFNHEAEDLFYQSSLASWNYNTNITEENVQNMNN...</td>\n      <td>SDIEEQAKTFLKKFNHEAQDLFYQSSLASWNYNTNITEENVQNMNN...</td>\n      <td>-5.912510</td>\n      <td>5</td>\n      <td>0.713</td>\n    </tr>\n    <tr>\n      <th>117039</th>\n      <td>template2.pdb</td>\n      <td>A</td>\n      <td>19</td>\n      <td>STIEEQAKTFLDKFNHEAEDLFYQSSLASWNYNTNITEENVQNMNN...</td>\n      <td>STIEEQAKTFLDKFNHEAEDLFYQSSLASWNYNTNITEENVQNMNN...</td>\n      <td>-5.894730</td>\n      <td>5</td>\n      <td>0.713</td>\n    </tr>\n    <tr>\n      <th>...</th>\n      <td>...</td>\n      <td>...</td>\n      <td>...</td>\n      <td>...</td>\n      <td>...</td>\n      <td>...</td>\n      <td>...</td>\n      <td>...</td>\n    </tr>\n    <tr>\n      <th>155099</th>\n      <td>template2.pdb</td>\n      <td>A</td>\n      <td>19</td>\n      <td>STIEEQAKTFLDKFNHEAEDLFYQSSLASWNYNTNITEENVQNMNN...</td>\n      <td>STWEEQAKLFLDKFNHEAEDLFYQSSLASWNYNTNITEENKQNMNN...</td>\n      <td>-0.628241</td>\n      <td>1</td>\n      <td>0.781</td>\n    </tr>\n    <tr>\n      <th>108721</th>\n      <td>template2.pdb</td>\n      <td>A</td>\n      <td>19</td>\n      <td>STIEEQAKTFLDKFNHEAEDLFYQSSLASWNYNTNITEENVQNMNN...</td>\n      <td>SNIEEQAKTFLDKFEHEAEDLFYQSSLASWNMNTNITEENVQNMNN...</td>\n      <td>-0.628223</td>\n      <td>1</td>\n      <td>0.781</td>\n    </tr>\n    <tr>\n      <th>224553</th>\n      <td>template2.pdb</td>\n      <td>A</td>\n      <td>19</td>\n      <td>STIEEQAKTFLDKFNHEAEDLFYQSSLASWNYNTNITEENVQNMNN...</td>\n      <td>STIEEQAKTFLDKFNIEAEDLFYQSSLASWNYNTNITEENVQNMNR...</td>\n      <td>-0.628191</td>\n      <td>1</td>\n      <td>0.764</td>\n    </tr>\n    <tr>\n      <th>87017</th>\n      <td>template2.pdb</td>\n      <td>A</td>\n      <td>19</td>\n      <td>STIEEQAKTFLDKFNHEAEDLFYQSSLASWNYNTNITEENVQNMNN...</td>\n      <td>STIEEYAKTFLDKFNHTAEDLFYQSSLASWNYNTNITEENVQNMQN...</td>\n      <td>-0.628175</td>\n      <td>1</td>\n      <td>0.764</td>\n    </tr>\n    <tr>\n      <th>136736</th>\n      <td>template2.pdb</td>\n      <td>A</td>\n      <td>19</td>\n      <td>STIEEQAKTFLDKFNHEAEDLFYQSSLASWNYNTNITEENVQNMNN...</td>\n      <td>STMEEQAKTFLDKFNHEAESLFYQSSLASWNYNTNITEENVQNMNN...</td>\n      <td>-0.628152</td>\n      <td>1</td>\n      <td>0.713</td>\n    </tr>\n  </tbody>\n</table>\n<p>12500 rows × 8 columns</p>\n</div>"
     },
     "execution_count": 30,
     "metadata": {},
     "output_type": "execute_result"
    }
   ],
   "source": [
    "gen_input_df"
   ]
  },
  {
   "cell_type": "code",
   "execution_count": 30,
   "outputs": [],
   "source": [],
   "metadata": {
    "collapsed": false
   }
  },
  {
   "cell_type": "markdown",
   "id": "furnished-reach",
   "metadata": {},
   "source": [
    "# Get value_pred of train data"
   ]
  },
  {
   "cell_type": "code",
   "execution_count": 31,
   "id": "genetic-puzzle",
   "metadata": {
    "scrolled": true
   },
   "outputs": [
    {
     "name": "stderr",
     "output_type": "stream",
     "text": [
      "100%|██████████| 94/94 [04:00<00:00,  2.56s/it]"
     ]
    },
    {
     "name": "stdout",
     "output_type": "stream",
     "text": [
      "target_array.shape:  (112500,)\n",
      "prediction_array.shape:  (112500,)\n",
      "\n",
      "========== evaluation finished ==========\n",
      "ddG_spearmanr:  0.987740779671342\n",
      "solubility_spearmanr:  0\n",
      "========== evaluation finished ==========\n"
     ]
    },
    {
     "name": "stderr",
     "output_type": "stream",
     "text": [
      "\n"
     ]
    }
   ],
   "source": [
    "train_eval_output = evaluate(model, train_loader, do_mi=latent_space_args['do_mi'], return_pred=True,\n",
    "                             latent_space_type=latent_space_args['latent_space_type'])\n",
    "# eval_output = evaluate(model, eval_loader, do_mi=latent_space_args['do_mi'], return_pred=True, latent_space_type=latent_space_args['latent_space_type'])"
   ]
  },
  {
   "cell_type": "code",
   "execution_count": 32,
   "id": "apart-rebound",
   "metadata": {},
   "outputs": [
    {
     "name": "stdout",
     "output_type": "stream",
     "text": [
      "train_lm_loss:  tensor(0.0967, device='cuda:0')\n",
      "train_contrastive_loss:  tensor(0.1809, device='cuda:0')\n",
      "train_eval_ddG_spearmanr:  0.987740779671342\n",
      "train_eval_solubility_spearmanr:  0\n"
     ]
    }
   ],
   "source": [
    "train_lm_loss, train_contrastive_loss, train_eval_ddG_spearmanr, train_eval_solubility_spearmanr = eval_output['lm_loss'], \\\n",
    "    train_eval_output['contrastive_loss'], train_eval_output['ddG_spearmanr'], train_eval_output['solubility_spearmanr']\n",
    "print(\"train_lm_loss: \", train_lm_loss)\n",
    "print(\"train_contrastive_loss: \", train_contrastive_loss)\n",
    "print(\"train_eval_ddG_spearmanr: \", train_eval_ddG_spearmanr)\n",
    "print(\"train_eval_solubility_spearmanr: \", train_eval_solubility_spearmanr)"
   ]
  },
  {
   "cell_type": "code",
   "execution_count": 33,
   "id": "restricted-drink",
   "metadata": {},
   "outputs": [
    {
     "name": "stdout",
     "output_type": "stream",
     "text": [
      "len(train_ddG_preds):  112500\n",
      "len(train_ddG_targs):  112500\n"
     ]
    }
   ],
   "source": [
    "train_ddG_preds, train_ddG_targs = train_eval_output['ddG_preds'], train_eval_output['ddG_targs']\n",
    "print(\"len(train_ddG_preds): \", len(train_ddG_preds))\n",
    "print(\"len(train_ddG_targs): \", len(train_ddG_targs))"
   ]
  },
  {
   "cell_type": "code",
   "execution_count": 34,
   "id": "final-porter",
   "metadata": {},
   "outputs": [
    {
     "name": "stdout",
     "output_type": "stream",
     "text": [
      "stats of ddG_preds, train set\n",
      "min:  -4.792978\n",
      "mean:  1.763174\n",
      "median:  1.387753\n",
      "max:  9.144854\n",
      "std:  2.6748562\n",
      "25% std:  0.6687140464782715\n"
     ]
    }
   ],
   "source": [
    "print(\"stats of ddG_preds, train set\")\n",
    "print(\"min: \", np.min(train_ddG_preds))\n",
    "print(\"mean: \", np.mean(train_ddG_preds))\n",
    "print(\"median: \", np.median(train_ddG_preds))\n",
    "print(\"max: \", np.max(train_ddG_preds))\n",
    "print(\"std: \", np.std(train_ddG_preds))\n",
    "print(\"25% std: \", 0.25*np.std(train_ddG_preds))"
   ]
  },
  {
   "cell_type": "code",
   "execution_count": 35,
   "id": "considerable-platform",
   "metadata": {},
   "outputs": [
    {
     "data": {
      "text/plain": "<matplotlib.legend.Legend at 0x7f518bf5e040>"
     },
     "execution_count": 35,
     "metadata": {},
     "output_type": "execute_result"
    },
    {
     "data": {
      "text/plain": "<Figure size 800x600 with 1 Axes>",
      "image/png": "[encoded data removed]"
     },
     "metadata": {},
     "output_type": "display_data"
    }
   ],
   "source": [
    "plt.figure(figsize=(8, 6))\n",
    "plt.hist(train_ddG_preds, density=True, label='value_pred', bins=[i for i in range(-20, 15)], alpha=0.4)\n",
    "\n",
    "plt.hist(train_ddG_targs, density=True, label='ddG', bins=[i for i in range(-20, 15)], alpha=0.4)\n",
    "plt.xlabel(\"ddG\", size=14)\n",
    "plt.ylabel(\"Density\", size=14)\n",
    "plt.title(\"Train set, Controlled generation\")\n",
    "plt.legend(loc='upper left')"
   ]
  },
  {
   "cell_type": "code",
   "execution_count": 35,
   "id": "separated-retreat",
   "metadata": {},
   "outputs": [],
   "source": []
  },
  {
   "cell_type": "code",
   "execution_count": 36,
   "outputs": [
    {
     "data": {
      "text/plain": "<matplotlib.legend.Legend at 0x7f518ab40ac0>"
     },
     "execution_count": 36,
     "metadata": {},
     "output_type": "execute_result"
    },
    {
     "data": {
      "text/plain": "<Figure size 800x600 with 1 Axes>",
      "image/png": "[encoded data removed]"
     },
     "metadata": {},
     "output_type": "display_data"
    }
   ],
   "source": [
    "plt.figure(figsize=(8, 6))\n",
    "\n",
    "plt.hist(ddG_preds, density=True, label='pred_ddG_eval', bins=[i for i in range(-20, 20)], alpha=0.4)\n",
    "\n",
    "plt.hist(ddG_targs, density=True, label='flodx_ddG_eval', bins=[i for i in range(-20, 20)], alpha=0.4)\n",
    "\n",
    "plt.hist(train_ddG_preds, density=True, label='pred_ddG_train', bins=[i for i in range(-20, 20)], alpha=0.4)\n",
    "\n",
    "plt.hist(train_ddG_targs, density=True, label='flodx_ddG_train', bins=[i for i in range(-20, 20)], alpha=0.4)\n",
    "\n",
    "plt.xlabel(\"ddG\", size=14)\n",
    "plt.ylabel(\"Density\", size=14)\n",
    "plt.title(\"Controlled generation\")\n",
    "plt.legend(loc='upper left')"
   ],
   "metadata": {
    "collapsed": false
   }
  },
  {
   "cell_type": "code",
   "execution_count": 37,
   "outputs": [
    {
     "data": {
      "text/plain": "(0.6580755114555359, 0.6687140464782715)"
     },
     "execution_count": 37,
     "metadata": {},
     "output_type": "execute_result"
    }
   ],
   "source": [
    "np.std(ddG_preds)*0.25, np.std(train_ddG_preds)*0.25"
   ],
   "metadata": {
    "collapsed": false
   }
  },
  {
   "cell_type": "code",
   "execution_count": 38,
   "outputs": [
    {
     "data": {
      "text/plain": "-4.792978"
     },
     "execution_count": 38,
     "metadata": {},
     "output_type": "execute_result"
    }
   ],
   "source": [
    "min(min(ddG_preds), min(train_ddG_preds))"
   ],
   "metadata": {
    "collapsed": false
   }
  },
  {
   "cell_type": "code",
   "execution_count": 38,
   "outputs": [],
   "source": [],
   "metadata": {
    "collapsed": false
   }
  },
  {
   "cell_type": "markdown",
   "source": [
    "## save data for checking"
   ],
   "metadata": {
    "collapsed": false
   }
  },
  {
   "cell_type": "code",
   "execution_count": 39,
   "outputs": [
    {
     "name": "stderr",
     "output_type": "stream",
     "text": [
      "/home/hew/miniconda3/envs/genhance/lib/python3.8/site-packages/numpy/lib/npyio.py:521: VisibleDeprecationWarning: Creating an ndarray from ragged nested sequences (which is a list-or-tuple of lists-or-tuples-or ndarrays with different lengths or shapes) is deprecated. If you meant to do this, you must specify 'dtype=object' when creating the ndarray.\n",
      "  arr = np.asanyarray(arr)\n"
     ]
    }
   ],
   "source": [
    "pred_data = (train_ddG_preds, train_ddG_targs, ddG_preds, ddG_targs)\n",
    "path = f'/home/hew/python/genhance/output/{congen_name}_step{step_name}_pred_data.npy'\n",
    "np.save(path, pred_data)"
   ],
   "metadata": {
    "collapsed": false
   }
  },
  {
   "cell_type": "code",
   "execution_count": 40,
   "id": "hollow-projector",
   "metadata": {},
   "outputs": [
    {
     "data": {
      "text/plain": "<matplotlib.collections.PathCollection at 0x7f518901e1f0>"
     },
     "execution_count": 40,
     "metadata": {},
     "output_type": "execute_result"
    },
    {
     "data": {
      "text/plain": "<Figure size 640x480 with 1 Axes>",
      "image/png": "[encoded data removed]"
     },
     "metadata": {},
     "output_type": "display_data"
    }
   ],
   "source": [
    "plt.scatter(train_ddG_preds, train_ddG_targs)"
   ]
  },
  {
   "cell_type": "code",
   "execution_count": 41,
   "id": "established-fleece",
   "metadata": {},
   "outputs": [
    {
     "data": {
      "text/plain": "<matplotlib.collections.PathCollection at 0x7f518ad5de20>"
     },
     "execution_count": 41,
     "metadata": {},
     "output_type": "execute_result"
    },
    {
     "data": {
      "text/plain": "<Figure size 640x480 with 1 Axes>",
      "image/png": "[encoded data removed]"
     },
     "metadata": {},
     "output_type": "display_data"
    }
   ],
   "source": [
    "plt.scatter(ddG_preds, ddG_targs)"
   ]
  },
  {
   "cell_type": "code",
   "execution_count": 42,
   "outputs": [
    {
     "data": {
      "text/plain": "(12500, 112500)"
     },
     "execution_count": 42,
     "metadata": {},
     "output_type": "execute_result"
    }
   ],
   "source": [
    "len(ddG_preds), len(train_ddG_preds)"
   ],
   "metadata": {
    "collapsed": false
   }
  },
  {
   "cell_type": "code",
   "execution_count": 42,
   "outputs": [],
   "source": [],
   "metadata": {
    "collapsed": false
   }
  },
  {
   "cell_type": "code",
   "execution_count": 43,
   "outputs": [],
   "source": [
    "train_ddG_preds, train_ddG_targs, ddG_preds, ddG_targs = np.load(path, allow_pickle=True)"
   ],
   "metadata": {
    "collapsed": false
   }
  },
  {
   "cell_type": "code",
   "execution_count": null,
   "outputs": [],
   "source": [],
   "metadata": {
    "collapsed": false
   }
  },
  {
   "cell_type": "code",
   "execution_count": null,
   "outputs": [],
   "source": [],
   "metadata": {
    "collapsed": false
   }
  },
  {
   "cell_type": "code",
   "execution_count": null,
   "outputs": [],
   "source": [],
   "metadata": {
    "collapsed": false
   }
  }
 ],
 "metadata": {
  "kernelspec": {
   "display_name": "Python 3",
   "language": "python",
   "name": "python3"
  },
  "language_info": {
   "codemirror_mode": {
    "name": "ipython",
    "version": 3
   },
   "file_extension": ".py",
   "mimetype": "text/x-python",
   "name": "python",
   "nbconvert_exporter": "python",
   "pygments_lexer": "ipython3",
   "version": "3.8.5"
  }
 },
 "nbformat": 4,
 "nbformat_minor": 5
}
